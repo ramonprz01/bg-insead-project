{
 "cells": [
  {
   "cell_type": "markdown",
   "metadata": {},
   "source": [
    "# Full Dataset KMeans"
   ]
  },
  {
   "cell_type": "code",
   "execution_count": 1,
   "metadata": {},
   "outputs": [
    {
     "output_type": "execute_result",
     "data": {
      "text/plain": "10000000"
     },
     "metadata": {},
     "execution_count": 1
    }
   ],
   "source": [
    "import dask.dataframe as dd\n",
    "from dask.diagnostics import ProgressBar\n",
    "import matplotlib.pyplot as plt\n",
    "import pandas as pd\n",
    "from dask import delayed, persist\n",
    "import numpy as np\n",
    "from dask.distributed import Client\n",
    "from glob import glob\n",
    "import re\n",
    "import nltk\n",
    "import dask\n",
    "import csv\n",
    "csv.field_size_limit(10000000)\n",
    "\n",
    "\n",
    "pd.set_option('display.max_columns', None) \n",
    "\n",
    "%matplotlib inline\n",
    "\n",
    "csv.field_size_limit()"
   ]
  },
  {
   "cell_type": "code",
   "execution_count": 2,
   "metadata": {},
   "outputs": [
    {
     "output_type": "execute_result",
     "data": {
      "text/plain": "<Client: 'tcp://127.0.0.1:52491' processes=3 threads=6, memory=3.00 GB>",
      "text/html": "<table style=\"border: 2px solid white;\">\n<tr>\n<td style=\"vertical-align: top; border: 0px solid white\">\n<h3 style=\"text-align: left;\">Client</h3>\n<ul style=\"text-align: left; list-style: none; margin: 0; padding: 0;\">\n  <li><b>Scheduler: </b>tcp://127.0.0.1:52491</li>\n  <li><b>Dashboard: </b><a href='http://127.0.0.1:8787/status' target='_blank'>http://127.0.0.1:8787/status</a></li>\n</ul>\n</td>\n<td style=\"vertical-align: top; border: 0px solid white\">\n<h3 style=\"text-align: left;\">Cluster</h3>\n<ul style=\"text-align: left; list-style:none; margin: 0; padding: 0;\">\n  <li><b>Workers: </b>3</li>\n  <li><b>Cores: </b>6</li>\n  <li><b>Memory: </b>3.00 GB</li>\n</ul>\n</td>\n</tr>\n</table>"
     },
     "metadata": {},
     "execution_count": 2
    }
   ],
   "source": [
    "client = Client(n_workers=3, threads_per_worker=2, memory_limit='1GB')\n",
    "client"
   ]
  },
  {
   "cell_type": "code",
   "execution_count": 15,
   "metadata": {},
   "outputs": [],
   "source": [
    "client.close()"
   ]
  },
  {
   "cell_type": "code",
   "execution_count": 3,
   "metadata": {},
   "outputs": [
    {
     "output_type": "execute_result",
     "data": {
      "text/plain": "dask.array<random_sample, shape=(10000, 10000), dtype=float64, chunksize=(1250, 1250), chunktype=numpy.ndarray>",
      "text/html": "<table>\n<tr>\n<td>\n<table>\n  <thead>\n    <tr><td> </td><th> Array </th><th> Chunk </th></tr>\n  </thead>\n  <tbody>\n    <tr><th> Bytes </th><td> 800.00 MB </td> <td> 12.50 MB </td></tr>\n    <tr><th> Shape </th><td> (10000, 10000) </td> <td> (1250, 1250) </td></tr>\n    <tr><th> Count </th><td> 64 Tasks </td><td> 64 Chunks </td></tr>\n    <tr><th> Type </th><td> float64 </td><td> numpy.ndarray </td></tr>\n  </tbody>\n</table>\n</td>\n<td>\n<svg width=\"170\" height=\"170\" style=\"stroke:rgb(0,0,0);stroke-width:1\" >\n\n  <!-- Horizontal lines -->\n  <line x1=\"0\" y1=\"0\" x2=\"120\" y2=\"0\" style=\"stroke-width:2\" />\n  <line x1=\"0\" y1=\"15\" x2=\"120\" y2=\"15\" />\n  <line x1=\"0\" y1=\"30\" x2=\"120\" y2=\"30\" />\n  <line x1=\"0\" y1=\"45\" x2=\"120\" y2=\"45\" />\n  <line x1=\"0\" y1=\"60\" x2=\"120\" y2=\"60\" />\n  <line x1=\"0\" y1=\"75\" x2=\"120\" y2=\"75\" />\n  <line x1=\"0\" y1=\"90\" x2=\"120\" y2=\"90\" />\n  <line x1=\"0\" y1=\"105\" x2=\"120\" y2=\"105\" />\n  <line x1=\"0\" y1=\"120\" x2=\"120\" y2=\"120\" style=\"stroke-width:2\" />\n\n  <!-- Vertical lines -->\n  <line x1=\"0\" y1=\"0\" x2=\"0\" y2=\"120\" style=\"stroke-width:2\" />\n  <line x1=\"15\" y1=\"0\" x2=\"15\" y2=\"120\" />\n  <line x1=\"30\" y1=\"0\" x2=\"30\" y2=\"120\" />\n  <line x1=\"45\" y1=\"0\" x2=\"45\" y2=\"120\" />\n  <line x1=\"60\" y1=\"0\" x2=\"60\" y2=\"120\" />\n  <line x1=\"75\" y1=\"0\" x2=\"75\" y2=\"120\" />\n  <line x1=\"90\" y1=\"0\" x2=\"90\" y2=\"120\" />\n  <line x1=\"105\" y1=\"0\" x2=\"105\" y2=\"120\" />\n  <line x1=\"120\" y1=\"0\" x2=\"120\" y2=\"120\" style=\"stroke-width:2\" />\n\n  <!-- Colored Rectangle -->\n  <polygon points=\"0.000000,0.000000 120.000000,0.000000 120.000000,120.000000 0.000000,120.000000\" style=\"fill:#ECB172A0;stroke-width:0\"/>\n\n  <!-- Text -->\n  <text x=\"60.000000\" y=\"140.000000\" font-size=\"1.0rem\" font-weight=\"100\" text-anchor=\"middle\" >10000</text>\n  <text x=\"140.000000\" y=\"60.000000\" font-size=\"1.0rem\" font-weight=\"100\" text-anchor=\"middle\" transform=\"rotate(-90,140.000000,60.000000)\">10000</text>\n</svg>\n</td>\n</tr>\n</table>"
     },
     "metadata": {},
     "execution_count": 3
    }
   ],
   "source": [
    "import dask.array as da\n",
    "\n",
    "x = da.random.random((10000, 10000), chunks='16 MiB')\n",
    "x"
   ]
  },
  {
   "cell_type": "code",
   "execution_count": 4,
   "metadata": {},
   "outputs": [
    {
     "output_type": "execute_result",
     "data": {
      "text/plain": "49998339.368165314"
     },
     "metadata": {},
     "execution_count": 4
    }
   ],
   "source": [
    "y = (x + x.T) - x.mean(axis=0)\n",
    "y.sum().compute()"
   ]
  },
  {
   "cell_type": "code",
   "execution_count": 5,
   "metadata": {},
   "outputs": [],
   "source": [
    "del y\n",
    "del x"
   ]
  },
  {
   "cell_type": "code",
   "execution_count": 9,
   "metadata": {},
   "outputs": [],
   "source": [
    "best_list = ['JobID', 'CleanJobTitle', 'CanonCity', 'CanonState', 'JobDate', 'JobText', 'Source', 'CanonEmployer',\n",
    "             'Latitude', 'Longitude', 'CanonIntermediary', 'CanonJobTitle', 'CanonCounty', 'DivisionCode', 'MSA', 'LMA',\n",
    "             'InternshipFlag', 'ConsolidatedONET', 'CanonSkillClusters', 'CanonSkills', 'IsDuplicate', 'CanonMinimumDegree', \n",
    "             'CanonRequiredDegrees', 'CIPCode', 'MinExperience', 'ConsolidatedInferredNAICS', 'BGTOcc', 'MaxAnnualSalary',\n",
    "             'MaxHourlySalary', 'MinAnnualSalary', 'MinHourlySalary', 'YearsOfExperience', 'CanonJobHours', 'CanonJobType',\n",
    "             'CanonPostalCode', 'CanonYearsOfExperienceCanonLevel', 'CanonYearsOfExperienceLevel', 'ConsolidatedTitle', \n",
    "             'Language', 'BGTSubOcc', 'ConsolidatedDegreeLevels', 'MaxDegreeLevel', 'MinDegreeLevel']"
   ]
  },
  {
   "cell_type": "code",
   "execution_count": 6,
   "metadata": {},
   "outputs": [],
   "source": [
    "dtypes={'JobID': np.str, 'CleanJobTitle': np.str, 'JobDomain': np.str, \n",
    "        'CanonCity': np.str, 'CanonCountry': np.str, 'CanonState': np.str, \n",
    "        'JobText': np.str, 'JobURL': np.str, 'PostingHTML': np.float64, \n",
    "        'Source': np.str, 'JobReferenceID': np.str, 'Email': np.str, \n",
    "        'CanonEmployer': np.str, 'Latitude': np.str, 'Longitude': np.str, \n",
    "        'CanonIntermediary': np.str, 'Telephone': np.str, 'CanonJobTitle': np.str, \n",
    "        'CanonCounty': np.str, 'DivisionCode': np.str, 'MSA': np.str, 'LMA': np.str,\n",
    "        'InternshipFlag': np.str, 'ConsolidatedONET': np.str, 'CanonCertification': np.str, \n",
    "        'CanonSkillClusters': np.str, 'CanonSkills': np.str, 'IsDuplicate': np.str, \n",
    "        'IsDuplicateOf': np.float64, 'CanonMaximumDegree': np.str, 'CanonMinimumDegree': np.str, \n",
    "        'CanonOtherDegrees': np.str, 'CanonPreferredDegrees': np.str,\n",
    "        'CanonRequiredDegrees': np.str, 'CIPCode': np.str, 'StandardMajor': np.str, \n",
    "        'MaxExperience': np.str, 'MinExperience': np.str, 'ConsolidatedInferredNAICS': np.str, \n",
    "        'BGTOcc': np.str, 'MaxAnnualSalary': np.str, 'MaxHourlySalary': np.str, \n",
    "        'MinAnnualSalary': np.str, 'MinHourlySalary': np.str, 'YearsOfExperience': np.str, \n",
    "        'CanonJobHours': np.str, 'CanonJobType': np.str, 'CanonPostalCode': np.str, \n",
    "        'CanonYearsOfExperienceCanonLevel': np.str, 'CanonYearsOfExperienceLevel': np.str, \n",
    "        'ConsolidatedTitle': np.str, 'Language': np.str, 'BGTSubOcc': np.str, 'JobDate': np.str,\n",
    "        'ConsolidatedDegreeLevels': np.str, 'MaxDegreeLevel': np.str, 'MinDegreeLevel': np.str,\n",
    "        \n",
    "        'charac_text_len': np.int16,\n",
    "        'len_job_text': np.int16,\n",
    "        'titles_bi_1000': np.int16,\n",
    "        'titles_bi_500': np.int16,\n",
    "        'titles_uni_1000': np.int16,\n",
    "        'titles_uni_500': np.int16\n",
    "                       }"
   ]
  },
  {
   "cell_type": "code",
   "execution_count": 7,
   "metadata": {
    "tags": []
   },
   "outputs": [
    {
     "output_type": "execute_result",
     "data": {
      "text/plain": "Dask DataFrame Structure:\n               Language CanonCity CanonState CleanJobTitle JobDate   JobID Latitude Longitude CanonPostalCode CanonCounty DivisionCode     LMA     MSA CanonEmployer CanonJobTitle ConsolidatedONET CanonIntermediary InternshipFlag  Source CanonSkillClusters CanonSkills IsDuplicate CanonMinimumDegree CanonRequiredDegrees CIPCode MinExperience ConsolidatedInferredNAICS  BGTOcc MaxAnnualSalary MaxHourlySalary MinAnnualSalary MinHourlySalary CanonJobHours CanonJobType CanonYearsOfExperienceCanonLevel CanonYearsOfExperienceLevel ConsolidatedDegreeLevels ConsolidatedTitle MaxDegreeLevel MinDegreeLevel BGTSubOcc YearsOfExperience titles_uni_500 titles_bi_500 titles_uni_1000 titles_bi_1000 dist__bi_1000 dist__uni_500 dist__bi_500 dist__uni_1000 dist__bi_1000_dummy dist__uni_500_dummy dist__bi_500_dummy dist__uni_1000_dummy clean_text charac_text_len len_job_text\nnpartitions=58                                                                                                                                                                                                                                                                                                                                                                                                                                                                                                                                                                                                                                                                                                                                                                                                                                                                                  \n                 object    object     object        object  object  object   object    object          object      object       object  object  object        object        object           object            object         object  object             object      object      object             object               object  object        object                    object  object          object          object          object          object        object       object                           object                      object                   object            object         object         object    object            object          int16         int16           int16          int16       float64       float64      float64        float64               int64               int64              int64                int64     object           int16        int16\n                    ...       ...        ...           ...     ...     ...      ...       ...             ...         ...          ...     ...     ...           ...           ...              ...               ...            ...     ...                ...         ...         ...                ...                  ...     ...           ...                       ...     ...             ...             ...             ...             ...           ...          ...                              ...                         ...                      ...               ...            ...            ...       ...               ...            ...           ...             ...            ...           ...           ...          ...            ...                 ...                 ...                ...                  ...        ...             ...          ...\n...                 ...       ...        ...           ...     ...     ...      ...       ...             ...         ...          ...     ...     ...           ...           ...              ...               ...            ...     ...                ...         ...         ...                ...                  ...     ...           ...                       ...     ...             ...             ...             ...             ...           ...          ...                              ...                         ...                      ...               ...            ...            ...       ...               ...            ...           ...             ...            ...           ...           ...          ...            ...                 ...                 ...                ...                  ...        ...             ...          ...\n                    ...       ...        ...           ...     ...     ...      ...       ...             ...         ...          ...     ...     ...           ...           ...              ...               ...            ...     ...                ...         ...         ...                ...                  ...     ...           ...                       ...     ...             ...             ...             ...             ...           ...          ...                              ...                         ...                      ...               ...            ...            ...       ...               ...            ...           ...             ...            ...           ...           ...          ...            ...                 ...                 ...                ...                  ...        ...             ...          ...\n                    ...       ...        ...           ...     ...     ...      ...       ...             ...         ...          ...     ...     ...           ...           ...              ...               ...            ...     ...                ...         ...         ...                ...                  ...     ...           ...                       ...     ...             ...             ...             ...             ...           ...          ...                              ...                         ...                      ...               ...            ...            ...       ...               ...            ...           ...             ...            ...           ...           ...          ...            ...                 ...                 ...                ...                  ...        ...             ...          ...\nDask Name: from-delayed, 174 tasks",
      "text/html": "<div><strong>Dask DataFrame Structure:</strong></div>\n<div>\n<style scoped>\n    .dataframe tbody tr th:only-of-type {\n        vertical-align: middle;\n    }\n\n    .dataframe tbody tr th {\n        vertical-align: top;\n    }\n\n    .dataframe thead th {\n        text-align: right;\n    }\n</style>\n<table border=\"1\" class=\"dataframe\">\n  <thead>\n    <tr style=\"text-align: right;\">\n      <th></th>\n      <th>Language</th>\n      <th>CanonCity</th>\n      <th>CanonState</th>\n      <th>CleanJobTitle</th>\n      <th>JobDate</th>\n      <th>JobID</th>\n      <th>Latitude</th>\n      <th>Longitude</th>\n      <th>CanonPostalCode</th>\n      <th>CanonCounty</th>\n      <th>DivisionCode</th>\n      <th>LMA</th>\n      <th>MSA</th>\n      <th>CanonEmployer</th>\n      <th>CanonJobTitle</th>\n      <th>ConsolidatedONET</th>\n      <th>CanonIntermediary</th>\n      <th>InternshipFlag</th>\n      <th>Source</th>\n      <th>CanonSkillClusters</th>\n      <th>CanonSkills</th>\n      <th>IsDuplicate</th>\n      <th>CanonMinimumDegree</th>\n      <th>CanonRequiredDegrees</th>\n      <th>CIPCode</th>\n      <th>MinExperience</th>\n      <th>ConsolidatedInferredNAICS</th>\n      <th>BGTOcc</th>\n      <th>MaxAnnualSalary</th>\n      <th>MaxHourlySalary</th>\n      <th>MinAnnualSalary</th>\n      <th>MinHourlySalary</th>\n      <th>CanonJobHours</th>\n      <th>CanonJobType</th>\n      <th>CanonYearsOfExperienceCanonLevel</th>\n      <th>CanonYearsOfExperienceLevel</th>\n      <th>ConsolidatedDegreeLevels</th>\n      <th>ConsolidatedTitle</th>\n      <th>MaxDegreeLevel</th>\n      <th>MinDegreeLevel</th>\n      <th>BGTSubOcc</th>\n      <th>YearsOfExperience</th>\n      <th>titles_uni_500</th>\n      <th>titles_bi_500</th>\n      <th>titles_uni_1000</th>\n      <th>titles_bi_1000</th>\n      <th>dist__bi_1000</th>\n      <th>dist__uni_500</th>\n      <th>dist__bi_500</th>\n      <th>dist__uni_1000</th>\n      <th>dist__bi_1000_dummy</th>\n      <th>dist__uni_500_dummy</th>\n      <th>dist__bi_500_dummy</th>\n      <th>dist__uni_1000_dummy</th>\n      <th>clean_text</th>\n      <th>charac_text_len</th>\n      <th>len_job_text</th>\n    </tr>\n    <tr>\n      <th>npartitions=58</th>\n      <th></th>\n      <th></th>\n      <th></th>\n      <th></th>\n      <th></th>\n      <th></th>\n      <th></th>\n      <th></th>\n      <th></th>\n      <th></th>\n      <th></th>\n      <th></th>\n      <th></th>\n      <th></th>\n      <th></th>\n      <th></th>\n      <th></th>\n      <th></th>\n      <th></th>\n      <th></th>\n      <th></th>\n      <th></th>\n      <th></th>\n      <th></th>\n      <th></th>\n      <th></th>\n      <th></th>\n      <th></th>\n      <th></th>\n      <th></th>\n      <th></th>\n      <th></th>\n      <th></th>\n      <th></th>\n      <th></th>\n      <th></th>\n      <th></th>\n      <th></th>\n      <th></th>\n      <th></th>\n      <th></th>\n      <th></th>\n      <th></th>\n      <th></th>\n      <th></th>\n      <th></th>\n      <th></th>\n      <th></th>\n      <th></th>\n      <th></th>\n      <th></th>\n      <th></th>\n      <th></th>\n      <th></th>\n      <th></th>\n      <th></th>\n      <th></th>\n    </tr>\n  </thead>\n  <tbody>\n    <tr>\n      <th></th>\n      <td>object</td>\n      <td>object</td>\n      <td>object</td>\n      <td>object</td>\n      <td>object</td>\n      <td>object</td>\n      <td>object</td>\n      <td>object</td>\n      <td>object</td>\n      <td>object</td>\n      <td>object</td>\n      <td>object</td>\n      <td>object</td>\n      <td>object</td>\n      <td>object</td>\n      <td>object</td>\n      <td>object</td>\n      <td>object</td>\n      <td>object</td>\n      <td>object</td>\n      <td>object</td>\n      <td>object</td>\n      <td>object</td>\n      <td>object</td>\n      <td>object</td>\n      <td>object</td>\n      <td>object</td>\n      <td>object</td>\n      <td>object</td>\n      <td>object</td>\n      <td>object</td>\n      <td>object</td>\n      <td>object</td>\n      <td>object</td>\n      <td>object</td>\n      <td>object</td>\n      <td>object</td>\n      <td>object</td>\n      <td>object</td>\n      <td>object</td>\n      <td>object</td>\n      <td>object</td>\n      <td>int16</td>\n      <td>int16</td>\n      <td>int16</td>\n      <td>int16</td>\n      <td>float64</td>\n      <td>float64</td>\n      <td>float64</td>\n      <td>float64</td>\n      <td>int64</td>\n      <td>int64</td>\n      <td>int64</td>\n      <td>int64</td>\n      <td>object</td>\n      <td>int16</td>\n      <td>int16</td>\n    </tr>\n    <tr>\n      <th></th>\n      <td>...</td>\n      <td>...</td>\n      <td>...</td>\n      <td>...</td>\n      <td>...</td>\n      <td>...</td>\n      <td>...</td>\n      <td>...</td>\n      <td>...</td>\n      <td>...</td>\n      <td>...</td>\n      <td>...</td>\n      <td>...</td>\n      <td>...</td>\n      <td>...</td>\n      <td>...</td>\n      <td>...</td>\n      <td>...</td>\n      <td>...</td>\n      <td>...</td>\n      <td>...</td>\n      <td>...</td>\n      <td>...</td>\n      <td>...</td>\n      <td>...</td>\n      <td>...</td>\n      <td>...</td>\n      <td>...</td>\n      <td>...</td>\n      <td>...</td>\n      <td>...</td>\n      <td>...</td>\n      <td>...</td>\n      <td>...</td>\n      <td>...</td>\n      <td>...</td>\n      <td>...</td>\n      <td>...</td>\n      <td>...</td>\n      <td>...</td>\n      <td>...</td>\n      <td>...</td>\n      <td>...</td>\n      <td>...</td>\n      <td>...</td>\n      <td>...</td>\n      <td>...</td>\n      <td>...</td>\n      <td>...</td>\n      <td>...</td>\n      <td>...</td>\n      <td>...</td>\n      <td>...</td>\n      <td>...</td>\n      <td>...</td>\n      <td>...</td>\n      <td>...</td>\n    </tr>\n    <tr>\n      <th>...</th>\n      <td>...</td>\n      <td>...</td>\n      <td>...</td>\n      <td>...</td>\n      <td>...</td>\n      <td>...</td>\n      <td>...</td>\n      <td>...</td>\n      <td>...</td>\n      <td>...</td>\n      <td>...</td>\n      <td>...</td>\n      <td>...</td>\n      <td>...</td>\n      <td>...</td>\n      <td>...</td>\n      <td>...</td>\n      <td>...</td>\n      <td>...</td>\n      <td>...</td>\n      <td>...</td>\n      <td>...</td>\n      <td>...</td>\n      <td>...</td>\n      <td>...</td>\n      <td>...</td>\n      <td>...</td>\n      <td>...</td>\n      <td>...</td>\n      <td>...</td>\n      <td>...</td>\n      <td>...</td>\n      <td>...</td>\n      <td>...</td>\n      <td>...</td>\n      <td>...</td>\n      <td>...</td>\n      <td>...</td>\n      <td>...</td>\n      <td>...</td>\n      <td>...</td>\n      <td>...</td>\n      <td>...</td>\n      <td>...</td>\n      <td>...</td>\n      <td>...</td>\n      <td>...</td>\n      <td>...</td>\n      <td>...</td>\n      <td>...</td>\n      <td>...</td>\n      <td>...</td>\n      <td>...</td>\n      <td>...</td>\n      <td>...</td>\n      <td>...</td>\n      <td>...</td>\n    </tr>\n    <tr>\n      <th></th>\n      <td>...</td>\n      <td>...</td>\n      <td>...</td>\n      <td>...</td>\n      <td>...</td>\n      <td>...</td>\n      <td>...</td>\n      <td>...</td>\n      <td>...</td>\n      <td>...</td>\n      <td>...</td>\n      <td>...</td>\n      <td>...</td>\n      <td>...</td>\n      <td>...</td>\n      <td>...</td>\n      <td>...</td>\n      <td>...</td>\n      <td>...</td>\n      <td>...</td>\n      <td>...</td>\n      <td>...</td>\n      <td>...</td>\n      <td>...</td>\n      <td>...</td>\n      <td>...</td>\n      <td>...</td>\n      <td>...</td>\n      <td>...</td>\n      <td>...</td>\n      <td>...</td>\n      <td>...</td>\n      <td>...</td>\n      <td>...</td>\n      <td>...</td>\n      <td>...</td>\n      <td>...</td>\n      <td>...</td>\n      <td>...</td>\n      <td>...</td>\n      <td>...</td>\n      <td>...</td>\n      <td>...</td>\n      <td>...</td>\n      <td>...</td>\n      <td>...</td>\n      <td>...</td>\n      <td>...</td>\n      <td>...</td>\n      <td>...</td>\n      <td>...</td>\n      <td>...</td>\n      <td>...</td>\n      <td>...</td>\n      <td>...</td>\n      <td>...</td>\n      <td>...</td>\n    </tr>\n    <tr>\n      <th></th>\n      <td>...</td>\n      <td>...</td>\n      <td>...</td>\n      <td>...</td>\n      <td>...</td>\n      <td>...</td>\n      <td>...</td>\n      <td>...</td>\n      <td>...</td>\n      <td>...</td>\n      <td>...</td>\n      <td>...</td>\n      <td>...</td>\n      <td>...</td>\n      <td>...</td>\n      <td>...</td>\n      <td>...</td>\n      <td>...</td>\n      <td>...</td>\n      <td>...</td>\n      <td>...</td>\n      <td>...</td>\n      <td>...</td>\n      <td>...</td>\n      <td>...</td>\n      <td>...</td>\n      <td>...</td>\n      <td>...</td>\n      <td>...</td>\n      <td>...</td>\n      <td>...</td>\n      <td>...</td>\n      <td>...</td>\n      <td>...</td>\n      <td>...</td>\n      <td>...</td>\n      <td>...</td>\n      <td>...</td>\n      <td>...</td>\n      <td>...</td>\n      <td>...</td>\n      <td>...</td>\n      <td>...</td>\n      <td>...</td>\n      <td>...</td>\n      <td>...</td>\n      <td>...</td>\n      <td>...</td>\n      <td>...</td>\n      <td>...</td>\n      <td>...</td>\n      <td>...</td>\n      <td>...</td>\n      <td>...</td>\n      <td>...</td>\n      <td>...</td>\n      <td>...</td>\n    </tr>\n  </tbody>\n</table>\n</div>\n<div>Dask Name: from-delayed, 174 tasks</div>"
     },
     "metadata": {},
     "execution_count": 7
    }
   ],
   "source": [
    "ddf = dd.read_csv('~/Dropbox/Burning Glass/Data/random_data/km_500and1000k_clean_dataset2.csv', \n",
    "                 engine='python', \n",
    "                 dtype=dtypes,\n",
    "                 sample=2_500_000,\n",
    "                #  encoding='latin-1',\n",
    "                #  encoding='utf-8',\n",
    "                #  assume_missing=True,\n",
    "                 error_bad_lines=False,\n",
    "                #  blocksize=None,\n",
    "                #  usecols=best_list,\n",
    "#                  parse_dates=['JobDate']\n",
    "                )\n",
    "ddf"
   ]
  },
  {
   "cell_type": "code",
   "execution_count": 8,
   "metadata": {
    "tags": []
   },
   "outputs": [
    {
     "output_type": "stream",
     "name": "stdout",
     "text": "CPU times: user 1e+03 ns, sys: 1 µs, total: 2 µs\nWall time: 4.77 µs\n"
    }
   ],
   "source": [
    "%%time\n",
    "\n",
    "# ddf = ddf.repartition(npartitions=100)\n",
    "# ddf = ddf[ddf['JobText'].notnull()]"
   ]
  },
  {
   "cell_type": "code",
   "execution_count": 9,
   "metadata": {
    "tags": []
   },
   "outputs": [
    {
     "output_type": "stream",
     "name": "stdout",
     "text": "CPU times: user 75.1 ms, sys: 8.61 ms, total: 83.7 ms\nWall time: 1.9 s\n"
    },
    {
     "output_type": "execute_result",
     "data": {
      "text/plain": "  Language      CanonCity CanonState  \\\n0       en      Allentown         PA   \n1       en        Hanover         NJ   \n2       en      Milwaukee         WI   \n3       en  West Caldwell         NJ   \n4       en        Houston         TX   \n\n                                       CleanJobTitle     JobDate        JobID  \\\n0         Advertising Account Executive Key Accounts  2016-07-08  38087992061   \n1  Crop Protection Sales Specialist For Bayer Cro...  2018-06-14  38379581429   \n2  Program And Policy Chief Performance Improveme...  2017-03-27  38202025999   \n3                     Machine Operator/Nutraceutical  2020-07-17  38815921335   \n4              Sales Process Coordinator - Midmarket  2018-04-25  38353595694   \n\n  Latitude Longitude CanonPostalCode CanonCounty DivisionCode  \\\n0  40.6023  -75.4707           18101      Lehigh          NaN   \n1  40.8218   -74.422           07981      Morris      35084.0   \n2  43.0343  -87.9151           53201   Milwaukee          NaN   \n3  40.8069  -74.2778           07006       Essex      35084.0   \n4  30.0683  -95.2163           77325      Harris          NaN   \n\n                 LMA                                                MSA  \\\n0           MT421090               10900: Metropolitan Statistical Area   \n1  DV343508|MT363562  35620: Metropolitan Statistical Area|408: Comb...   \n2           MT553334               33340: Metropolitan Statistical Area   \n3  DV343508|MT363562  35620: Metropolitan Statistical Area|408: Comb...   \n4           MT482642               26420: Metropolitan Statistical Area   \n\n       CanonEmployer                  CanonJobTitle ConsolidatedONET  \\\n0       Morning Call  Advertising Account Executive         41301100   \n1  Bayer Corporation               Sales Specialist         41401200   \n2             Wisdot                            NaN         11919900   \n3          Vitaquest               Machine Operator         51919900   \n4  Recruiting Agency              Sales Coordinator         41401200   \n\n  CanonIntermediary InternshipFlag            Source  \\\n0               NaN              0         Job Board   \n1               NaN              0           Company   \n2               NaN              0         Job Board   \n3               NaN              0         Job Board   \n4         Insperity              0  Job intermediary   \n\n                                  CanonSkillClusters  \\\n0  Marketing and Public Relations: Advertising;Sp...   \n1  Finance: Budget Management;Specialized Skills|...   \n2  Finance: Budget Management;Specialized Skills|...   \n3  Science and Research: Biopharmaceutical Manufa...   \n4  Business: Business Consulting;Specialized Skil...   \n\n                                         CanonSkills IsDuplicate  \\\n0  {'Advertising': 'Marketing and Public Relation...       False   \n1  {'Budgeting': 'Finance: Budget Management;Spec...       False   \n2  {'Budgeting': 'Finance: Budget Management;Spec...       False   \n3  {'Batch Records': 'Science and Research: Bioph...       False   \n4  {'Business Consulting': 'Business: Business Co...       False   \n\n             CanonMinimumDegree          CanonRequiredDegrees CIPCode  \\\n0                    Bachelor's                    Bachelor's     NaN   \n1                           NaN                           NaN     NaN   \n2                           NaN                           NaN     NaN   \n3  Higher Secondary Certificate  Higher Secondary Certificate     NaN   \n4  Higher Secondary Certificate  Higher Secondary Certificate     NaN   \n\n  MinExperience ConsolidatedInferredNAICS      BGTOcc MaxAnnualSalary  \\\n0           2.0                       NaN  41-3011.00             NaN   \n1           NaN                  325412.0  41-4011.00             NaN   \n2           NaN                       NaN  11-9199.00         90209.0   \n3           1.0                       NaN  51-9012.92             NaN   \n4           2.0                       NaN  41-4011.00             NaN   \n\n  MaxHourlySalary MinAnnualSalary MinHourlySalary CanonJobHours CanonJobType  \\\n0             NaN             NaN             NaN      fulltime    permanent   \n1             NaN             NaN             NaN           NaN          NaN   \n2           43.37         62400.0            30.0      fulltime    permanent   \n3             NaN             NaN             NaN      fulltime    permanent   \n4             NaN             NaN             NaN           NaN          NaN   \n\n  CanonYearsOfExperienceCanonLevel CanonYearsOfExperienceLevel  \\\n0                              1-6                         mid   \n1                              NaN                         NaN   \n2                              NaN                         NaN   \n3                              0-1                         low   \n4                              1-6                         mid   \n\n  ConsolidatedDegreeLevels                  ConsolidatedTitle MaxDegreeLevel  \\\n0                       16      Advertising Account Executive           16.0   \n1                      NaN                   Sales Specialist            NaN   \n2                      NaN  Chief Program Performance Manager            NaN   \n3                       12                   Machine Operator            NaN   \n4                       12                  Sales Coordinator            NaN   \n\n  MinDegreeLevel                       BGTSubOcc  \\\n0           16.0   Advertising Account Executive   \n1            NaN            Sales Representative   \n2            NaN                 Program Officer   \n3           12.0  Manufacturing Machine Operator   \n4           12.0               Sales Coordinator   \n\n                 YearsOfExperience  titles_uni_500  titles_bi_500  \\\n0  At least 2-4 years|2 to 3 years             156             56   \n1                              NaN               0            486   \n2                              NaN             313            158   \n3                Minimum of 1 year             212            227   \n4                 One to two-years             315            232   \n\n   titles_uni_1000  titles_bi_1000  dist__bi_1000  dist__uni_500  \\\n0              995             286        3631.16        1371.38   \n1              581             196        4453.73        1814.80   \n2               58             607        3851.57        1508.76   \n3              653             642        2668.94        1062.01   \n4              327             756        3160.85        1260.74   \n\n   dist__bi_500  dist__uni_1000  dist__bi_1000_dummy  dist__uni_500_dummy  \\\n0       1783.33         2770.52                    0                    0   \n1       2200.47         3651.45                    0                    0   \n2       1898.18         3053.94                    0                    0   \n3       1292.53         2162.32                    0                    0   \n4       1544.18         2553.99                    0                    0   \n\n   dist__bi_500_dummy  dist__uni_1000_dummy  \\\n0                   0                     0   \n1                   0                     0   \n2                   0                     0   \n3                   0                     0   \n4                   0                     0   \n\n                                          clean_text  charac_text_len  \\\n0  Advertising Account Executive (Key Accounts) T...             4633   \n1  .      Crop Protection Sales Specialist for Ba...             3266   \n2  In partnership with Hispanic Professionals of ...             5141   \n3  Machine Operator / Nutraceutical Vitaquest - W...             3417   \n4  Sales Process Coordinator - MidMarket - Job Ti...             3045   \n\n   len_job_text  \n0           684  \n1           435  \n2           740  \n3           516  \n4           452  ",
      "text/html": "<div>\n<style scoped>\n    .dataframe tbody tr th:only-of-type {\n        vertical-align: middle;\n    }\n\n    .dataframe tbody tr th {\n        vertical-align: top;\n    }\n\n    .dataframe thead th {\n        text-align: right;\n    }\n</style>\n<table border=\"1\" class=\"dataframe\">\n  <thead>\n    <tr style=\"text-align: right;\">\n      <th></th>\n      <th>Language</th>\n      <th>CanonCity</th>\n      <th>CanonState</th>\n      <th>CleanJobTitle</th>\n      <th>JobDate</th>\n      <th>JobID</th>\n      <th>Latitude</th>\n      <th>Longitude</th>\n      <th>CanonPostalCode</th>\n      <th>CanonCounty</th>\n      <th>DivisionCode</th>\n      <th>LMA</th>\n      <th>MSA</th>\n      <th>CanonEmployer</th>\n      <th>CanonJobTitle</th>\n      <th>ConsolidatedONET</th>\n      <th>CanonIntermediary</th>\n      <th>InternshipFlag</th>\n      <th>Source</th>\n      <th>CanonSkillClusters</th>\n      <th>CanonSkills</th>\n      <th>IsDuplicate</th>\n      <th>CanonMinimumDegree</th>\n      <th>CanonRequiredDegrees</th>\n      <th>CIPCode</th>\n      <th>MinExperience</th>\n      <th>ConsolidatedInferredNAICS</th>\n      <th>BGTOcc</th>\n      <th>MaxAnnualSalary</th>\n      <th>MaxHourlySalary</th>\n      <th>MinAnnualSalary</th>\n      <th>MinHourlySalary</th>\n      <th>CanonJobHours</th>\n      <th>CanonJobType</th>\n      <th>CanonYearsOfExperienceCanonLevel</th>\n      <th>CanonYearsOfExperienceLevel</th>\n      <th>ConsolidatedDegreeLevels</th>\n      <th>ConsolidatedTitle</th>\n      <th>MaxDegreeLevel</th>\n      <th>MinDegreeLevel</th>\n      <th>BGTSubOcc</th>\n      <th>YearsOfExperience</th>\n      <th>titles_uni_500</th>\n      <th>titles_bi_500</th>\n      <th>titles_uni_1000</th>\n      <th>titles_bi_1000</th>\n      <th>dist__bi_1000</th>\n      <th>dist__uni_500</th>\n      <th>dist__bi_500</th>\n      <th>dist__uni_1000</th>\n      <th>dist__bi_1000_dummy</th>\n      <th>dist__uni_500_dummy</th>\n      <th>dist__bi_500_dummy</th>\n      <th>dist__uni_1000_dummy</th>\n      <th>clean_text</th>\n      <th>charac_text_len</th>\n      <th>len_job_text</th>\n    </tr>\n  </thead>\n  <tbody>\n    <tr>\n      <th>0</th>\n      <td>en</td>\n      <td>Allentown</td>\n      <td>PA</td>\n      <td>Advertising Account Executive Key Accounts</td>\n      <td>2016-07-08</td>\n      <td>38087992061</td>\n      <td>40.6023</td>\n      <td>-75.4707</td>\n      <td>18101</td>\n      <td>Lehigh</td>\n      <td>NaN</td>\n      <td>MT421090</td>\n      <td>10900: Metropolitan Statistical Area</td>\n      <td>Morning Call</td>\n      <td>Advertising Account Executive</td>\n      <td>41301100</td>\n      <td>NaN</td>\n      <td>0</td>\n      <td>Job Board</td>\n      <td>Marketing and Public Relations: Advertising;Sp...</td>\n      <td>{'Advertising': 'Marketing and Public Relation...</td>\n      <td>False</td>\n      <td>Bachelor's</td>\n      <td>Bachelor's</td>\n      <td>NaN</td>\n      <td>2.0</td>\n      <td>NaN</td>\n      <td>41-3011.00</td>\n      <td>NaN</td>\n      <td>NaN</td>\n      <td>NaN</td>\n      <td>NaN</td>\n      <td>fulltime</td>\n      <td>permanent</td>\n      <td>1-6</td>\n      <td>mid</td>\n      <td>16</td>\n      <td>Advertising Account Executive</td>\n      <td>16.0</td>\n      <td>16.0</td>\n      <td>Advertising Account Executive</td>\n      <td>At least 2-4 years|2 to 3 years</td>\n      <td>156</td>\n      <td>56</td>\n      <td>995</td>\n      <td>286</td>\n      <td>3631.16</td>\n      <td>1371.38</td>\n      <td>1783.33</td>\n      <td>2770.52</td>\n      <td>0</td>\n      <td>0</td>\n      <td>0</td>\n      <td>0</td>\n      <td>Advertising Account Executive (Key Accounts) T...</td>\n      <td>4633</td>\n      <td>684</td>\n    </tr>\n    <tr>\n      <th>1</th>\n      <td>en</td>\n      <td>Hanover</td>\n      <td>NJ</td>\n      <td>Crop Protection Sales Specialist For Bayer Cro...</td>\n      <td>2018-06-14</td>\n      <td>38379581429</td>\n      <td>40.8218</td>\n      <td>-74.422</td>\n      <td>07981</td>\n      <td>Morris</td>\n      <td>35084.0</td>\n      <td>DV343508|MT363562</td>\n      <td>35620: Metropolitan Statistical Area|408: Comb...</td>\n      <td>Bayer Corporation</td>\n      <td>Sales Specialist</td>\n      <td>41401200</td>\n      <td>NaN</td>\n      <td>0</td>\n      <td>Company</td>\n      <td>Finance: Budget Management;Specialized Skills|...</td>\n      <td>{'Budgeting': 'Finance: Budget Management;Spec...</td>\n      <td>False</td>\n      <td>NaN</td>\n      <td>NaN</td>\n      <td>NaN</td>\n      <td>NaN</td>\n      <td>325412.0</td>\n      <td>41-4011.00</td>\n      <td>NaN</td>\n      <td>NaN</td>\n      <td>NaN</td>\n      <td>NaN</td>\n      <td>NaN</td>\n      <td>NaN</td>\n      <td>NaN</td>\n      <td>NaN</td>\n      <td>NaN</td>\n      <td>Sales Specialist</td>\n      <td>NaN</td>\n      <td>NaN</td>\n      <td>Sales Representative</td>\n      <td>NaN</td>\n      <td>0</td>\n      <td>486</td>\n      <td>581</td>\n      <td>196</td>\n      <td>4453.73</td>\n      <td>1814.80</td>\n      <td>2200.47</td>\n      <td>3651.45</td>\n      <td>0</td>\n      <td>0</td>\n      <td>0</td>\n      <td>0</td>\n      <td>.      Crop Protection Sales Specialist for Ba...</td>\n      <td>3266</td>\n      <td>435</td>\n    </tr>\n    <tr>\n      <th>2</th>\n      <td>en</td>\n      <td>Milwaukee</td>\n      <td>WI</td>\n      <td>Program And Policy Chief Performance Improveme...</td>\n      <td>2017-03-27</td>\n      <td>38202025999</td>\n      <td>43.0343</td>\n      <td>-87.9151</td>\n      <td>53201</td>\n      <td>Milwaukee</td>\n      <td>NaN</td>\n      <td>MT553334</td>\n      <td>33340: Metropolitan Statistical Area</td>\n      <td>Wisdot</td>\n      <td>NaN</td>\n      <td>11919900</td>\n      <td>NaN</td>\n      <td>0</td>\n      <td>Job Board</td>\n      <td>Finance: Budget Management;Specialized Skills|...</td>\n      <td>{'Budgeting': 'Finance: Budget Management;Spec...</td>\n      <td>False</td>\n      <td>NaN</td>\n      <td>NaN</td>\n      <td>NaN</td>\n      <td>NaN</td>\n      <td>NaN</td>\n      <td>11-9199.00</td>\n      <td>90209.0</td>\n      <td>43.37</td>\n      <td>62400.0</td>\n      <td>30.0</td>\n      <td>fulltime</td>\n      <td>permanent</td>\n      <td>NaN</td>\n      <td>NaN</td>\n      <td>NaN</td>\n      <td>Chief Program Performance Manager</td>\n      <td>NaN</td>\n      <td>NaN</td>\n      <td>Program Officer</td>\n      <td>NaN</td>\n      <td>313</td>\n      <td>158</td>\n      <td>58</td>\n      <td>607</td>\n      <td>3851.57</td>\n      <td>1508.76</td>\n      <td>1898.18</td>\n      <td>3053.94</td>\n      <td>0</td>\n      <td>0</td>\n      <td>0</td>\n      <td>0</td>\n      <td>In partnership with Hispanic Professionals of ...</td>\n      <td>5141</td>\n      <td>740</td>\n    </tr>\n    <tr>\n      <th>3</th>\n      <td>en</td>\n      <td>West Caldwell</td>\n      <td>NJ</td>\n      <td>Machine Operator/Nutraceutical</td>\n      <td>2020-07-17</td>\n      <td>38815921335</td>\n      <td>40.8069</td>\n      <td>-74.2778</td>\n      <td>07006</td>\n      <td>Essex</td>\n      <td>35084.0</td>\n      <td>DV343508|MT363562</td>\n      <td>35620: Metropolitan Statistical Area|408: Comb...</td>\n      <td>Vitaquest</td>\n      <td>Machine Operator</td>\n      <td>51919900</td>\n      <td>NaN</td>\n      <td>0</td>\n      <td>Job Board</td>\n      <td>Science and Research: Biopharmaceutical Manufa...</td>\n      <td>{'Batch Records': 'Science and Research: Bioph...</td>\n      <td>False</td>\n      <td>Higher Secondary Certificate</td>\n      <td>Higher Secondary Certificate</td>\n      <td>NaN</td>\n      <td>1.0</td>\n      <td>NaN</td>\n      <td>51-9012.92</td>\n      <td>NaN</td>\n      <td>NaN</td>\n      <td>NaN</td>\n      <td>NaN</td>\n      <td>fulltime</td>\n      <td>permanent</td>\n      <td>0-1</td>\n      <td>low</td>\n      <td>12</td>\n      <td>Machine Operator</td>\n      <td>NaN</td>\n      <td>12.0</td>\n      <td>Manufacturing Machine Operator</td>\n      <td>Minimum of 1 year</td>\n      <td>212</td>\n      <td>227</td>\n      <td>653</td>\n      <td>642</td>\n      <td>2668.94</td>\n      <td>1062.01</td>\n      <td>1292.53</td>\n      <td>2162.32</td>\n      <td>0</td>\n      <td>0</td>\n      <td>0</td>\n      <td>0</td>\n      <td>Machine Operator / Nutraceutical Vitaquest - W...</td>\n      <td>3417</td>\n      <td>516</td>\n    </tr>\n    <tr>\n      <th>4</th>\n      <td>en</td>\n      <td>Houston</td>\n      <td>TX</td>\n      <td>Sales Process Coordinator - Midmarket</td>\n      <td>2018-04-25</td>\n      <td>38353595694</td>\n      <td>30.0683</td>\n      <td>-95.2163</td>\n      <td>77325</td>\n      <td>Harris</td>\n      <td>NaN</td>\n      <td>MT482642</td>\n      <td>26420: Metropolitan Statistical Area</td>\n      <td>Recruiting Agency</td>\n      <td>Sales Coordinator</td>\n      <td>41401200</td>\n      <td>Insperity</td>\n      <td>0</td>\n      <td>Job intermediary</td>\n      <td>Business: Business Consulting;Specialized Skil...</td>\n      <td>{'Business Consulting': 'Business: Business Co...</td>\n      <td>False</td>\n      <td>Higher Secondary Certificate</td>\n      <td>Higher Secondary Certificate</td>\n      <td>NaN</td>\n      <td>2.0</td>\n      <td>NaN</td>\n      <td>41-4011.00</td>\n      <td>NaN</td>\n      <td>NaN</td>\n      <td>NaN</td>\n      <td>NaN</td>\n      <td>NaN</td>\n      <td>NaN</td>\n      <td>1-6</td>\n      <td>mid</td>\n      <td>12</td>\n      <td>Sales Coordinator</td>\n      <td>NaN</td>\n      <td>12.0</td>\n      <td>Sales Coordinator</td>\n      <td>One to two-years</td>\n      <td>315</td>\n      <td>232</td>\n      <td>327</td>\n      <td>756</td>\n      <td>3160.85</td>\n      <td>1260.74</td>\n      <td>1544.18</td>\n      <td>2553.99</td>\n      <td>0</td>\n      <td>0</td>\n      <td>0</td>\n      <td>0</td>\n      <td>Sales Process Coordinator - MidMarket - Job Ti...</td>\n      <td>3045</td>\n      <td>452</td>\n    </tr>\n  </tbody>\n</table>\n</div>"
     },
     "metadata": {},
     "execution_count": 9
    }
   ],
   "source": [
    "%%time\n",
    "\n",
    "ddf.head()"
   ]
  },
  {
   "cell_type": "code",
   "execution_count": 10,
   "metadata": {
    "tags": []
   },
   "outputs": [
    {
     "output_type": "stream",
     "name": "stdout",
     "text": "CPU times: user 43.6 ms, sys: 5.23 ms, total: 48.8 ms\nWall time: 899 ms\n"
    },
    {
     "output_type": "execute_result",
     "data": {
      "text/plain": "     Language  CanonCity CanonState  \\\n9053       en      Tampa         FL   \n9054       en    Durango         CO   \n9055       en  Frederick         MD   \n9056       en   New York         NY   \n9057       en   Cheyenne         WY   \n\n                                          CleanJobTitle     JobDate  \\\n9053               Rcm - Accounts Receivable Specialist  2018-01-09   \n9054  Rcis/Registered Cardiovascular Invasive Specia...  2017-03-02   \n9055  Process Systems Software Test Engineer - , Doc...  2011-10-04   \n9056                                  Expert Programmer  2019-04-11   \n9057                              Qsr Assistant Manager  2017-01-05   \n\n            JobID Latitude Longitude CanonPostalCode   CanonCounty  \\\n9053  38316465836  27.9827  -82.3402           33601  Hillsborough   \n9054  38189722337  37.3268  -107.831           81301      La Plata   \n9055      6981341  39.4944  -77.4535           21702     Frederick   \n9056  38516931242   40.694  -73.9898           11201         Kings   \n9057  38162819143  41.1245   -104.84           82001       Laramie   \n\n     DivisionCode                LMA  \\\n9053          NaN           MT124530   \n9054          NaN           MC082042   \n9055      43524.0  DV241364|MT114790   \n9056      35614.0  DV363564|MT363562   \n9057          NaN           MT561694   \n\n                                                    MSA      CanonEmployer  \\\n9053               45300: Metropolitan Statistical Area  Recruiting Agency   \n9054               20420: Micropolitan Statistical Area     Centura Health   \n9055  47900: Metropolitan Statistical Area|548: Comb...       U7 Equipment   \n9056  35620: Metropolitan Statistical Area|408: Comb...          Logicsoft   \n9057               16940: Metropolitan Statistical Area     Kroger Company   \n\n                       CanonJobTitle ConsolidatedONET CanonIntermediary  \\\n9053  Accounts Receivable Specialist        43-303100     Vaco Staffing   \n9054                             NaN         29203100               NaN   \n9055          Software Test Engineer        15-119902               NaN   \n9056                             NaN         15113100               NaN   \n9057               Assistant Manager         41101100               NaN   \n\n     InternshipFlag            Source  \\\n9053              0  Job intermediary   \n9054              0         Job Board   \n9055              0         Job Board   \n9056              0         Job Board   \n9057              0         Job Board   \n\n                                     CanonSkillClusters  \\\n9053  Finance: Accounts Payable and Receivable;Speci...   \n9054  Health Care: Emergency and Intensive Care;Spec...   \n9055  Engineering: Engineering Software;Specialized ...   \n9056                                                NaN   \n9057  Finance: Budget Management;Specialized Skills|...   \n\n                                            CanonSkills IsDuplicate  \\\n9053  {'Accounts Payable / Accounts Receivable': 'Fi...       False   \n9054  {'Advanced Cardiac Life Support (ACLS)': 'Heal...       False   \n9055  {'LabVIEW': 'Engineering: Engineering Software...       False   \n9056                                                 {}       False   \n9057  {'Budgeting': 'Finance: Budget Management;Spec...       False   \n\n                CanonMinimumDegree  \\\n9053  Higher Secondary Certificate   \n9054                    Bachelor's   \n9055                    Bachelor's   \n9056                           NaN   \n9057  Higher Secondary Certificate   \n\n                                   CanonRequiredDegrees               CIPCode  \\\n9053  Associate's|General Equivalency Degree|Higher ...                   NaN   \n9054                                         Bachelor's                510901   \n9055  Bachelor of Science|Bachelor's|Doctor of Medicine  140101|141001|141901   \n9056                                                NaN                   NaN   \n9057                                                NaN                   NaN   \n\n     MinExperience ConsolidatedInferredNAICS      BGTOcc MaxAnnualSalary  \\\n9053           1.0                    6221.0  43-3031.00             NaN   \n9054           1.0                  622110.0  29-2031.00             NaN   \n9055           5.0                      62.0  15-1133.00        100000.0   \n9056           8.0                       NaN  15-1131.91        176800.0   \n9057           2.0                  445110.0  41-1011.00             NaN   \n\n     MaxHourlySalary MinAnnualSalary MinHourlySalary CanonJobHours  \\\n9053             NaN             NaN             NaN           NaN   \n9054             NaN             NaN             NaN      fulltime   \n9055           48.08         75000.0           36.06           NaN   \n9056            85.0        176800.0            85.0      fulltime   \n9057             NaN             NaN             NaN      fulltime   \n\n     CanonJobType CanonYearsOfExperienceCanonLevel  \\\n9053          NaN                              1-6   \n9054    permanent                              0-1   \n9055          NaN                               6+   \n9056    temporary                               6+   \n9057    permanent                              1-6   \n\n     CanonYearsOfExperienceLevel ConsolidatedDegreeLevels  \\\n9053                         mid                    14|12   \n9054                         low                       16   \n9055                        high                    16|21   \n9056                        high                      NaN   \n9057                         mid                       12   \n\n                         ConsolidatedTitle MaxDegreeLevel MinDegreeLevel  \\\n9053        Accounts Receivable Specialist           14.0           12.0   \n9054  Registered Cardiovascular Specialist            NaN           16.0   \n9055                Software Test Engineer           21.0           16.0   \n9056                            Programmer            NaN            NaN   \n9057                     Assistant Manager           12.0           12.0   \n\n                                     BGTSubOcc       YearsOfExperience  \\\n9053  Accounts Receivable / Payable Specialist  1 to 3 years|1-3 years   \n9054  Cardiovascular Technician / Technologist       One year|6 months   \n9055                          Systems Engineer              5-10 years   \n9056                       Computer Programmer                 8 years   \n9057            Assistant Retail Store Manager               2-3 years   \n\n      titles_uni_500  titles_bi_500  titles_uni_1000  titles_bi_1000  \\\n9053             395            127              150             234   \n9054             395              4              110             813   \n9055             495            163              919             895   \n9056             340            274              414             170   \n9057             115            187               81              93   \n\n      dist__bi_1000  dist__uni_500  dist__bi_500  dist__uni_1000  \\\n9053        3180.78        1273.09       1553.22         2573.20   \n9054        3317.12        1359.07       1624.23         2745.63   \n9055        4354.36        1604.40       2149.61         3229.78   \n9056        2470.94        1063.22       1188.75         2166.11   \n9057        2785.56        1128.92       1352.04         2306.01   \n\n      dist__bi_1000_dummy  dist__uni_500_dummy  dist__bi_500_dummy  \\\n9053                    0                    0                   0   \n9054                    0                    0                   0   \n9055                    0                    0                   0   \n9056                    1                    0                   1   \n9057                    0                    0                   0   \n\n      dist__uni_1000_dummy                                         clean_text  \\\n9053                     0  RCM - A/R Specialist $19/HR -Vaco Staffing  Ta...   \n9054                     0  RCIS/Registered Cardiovascular Invasive Specia...   \n9055                     0  |  |  |  Employers &raquo;  Process Systems So...   \n9056                     0  Logicsoft Logo M204 expert programmer Applied ...   \n9057                     0  Part-Time QSR Assistant Manager Job Type :  Pe...   \n\n      charac_text_len  len_job_text  \n9053             1234           167  \n9054             3921           531  \n9055             3839           557  \n9056              715           110  \n9057             4488           664  ",
      "text/html": "<div>\n<style scoped>\n    .dataframe tbody tr th:only-of-type {\n        vertical-align: middle;\n    }\n\n    .dataframe tbody tr th {\n        vertical-align: top;\n    }\n\n    .dataframe thead th {\n        text-align: right;\n    }\n</style>\n<table border=\"1\" class=\"dataframe\">\n  <thead>\n    <tr style=\"text-align: right;\">\n      <th></th>\n      <th>Language</th>\n      <th>CanonCity</th>\n      <th>CanonState</th>\n      <th>CleanJobTitle</th>\n      <th>JobDate</th>\n      <th>JobID</th>\n      <th>Latitude</th>\n      <th>Longitude</th>\n      <th>CanonPostalCode</th>\n      <th>CanonCounty</th>\n      <th>DivisionCode</th>\n      <th>LMA</th>\n      <th>MSA</th>\n      <th>CanonEmployer</th>\n      <th>CanonJobTitle</th>\n      <th>ConsolidatedONET</th>\n      <th>CanonIntermediary</th>\n      <th>InternshipFlag</th>\n      <th>Source</th>\n      <th>CanonSkillClusters</th>\n      <th>CanonSkills</th>\n      <th>IsDuplicate</th>\n      <th>CanonMinimumDegree</th>\n      <th>CanonRequiredDegrees</th>\n      <th>CIPCode</th>\n      <th>MinExperience</th>\n      <th>ConsolidatedInferredNAICS</th>\n      <th>BGTOcc</th>\n      <th>MaxAnnualSalary</th>\n      <th>MaxHourlySalary</th>\n      <th>MinAnnualSalary</th>\n      <th>MinHourlySalary</th>\n      <th>CanonJobHours</th>\n      <th>CanonJobType</th>\n      <th>CanonYearsOfExperienceCanonLevel</th>\n      <th>CanonYearsOfExperienceLevel</th>\n      <th>ConsolidatedDegreeLevels</th>\n      <th>ConsolidatedTitle</th>\n      <th>MaxDegreeLevel</th>\n      <th>MinDegreeLevel</th>\n      <th>BGTSubOcc</th>\n      <th>YearsOfExperience</th>\n      <th>titles_uni_500</th>\n      <th>titles_bi_500</th>\n      <th>titles_uni_1000</th>\n      <th>titles_bi_1000</th>\n      <th>dist__bi_1000</th>\n      <th>dist__uni_500</th>\n      <th>dist__bi_500</th>\n      <th>dist__uni_1000</th>\n      <th>dist__bi_1000_dummy</th>\n      <th>dist__uni_500_dummy</th>\n      <th>dist__bi_500_dummy</th>\n      <th>dist__uni_1000_dummy</th>\n      <th>clean_text</th>\n      <th>charac_text_len</th>\n      <th>len_job_text</th>\n    </tr>\n  </thead>\n  <tbody>\n    <tr>\n      <th>9053</th>\n      <td>en</td>\n      <td>Tampa</td>\n      <td>FL</td>\n      <td>Rcm - Accounts Receivable Specialist</td>\n      <td>2018-01-09</td>\n      <td>38316465836</td>\n      <td>27.9827</td>\n      <td>-82.3402</td>\n      <td>33601</td>\n      <td>Hillsborough</td>\n      <td>NaN</td>\n      <td>MT124530</td>\n      <td>45300: Metropolitan Statistical Area</td>\n      <td>Recruiting Agency</td>\n      <td>Accounts Receivable Specialist</td>\n      <td>43-303100</td>\n      <td>Vaco Staffing</td>\n      <td>0</td>\n      <td>Job intermediary</td>\n      <td>Finance: Accounts Payable and Receivable;Speci...</td>\n      <td>{'Accounts Payable / Accounts Receivable': 'Fi...</td>\n      <td>False</td>\n      <td>Higher Secondary Certificate</td>\n      <td>Associate's|General Equivalency Degree|Higher ...</td>\n      <td>NaN</td>\n      <td>1.0</td>\n      <td>6221.0</td>\n      <td>43-3031.00</td>\n      <td>NaN</td>\n      <td>NaN</td>\n      <td>NaN</td>\n      <td>NaN</td>\n      <td>NaN</td>\n      <td>NaN</td>\n      <td>1-6</td>\n      <td>mid</td>\n      <td>14|12</td>\n      <td>Accounts Receivable Specialist</td>\n      <td>14.0</td>\n      <td>12.0</td>\n      <td>Accounts Receivable / Payable Specialist</td>\n      <td>1 to 3 years|1-3 years</td>\n      <td>395</td>\n      <td>127</td>\n      <td>150</td>\n      <td>234</td>\n      <td>3180.78</td>\n      <td>1273.09</td>\n      <td>1553.22</td>\n      <td>2573.20</td>\n      <td>0</td>\n      <td>0</td>\n      <td>0</td>\n      <td>0</td>\n      <td>RCM - A/R Specialist $19/HR -Vaco Staffing  Ta...</td>\n      <td>1234</td>\n      <td>167</td>\n    </tr>\n    <tr>\n      <th>9054</th>\n      <td>en</td>\n      <td>Durango</td>\n      <td>CO</td>\n      <td>Rcis/Registered Cardiovascular Invasive Specia...</td>\n      <td>2017-03-02</td>\n      <td>38189722337</td>\n      <td>37.3268</td>\n      <td>-107.831</td>\n      <td>81301</td>\n      <td>La Plata</td>\n      <td>NaN</td>\n      <td>MC082042</td>\n      <td>20420: Micropolitan Statistical Area</td>\n      <td>Centura Health</td>\n      <td>NaN</td>\n      <td>29203100</td>\n      <td>NaN</td>\n      <td>0</td>\n      <td>Job Board</td>\n      <td>Health Care: Emergency and Intensive Care;Spec...</td>\n      <td>{'Advanced Cardiac Life Support (ACLS)': 'Heal...</td>\n      <td>False</td>\n      <td>Bachelor's</td>\n      <td>Bachelor's</td>\n      <td>510901</td>\n      <td>1.0</td>\n      <td>622110.0</td>\n      <td>29-2031.00</td>\n      <td>NaN</td>\n      <td>NaN</td>\n      <td>NaN</td>\n      <td>NaN</td>\n      <td>fulltime</td>\n      <td>permanent</td>\n      <td>0-1</td>\n      <td>low</td>\n      <td>16</td>\n      <td>Registered Cardiovascular Specialist</td>\n      <td>NaN</td>\n      <td>16.0</td>\n      <td>Cardiovascular Technician / Technologist</td>\n      <td>One year|6 months</td>\n      <td>395</td>\n      <td>4</td>\n      <td>110</td>\n      <td>813</td>\n      <td>3317.12</td>\n      <td>1359.07</td>\n      <td>1624.23</td>\n      <td>2745.63</td>\n      <td>0</td>\n      <td>0</td>\n      <td>0</td>\n      <td>0</td>\n      <td>RCIS/Registered Cardiovascular Invasive Specia...</td>\n      <td>3921</td>\n      <td>531</td>\n    </tr>\n    <tr>\n      <th>9055</th>\n      <td>en</td>\n      <td>Frederick</td>\n      <td>MD</td>\n      <td>Process Systems Software Test Engineer - , Doc...</td>\n      <td>2011-10-04</td>\n      <td>6981341</td>\n      <td>39.4944</td>\n      <td>-77.4535</td>\n      <td>21702</td>\n      <td>Frederick</td>\n      <td>43524.0</td>\n      <td>DV241364|MT114790</td>\n      <td>47900: Metropolitan Statistical Area|548: Comb...</td>\n      <td>U7 Equipment</td>\n      <td>Software Test Engineer</td>\n      <td>15-119902</td>\n      <td>NaN</td>\n      <td>0</td>\n      <td>Job Board</td>\n      <td>Engineering: Engineering Software;Specialized ...</td>\n      <td>{'LabVIEW': 'Engineering: Engineering Software...</td>\n      <td>False</td>\n      <td>Bachelor's</td>\n      <td>Bachelor of Science|Bachelor's|Doctor of Medicine</td>\n      <td>140101|141001|141901</td>\n      <td>5.0</td>\n      <td>62.0</td>\n      <td>15-1133.00</td>\n      <td>100000.0</td>\n      <td>48.08</td>\n      <td>75000.0</td>\n      <td>36.06</td>\n      <td>NaN</td>\n      <td>NaN</td>\n      <td>6+</td>\n      <td>high</td>\n      <td>16|21</td>\n      <td>Software Test Engineer</td>\n      <td>21.0</td>\n      <td>16.0</td>\n      <td>Systems Engineer</td>\n      <td>5-10 years</td>\n      <td>495</td>\n      <td>163</td>\n      <td>919</td>\n      <td>895</td>\n      <td>4354.36</td>\n      <td>1604.40</td>\n      <td>2149.61</td>\n      <td>3229.78</td>\n      <td>0</td>\n      <td>0</td>\n      <td>0</td>\n      <td>0</td>\n      <td>|  |  |  Employers &amp;raquo;  Process Systems So...</td>\n      <td>3839</td>\n      <td>557</td>\n    </tr>\n    <tr>\n      <th>9056</th>\n      <td>en</td>\n      <td>New York</td>\n      <td>NY</td>\n      <td>Expert Programmer</td>\n      <td>2019-04-11</td>\n      <td>38516931242</td>\n      <td>40.694</td>\n      <td>-73.9898</td>\n      <td>11201</td>\n      <td>Kings</td>\n      <td>35614.0</td>\n      <td>DV363564|MT363562</td>\n      <td>35620: Metropolitan Statistical Area|408: Comb...</td>\n      <td>Logicsoft</td>\n      <td>NaN</td>\n      <td>15113100</td>\n      <td>NaN</td>\n      <td>0</td>\n      <td>Job Board</td>\n      <td>NaN</td>\n      <td>{}</td>\n      <td>False</td>\n      <td>NaN</td>\n      <td>NaN</td>\n      <td>NaN</td>\n      <td>8.0</td>\n      <td>NaN</td>\n      <td>15-1131.91</td>\n      <td>176800.0</td>\n      <td>85.0</td>\n      <td>176800.0</td>\n      <td>85.0</td>\n      <td>fulltime</td>\n      <td>temporary</td>\n      <td>6+</td>\n      <td>high</td>\n      <td>NaN</td>\n      <td>Programmer</td>\n      <td>NaN</td>\n      <td>NaN</td>\n      <td>Computer Programmer</td>\n      <td>8 years</td>\n      <td>340</td>\n      <td>274</td>\n      <td>414</td>\n      <td>170</td>\n      <td>2470.94</td>\n      <td>1063.22</td>\n      <td>1188.75</td>\n      <td>2166.11</td>\n      <td>1</td>\n      <td>0</td>\n      <td>1</td>\n      <td>0</td>\n      <td>Logicsoft Logo M204 expert programmer Applied ...</td>\n      <td>715</td>\n      <td>110</td>\n    </tr>\n    <tr>\n      <th>9057</th>\n      <td>en</td>\n      <td>Cheyenne</td>\n      <td>WY</td>\n      <td>Qsr Assistant Manager</td>\n      <td>2017-01-05</td>\n      <td>38162819143</td>\n      <td>41.1245</td>\n      <td>-104.84</td>\n      <td>82001</td>\n      <td>Laramie</td>\n      <td>NaN</td>\n      <td>MT561694</td>\n      <td>16940: Metropolitan Statistical Area</td>\n      <td>Kroger Company</td>\n      <td>Assistant Manager</td>\n      <td>41101100</td>\n      <td>NaN</td>\n      <td>0</td>\n      <td>Job Board</td>\n      <td>Finance: Budget Management;Specialized Skills|...</td>\n      <td>{'Budgeting': 'Finance: Budget Management;Spec...</td>\n      <td>False</td>\n      <td>Higher Secondary Certificate</td>\n      <td>NaN</td>\n      <td>NaN</td>\n      <td>2.0</td>\n      <td>445110.0</td>\n      <td>41-1011.00</td>\n      <td>NaN</td>\n      <td>NaN</td>\n      <td>NaN</td>\n      <td>NaN</td>\n      <td>fulltime</td>\n      <td>permanent</td>\n      <td>1-6</td>\n      <td>mid</td>\n      <td>12</td>\n      <td>Assistant Manager</td>\n      <td>12.0</td>\n      <td>12.0</td>\n      <td>Assistant Retail Store Manager</td>\n      <td>2-3 years</td>\n      <td>115</td>\n      <td>187</td>\n      <td>81</td>\n      <td>93</td>\n      <td>2785.56</td>\n      <td>1128.92</td>\n      <td>1352.04</td>\n      <td>2306.01</td>\n      <td>0</td>\n      <td>0</td>\n      <td>0</td>\n      <td>0</td>\n      <td>Part-Time QSR Assistant Manager Job Type :  Pe...</td>\n      <td>4488</td>\n      <td>664</td>\n    </tr>\n  </tbody>\n</table>\n</div>"
     },
     "metadata": {},
     "execution_count": 10
    }
   ],
   "source": [
    "%%time\n",
    "\n",
    "ddf.tail()"
   ]
  },
  {
   "cell_type": "code",
   "execution_count": 11,
   "metadata": {},
   "outputs": [
    {
     "output_type": "execute_result",
     "data": {
      "text/plain": "58"
     },
     "metadata": {},
     "execution_count": 11
    }
   ],
   "source": [
    "ddf.npartitions"
   ]
  },
  {
   "cell_type": "code",
   "execution_count": 12,
   "metadata": {
    "tags": []
   },
   "outputs": [
    {
     "output_type": "execute_result",
     "data": {
      "text/plain": "500"
     },
     "metadata": {},
     "execution_count": 12
    }
   ],
   "source": [
    "len(ddf.titles_uni_500.unique().compute())"
   ]
  },
  {
   "cell_type": "code",
   "execution_count": 13,
   "metadata": {
    "tags": []
   },
   "outputs": [
    {
     "output_type": "stream",
     "name": "stderr",
     "text": "distributed.nanny - WARNING - Worker exceeded 95% memory budget. Restarting\ndistributed.nanny - WARNING - Restarting worker\nCPU times: user 6.28 s, sys: 952 ms, total: 7.23 s\nWall time: 1min 25s\n"
    }
   ],
   "source": [
    "%%time\n",
    "\n",
    "with ProgressBar():\n",
    "    missing_values = ddf.isna().sum()\n",
    "    missing_count = ((missing_values / ddf.index.size) * 100)\n",
    "    missing_count_pct = missing_count.compute()"
   ]
  },
  {
   "cell_type": "code",
   "execution_count": 14,
   "metadata": {},
   "outputs": [
    {
     "output_type": "execute_result",
     "data": {
      "text/plain": "Language                             0.000000\nCanonCity                            1.363583\nCanonState                           0.014230\nCleanJobTitle                        0.000000\nJobDate                              0.000000\nJobID                                0.000000\nLatitude                             1.358933\nLongitude                            1.358933\nCanonPostalCode                      1.668761\nCanonCounty                          1.405851\nDivisionCode                        64.768340\nLMA                                  1.663126\nMSA                                  2.956401\nCanonEmployer                        0.000000\nCanonJobTitle                       42.674160\nConsolidatedONET                     4.666445\nCanonIntermediary                   85.373259\nInternshipFlag                       0.000000\nSource                               3.839532\nCanonSkillClusters                   2.736042\nCanonSkills                          0.000000\nIsDuplicate                          0.000000\nCanonMinimumDegree                  39.107542\nCanonRequiredDegrees                45.810485\nCIPCode                             74.314686\nMinExperience                       45.578572\nConsolidatedInferredNAICS           14.844142\nBGTOcc                               8.940779\nMaxAnnualSalary                     83.028061\nMaxHourlySalary                     83.028061\nMinAnnualSalary                     83.028061\nMinHourlySalary                     83.028061\nCanonJobHours                       48.585695\nCanonJobType                        47.250714\nCanonYearsOfExperienceCanonLevel    43.570958\nCanonYearsOfExperienceLevel         43.570958\nConsolidatedDegreeLevels            39.107542\nConsolidatedTitle                    0.000000\nMaxDegreeLevel                      78.026004\nMinDegreeLevel                      39.107542\nBGTSubOcc                            8.952051\nYearsOfExperience                   38.372634\ntitles_uni_500                       0.000000\ntitles_bi_500                        0.000000\ntitles_uni_1000                      0.000000\ntitles_bi_1000                       0.000000\ndist__bi_1000                        0.000000\ndist__uni_500                        0.000000\ndist__bi_500                         0.000000\ndist__uni_1000                       0.000000\ndist__bi_1000_dummy                  0.000000\ndist__uni_500_dummy                  0.000000\ndist__bi_500_dummy                   0.000000\ndist__uni_1000_dummy                 0.000000\nclean_text                           0.000000\ncharac_text_len                      0.000000\nlen_job_text                         0.000000\ndtype: float64"
     },
     "metadata": {},
     "execution_count": 14
    }
   ],
   "source": [
    "missing_count_pct"
   ]
  },
  {
   "cell_type": "code",
   "execution_count": 18,
   "metadata": {},
   "outputs": [],
   "source": [
    "import pyarrow"
   ]
  },
  {
   "cell_type": "code",
   "execution_count": 14,
   "metadata": {
    "tags": []
   },
   "outputs": [
    {
     "output_type": "stream",
     "name": "stdout",
     "text": "0    11-2022.00\n1    49-9071.91\n2    19-1020.01\n3    15-1134.93\n4    53-3032.00\nName: BGTOcc, dtype: object\n"
    }
   ],
   "source": [
    "with ProgressBar():\n",
    "    unique_occus = df.BGTOcc.unique().compute()\n",
    "    print(unique_occus[:5])"
   ]
  },
  {
   "cell_type": "code",
   "execution_count": 15,
   "metadata": {},
   "outputs": [],
   "source": [
    "client.close()"
   ]
  },
  {
   "cell_type": "code",
   "execution_count": 15,
   "metadata": {},
   "outputs": [
    {
     "data": {
      "text/html": [
       "<div>\n",
       "<style scoped>\n",
       "    .dataframe tbody tr th:only-of-type {\n",
       "        vertical-align: middle;\n",
       "    }\n",
       "\n",
       "    .dataframe tbody tr th {\n",
       "        vertical-align: top;\n",
       "    }\n",
       "\n",
       "    .dataframe thead th {\n",
       "        text-align: right;\n",
       "    }\n",
       "</style>\n",
       "<table border=\"1\" class=\"dataframe\">\n",
       "  <thead>\n",
       "    <tr style=\"text-align: right;\">\n",
       "      <th></th>\n",
       "      <th>JobID</th>\n",
       "      <th>CleanJobTitle</th>\n",
       "      <th>CanonCity</th>\n",
       "      <th>CanonState</th>\n",
       "      <th>JobDate</th>\n",
       "      <th>JobText</th>\n",
       "      <th>Source</th>\n",
       "      <th>CanonEmployer</th>\n",
       "      <th>Latitude</th>\n",
       "      <th>Longitude</th>\n",
       "      <th>CanonIntermediary</th>\n",
       "      <th>CanonJobTitle</th>\n",
       "      <th>CanonCounty</th>\n",
       "      <th>DivisionCode</th>\n",
       "      <th>MSA</th>\n",
       "      <th>LMA</th>\n",
       "      <th>InternshipFlag</th>\n",
       "      <th>ConsolidatedONET</th>\n",
       "      <th>CanonSkillClusters</th>\n",
       "      <th>CanonSkills</th>\n",
       "      <th>IsDuplicate</th>\n",
       "      <th>CanonMinimumDegree</th>\n",
       "      <th>CanonRequiredDegrees</th>\n",
       "      <th>CIPCode</th>\n",
       "      <th>MinExperience</th>\n",
       "      <th>ConsolidatedInferredNAICS</th>\n",
       "      <th>BGTOcc</th>\n",
       "      <th>MaxAnnualSalary</th>\n",
       "      <th>MaxHourlySalary</th>\n",
       "      <th>MinAnnualSalary</th>\n",
       "      <th>MinHourlySalary</th>\n",
       "      <th>YearsOfExperience</th>\n",
       "      <th>CanonJobHours</th>\n",
       "      <th>CanonJobType</th>\n",
       "      <th>CanonPostalCode</th>\n",
       "      <th>CanonYearsOfExperienceCanonLevel</th>\n",
       "      <th>CanonYearsOfExperienceLevel</th>\n",
       "      <th>ConsolidatedTitle</th>\n",
       "      <th>Language</th>\n",
       "      <th>BGTSubOcc</th>\n",
       "      <th>ConsolidatedDegreeLevels</th>\n",
       "      <th>MaxDegreeLevel</th>\n",
       "      <th>MinDegreeLevel</th>\n",
       "    </tr>\n",
       "  </thead>\n",
       "  <tbody>\n",
       "    <tr>\n",
       "      <th>499995</th>\n",
       "      <td>38687559870</td>\n",
       "      <td>Ct Technologist | Radiology/Ct | | With Rotati...</td>\n",
       "      <td>Eau Claire</td>\n",
       "      <td>WI</td>\n",
       "      <td>2019-12-29</td>\n",
       "      <td>CT Technologist | Radiology/CT | 40hrs/wk | Va...</td>\n",
       "      <td>Company</td>\n",
       "      <td>St Nicholas Hospital</td>\n",
       "      <td>44.7985</td>\n",
       "      <td>-91.4824</td>\n",
       "      <td>NaN</td>\n",
       "      <td>Radiologic Technologist</td>\n",
       "      <td>Eau Claire</td>\n",
       "      <td>NaN</td>\n",
       "      <td>20740: Metropolitan Statistical Area</td>\n",
       "      <td>MT552074</td>\n",
       "      <td>0</td>\n",
       "      <td>29203400</td>\n",
       "      <td>Health Care: Emergency and Intensive Care;Spec...</td>\n",
       "      <td>{'Life Support': 'Health Care: Emergency and I...</td>\n",
       "      <td>FALSE</td>\n",
       "      <td>Bachelor's</td>\n",
       "      <td>NaN</td>\n",
       "      <td>NaN</td>\n",
       "      <td>NaN</td>\n",
       "      <td>6221.0</td>\n",
       "      <td>29-2099.92</td>\n",
       "      <td>NaN</td>\n",
       "      <td>NaN</td>\n",
       "      <td>NaN</td>\n",
       "      <td>NaN</td>\n",
       "      <td>1 Year</td>\n",
       "      <td>fulltime</td>\n",
       "      <td>permanent</td>\n",
       "      <td>54701</td>\n",
       "      <td>NaN</td>\n",
       "      <td>NaN</td>\n",
       "      <td>Radiologic Technologist</td>\n",
       "      <td>en</td>\n",
       "      <td>Radiologic Technician / Technologist</td>\n",
       "      <td>16</td>\n",
       "      <td>16.0</td>\n",
       "      <td>16.0</td>\n",
       "    </tr>\n",
       "    <tr>\n",
       "      <th>499996</th>\n",
       "      <td>38669407953</td>\n",
       "      <td>Dishwasher</td>\n",
       "      <td>Morrow</td>\n",
       "      <td>GA</td>\n",
       "      <td>2019-11-24</td>\n",
       "      <td>Dishwasher\\n\\nChilis\\n\\n-\\n\\nMorrow, GA 30260\\...</td>\n",
       "      <td>Job Board</td>\n",
       "      <td>Chili's</td>\n",
       "      <td>33.5854</td>\n",
       "      <td>-84.3271</td>\n",
       "      <td>NaN</td>\n",
       "      <td>Dish Washer</td>\n",
       "      <td>Clayton</td>\n",
       "      <td>NaN</td>\n",
       "      <td>12060: Metropolitan Statistical Area</td>\n",
       "      <td>MT131206</td>\n",
       "      <td>0</td>\n",
       "      <td>35902100</td>\n",
       "      <td>Personal Care and Services: Food and Beverage ...</td>\n",
       "      <td>{'Cooking': 'Personal Care and Services: Food ...</td>\n",
       "      <td>FALSE</td>\n",
       "      <td>NaN</td>\n",
       "      <td>NaN</td>\n",
       "      <td>NaN</td>\n",
       "      <td>NaN</td>\n",
       "      <td>722511.0</td>\n",
       "      <td>35-9021.00</td>\n",
       "      <td>NaN</td>\n",
       "      <td>NaN</td>\n",
       "      <td>NaN</td>\n",
       "      <td>NaN</td>\n",
       "      <td>NaN</td>\n",
       "      <td>fulltime</td>\n",
       "      <td>permanent</td>\n",
       "      <td>30260</td>\n",
       "      <td>0</td>\n",
       "      <td>zero</td>\n",
       "      <td>Dish Washer</td>\n",
       "      <td>en</td>\n",
       "      <td>Dishwasher</td>\n",
       "      <td>NaN</td>\n",
       "      <td>NaN</td>\n",
       "      <td>NaN</td>\n",
       "    </tr>\n",
       "    <tr>\n",
       "      <th>499997</th>\n",
       "      <td>38635347958</td>\n",
       "      <td>Music Therapist</td>\n",
       "      <td>Des Moines</td>\n",
       "      <td>IA</td>\n",
       "      <td>2019-10-20</td>\n",
       "      <td>Job Information\\n\\nYouth Emergency Services &amp; ...</td>\n",
       "      <td>Job Board</td>\n",
       "      <td>Youth Emergency Services &amp; Shelter</td>\n",
       "      <td>41.605</td>\n",
       "      <td>-93.6319</td>\n",
       "      <td>NaN</td>\n",
       "      <td>NaN</td>\n",
       "      <td>Polk</td>\n",
       "      <td>NaN</td>\n",
       "      <td>19780: Metropolitan Statistical Area</td>\n",
       "      <td>MT191978</td>\n",
       "      <td>0</td>\n",
       "      <td>29112500</td>\n",
       "      <td>Common Skills|Marketing and Public Relations: ...</td>\n",
       "      <td>{'Communication Skills': 'Common Skills', 'Com...</td>\n",
       "      <td>FALSE</td>\n",
       "      <td>Bachelor's</td>\n",
       "      <td>Bachelor's</td>\n",
       "      <td>512305</td>\n",
       "      <td>2.0</td>\n",
       "      <td>62.0</td>\n",
       "      <td>29-1125.00</td>\n",
       "      <td>NaN</td>\n",
       "      <td>NaN</td>\n",
       "      <td>NaN</td>\n",
       "      <td>NaN</td>\n",
       "      <td>Minimum of two years</td>\n",
       "      <td>fulltime</td>\n",
       "      <td>permanent</td>\n",
       "      <td>50301</td>\n",
       "      <td>1-6</td>\n",
       "      <td>mid</td>\n",
       "      <td>Music Therapist</td>\n",
       "      <td>en</td>\n",
       "      <td>Art / Music / Recreational Therapist</td>\n",
       "      <td>16</td>\n",
       "      <td>NaN</td>\n",
       "      <td>16.0</td>\n",
       "    </tr>\n",
       "    <tr>\n",
       "      <th>499998</th>\n",
       "      <td>38595586361</td>\n",
       "      <td>Cdl A Flatbed Driver - Regional And Over The Road</td>\n",
       "      <td>New Orleans</td>\n",
       "      <td>LA</td>\n",
       "      <td>2019-10-02</td>\n",
       "      <td>CDL A Flatbed Drivers - Regional and OTR\\n\\nDe...</td>\n",
       "      <td>Job Board</td>\n",
       "      <td>Decker Truck Line</td>\n",
       "      <td>29.9575</td>\n",
       "      <td>-90.0769</td>\n",
       "      <td>NaN</td>\n",
       "      <td>Class A CDL Truck Driver</td>\n",
       "      <td>Orleans</td>\n",
       "      <td>NaN</td>\n",
       "      <td>35380: Metropolitan Statistical Area</td>\n",
       "      <td>MT223538</td>\n",
       "      <td>0</td>\n",
       "      <td>53303200</td>\n",
       "      <td>NaN</td>\n",
       "      <td>{}</td>\n",
       "      <td>FALSE</td>\n",
       "      <td>NaN</td>\n",
       "      <td>NaN</td>\n",
       "      <td>NaN</td>\n",
       "      <td>NaN</td>\n",
       "      <td>484.0</td>\n",
       "      <td>53-3032.00</td>\n",
       "      <td>NaN</td>\n",
       "      <td>NaN</td>\n",
       "      <td>NaN</td>\n",
       "      <td>NaN</td>\n",
       "      <td>NaN</td>\n",
       "      <td>NaN</td>\n",
       "      <td>NaN</td>\n",
       "      <td>70112</td>\n",
       "      <td>NaN</td>\n",
       "      <td>NaN</td>\n",
       "      <td>Class A CDL Truck Driver</td>\n",
       "      <td>en</td>\n",
       "      <td>Over-the-Road (OTR) Truck Driver</td>\n",
       "      <td>NaN</td>\n",
       "      <td>NaN</td>\n",
       "      <td>NaN</td>\n",
       "    </tr>\n",
       "    <tr>\n",
       "      <th>499999</th>\n",
       "      <td>38669475936</td>\n",
       "      <td>Azure Engineer</td>\n",
       "      <td>Schaumburg</td>\n",
       "      <td>IL</td>\n",
       "      <td>2019-11-24</td>\n",
       "      <td>Azure Engineer\\n\\nYork Solutions, LLC Schaumbu...</td>\n",
       "      <td>Job intermediary</td>\n",
       "      <td>NaN</td>\n",
       "      <td>42.033</td>\n",
       "      <td>-88.0834</td>\n",
       "      <td>York Solutions</td>\n",
       "      <td>Azure Engineer</td>\n",
       "      <td>Cook</td>\n",
       "      <td>16974.0</td>\n",
       "      <td>16980: Metropolitan Statistical Area|176: Comb...</td>\n",
       "      <td>DV171697|MT171698</td>\n",
       "      <td>0</td>\n",
       "      <td>17219900</td>\n",
       "      <td>Information Technology: Distributed Computing;...</td>\n",
       "      <td>{'Apache Kafka': 'Information Technology: Dist...</td>\n",
       "      <td>FALSE</td>\n",
       "      <td>NaN</td>\n",
       "      <td>NaN</td>\n",
       "      <td>NaN</td>\n",
       "      <td>NaN</td>\n",
       "      <td>NaN</td>\n",
       "      <td>NaN</td>\n",
       "      <td>133819.0</td>\n",
       "      <td>64.34</td>\n",
       "      <td>133819.0</td>\n",
       "      <td>64.34</td>\n",
       "      <td>NaN</td>\n",
       "      <td>fulltime</td>\n",
       "      <td>permanent</td>\n",
       "      <td>60159</td>\n",
       "      <td>NaN</td>\n",
       "      <td>NaN</td>\n",
       "      <td>Azure Engineer</td>\n",
       "      <td>en</td>\n",
       "      <td>NaN</td>\n",
       "      <td>NaN</td>\n",
       "      <td>NaN</td>\n",
       "      <td>NaN</td>\n",
       "    </tr>\n",
       "  </tbody>\n",
       "</table>\n",
       "</div>"
      ],
      "text/plain": [
       "              JobID                                      CleanJobTitle  \\\n",
       "499995  38687559870  Ct Technologist | Radiology/Ct | | With Rotati...   \n",
       "499996  38669407953                                         Dishwasher   \n",
       "499997  38635347958                                    Music Therapist   \n",
       "499998  38595586361  Cdl A Flatbed Driver - Regional And Over The Road   \n",
       "499999  38669475936                                     Azure Engineer   \n",
       "\n",
       "          CanonCity CanonState     JobDate  \\\n",
       "499995   Eau Claire         WI  2019-12-29   \n",
       "499996       Morrow         GA  2019-11-24   \n",
       "499997   Des Moines         IA  2019-10-20   \n",
       "499998  New Orleans         LA  2019-10-02   \n",
       "499999   Schaumburg         IL  2019-11-24   \n",
       "\n",
       "                                                  JobText            Source  \\\n",
       "499995  CT Technologist | Radiology/CT | 40hrs/wk | Va...           Company   \n",
       "499996  Dishwasher\\n\\nChilis\\n\\n-\\n\\nMorrow, GA 30260\\...         Job Board   \n",
       "499997  Job Information\\n\\nYouth Emergency Services & ...         Job Board   \n",
       "499998  CDL A Flatbed Drivers - Regional and OTR\\n\\nDe...         Job Board   \n",
       "499999  Azure Engineer\\n\\nYork Solutions, LLC Schaumbu...  Job intermediary   \n",
       "\n",
       "                             CanonEmployer Latitude Longitude  \\\n",
       "499995                St Nicholas Hospital  44.7985  -91.4824   \n",
       "499996                             Chili's  33.5854  -84.3271   \n",
       "499997  Youth Emergency Services & Shelter   41.605  -93.6319   \n",
       "499998                   Decker Truck Line  29.9575  -90.0769   \n",
       "499999                                 NaN   42.033  -88.0834   \n",
       "\n",
       "       CanonIntermediary             CanonJobTitle CanonCounty DivisionCode  \\\n",
       "499995               NaN   Radiologic Technologist  Eau Claire          NaN   \n",
       "499996               NaN               Dish Washer     Clayton          NaN   \n",
       "499997               NaN                       NaN        Polk          NaN   \n",
       "499998               NaN  Class A CDL Truck Driver     Orleans          NaN   \n",
       "499999    York Solutions            Azure Engineer        Cook      16974.0   \n",
       "\n",
       "                                                      MSA                LMA  \\\n",
       "499995               20740: Metropolitan Statistical Area           MT552074   \n",
       "499996               12060: Metropolitan Statistical Area           MT131206   \n",
       "499997               19780: Metropolitan Statistical Area           MT191978   \n",
       "499998               35380: Metropolitan Statistical Area           MT223538   \n",
       "499999  16980: Metropolitan Statistical Area|176: Comb...  DV171697|MT171698   \n",
       "\n",
       "       InternshipFlag ConsolidatedONET  \\\n",
       "499995              0         29203400   \n",
       "499996              0         35902100   \n",
       "499997              0         29112500   \n",
       "499998              0         53303200   \n",
       "499999              0         17219900   \n",
       "\n",
       "                                       CanonSkillClusters  \\\n",
       "499995  Health Care: Emergency and Intensive Care;Spec...   \n",
       "499996  Personal Care and Services: Food and Beverage ...   \n",
       "499997  Common Skills|Marketing and Public Relations: ...   \n",
       "499998                                                NaN   \n",
       "499999  Information Technology: Distributed Computing;...   \n",
       "\n",
       "                                              CanonSkills IsDuplicate  \\\n",
       "499995  {'Life Support': 'Health Care: Emergency and I...       FALSE   \n",
       "499996  {'Cooking': 'Personal Care and Services: Food ...       FALSE   \n",
       "499997  {'Communication Skills': 'Common Skills', 'Com...       FALSE   \n",
       "499998                                                 {}       FALSE   \n",
       "499999  {'Apache Kafka': 'Information Technology: Dist...       FALSE   \n",
       "\n",
       "       CanonMinimumDegree CanonRequiredDegrees CIPCode MinExperience  \\\n",
       "499995         Bachelor's                  NaN     NaN           NaN   \n",
       "499996                NaN                  NaN     NaN           NaN   \n",
       "499997         Bachelor's           Bachelor's  512305           2.0   \n",
       "499998                NaN                  NaN     NaN           NaN   \n",
       "499999                NaN                  NaN     NaN           NaN   \n",
       "\n",
       "       ConsolidatedInferredNAICS      BGTOcc MaxAnnualSalary MaxHourlySalary  \\\n",
       "499995                    6221.0  29-2099.92             NaN             NaN   \n",
       "499996                  722511.0  35-9021.00             NaN             NaN   \n",
       "499997                      62.0  29-1125.00             NaN             NaN   \n",
       "499998                     484.0  53-3032.00             NaN             NaN   \n",
       "499999                       NaN         NaN        133819.0           64.34   \n",
       "\n",
       "       MinAnnualSalary MinHourlySalary     YearsOfExperience CanonJobHours  \\\n",
       "499995             NaN             NaN                1 Year      fulltime   \n",
       "499996             NaN             NaN                   NaN      fulltime   \n",
       "499997             NaN             NaN  Minimum of two years      fulltime   \n",
       "499998             NaN             NaN                   NaN           NaN   \n",
       "499999        133819.0           64.34                   NaN      fulltime   \n",
       "\n",
       "       CanonJobType CanonPostalCode CanonYearsOfExperienceCanonLevel  \\\n",
       "499995    permanent           54701                              NaN   \n",
       "499996    permanent           30260                                0   \n",
       "499997    permanent           50301                              1-6   \n",
       "499998          NaN           70112                              NaN   \n",
       "499999    permanent           60159                              NaN   \n",
       "\n",
       "       CanonYearsOfExperienceLevel         ConsolidatedTitle Language  \\\n",
       "499995                         NaN   Radiologic Technologist       en   \n",
       "499996                        zero               Dish Washer       en   \n",
       "499997                         mid           Music Therapist       en   \n",
       "499998                         NaN  Class A CDL Truck Driver       en   \n",
       "499999                         NaN            Azure Engineer       en   \n",
       "\n",
       "                                   BGTSubOcc ConsolidatedDegreeLevels  \\\n",
       "499995  Radiologic Technician / Technologist                       16   \n",
       "499996                            Dishwasher                      NaN   \n",
       "499997  Art / Music / Recreational Therapist                       16   \n",
       "499998      Over-the-Road (OTR) Truck Driver                      NaN   \n",
       "499999                                   NaN                      NaN   \n",
       "\n",
       "       MaxDegreeLevel MinDegreeLevel  \n",
       "499995           16.0           16.0  \n",
       "499996            NaN            NaN  \n",
       "499997            NaN           16.0  \n",
       "499998            NaN            NaN  \n",
       "499999            NaN            NaN  "
      ]
     },
     "execution_count": 15,
     "metadata": {},
     "output_type": "execute_result"
    }
   ],
   "source": [
    "df.tail()"
   ]
  },
  {
   "cell_type": "code",
   "execution_count": 17,
   "metadata": {},
   "outputs": [
    {
     "name": "stdout",
     "output_type": "stream",
     "text": [
      "[########################################] | 100% Completed |  0.1s\n",
      "0     20000\n",
      "1     20000\n",
      "2     20000\n",
      "3     20000\n",
      "4     20000\n",
      "5     20000\n",
      "6     20000\n",
      "7     19999\n",
      "8     20000\n",
      "9     20000\n",
      "10    20000\n",
      "11    20000\n",
      "12    20000\n",
      "13    20000\n",
      "14    20000\n",
      "15    20000\n",
      "16    20000\n",
      "17    20000\n",
      "18    20000\n",
      "19    20000\n",
      "20    20000\n",
      "21    20000\n",
      "22    20000\n",
      "23    20000\n",
      "24    20000\n",
      "dtype: int64\n"
     ]
    }
   ],
   "source": [
    "with ProgressBar():\n",
    "    print(df.map_partitions(len).compute())"
   ]
  },
  {
   "cell_type": "code",
   "execution_count": null,
   "metadata": {},
   "outputs": [],
   "source": []
  }
 ],
 "metadata": {
  "kernelspec": {
   "display_name": "Python 3",
   "language": "python",
   "name": "python3"
  },
  "language_info": {
   "codemirror_mode": {
    "name": "ipython",
    "version": 3
   },
   "file_extension": ".py",
   "mimetype": "text/x-python",
   "name": "python",
   "nbconvert_exporter": "python",
   "pygments_lexer": "ipython3",
   "version": "3.7.7-final"
  }
 },
 "nbformat": 4,
 "nbformat_minor": 4
}