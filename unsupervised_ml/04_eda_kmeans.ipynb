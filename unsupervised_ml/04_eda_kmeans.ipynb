{
 "metadata": {
  "language_info": {
   "codemirror_mode": {
    "name": "ipython",
    "version": 3
   },
   "file_extension": ".py",
   "mimetype": "text/x-python",
   "name": "python",
   "nbconvert_exporter": "python",
   "pygments_lexer": "ipython3",
   "version": "3.7.7-final"
  },
  "orig_nbformat": 2,
  "kernelspec": {
   "name": "python_defaultSpec_1598923295816",
   "display_name": "Python 3.7.7 64-bit ('base': conda)"
  }
 },
 "nbformat": 4,
 "nbformat_minor": 2,
 "cells": [
  {
   "cell_type": "code",
   "execution_count": 1,
   "metadata": {},
   "outputs": [],
   "source": [
    "import pandas as pd\n",
    "import numpy as np\n",
    "import concurrent.futures as cf\n",
    "import matplotlib.pyplot as plt\n",
    "import seaborn as sns\n",
    "from pprint import pprint\n",
    "import nltk\n",
    "import pickle\n",
    "from glob import glob\n",
    "import re\n",
    "from sklearn.feature_extraction.text import TfidfVectorizer\n",
    "from sklearn.metrics.pairwise import cosine_similarity\n",
    "from sklearn.feature_extraction.text import CountVectorizer\n",
    "from sklearn.cluster import KMeans\n",
    "from collections import Counter\n",
    "import altair as alt\n",
    "from scipy import stats\n",
    "# !conda install -c conda-forge kneed -y\n",
    "from kneed import KneeLocator\n",
    "\n",
    "pd.set_option('display.max_columns', None)\n",
    "\n",
    "%matplotlib inline"
   ]
  },
  {
   "cell_type": "code",
   "execution_count": 2,
   "metadata": {},
   "outputs": [],
   "source": [
    "path_in = '/Users/ramonperez/Dropbox/Burning Glass/Data/random_data/'\n",
    "path_out  = '/Users/ramonperez/Dropbox/Burning Glass/Analysis/unsupervised_approach/'\n",
    "models = path_in + 'models/kmeans/'"
   ]
  },
  {
   "cell_type": "code",
   "execution_count": 3,
   "metadata": {
    "tags": []
   },
   "outputs": [
    {
     "output_type": "stream",
     "name": "stdout",
     "text": "CPU times: user 44.7 s, sys: 1min 23s, total: 2min 8s\nWall time: 3min 30s\n"
    },
    {
     "output_type": "execute_result",
     "data": {
      "text/plain": "  Language      CanonCity CanonState  \\\n0       en      Allentown         PA   \n1       en        Hanover         NJ   \n2       en      Milwaukee         WI   \n3       en  West Caldwell         NJ   \n4       en        Houston         TX   \n\n                                       CleanJobTitle     JobDate        JobID  \\\n0         Advertising Account Executive Key Accounts  2016-07-08  38087992061   \n1  Crop Protection Sales Specialist For Bayer Cro...  2018-06-14  38379581429   \n2  Program And Policy Chief Performance Improveme...  2017-03-27  38202025999   \n3                     Machine Operator/Nutraceutical  2020-07-17  38815921335   \n4              Sales Process Coordinator - Midmarket  2018-04-25  38353595694   \n\n   Latitude  Longitude CanonPostalCode CanonCounty  DivisionCode  \\\n0   40.6023   -75.4707           18101      Lehigh           NaN   \n1   40.8218   -74.4220           07981      Morris       35084.0   \n2   43.0343   -87.9151           53201   Milwaukee           NaN   \n3   40.8069   -74.2778           07006       Essex       35084.0   \n4   30.0683   -95.2163           77325      Harris           NaN   \n\n                 LMA                                                MSA  \\\n0           MT421090               10900: Metropolitan Statistical Area   \n1  DV343508|MT363562  35620: Metropolitan Statistical Area|408: Comb...   \n2           MT553334               33340: Metropolitan Statistical Area   \n3  DV343508|MT363562  35620: Metropolitan Statistical Area|408: Comb...   \n4           MT482642               26420: Metropolitan Statistical Area   \n\n       CanonEmployer                  CanonJobTitle ConsolidatedONET  \\\n0       Morning Call  Advertising Account Executive         41301100   \n1  Bayer Corporation               Sales Specialist         41401200   \n2             Wisdot                            NaN         11919900   \n3          Vitaquest               Machine Operator         51919900   \n4  Recruiting Agency              Sales Coordinator         41401200   \n\n  CanonIntermediary  InternshipFlag            Source  \\\n0               NaN               0         Job Board   \n1               NaN               0           Company   \n2               NaN               0         Job Board   \n3               NaN               0         Job Board   \n4         Insperity               0  Job intermediary   \n\n                                  CanonSkillClusters  \\\n0  Marketing and Public Relations: Advertising;Sp...   \n1  Finance: Budget Management;Specialized Skills|...   \n2  Finance: Budget Management;Specialized Skills|...   \n3  Science and Research: Biopharmaceutical Manufa...   \n4  Business: Business Consulting;Specialized Skil...   \n\n                                         CanonSkills  IsDuplicate  \\\n0  {'Advertising': 'Marketing and Public Relation...        False   \n1  {'Budgeting': 'Finance: Budget Management;Spec...        False   \n2  {'Budgeting': 'Finance: Budget Management;Spec...        False   \n3  {'Batch Records': 'Science and Research: Bioph...        False   \n4  {'Business Consulting': 'Business: Business Co...        False   \n\n             CanonMinimumDegree          CanonRequiredDegrees CIPCode  \\\n0                    Bachelor's                    Bachelor's     NaN   \n1                           NaN                           NaN     NaN   \n2                           NaN                           NaN     NaN   \n3  Higher Secondary Certificate  Higher Secondary Certificate     NaN   \n4  Higher Secondary Certificate  Higher Secondary Certificate     NaN   \n\n   MinExperience  ConsolidatedInferredNAICS      BGTOcc  MaxAnnualSalary  \\\n0            2.0                        NaN  41-3011.00              NaN   \n1            NaN                   325412.0  41-4011.00              NaN   \n2            NaN                        NaN  11-9199.00          90209.0   \n3            1.0                        NaN  51-9012.92              NaN   \n4            2.0                        NaN  41-4011.00              NaN   \n\n   MaxHourlySalary  MinAnnualSalary  MinHourlySalary CanonJobHours  \\\n0              NaN              NaN              NaN      fulltime   \n1              NaN              NaN              NaN           NaN   \n2            43.37          62400.0             30.0      fulltime   \n3              NaN              NaN              NaN      fulltime   \n4              NaN              NaN              NaN           NaN   \n\n  CanonJobType CanonYearsOfExperienceCanonLevel CanonYearsOfExperienceLevel  \\\n0    permanent                              1-6                         mid   \n1          NaN                              NaN                         NaN   \n2    permanent                              NaN                         NaN   \n3    permanent                              0-1                         low   \n4          NaN                              1-6                         mid   \n\n  ConsolidatedDegreeLevels                  ConsolidatedTitle  MaxDegreeLevel  \\\n0                       16      Advertising Account Executive            16.0   \n1                      NaN                   Sales Specialist             NaN   \n2                      NaN  Chief Program Performance Manager             NaN   \n3                       12                   Machine Operator             NaN   \n4                       12                  Sales Coordinator             NaN   \n\n   MinDegreeLevel                       BGTSubOcc  \\\n0            16.0   Advertising Account Executive   \n1             NaN            Sales Representative   \n2             NaN                 Program Officer   \n3            12.0  Manufacturing Machine Operator   \n4            12.0               Sales Coordinator   \n\n                 YearsOfExperience  titles_uni_500  titles_bi_500  \\\n0  At least 2-4 years|2 to 3 years             156             56   \n1                              NaN               0            486   \n2                              NaN             313            158   \n3                Minimum of 1 year             212            227   \n4                 One to two-years             315            232   \n\n   titles_uni_1000  titles_bi_1000  dist__bi_1000  dist__uni_500  \\\n0              995             286        3631.16        1371.38   \n1              581             196        4453.73        1814.80   \n2               58             607        3851.57        1508.76   \n3              653             642        2668.94        1062.01   \n4              327             756        3160.85        1260.74   \n\n   dist__bi_500  dist__uni_1000  dist__bi_1000_dummy  dist__uni_500_dummy  \\\n0       1783.33         2770.52                    0                    0   \n1       2200.47         3651.45                    0                    0   \n2       1898.18         3053.94                    0                    0   \n3       1292.53         2162.32                    0                    0   \n4       1544.18         2553.99                    0                    0   \n\n   dist__bi_500_dummy  dist__uni_1000_dummy  \\\n0                   0                     0   \n1                   0                     0   \n2                   0                     0   \n3                   0                     0   \n4                   0                     0   \n\n                                          clean_text  charac_text_len  \\\n0  Advertising Account Executive (Key Accounts) T...             4633   \n1  .      Crop Protection Sales Specialist for Ba...             3266   \n2  In partnership with Hispanic Professionals of ...             5141   \n3  Machine Operator / Nutraceutical Vitaquest - W...             3417   \n4  Sales Process Coordinator - MidMarket - Job Ti...             3045   \n\n   len_job_text  \n0           684  \n1           435  \n2           740  \n3           516  \n4           452  ",
      "text/html": "<div>\n<style scoped>\n    .dataframe tbody tr th:only-of-type {\n        vertical-align: middle;\n    }\n\n    .dataframe tbody tr th {\n        vertical-align: top;\n    }\n\n    .dataframe thead th {\n        text-align: right;\n    }\n</style>\n<table border=\"1\" class=\"dataframe\">\n  <thead>\n    <tr style=\"text-align: right;\">\n      <th></th>\n      <th>Language</th>\n      <th>CanonCity</th>\n      <th>CanonState</th>\n      <th>CleanJobTitle</th>\n      <th>JobDate</th>\n      <th>JobID</th>\n      <th>Latitude</th>\n      <th>Longitude</th>\n      <th>CanonPostalCode</th>\n      <th>CanonCounty</th>\n      <th>DivisionCode</th>\n      <th>LMA</th>\n      <th>MSA</th>\n      <th>CanonEmployer</th>\n      <th>CanonJobTitle</th>\n      <th>ConsolidatedONET</th>\n      <th>CanonIntermediary</th>\n      <th>InternshipFlag</th>\n      <th>Source</th>\n      <th>CanonSkillClusters</th>\n      <th>CanonSkills</th>\n      <th>IsDuplicate</th>\n      <th>CanonMinimumDegree</th>\n      <th>CanonRequiredDegrees</th>\n      <th>CIPCode</th>\n      <th>MinExperience</th>\n      <th>ConsolidatedInferredNAICS</th>\n      <th>BGTOcc</th>\n      <th>MaxAnnualSalary</th>\n      <th>MaxHourlySalary</th>\n      <th>MinAnnualSalary</th>\n      <th>MinHourlySalary</th>\n      <th>CanonJobHours</th>\n      <th>CanonJobType</th>\n      <th>CanonYearsOfExperienceCanonLevel</th>\n      <th>CanonYearsOfExperienceLevel</th>\n      <th>ConsolidatedDegreeLevels</th>\n      <th>ConsolidatedTitle</th>\n      <th>MaxDegreeLevel</th>\n      <th>MinDegreeLevel</th>\n      <th>BGTSubOcc</th>\n      <th>YearsOfExperience</th>\n      <th>titles_uni_500</th>\n      <th>titles_bi_500</th>\n      <th>titles_uni_1000</th>\n      <th>titles_bi_1000</th>\n      <th>dist__bi_1000</th>\n      <th>dist__uni_500</th>\n      <th>dist__bi_500</th>\n      <th>dist__uni_1000</th>\n      <th>dist__bi_1000_dummy</th>\n      <th>dist__uni_500_dummy</th>\n      <th>dist__bi_500_dummy</th>\n      <th>dist__uni_1000_dummy</th>\n      <th>clean_text</th>\n      <th>charac_text_len</th>\n      <th>len_job_text</th>\n    </tr>\n  </thead>\n  <tbody>\n    <tr>\n      <th>0</th>\n      <td>en</td>\n      <td>Allentown</td>\n      <td>PA</td>\n      <td>Advertising Account Executive Key Accounts</td>\n      <td>2016-07-08</td>\n      <td>38087992061</td>\n      <td>40.6023</td>\n      <td>-75.4707</td>\n      <td>18101</td>\n      <td>Lehigh</td>\n      <td>NaN</td>\n      <td>MT421090</td>\n      <td>10900: Metropolitan Statistical Area</td>\n      <td>Morning Call</td>\n      <td>Advertising Account Executive</td>\n      <td>41301100</td>\n      <td>NaN</td>\n      <td>0</td>\n      <td>Job Board</td>\n      <td>Marketing and Public Relations: Advertising;Sp...</td>\n      <td>{'Advertising': 'Marketing and Public Relation...</td>\n      <td>False</td>\n      <td>Bachelor's</td>\n      <td>Bachelor's</td>\n      <td>NaN</td>\n      <td>2.0</td>\n      <td>NaN</td>\n      <td>41-3011.00</td>\n      <td>NaN</td>\n      <td>NaN</td>\n      <td>NaN</td>\n      <td>NaN</td>\n      <td>fulltime</td>\n      <td>permanent</td>\n      <td>1-6</td>\n      <td>mid</td>\n      <td>16</td>\n      <td>Advertising Account Executive</td>\n      <td>16.0</td>\n      <td>16.0</td>\n      <td>Advertising Account Executive</td>\n      <td>At least 2-4 years|2 to 3 years</td>\n      <td>156</td>\n      <td>56</td>\n      <td>995</td>\n      <td>286</td>\n      <td>3631.16</td>\n      <td>1371.38</td>\n      <td>1783.33</td>\n      <td>2770.52</td>\n      <td>0</td>\n      <td>0</td>\n      <td>0</td>\n      <td>0</td>\n      <td>Advertising Account Executive (Key Accounts) T...</td>\n      <td>4633</td>\n      <td>684</td>\n    </tr>\n    <tr>\n      <th>1</th>\n      <td>en</td>\n      <td>Hanover</td>\n      <td>NJ</td>\n      <td>Crop Protection Sales Specialist For Bayer Cro...</td>\n      <td>2018-06-14</td>\n      <td>38379581429</td>\n      <td>40.8218</td>\n      <td>-74.4220</td>\n      <td>07981</td>\n      <td>Morris</td>\n      <td>35084.0</td>\n      <td>DV343508|MT363562</td>\n      <td>35620: Metropolitan Statistical Area|408: Comb...</td>\n      <td>Bayer Corporation</td>\n      <td>Sales Specialist</td>\n      <td>41401200</td>\n      <td>NaN</td>\n      <td>0</td>\n      <td>Company</td>\n      <td>Finance: Budget Management;Specialized Skills|...</td>\n      <td>{'Budgeting': 'Finance: Budget Management;Spec...</td>\n      <td>False</td>\n      <td>NaN</td>\n      <td>NaN</td>\n      <td>NaN</td>\n      <td>NaN</td>\n      <td>325412.0</td>\n      <td>41-4011.00</td>\n      <td>NaN</td>\n      <td>NaN</td>\n      <td>NaN</td>\n      <td>NaN</td>\n      <td>NaN</td>\n      <td>NaN</td>\n      <td>NaN</td>\n      <td>NaN</td>\n      <td>NaN</td>\n      <td>Sales Specialist</td>\n      <td>NaN</td>\n      <td>NaN</td>\n      <td>Sales Representative</td>\n      <td>NaN</td>\n      <td>0</td>\n      <td>486</td>\n      <td>581</td>\n      <td>196</td>\n      <td>4453.73</td>\n      <td>1814.80</td>\n      <td>2200.47</td>\n      <td>3651.45</td>\n      <td>0</td>\n      <td>0</td>\n      <td>0</td>\n      <td>0</td>\n      <td>.      Crop Protection Sales Specialist for Ba...</td>\n      <td>3266</td>\n      <td>435</td>\n    </tr>\n    <tr>\n      <th>2</th>\n      <td>en</td>\n      <td>Milwaukee</td>\n      <td>WI</td>\n      <td>Program And Policy Chief Performance Improveme...</td>\n      <td>2017-03-27</td>\n      <td>38202025999</td>\n      <td>43.0343</td>\n      <td>-87.9151</td>\n      <td>53201</td>\n      <td>Milwaukee</td>\n      <td>NaN</td>\n      <td>MT553334</td>\n      <td>33340: Metropolitan Statistical Area</td>\n      <td>Wisdot</td>\n      <td>NaN</td>\n      <td>11919900</td>\n      <td>NaN</td>\n      <td>0</td>\n      <td>Job Board</td>\n      <td>Finance: Budget Management;Specialized Skills|...</td>\n      <td>{'Budgeting': 'Finance: Budget Management;Spec...</td>\n      <td>False</td>\n      <td>NaN</td>\n      <td>NaN</td>\n      <td>NaN</td>\n      <td>NaN</td>\n      <td>NaN</td>\n      <td>11-9199.00</td>\n      <td>90209.0</td>\n      <td>43.37</td>\n      <td>62400.0</td>\n      <td>30.0</td>\n      <td>fulltime</td>\n      <td>permanent</td>\n      <td>NaN</td>\n      <td>NaN</td>\n      <td>NaN</td>\n      <td>Chief Program Performance Manager</td>\n      <td>NaN</td>\n      <td>NaN</td>\n      <td>Program Officer</td>\n      <td>NaN</td>\n      <td>313</td>\n      <td>158</td>\n      <td>58</td>\n      <td>607</td>\n      <td>3851.57</td>\n      <td>1508.76</td>\n      <td>1898.18</td>\n      <td>3053.94</td>\n      <td>0</td>\n      <td>0</td>\n      <td>0</td>\n      <td>0</td>\n      <td>In partnership with Hispanic Professionals of ...</td>\n      <td>5141</td>\n      <td>740</td>\n    </tr>\n    <tr>\n      <th>3</th>\n      <td>en</td>\n      <td>West Caldwell</td>\n      <td>NJ</td>\n      <td>Machine Operator/Nutraceutical</td>\n      <td>2020-07-17</td>\n      <td>38815921335</td>\n      <td>40.8069</td>\n      <td>-74.2778</td>\n      <td>07006</td>\n      <td>Essex</td>\n      <td>35084.0</td>\n      <td>DV343508|MT363562</td>\n      <td>35620: Metropolitan Statistical Area|408: Comb...</td>\n      <td>Vitaquest</td>\n      <td>Machine Operator</td>\n      <td>51919900</td>\n      <td>NaN</td>\n      <td>0</td>\n      <td>Job Board</td>\n      <td>Science and Research: Biopharmaceutical Manufa...</td>\n      <td>{'Batch Records': 'Science and Research: Bioph...</td>\n      <td>False</td>\n      <td>Higher Secondary Certificate</td>\n      <td>Higher Secondary Certificate</td>\n      <td>NaN</td>\n      <td>1.0</td>\n      <td>NaN</td>\n      <td>51-9012.92</td>\n      <td>NaN</td>\n      <td>NaN</td>\n      <td>NaN</td>\n      <td>NaN</td>\n      <td>fulltime</td>\n      <td>permanent</td>\n      <td>0-1</td>\n      <td>low</td>\n      <td>12</td>\n      <td>Machine Operator</td>\n      <td>NaN</td>\n      <td>12.0</td>\n      <td>Manufacturing Machine Operator</td>\n      <td>Minimum of 1 year</td>\n      <td>212</td>\n      <td>227</td>\n      <td>653</td>\n      <td>642</td>\n      <td>2668.94</td>\n      <td>1062.01</td>\n      <td>1292.53</td>\n      <td>2162.32</td>\n      <td>0</td>\n      <td>0</td>\n      <td>0</td>\n      <td>0</td>\n      <td>Machine Operator / Nutraceutical Vitaquest - W...</td>\n      <td>3417</td>\n      <td>516</td>\n    </tr>\n    <tr>\n      <th>4</th>\n      <td>en</td>\n      <td>Houston</td>\n      <td>TX</td>\n      <td>Sales Process Coordinator - Midmarket</td>\n      <td>2018-04-25</td>\n      <td>38353595694</td>\n      <td>30.0683</td>\n      <td>-95.2163</td>\n      <td>77325</td>\n      <td>Harris</td>\n      <td>NaN</td>\n      <td>MT482642</td>\n      <td>26420: Metropolitan Statistical Area</td>\n      <td>Recruiting Agency</td>\n      <td>Sales Coordinator</td>\n      <td>41401200</td>\n      <td>Insperity</td>\n      <td>0</td>\n      <td>Job intermediary</td>\n      <td>Business: Business Consulting;Specialized Skil...</td>\n      <td>{'Business Consulting': 'Business: Business Co...</td>\n      <td>False</td>\n      <td>Higher Secondary Certificate</td>\n      <td>Higher Secondary Certificate</td>\n      <td>NaN</td>\n      <td>2.0</td>\n      <td>NaN</td>\n      <td>41-4011.00</td>\n      <td>NaN</td>\n      <td>NaN</td>\n      <td>NaN</td>\n      <td>NaN</td>\n      <td>NaN</td>\n      <td>NaN</td>\n      <td>1-6</td>\n      <td>mid</td>\n      <td>12</td>\n      <td>Sales Coordinator</td>\n      <td>NaN</td>\n      <td>12.0</td>\n      <td>Sales Coordinator</td>\n      <td>One to two-years</td>\n      <td>315</td>\n      <td>232</td>\n      <td>327</td>\n      <td>756</td>\n      <td>3160.85</td>\n      <td>1260.74</td>\n      <td>1544.18</td>\n      <td>2553.99</td>\n      <td>0</td>\n      <td>0</td>\n      <td>0</td>\n      <td>0</td>\n      <td>Sales Process Coordinator - MidMarket - Job Ti...</td>\n      <td>3045</td>\n      <td>452</td>\n    </tr>\n  </tbody>\n</table>\n</div>"
     },
     "metadata": {},
     "execution_count": 3
    }
   ],
   "source": [
    "%%time\n",
    "\n",
    "sample_name = 'km_500and1000k_clean_dataset2.csv'\n",
    "\n",
    "df = pd.read_csv(path_in + sample_name, low_memory=False)\n",
    "df.head()"
   ]
  },
  {
   "cell_type": "code",
   "execution_count": 9,
   "metadata": {},
   "outputs": [
    {
     "output_type": "execute_result",
     "data": {
      "text/plain": "titles_uni_500\n9      49051\n395    15671\n21     12935\n56     12325\n402    12140\n157    10486\n315    10361\n193     9581\n80      9382\n185     9140\n198     7770\n2       7758\n5       6516\n398     5769\n48      5252\nName: titles_uni_500, dtype: int64"
     },
     "metadata": {},
     "execution_count": 9
    }
   ],
   "source": [
    "df.groupby('titles_uni_500')['titles_uni_500'].count().sort_values(ascending=False).head(15)"
   ]
  },
  {
   "cell_type": "code",
   "execution_count": 10,
   "metadata": {},
   "outputs": [
    {
     "output_type": "execute_result",
     "data": {
      "text/plain": "114                                   Project Assistant I\n135           Executive Assistant, International Law Firm\n266             Executive Assistant Fyi Television Inc In\n330                          Patient Scheduling Assistant\n505                             Senior Assistant Database\n520              Acm Rsch Assistant II Bench Nanomedicine\n566                                   Data Desk Assistant\n619              Federal Work Study - Equipment Assistant\n716                         Ltd Appt - Forestry Assistant\n724                               Dental Assistant -Pt/Wk\n792     Assistant Vice President For Governmental Affa...\n801                                        Dnfb Assistant\n1180                          Accounting Assistant Casino\n1405                Visitor Use Assistant Fee Collections\n1702                       Production/Warehouse Assistant\n1748                                Dental Assistant - We\n1810             Executive Assistant - Blue Zones Project\n1844                    Assistant Restaurant Chef - Prime\n1936                         Assistant Teaching Assistant\n2035                          Prn Mobile Clinic Assistant\n2082                     Assistant Chief Rad Technologist\n2098                               Assistant Shop Foreman\n2210                        Process Improvement Assistant\n2270    Chemistry Stockroom Assistant -University Serv...\n2298                     Merchandise Assistant - Footwear\nName: CleanJobTitle, dtype: object"
     },
     "metadata": {},
     "execution_count": 10
    }
   ],
   "source": [
    "df.loc[df['titles_uni_500'] == 198, 'CleanJobTitle'].head(25)"
   ]
  },
  {
   "cell_type": "code",
   "execution_count": 11,
   "metadata": {},
   "outputs": [
    {
     "output_type": "execute_result",
     "data": {
      "text/plain": "7                        Urgent Care Director/Montana4669\n203                                    Telephony Director\n227                           Director - Decision Support\n491                Imit Program Director, Imit Grant/Sria\n509                          Director Portfolio Reporting\n642     Director - Digital Forensics And Incident Resp...\n644                       Store Director - J Crew Factory\n650                          Academic Director For Design\n779                 Director, People Analytics & Insights\n861                                Director, Front Office\n942                                  Director, Laboratory\n1013         Director, Advanced Analytic Strategy - 18415\n1127        Director, Speech Privacy & Technician Project\n1184           Higher Education Campus President/Director\n1189                             Director, Member Support\n1222                       Architectural Project Director\n1257             Director, On Marq Autism Support Program\n1382                    Executive Health Nursing Director\n1387                         Director, Process Validation\n1491                             Regional Director - , Co\n1492                       Deputy Director - Aed001572Aho\n1616                                    Director I Claims\n1630                      Client Success Director- Remote\n1814    Medical Director, Infectious Disease, For I3 R...\n1841      Environmental Laboratory Technical Director 802\nName: CleanJobTitle, dtype: object"
     },
     "metadata": {},
     "execution_count": 11
    }
   ],
   "source": [
    "df.loc[df['titles_uni_500'] == 2, 'CleanJobTitle'].head(25)"
   ]
  },
  {
   "cell_type": "code",
   "execution_count": 12,
   "metadata": {},
   "outputs": [
    {
     "output_type": "execute_result",
     "data": {
      "text/plain": "203                          Telephony Director\n942                        Director, Laboratory\n1492             Deputy Director - Aed001572Aho\n1616                          Director I Claims\n2193                        Director - Benefits\n4566         Stereoscopic Technical Director, R\n5257                      Salesmanager/Director\n6268                     Director - 3 Positions\n7813                       Director, Valuations\n8911                         Pediatric Director\n9037                               Mds Director\n10191             Active Director Administartor\n10865                Director, Mamp A Execution\n13415                Rhfa A/O Division Director\n15320                           Director/Editor\n16578                         Forensic Director\n16702                           Trauma Director\n17744                  Director Home Health3553\n20170    Histocompatibility Laboratory Director\n21059                 Stage Director, Ruddigore\n21154                     Purchasing Director *\n22325                Medical Director - Ps36693\n22442                      Dsw Program Director\n25006                         Director E-Health\n25260               Project Director Redundency\nName: CleanJobTitle, dtype: object"
     },
     "metadata": {},
     "execution_count": 12
    }
   ],
   "source": [
    "df.loc[(df['titles_uni_500'] == 2) &\n",
    "        (df['dist__uni_500_dummy'] == 1), 'CleanJobTitle'].head(25)"
   ]
  },
  {
   "cell_type": "code",
   "execution_count": 13,
   "metadata": {},
   "outputs": [
    {
     "output_type": "execute_result",
     "data": {
      "text/plain": "occu_text\nRegistered Nurses                                                                        33036\nComputer Occupations, All Other                                                          31332\nComputer Programmers                                                                     29942\nSales Representatives, Wholesale and Manufacturing, Technical and Scientific Products    17509\nRetail Salespersons                                                                      16325\nCustomer Service Representatives                                                         13079\nMedical and Health Services Managers                                                     12871\nFirst-Line Supervisors of Retail Sales Workers                                           11148\nAccountants and Auditors                                                                 11090\nSecretaries and Administrative Assistants, Except Legal, Medical, and Executive           9814\nSales Managers                                                                            9079\nFamily and General Practitioners                                                          8874\nManagement Analysts                                                                       8554\nHeavy and Tractor-Trailer Truck Drivers                                                   7998\nHuman Resources Specialists                                                               7707\nManagers, All Other                                                                       6762\nComputer Systems Analysts                                                                 6225\nNursing Assistants                                                                        6024\nSoftware Developers, Systems Software                                                     5456\nWeb Developers                                                                            5373\nFood Service Managers                                                                     5236\nLicensed Practical and Licensed Vocational Nurses                                         4936\nComputer User Support Specialists                                                         4787\nHealth Technologists and Technicians, All Other                                           4772\nLaborers and Freight, Stock, and Material Movers, Hand                                    4713\nName: titles_uni_500, dtype: int64"
     },
     "metadata": {},
     "execution_count": 13
    }
   ],
   "source": [
    "df.groupby('occu_text')['titles_uni_500'].count().sort_values(ascending=False).head(25)"
   ]
  },
  {
   "cell_type": "code",
   "execution_count": 14,
   "metadata": {},
   "outputs": [],
   "source": [
    "df.drop('occu_code', axis=1, inplace=True)"
   ]
  },
  {
   "cell_type": "code",
   "execution_count": 15,
   "metadata": {
    "tags": []
   },
   "outputs": [],
   "source": [
    "# !conda install -c pyviz datashader -y"
   ]
  },
  {
   "cell_type": "code",
   "execution_count": 16,
   "metadata": {},
   "outputs": [
    {
     "output_type": "execute_result",
     "data": {
      "text/plain": "occu_text\nMedical and Health Services Managers                                                     1047\nManagers, All Other                                                                       463\nEducation Administrators, Postsecondary                                                   320\nComputer Occupations, All Other                                                           265\nComputer and Information Systems Managers                                                 243\nSales Managers                                                                            201\nArt Directors                                                                             129\nSocial and Community Service Managers                                                      95\nSales Representatives, Wholesale and Manufacturing, Technical and Scientific Products      85\nNatural Sciences Managers                                                                  79\nRecreation Workers                                                                         78\nAccountants and Auditors                                                                   70\nFirst-Line Supervisors of Retail Sales Workers                                             57\nFirst-Line Supervisors of Protective Service Workers, All Other                            48\nOccupational Health and Safety Specialists                                                 44\nFood Service Managers                                                                      43\nTraining and Development Managers                                                          43\nFirst-Line Supervisors of Production and Operating Workers                                 39\nConstruction Managers                                                                      39\nProperty, Real Estate, and Community Association Managers                                  36\nResidential Advisors                                                                       35\nEducation Administrators, Preschool and Childcare Center/Program                           34\nPharmacists                                                                                33\nFirst-Line Supervisors of Non-Retail Sales Workers                                         33\nFamily and General Practitioners                                                           31\nName: titles_uni_500, dtype: int64"
     },
     "metadata": {},
     "execution_count": 16
    }
   ],
   "source": [
    "df[df['titles_uni_500'] == 2].groupby('occu_text')['titles_uni_500'].count().sort_values(ascending=False).head(25)"
   ]
  },
  {
   "cell_type": "code",
   "execution_count": 17,
   "metadata": {
    "tags": []
   },
   "outputs": [
    {
     "output_type": "stream",
     "name": "stdout",
     "text": "CPU times: user 144 ms, sys: 81.4 ms, total: 226 ms\nWall time: 230 ms\n"
    }
   ],
   "source": [
    "%%time\n",
    "\n",
    "for title in df.columns:\n",
    "    if 'titles' in title:\n",
    "        df[title] = df[title].astype(np.int16)\n",
    "    elif 'dummy' in title:\n",
    "        df[title] = df[title].astype(np.bool_)\n",
    "    elif 'dist' in title and 'dummy' not in title:\n",
    "        df[title] = df[title].astype(np.float16)"
   ]
  },
  {
   "cell_type": "code",
   "execution_count": 18,
   "metadata": {
    "tags": []
   },
   "outputs": [
    {
     "output_type": "stream",
     "name": "stdout",
     "text": "<class 'pandas.core.frame.DataFrame'>\nInt64Index: 709748 entries, 0 to 709747\nData columns (total 58 columns):\n #   Column                            Non-Null Count   Dtype  \n---  ------                            --------------   -----  \n 0   Language                          709748 non-null  object \n 1   CanonCity                         700070 non-null  object \n 2   CanonState                        709647 non-null  object \n 3   CleanJobTitle                     709748 non-null  object \n 4   JobDate                           709748 non-null  object \n 5   JobID                             709748 non-null  int64  \n 6   Latitude                          700103 non-null  float64\n 7   Longitude                         700103 non-null  float64\n 8   CanonPostalCode                   697904 non-null  object \n 9   CanonCounty                       699770 non-null  object \n 10  DivisionCode                      250056 non-null  float64\n 11  LMA                               697944 non-null  object \n 12  MSA                               688765 non-null  object \n 13  CanonEmployer                     709748 non-null  object \n 14  CanonJobTitle                     406869 non-null  object \n 15  ConsolidatedONET                  676628 non-null  object \n 16  CanonIntermediary                 103813 non-null  object \n 17  InternshipFlag                    709748 non-null  int64  \n 18  Source                            682497 non-null  object \n 19  CanonSkillClusters                690329 non-null  object \n 20  CanonSkills                       709748 non-null  object \n 21  IsDuplicate                       709748 non-null  bool   \n 22  CanonMinimumDegree                432183 non-null  object \n 23  CanonRequiredDegrees              384609 non-null  object \n 24  CIPCode                           182301 non-null  object \n 25  MinExperience                     386255 non-null  float64\n 26  ConsolidatedInferredNAICS         604392 non-null  float64\n 27  BGTOcc                            646291 non-null  object \n 28  MaxAnnualSalary                   120458 non-null  float64\n 29  MaxHourlySalary                   120458 non-null  float64\n 30  MinAnnualSalary                   120458 non-null  float64\n 31  MinHourlySalary                   120458 non-null  float64\n 32  CanonJobHours                     364912 non-null  object \n 33  CanonJobType                      374387 non-null  object \n 34  CanonYearsOfExperienceCanonLevel  400504 non-null  object \n 35  CanonYearsOfExperienceLevel       400504 non-null  object \n 36  ConsolidatedDegreeLevels          432183 non-null  object \n 37  ConsolidatedTitle                 709748 non-null  object \n 38  MaxDegreeLevel                    155960 non-null  float64\n 39  MinDegreeLevel                    432183 non-null  float64\n 40  BGTSubOcc                         646211 non-null  object \n 41  YearsOfExperience                 437399 non-null  object \n 42  titles_uni_500                    709748 non-null  int16  \n 43  titles_bi_500                     709748 non-null  int16  \n 44  titles_uni_1000                   709748 non-null  int16  \n 45  titles_bi_1000                    709748 non-null  int16  \n 46  dist__bi_1000                     709748 non-null  float16\n 47  dist__uni_500                     709748 non-null  float16\n 48  dist__bi_500                      709748 non-null  float16\n 49  dist__uni_1000                    709748 non-null  float16\n 50  dist__bi_1000_dummy               709748 non-null  bool   \n 51  dist__uni_500_dummy               709748 non-null  bool   \n 52  dist__bi_500_dummy                709748 non-null  bool   \n 53  dist__uni_1000_dummy              709748 non-null  bool   \n 54  clean_text                        709748 non-null  object \n 55  charac_text_len                   709748 non-null  int64  \n 56  len_job_text                      709748 non-null  int64  \n 57  occu_text                         556915 non-null  object \ndtypes: bool(5), float16(4), float64(11), int16(4), int64(4), object(30)\nmemory usage: 4.5 GB\n"
    }
   ],
   "source": [
    "df.info(memory_usage='deep')"
   ]
  },
  {
   "cell_type": "code",
   "execution_count": 19,
   "metadata": {},
   "outputs": [
    {
     "output_type": "execute_result",
     "data": {
      "text/plain": "       Language  CanonCity CanonState  \\\n709743       en      Tampa         FL   \n709744       en    Durango         CO   \n709745       en  Frederick         MD   \n709746       en   New York         NY   \n709747       en   Cheyenne         WY   \n\n                                            CleanJobTitle     JobDate  \\\n709743               Rcm - Accounts Receivable Specialist  2018-01-09   \n709744  Rcis/Registered Cardiovascular Invasive Specia...  2017-03-02   \n709745  Process Systems Software Test Engineer - , Doc...  2011-10-04   \n709746                                  Expert Programmer  2019-04-11   \n709747                              Qsr Assistant Manager  2017-01-05   \n\n              JobID  Latitude  Longitude CanonPostalCode   CanonCounty  \\\n709743  38316465836   27.9827   -82.3402           33601  Hillsborough   \n709744  38189722337   37.3268  -107.8310           81301      La Plata   \n709745      6981341   39.4944   -77.4535           21702     Frederick   \n709746  38516931242   40.6940   -73.9898           11201         Kings   \n709747  38162819143   41.1245  -104.8400           82001       Laramie   \n\n        DivisionCode                LMA  \\\n709743           NaN           MT124530   \n709744           NaN           MC082042   \n709745       43524.0  DV241364|MT114790   \n709746       35614.0  DV363564|MT363562   \n709747           NaN           MT561694   \n\n                                                      MSA      CanonEmployer  \\\n709743               45300: Metropolitan Statistical Area  Recruiting Agency   \n709744               20420: Micropolitan Statistical Area     Centura Health   \n709745  47900: Metropolitan Statistical Area|548: Comb...       U7 Equipment   \n709746  35620: Metropolitan Statistical Area|408: Comb...          Logicsoft   \n709747               16940: Metropolitan Statistical Area     Kroger Company   \n\n                         CanonJobTitle ConsolidatedONET CanonIntermediary  \\\n709743  Accounts Receivable Specialist        43-303100     Vaco Staffing   \n709744                             NaN         29203100               NaN   \n709745          Software Test Engineer        15-119902               NaN   \n709746                             NaN         15113100               NaN   \n709747               Assistant Manager         41101100               NaN   \n\n        InternshipFlag            Source  \\\n709743               0  Job intermediary   \n709744               0         Job Board   \n709745               0         Job Board   \n709746               0         Job Board   \n709747               0         Job Board   \n\n                                       CanonSkillClusters  \\\n709743  Finance: Accounts Payable and Receivable;Speci...   \n709744  Health Care: Emergency and Intensive Care;Spec...   \n709745  Engineering: Engineering Software;Specialized ...   \n709746                                                NaN   \n709747  Finance: Budget Management;Specialized Skills|...   \n\n                                              CanonSkills  IsDuplicate  \\\n709743  {'Accounts Payable / Accounts Receivable': 'Fi...        False   \n709744  {'Advanced Cardiac Life Support (ACLS)': 'Heal...        False   \n709745  {'LabVIEW': 'Engineering: Engineering Software...        False   \n709746                                                 {}        False   \n709747  {'Budgeting': 'Finance: Budget Management;Spec...        False   \n\n                  CanonMinimumDegree  \\\n709743  Higher Secondary Certificate   \n709744                    Bachelor's   \n709745                    Bachelor's   \n709746                           NaN   \n709747  Higher Secondary Certificate   \n\n                                     CanonRequiredDegrees  \\\n709743  Associate's|General Equivalency Degree|Higher ...   \n709744                                         Bachelor's   \n709745  Bachelor of Science|Bachelor's|Doctor of Medicine   \n709746                                                NaN   \n709747                                                NaN   \n\n                     CIPCode  MinExperience  ConsolidatedInferredNAICS  \\\n709743                   NaN            1.0                     6221.0   \n709744                510901            1.0                   622110.0   \n709745  140101|141001|141901            5.0                       62.0   \n709746                   NaN            8.0                        NaN   \n709747                   NaN            2.0                   445110.0   \n\n        BGTOcc  MaxAnnualSalary  MaxHourlySalary  MinAnnualSalary  \\\n709743  433031              NaN              NaN              NaN   \n709744  292031              NaN              NaN              NaN   \n709745  151133         100000.0            48.08          75000.0   \n709746  151131         176800.0            85.00         176800.0   \n709747  411011              NaN              NaN              NaN   \n\n        MinHourlySalary CanonJobHours CanonJobType  \\\n709743              NaN           NaN          NaN   \n709744              NaN      fulltime    permanent   \n709745            36.06           NaN          NaN   \n709746            85.00      fulltime    temporary   \n709747              NaN      fulltime    permanent   \n\n       CanonYearsOfExperienceCanonLevel CanonYearsOfExperienceLevel  \\\n709743                              1-6                         mid   \n709744                              0-1                         low   \n709745                               6+                        high   \n709746                               6+                        high   \n709747                              1-6                         mid   \n\n       ConsolidatedDegreeLevels                     ConsolidatedTitle  \\\n709743                    14|12        Accounts Receivable Specialist   \n709744                       16  Registered Cardiovascular Specialist   \n709745                    16|21                Software Test Engineer   \n709746                      NaN                            Programmer   \n709747                       12                     Assistant Manager   \n\n        MaxDegreeLevel  MinDegreeLevel  \\\n709743            14.0            12.0   \n709744             NaN            16.0   \n709745            21.0            16.0   \n709746             NaN             NaN   \n709747            12.0            12.0   \n\n                                       BGTSubOcc       YearsOfExperience  \\\n709743  Accounts Receivable / Payable Specialist  1 to 3 years|1-3 years   \n709744  Cardiovascular Technician / Technologist       One year|6 months   \n709745                          Systems Engineer              5-10 years   \n709746                       Computer Programmer                 8 years   \n709747            Assistant Retail Store Manager               2-3 years   \n\n        titles_uni_500  titles_bi_500  titles_uni_1000  titles_bi_1000  \\\n709743             395            127              150             234   \n709744             395              4              110             813   \n709745             495            163              919             895   \n709746             340            274              414             170   \n709747             115            187               81              93   \n\n        dist__bi_1000  dist__uni_500  dist__bi_500  dist__uni_1000  \\\n709743         3180.0         1273.0        1553.0          2574.0   \n709744         3318.0         1359.0        1624.0          2746.0   \n709745         4356.0         1604.0        2150.0          3230.0   \n709746         2470.0         1063.0        1189.0          2166.0   \n709747         2786.0         1129.0        1352.0          2306.0   \n\n        dist__bi_1000_dummy  dist__uni_500_dummy  dist__bi_500_dummy  \\\n709743                False                False               False   \n709744                False                False               False   \n709745                False                False               False   \n709746                 True                False                True   \n709747                False                False               False   \n\n        dist__uni_1000_dummy  \\\n709743                 False   \n709744                 False   \n709745                 False   \n709746                 False   \n709747                 False   \n\n                                               clean_text  charac_text_len  \\\n709743  RCM - A/R Specialist $19/HR -Vaco Staffing  Ta...             1234   \n709744  RCIS/Registered Cardiovascular Invasive Specia...             3921   \n709745  |  |  |  Employers &raquo;  Process Systems So...             3839   \n709746  Logicsoft Logo M204 expert programmer Applied ...              715   \n709747  Part-Time QSR Assistant Manager Job Type :  Pe...             4488   \n\n        len_job_text                                       occu_text  \n709743           167    Bookkeeping, Accounting, and Auditing Clerks  \n709744           531    Cardiovascular Technologists and Technicians  \n709745           557           Software Developers, Systems Software  \n709746           110                            Computer Programmers  \n709747           664  First-Line Supervisors of Retail Sales Workers  ",
      "text/html": "<div>\n<style scoped>\n    .dataframe tbody tr th:only-of-type {\n        vertical-align: middle;\n    }\n\n    .dataframe tbody tr th {\n        vertical-align: top;\n    }\n\n    .dataframe thead th {\n        text-align: right;\n    }\n</style>\n<table border=\"1\" class=\"dataframe\">\n  <thead>\n    <tr style=\"text-align: right;\">\n      <th></th>\n      <th>Language</th>\n      <th>CanonCity</th>\n      <th>CanonState</th>\n      <th>CleanJobTitle</th>\n      <th>JobDate</th>\n      <th>JobID</th>\n      <th>Latitude</th>\n      <th>Longitude</th>\n      <th>CanonPostalCode</th>\n      <th>CanonCounty</th>\n      <th>DivisionCode</th>\n      <th>LMA</th>\n      <th>MSA</th>\n      <th>CanonEmployer</th>\n      <th>CanonJobTitle</th>\n      <th>ConsolidatedONET</th>\n      <th>CanonIntermediary</th>\n      <th>InternshipFlag</th>\n      <th>Source</th>\n      <th>CanonSkillClusters</th>\n      <th>CanonSkills</th>\n      <th>IsDuplicate</th>\n      <th>CanonMinimumDegree</th>\n      <th>CanonRequiredDegrees</th>\n      <th>CIPCode</th>\n      <th>MinExperience</th>\n      <th>ConsolidatedInferredNAICS</th>\n      <th>BGTOcc</th>\n      <th>MaxAnnualSalary</th>\n      <th>MaxHourlySalary</th>\n      <th>MinAnnualSalary</th>\n      <th>MinHourlySalary</th>\n      <th>CanonJobHours</th>\n      <th>CanonJobType</th>\n      <th>CanonYearsOfExperienceCanonLevel</th>\n      <th>CanonYearsOfExperienceLevel</th>\n      <th>ConsolidatedDegreeLevels</th>\n      <th>ConsolidatedTitle</th>\n      <th>MaxDegreeLevel</th>\n      <th>MinDegreeLevel</th>\n      <th>BGTSubOcc</th>\n      <th>YearsOfExperience</th>\n      <th>titles_uni_500</th>\n      <th>titles_bi_500</th>\n      <th>titles_uni_1000</th>\n      <th>titles_bi_1000</th>\n      <th>dist__bi_1000</th>\n      <th>dist__uni_500</th>\n      <th>dist__bi_500</th>\n      <th>dist__uni_1000</th>\n      <th>dist__bi_1000_dummy</th>\n      <th>dist__uni_500_dummy</th>\n      <th>dist__bi_500_dummy</th>\n      <th>dist__uni_1000_dummy</th>\n      <th>clean_text</th>\n      <th>charac_text_len</th>\n      <th>len_job_text</th>\n      <th>occu_text</th>\n    </tr>\n  </thead>\n  <tbody>\n    <tr>\n      <th>709743</th>\n      <td>en</td>\n      <td>Tampa</td>\n      <td>FL</td>\n      <td>Rcm - Accounts Receivable Specialist</td>\n      <td>2018-01-09</td>\n      <td>38316465836</td>\n      <td>27.9827</td>\n      <td>-82.3402</td>\n      <td>33601</td>\n      <td>Hillsborough</td>\n      <td>NaN</td>\n      <td>MT124530</td>\n      <td>45300: Metropolitan Statistical Area</td>\n      <td>Recruiting Agency</td>\n      <td>Accounts Receivable Specialist</td>\n      <td>43-303100</td>\n      <td>Vaco Staffing</td>\n      <td>0</td>\n      <td>Job intermediary</td>\n      <td>Finance: Accounts Payable and Receivable;Speci...</td>\n      <td>{'Accounts Payable / Accounts Receivable': 'Fi...</td>\n      <td>False</td>\n      <td>Higher Secondary Certificate</td>\n      <td>Associate's|General Equivalency Degree|Higher ...</td>\n      <td>NaN</td>\n      <td>1.0</td>\n      <td>6221.0</td>\n      <td>433031</td>\n      <td>NaN</td>\n      <td>NaN</td>\n      <td>NaN</td>\n      <td>NaN</td>\n      <td>NaN</td>\n      <td>NaN</td>\n      <td>1-6</td>\n      <td>mid</td>\n      <td>14|12</td>\n      <td>Accounts Receivable Specialist</td>\n      <td>14.0</td>\n      <td>12.0</td>\n      <td>Accounts Receivable / Payable Specialist</td>\n      <td>1 to 3 years|1-3 years</td>\n      <td>395</td>\n      <td>127</td>\n      <td>150</td>\n      <td>234</td>\n      <td>3180.0</td>\n      <td>1273.0</td>\n      <td>1553.0</td>\n      <td>2574.0</td>\n      <td>False</td>\n      <td>False</td>\n      <td>False</td>\n      <td>False</td>\n      <td>RCM - A/R Specialist $19/HR -Vaco Staffing  Ta...</td>\n      <td>1234</td>\n      <td>167</td>\n      <td>Bookkeeping, Accounting, and Auditing Clerks</td>\n    </tr>\n    <tr>\n      <th>709744</th>\n      <td>en</td>\n      <td>Durango</td>\n      <td>CO</td>\n      <td>Rcis/Registered Cardiovascular Invasive Specia...</td>\n      <td>2017-03-02</td>\n      <td>38189722337</td>\n      <td>37.3268</td>\n      <td>-107.8310</td>\n      <td>81301</td>\n      <td>La Plata</td>\n      <td>NaN</td>\n      <td>MC082042</td>\n      <td>20420: Micropolitan Statistical Area</td>\n      <td>Centura Health</td>\n      <td>NaN</td>\n      <td>29203100</td>\n      <td>NaN</td>\n      <td>0</td>\n      <td>Job Board</td>\n      <td>Health Care: Emergency and Intensive Care;Spec...</td>\n      <td>{'Advanced Cardiac Life Support (ACLS)': 'Heal...</td>\n      <td>False</td>\n      <td>Bachelor's</td>\n      <td>Bachelor's</td>\n      <td>510901</td>\n      <td>1.0</td>\n      <td>622110.0</td>\n      <td>292031</td>\n      <td>NaN</td>\n      <td>NaN</td>\n      <td>NaN</td>\n      <td>NaN</td>\n      <td>fulltime</td>\n      <td>permanent</td>\n      <td>0-1</td>\n      <td>low</td>\n      <td>16</td>\n      <td>Registered Cardiovascular Specialist</td>\n      <td>NaN</td>\n      <td>16.0</td>\n      <td>Cardiovascular Technician / Technologist</td>\n      <td>One year|6 months</td>\n      <td>395</td>\n      <td>4</td>\n      <td>110</td>\n      <td>813</td>\n      <td>3318.0</td>\n      <td>1359.0</td>\n      <td>1624.0</td>\n      <td>2746.0</td>\n      <td>False</td>\n      <td>False</td>\n      <td>False</td>\n      <td>False</td>\n      <td>RCIS/Registered Cardiovascular Invasive Specia...</td>\n      <td>3921</td>\n      <td>531</td>\n      <td>Cardiovascular Technologists and Technicians</td>\n    </tr>\n    <tr>\n      <th>709745</th>\n      <td>en</td>\n      <td>Frederick</td>\n      <td>MD</td>\n      <td>Process Systems Software Test Engineer - , Doc...</td>\n      <td>2011-10-04</td>\n      <td>6981341</td>\n      <td>39.4944</td>\n      <td>-77.4535</td>\n      <td>21702</td>\n      <td>Frederick</td>\n      <td>43524.0</td>\n      <td>DV241364|MT114790</td>\n      <td>47900: Metropolitan Statistical Area|548: Comb...</td>\n      <td>U7 Equipment</td>\n      <td>Software Test Engineer</td>\n      <td>15-119902</td>\n      <td>NaN</td>\n      <td>0</td>\n      <td>Job Board</td>\n      <td>Engineering: Engineering Software;Specialized ...</td>\n      <td>{'LabVIEW': 'Engineering: Engineering Software...</td>\n      <td>False</td>\n      <td>Bachelor's</td>\n      <td>Bachelor of Science|Bachelor's|Doctor of Medicine</td>\n      <td>140101|141001|141901</td>\n      <td>5.0</td>\n      <td>62.0</td>\n      <td>151133</td>\n      <td>100000.0</td>\n      <td>48.08</td>\n      <td>75000.0</td>\n      <td>36.06</td>\n      <td>NaN</td>\n      <td>NaN</td>\n      <td>6+</td>\n      <td>high</td>\n      <td>16|21</td>\n      <td>Software Test Engineer</td>\n      <td>21.0</td>\n      <td>16.0</td>\n      <td>Systems Engineer</td>\n      <td>5-10 years</td>\n      <td>495</td>\n      <td>163</td>\n      <td>919</td>\n      <td>895</td>\n      <td>4356.0</td>\n      <td>1604.0</td>\n      <td>2150.0</td>\n      <td>3230.0</td>\n      <td>False</td>\n      <td>False</td>\n      <td>False</td>\n      <td>False</td>\n      <td>|  |  |  Employers &amp;raquo;  Process Systems So...</td>\n      <td>3839</td>\n      <td>557</td>\n      <td>Software Developers, Systems Software</td>\n    </tr>\n    <tr>\n      <th>709746</th>\n      <td>en</td>\n      <td>New York</td>\n      <td>NY</td>\n      <td>Expert Programmer</td>\n      <td>2019-04-11</td>\n      <td>38516931242</td>\n      <td>40.6940</td>\n      <td>-73.9898</td>\n      <td>11201</td>\n      <td>Kings</td>\n      <td>35614.0</td>\n      <td>DV363564|MT363562</td>\n      <td>35620: Metropolitan Statistical Area|408: Comb...</td>\n      <td>Logicsoft</td>\n      <td>NaN</td>\n      <td>15113100</td>\n      <td>NaN</td>\n      <td>0</td>\n      <td>Job Board</td>\n      <td>NaN</td>\n      <td>{}</td>\n      <td>False</td>\n      <td>NaN</td>\n      <td>NaN</td>\n      <td>NaN</td>\n      <td>8.0</td>\n      <td>NaN</td>\n      <td>151131</td>\n      <td>176800.0</td>\n      <td>85.00</td>\n      <td>176800.0</td>\n      <td>85.00</td>\n      <td>fulltime</td>\n      <td>temporary</td>\n      <td>6+</td>\n      <td>high</td>\n      <td>NaN</td>\n      <td>Programmer</td>\n      <td>NaN</td>\n      <td>NaN</td>\n      <td>Computer Programmer</td>\n      <td>8 years</td>\n      <td>340</td>\n      <td>274</td>\n      <td>414</td>\n      <td>170</td>\n      <td>2470.0</td>\n      <td>1063.0</td>\n      <td>1189.0</td>\n      <td>2166.0</td>\n      <td>True</td>\n      <td>False</td>\n      <td>True</td>\n      <td>False</td>\n      <td>Logicsoft Logo M204 expert programmer Applied ...</td>\n      <td>715</td>\n      <td>110</td>\n      <td>Computer Programmers</td>\n    </tr>\n    <tr>\n      <th>709747</th>\n      <td>en</td>\n      <td>Cheyenne</td>\n      <td>WY</td>\n      <td>Qsr Assistant Manager</td>\n      <td>2017-01-05</td>\n      <td>38162819143</td>\n      <td>41.1245</td>\n      <td>-104.8400</td>\n      <td>82001</td>\n      <td>Laramie</td>\n      <td>NaN</td>\n      <td>MT561694</td>\n      <td>16940: Metropolitan Statistical Area</td>\n      <td>Kroger Company</td>\n      <td>Assistant Manager</td>\n      <td>41101100</td>\n      <td>NaN</td>\n      <td>0</td>\n      <td>Job Board</td>\n      <td>Finance: Budget Management;Specialized Skills|...</td>\n      <td>{'Budgeting': 'Finance: Budget Management;Spec...</td>\n      <td>False</td>\n      <td>Higher Secondary Certificate</td>\n      <td>NaN</td>\n      <td>NaN</td>\n      <td>2.0</td>\n      <td>445110.0</td>\n      <td>411011</td>\n      <td>NaN</td>\n      <td>NaN</td>\n      <td>NaN</td>\n      <td>NaN</td>\n      <td>fulltime</td>\n      <td>permanent</td>\n      <td>1-6</td>\n      <td>mid</td>\n      <td>12</td>\n      <td>Assistant Manager</td>\n      <td>12.0</td>\n      <td>12.0</td>\n      <td>Assistant Retail Store Manager</td>\n      <td>2-3 years</td>\n      <td>115</td>\n      <td>187</td>\n      <td>81</td>\n      <td>93</td>\n      <td>2786.0</td>\n      <td>1129.0</td>\n      <td>1352.0</td>\n      <td>2306.0</td>\n      <td>False</td>\n      <td>False</td>\n      <td>False</td>\n      <td>False</td>\n      <td>Part-Time QSR Assistant Manager Job Type :  Pe...</td>\n      <td>4488</td>\n      <td>664</td>\n      <td>First-Line Supervisors of Retail Sales Workers</td>\n    </tr>\n  </tbody>\n</table>\n</div>"
     },
     "metadata": {},
     "execution_count": 19
    }
   ],
   "source": [
    "df.tail()"
   ]
  },
  {
   "cell_type": "code",
   "execution_count": 20,
   "metadata": {},
   "outputs": [
    {
     "output_type": "execute_result",
     "data": {
      "text/plain": "'km_500and1000k_clean_dataset2.csv'"
     },
     "metadata": {},
     "execution_count": 20
    }
   ],
   "source": [
    "sample_name"
   ]
  },
  {
   "cell_type": "code",
   "execution_count": 21,
   "metadata": {
    "tags": []
   },
   "outputs": [
    {
     "output_type": "stream",
     "name": "stdout",
     "text": "CPU times: user 1min 27s, sys: 8.29 s, total: 1min 35s\nWall time: 1min 42s\n"
    }
   ],
   "source": [
    "%%time\n",
    "\n",
    "df.to_csv(path_in + 'km_500and1000k_clean_dataset2.csv', index=False)"
   ]
  },
  {
   "cell_type": "code",
   "execution_count": null,
   "metadata": {},
   "outputs": [],
   "source": []
  }
 ]
}