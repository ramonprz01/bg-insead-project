{
 "cells": [
  {
   "cell_type": "markdown",
   "metadata": {},
   "source": [
    "# Full Dataset KMeans"
   ]
  },
  {
   "cell_type": "code",
   "execution_count": 1,
   "metadata": {},
   "outputs": [
    {
     "output_type": "execute_result",
     "data": {
      "text/plain": "10000000"
     },
     "metadata": {},
     "execution_count": 1
    }
   ],
   "source": [
    "import dask.dataframe as dd\n",
    "from dask.diagnostics import ProgressBar\n",
    "import matplotlib.pyplot as plt\n",
    "import pandas as pd\n",
    "from dask import delayed, persist\n",
    "import numpy as np\n",
    "from dask.distributed import Client\n",
    "from glob import glob\n",
    "import re\n",
    "import nltk\n",
    "import dask\n",
    "import csv\n",
    "csv.field_size_limit(10000000)\n",
    "\n",
    "\n",
    "pd.set_option('display.max_columns', None) \n",
    "\n",
    "%matplotlib inline\n",
    "\n",
    "csv.field_size_limit()"
   ]
  },
  {
   "cell_type": "code",
   "execution_count": 2,
   "metadata": {},
   "outputs": [
    {
     "output_type": "execute_result",
     "data": {
      "text/plain": "<Client: 'tcp://127.0.0.1:59307' processes=2 threads=4, memory=2.00 GB>",
      "text/html": "<table style=\"border: 2px solid white;\">\n<tr>\n<td style=\"vertical-align: top; border: 0px solid white\">\n<h3 style=\"text-align: left;\">Client</h3>\n<ul style=\"text-align: left; list-style: none; margin: 0; padding: 0;\">\n  <li><b>Scheduler: </b>tcp://127.0.0.1:59307</li>\n  <li><b>Dashboard: </b><a href='http://127.0.0.1:8787/status' target='_blank'>http://127.0.0.1:8787/status</a></li>\n</ul>\n</td>\n<td style=\"vertical-align: top; border: 0px solid white\">\n<h3 style=\"text-align: left;\">Cluster</h3>\n<ul style=\"text-align: left; list-style:none; margin: 0; padding: 0;\">\n  <li><b>Workers: </b>2</li>\n  <li><b>Cores: </b>4</li>\n  <li><b>Memory: </b>2.00 GB</li>\n</ul>\n</td>\n</tr>\n</table>"
     },
     "metadata": {},
     "execution_count": 2
    }
   ],
   "source": [
    "client = Client(n_workers=2, threads_per_worker=2, memory_limit='1GB')\n",
    "client"
   ]
  },
  {
   "cell_type": "code",
   "execution_count": 3,
   "metadata": {},
   "outputs": [
    {
     "output_type": "execute_result",
     "data": {
      "text/plain": "dask.array<random_sample, shape=(10000, 10000), dtype=float64, chunksize=(1250, 1250), chunktype=numpy.ndarray>",
      "text/html": "<table>\n<tr>\n<td>\n<table>\n  <thead>\n    <tr><td> </td><th> Array </th><th> Chunk </th></tr>\n  </thead>\n  <tbody>\n    <tr><th> Bytes </th><td> 800.00 MB </td> <td> 12.50 MB </td></tr>\n    <tr><th> Shape </th><td> (10000, 10000) </td> <td> (1250, 1250) </td></tr>\n    <tr><th> Count </th><td> 64 Tasks </td><td> 64 Chunks </td></tr>\n    <tr><th> Type </th><td> float64 </td><td> numpy.ndarray </td></tr>\n  </tbody>\n</table>\n</td>\n<td>\n<svg width=\"170\" height=\"170\" style=\"stroke:rgb(0,0,0);stroke-width:1\" >\n\n  <!-- Horizontal lines -->\n  <line x1=\"0\" y1=\"0\" x2=\"120\" y2=\"0\" style=\"stroke-width:2\" />\n  <line x1=\"0\" y1=\"15\" x2=\"120\" y2=\"15\" />\n  <line x1=\"0\" y1=\"30\" x2=\"120\" y2=\"30\" />\n  <line x1=\"0\" y1=\"45\" x2=\"120\" y2=\"45\" />\n  <line x1=\"0\" y1=\"60\" x2=\"120\" y2=\"60\" />\n  <line x1=\"0\" y1=\"75\" x2=\"120\" y2=\"75\" />\n  <line x1=\"0\" y1=\"90\" x2=\"120\" y2=\"90\" />\n  <line x1=\"0\" y1=\"105\" x2=\"120\" y2=\"105\" />\n  <line x1=\"0\" y1=\"120\" x2=\"120\" y2=\"120\" style=\"stroke-width:2\" />\n\n  <!-- Vertical lines -->\n  <line x1=\"0\" y1=\"0\" x2=\"0\" y2=\"120\" style=\"stroke-width:2\" />\n  <line x1=\"15\" y1=\"0\" x2=\"15\" y2=\"120\" />\n  <line x1=\"30\" y1=\"0\" x2=\"30\" y2=\"120\" />\n  <line x1=\"45\" y1=\"0\" x2=\"45\" y2=\"120\" />\n  <line x1=\"60\" y1=\"0\" x2=\"60\" y2=\"120\" />\n  <line x1=\"75\" y1=\"0\" x2=\"75\" y2=\"120\" />\n  <line x1=\"90\" y1=\"0\" x2=\"90\" y2=\"120\" />\n  <line x1=\"105\" y1=\"0\" x2=\"105\" y2=\"120\" />\n  <line x1=\"120\" y1=\"0\" x2=\"120\" y2=\"120\" style=\"stroke-width:2\" />\n\n  <!-- Colored Rectangle -->\n  <polygon points=\"0.000000,0.000000 120.000000,0.000000 120.000000,120.000000 0.000000,120.000000\" style=\"fill:#ECB172A0;stroke-width:0\"/>\n\n  <!-- Text -->\n  <text x=\"60.000000\" y=\"140.000000\" font-size=\"1.0rem\" font-weight=\"100\" text-anchor=\"middle\" >10000</text>\n  <text x=\"140.000000\" y=\"60.000000\" font-size=\"1.0rem\" font-weight=\"100\" text-anchor=\"middle\" transform=\"rotate(-90,140.000000,60.000000)\">10000</text>\n</svg>\n</td>\n</tr>\n</table>"
     },
     "metadata": {},
     "execution_count": 3
    }
   ],
   "source": [
    "import dask.array as da\n",
    "\n",
    "x = da.random.random((10000, 10000), chunks='16 MiB')\n",
    "x"
   ]
  },
  {
   "cell_type": "code",
   "execution_count": 4,
   "metadata": {},
   "outputs": [
    {
     "output_type": "execute_result",
     "data": {
      "text/plain": "50003525.5173713"
     },
     "metadata": {},
     "execution_count": 4
    }
   ],
   "source": [
    "y = (x + x.T) - x.mean(axis=0)\n",
    "y.sum().compute()"
   ]
  },
  {
   "cell_type": "code",
   "execution_count": 5,
   "metadata": {},
   "outputs": [],
   "source": [
    "del y\n",
    "del x"
   ]
  },
  {
   "cell_type": "code",
   "execution_count": 6,
   "metadata": {},
   "outputs": [],
   "source": [
    "best_list = ['JobID', 'CleanJobTitle', 'CanonCity', 'CanonState', 'JobDate', 'JobText', 'Source', 'CanonEmployer',\n",
    "             'Latitude', 'Longitude', 'CanonIntermediary', 'CanonJobTitle', 'CanonCounty', 'DivisionCode', 'MSA', 'LMA',\n",
    "             'InternshipFlag', 'ConsolidatedONET', 'CanonSkillClusters', 'CanonSkills', 'IsDuplicate', 'CanonMinimumDegree', \n",
    "             'CanonRequiredDegrees', 'CIPCode', 'MinExperience', 'ConsolidatedInferredNAICS', 'BGTOcc', 'MaxAnnualSalary',\n",
    "             'MaxHourlySalary', 'MinAnnualSalary', 'MinHourlySalary', 'YearsOfExperience', 'CanonJobHours', 'CanonJobType',\n",
    "             'CanonPostalCode', 'CanonYearsOfExperienceCanonLevel', 'CanonYearsOfExperienceLevel', 'ConsolidatedTitle', \n",
    "             'Language', 'BGTSubOcc', 'ConsolidatedDegreeLevels', 'MaxDegreeLevel', 'MinDegreeLevel']"
   ]
  },
  {
   "cell_type": "code",
   "execution_count": 7,
   "metadata": {},
   "outputs": [],
   "source": [
    "dtypes={'JobID': np.str, 'CleanJobTitle': np.str, 'JobDomain': np.str, \n",
    "        'CanonCity': np.str, 'CanonCountry': np.str, 'CanonState': np.str, \n",
    "        'JobText': np.str, 'JobURL': np.str, 'PostingHTML': np.float64, \n",
    "        'Source': np.str, 'JobReferenceID': np.str, 'Email': np.str, \n",
    "        'CanonEmployer': np.str, 'Latitude': np.str, 'Longitude': np.str, \n",
    "        'CanonIntermediary': np.str, 'Telephone': np.str, 'CanonJobTitle': np.str, \n",
    "        'CanonCounty': np.str, 'DivisionCode': np.str, 'MSA': np.str, 'LMA': np.str,\n",
    "        'InternshipFlag': np.str, 'ConsolidatedONET': np.str, 'CanonCertification': np.str, \n",
    "        'CanonSkillClusters': np.str, 'CanonSkills': np.str, 'IsDuplicate': np.str, \n",
    "        'IsDuplicateOf': np.float64, 'CanonMaximumDegree': np.str, 'CanonMinimumDegree': np.str, \n",
    "        'CanonOtherDegrees': np.str, 'CanonPreferredDegrees': np.str,\n",
    "        'CanonRequiredDegrees': np.str, 'CIPCode': np.str, 'StandardMajor': np.str, \n",
    "        'MaxExperience': np.str, 'MinExperience': np.str, 'ConsolidatedInferredNAICS': np.str, \n",
    "        'BGTOcc': np.str, 'MaxAnnualSalary': np.str, 'MaxHourlySalary': np.str, \n",
    "        'MinAnnualSalary': np.str, 'MinHourlySalary': np.str, 'YearsOfExperience': np.str, \n",
    "        'CanonJobHours': np.str, 'CanonJobType': np.str, 'CanonPostalCode': np.str, \n",
    "        'CanonYearsOfExperienceCanonLevel': np.str, 'CanonYearsOfExperienceLevel': np.str, \n",
    "        'ConsolidatedTitle': np.str, 'Language': np.str, 'BGTSubOcc': np.str, 'JobDate': np.str,\n",
    "        'ConsolidatedDegreeLevels': np.str, 'MaxDegreeLevel': np.str, 'MinDegreeLevel': np.str\n",
    "                       }"
   ]
  },
  {
   "cell_type": "code",
   "execution_count": 8,
   "metadata": {
    "tags": []
   },
   "outputs": [
    {
     "output_type": "stream",
     "name": "stderr",
     "text": "Skipping line 585: unexpected end of data\n"
    },
    {
     "output_type": "execute_result",
     "data": {
      "text/plain": "Dask DataFrame Structure:\n                 JobID CleanJobTitle CanonCity CanonState JobDate JobText  Source CanonEmployer Latitude Longitude CanonIntermediary CanonJobTitle CanonCounty DivisionCode     MSA     LMA InternshipFlag ConsolidatedONET CanonSkillClusters CanonSkills IsDuplicate CanonMinimumDegree CanonRequiredDegrees CIPCode MinExperience ConsolidatedInferredNAICS  BGTOcc MaxAnnualSalary MaxHourlySalary MinAnnualSalary MinHourlySalary YearsOfExperience CanonJobHours CanonJobType CanonPostalCode CanonYearsOfExperienceCanonLevel CanonYearsOfExperienceLevel ConsolidatedTitle Language BGTSubOcc ConsolidatedDegreeLevels MaxDegreeLevel MinDegreeLevel\nnpartitions=35                                                                                                                                                                                                                                                                                                                                                                                                                                                                                                                                                                                                                                              \n                object        object    object     object  object  object  object        object   object    object            object        object      object       object  object  object         object           object             object      object      object             object               object  object        object                    object  object          object          object          object          object            object        object       object          object                           object                      object            object   object    object                   object         object         object\n                   ...           ...       ...        ...     ...     ...     ...           ...      ...       ...               ...           ...         ...          ...     ...     ...            ...              ...                ...         ...         ...                ...                  ...     ...           ...                       ...     ...             ...             ...             ...             ...               ...           ...          ...             ...                              ...                         ...               ...      ...       ...                      ...            ...            ...\n...                ...           ...       ...        ...     ...     ...     ...           ...      ...       ...               ...           ...         ...          ...     ...     ...            ...              ...                ...         ...         ...                ...                  ...     ...           ...                       ...     ...             ...             ...             ...             ...               ...           ...          ...             ...                              ...                         ...               ...      ...       ...                      ...            ...            ...\n                   ...           ...       ...        ...     ...     ...     ...           ...      ...       ...               ...           ...         ...          ...     ...     ...            ...              ...                ...         ...         ...                ...                  ...     ...           ...                       ...     ...             ...             ...             ...             ...               ...           ...          ...             ...                              ...                         ...               ...      ...       ...                      ...            ...            ...\n                   ...           ...       ...        ...     ...     ...     ...           ...      ...       ...               ...           ...         ...          ...     ...     ...            ...              ...                ...         ...         ...                ...                  ...     ...           ...                       ...     ...             ...             ...             ...             ...               ...           ...          ...             ...                              ...                         ...               ...      ...       ...                      ...            ...            ...\nDask Name: from-delayed, 105 tasks",
      "text/html": "<div><strong>Dask DataFrame Structure:</strong></div>\n<div>\n<style scoped>\n    .dataframe tbody tr th:only-of-type {\n        vertical-align: middle;\n    }\n\n    .dataframe tbody tr th {\n        vertical-align: top;\n    }\n\n    .dataframe thead th {\n        text-align: right;\n    }\n</style>\n<table border=\"1\" class=\"dataframe\">\n  <thead>\n    <tr style=\"text-align: right;\">\n      <th></th>\n      <th>JobID</th>\n      <th>CleanJobTitle</th>\n      <th>CanonCity</th>\n      <th>CanonState</th>\n      <th>JobDate</th>\n      <th>JobText</th>\n      <th>Source</th>\n      <th>CanonEmployer</th>\n      <th>Latitude</th>\n      <th>Longitude</th>\n      <th>CanonIntermediary</th>\n      <th>CanonJobTitle</th>\n      <th>CanonCounty</th>\n      <th>DivisionCode</th>\n      <th>MSA</th>\n      <th>LMA</th>\n      <th>InternshipFlag</th>\n      <th>ConsolidatedONET</th>\n      <th>CanonSkillClusters</th>\n      <th>CanonSkills</th>\n      <th>IsDuplicate</th>\n      <th>CanonMinimumDegree</th>\n      <th>CanonRequiredDegrees</th>\n      <th>CIPCode</th>\n      <th>MinExperience</th>\n      <th>ConsolidatedInferredNAICS</th>\n      <th>BGTOcc</th>\n      <th>MaxAnnualSalary</th>\n      <th>MaxHourlySalary</th>\n      <th>MinAnnualSalary</th>\n      <th>MinHourlySalary</th>\n      <th>YearsOfExperience</th>\n      <th>CanonJobHours</th>\n      <th>CanonJobType</th>\n      <th>CanonPostalCode</th>\n      <th>CanonYearsOfExperienceCanonLevel</th>\n      <th>CanonYearsOfExperienceLevel</th>\n      <th>ConsolidatedTitle</th>\n      <th>Language</th>\n      <th>BGTSubOcc</th>\n      <th>ConsolidatedDegreeLevels</th>\n      <th>MaxDegreeLevel</th>\n      <th>MinDegreeLevel</th>\n    </tr>\n    <tr>\n      <th>npartitions=35</th>\n      <th></th>\n      <th></th>\n      <th></th>\n      <th></th>\n      <th></th>\n      <th></th>\n      <th></th>\n      <th></th>\n      <th></th>\n      <th></th>\n      <th></th>\n      <th></th>\n      <th></th>\n      <th></th>\n      <th></th>\n      <th></th>\n      <th></th>\n      <th></th>\n      <th></th>\n      <th></th>\n      <th></th>\n      <th></th>\n      <th></th>\n      <th></th>\n      <th></th>\n      <th></th>\n      <th></th>\n      <th></th>\n      <th></th>\n      <th></th>\n      <th></th>\n      <th></th>\n      <th></th>\n      <th></th>\n      <th></th>\n      <th></th>\n      <th></th>\n      <th></th>\n      <th></th>\n      <th></th>\n      <th></th>\n      <th></th>\n      <th></th>\n    </tr>\n  </thead>\n  <tbody>\n    <tr>\n      <th></th>\n      <td>object</td>\n      <td>object</td>\n      <td>object</td>\n      <td>object</td>\n      <td>object</td>\n      <td>object</td>\n      <td>object</td>\n      <td>object</td>\n      <td>object</td>\n      <td>object</td>\n      <td>object</td>\n      <td>object</td>\n      <td>object</td>\n      <td>object</td>\n      <td>object</td>\n      <td>object</td>\n      <td>object</td>\n      <td>object</td>\n      <td>object</td>\n      <td>object</td>\n      <td>object</td>\n      <td>object</td>\n      <td>object</td>\n      <td>object</td>\n      <td>object</td>\n      <td>object</td>\n      <td>object</td>\n      <td>object</td>\n      <td>object</td>\n      <td>object</td>\n      <td>object</td>\n      <td>object</td>\n      <td>object</td>\n      <td>object</td>\n      <td>object</td>\n      <td>object</td>\n      <td>object</td>\n      <td>object</td>\n      <td>object</td>\n      <td>object</td>\n      <td>object</td>\n      <td>object</td>\n      <td>object</td>\n    </tr>\n    <tr>\n      <th></th>\n      <td>...</td>\n      <td>...</td>\n      <td>...</td>\n      <td>...</td>\n      <td>...</td>\n      <td>...</td>\n      <td>...</td>\n      <td>...</td>\n      <td>...</td>\n      <td>...</td>\n      <td>...</td>\n      <td>...</td>\n      <td>...</td>\n      <td>...</td>\n      <td>...</td>\n      <td>...</td>\n      <td>...</td>\n      <td>...</td>\n      <td>...</td>\n      <td>...</td>\n      <td>...</td>\n      <td>...</td>\n      <td>...</td>\n      <td>...</td>\n      <td>...</td>\n      <td>...</td>\n      <td>...</td>\n      <td>...</td>\n      <td>...</td>\n      <td>...</td>\n      <td>...</td>\n      <td>...</td>\n      <td>...</td>\n      <td>...</td>\n      <td>...</td>\n      <td>...</td>\n      <td>...</td>\n      <td>...</td>\n      <td>...</td>\n      <td>...</td>\n      <td>...</td>\n      <td>...</td>\n      <td>...</td>\n    </tr>\n    <tr>\n      <th>...</th>\n      <td>...</td>\n      <td>...</td>\n      <td>...</td>\n      <td>...</td>\n      <td>...</td>\n      <td>...</td>\n      <td>...</td>\n      <td>...</td>\n      <td>...</td>\n      <td>...</td>\n      <td>...</td>\n      <td>...</td>\n      <td>...</td>\n      <td>...</td>\n      <td>...</td>\n      <td>...</td>\n      <td>...</td>\n      <td>...</td>\n      <td>...</td>\n      <td>...</td>\n      <td>...</td>\n      <td>...</td>\n      <td>...</td>\n      <td>...</td>\n      <td>...</td>\n      <td>...</td>\n      <td>...</td>\n      <td>...</td>\n      <td>...</td>\n      <td>...</td>\n      <td>...</td>\n      <td>...</td>\n      <td>...</td>\n      <td>...</td>\n      <td>...</td>\n      <td>...</td>\n      <td>...</td>\n      <td>...</td>\n      <td>...</td>\n      <td>...</td>\n      <td>...</td>\n      <td>...</td>\n      <td>...</td>\n    </tr>\n    <tr>\n      <th></th>\n      <td>...</td>\n      <td>...</td>\n      <td>...</td>\n      <td>...</td>\n      <td>...</td>\n      <td>...</td>\n      <td>...</td>\n      <td>...</td>\n      <td>...</td>\n      <td>...</td>\n      <td>...</td>\n      <td>...</td>\n      <td>...</td>\n      <td>...</td>\n      <td>...</td>\n      <td>...</td>\n      <td>...</td>\n      <td>...</td>\n      <td>...</td>\n      <td>...</td>\n      <td>...</td>\n      <td>...</td>\n      <td>...</td>\n      <td>...</td>\n      <td>...</td>\n      <td>...</td>\n      <td>...</td>\n      <td>...</td>\n      <td>...</td>\n      <td>...</td>\n      <td>...</td>\n      <td>...</td>\n      <td>...</td>\n      <td>...</td>\n      <td>...</td>\n      <td>...</td>\n      <td>...</td>\n      <td>...</td>\n      <td>...</td>\n      <td>...</td>\n      <td>...</td>\n      <td>...</td>\n      <td>...</td>\n    </tr>\n    <tr>\n      <th></th>\n      <td>...</td>\n      <td>...</td>\n      <td>...</td>\n      <td>...</td>\n      <td>...</td>\n      <td>...</td>\n      <td>...</td>\n      <td>...</td>\n      <td>...</td>\n      <td>...</td>\n      <td>...</td>\n      <td>...</td>\n      <td>...</td>\n      <td>...</td>\n      <td>...</td>\n      <td>...</td>\n      <td>...</td>\n      <td>...</td>\n      <td>...</td>\n      <td>...</td>\n      <td>...</td>\n      <td>...</td>\n      <td>...</td>\n      <td>...</td>\n      <td>...</td>\n      <td>...</td>\n      <td>...</td>\n      <td>...</td>\n      <td>...</td>\n      <td>...</td>\n      <td>...</td>\n      <td>...</td>\n      <td>...</td>\n      <td>...</td>\n      <td>...</td>\n      <td>...</td>\n      <td>...</td>\n      <td>...</td>\n      <td>...</td>\n      <td>...</td>\n      <td>...</td>\n      <td>...</td>\n      <td>...</td>\n    </tr>\n  </tbody>\n</table>\n</div>\n<div>Dask Name: from-delayed, 105 tasks</div>"
     },
     "metadata": {},
     "execution_count": 8
    }
   ],
   "source": [
    "df = dd.read_csv('~/Dropbox/Burning Glass/Data/random_data/rand/rand_samp_20.csv', \n",
    "                 engine='python', \n",
    "                 dtype=dtypes,\n",
    "                 sample=2_500_000,\n",
    "                #  encoding='latin-1',\n",
    "                #  encoding='utf-8',\n",
    "                #  assume_missing=True,\n",
    "                 error_bad_lines=False,\n",
    "                #  blocksize=None,\n",
    "                 usecols=best_list,\n",
    "#                  parse_dates=['JobDate']\n",
    "                )\n",
    "df"
   ]
  },
  {
   "cell_type": "code",
   "execution_count": 9,
   "metadata": {
    "tags": []
   },
   "outputs": [
    {
     "output_type": "stream",
     "name": "stdout",
     "text": "CPU times: user 1.53 ms, sys: 73 µs, total: 1.61 ms\nWall time: 1.61 ms\n"
    }
   ],
   "source": [
    "%%time\n",
    "\n",
    "# df = df.repartition(npartitions=25)\n",
    "df = df[df['JobText'].notnull()]"
   ]
  },
  {
   "cell_type": "code",
   "execution_count": 10,
   "metadata": {
    "tags": []
   },
   "outputs": [
    {
     "output_type": "stream",
     "name": "stdout",
     "text": "CPU times: user 74.9 ms, sys: 8.66 ms, total: 83.6 ms\nWall time: 1.94 s\n"
    },
    {
     "output_type": "execute_result",
     "data": {
      "text/plain": "         JobID                                  CleanJobTitle    CanonCity  \\\n0  38807273782    Business Development Manager - Construction       Irvine   \n1  38765089544                        Stihl Repair Technician       Tucson   \n2  38726367466  Pediatrics In - Academic Pediatric Geneticist       Fresno   \n3  38813841551                Ui Developer At The Judge Group       Irving   \n4  38799678091                    Cdl A Regional Truck Driver  Chestertown   \n\n  CanonState     JobDate                                            JobText  \\\n0         CA  2020-07-03  Business Development Manager - Construction\\n\\...   \n1         AZ  2020-04-19  STIHL Repair Technician\\n\\nEquipmentLocator.co...   \n2         CA  2020-03-10  Pediatrics in CA - Academic Pediatric Genetici...   \n3         TX  2020-07-13  UI Developer at The Judge Group\\n\\nIrving, TX\\...   \n4         MD  2020-06-20  CDL A Regional Truck Driver\\n\\nCowan Systems\\n...   \n\n             Source         CanonEmployer Latitude Longitude  \\\n0  Job intermediary                   NaN  33.7425  -117.747   \n1         Job Board  Equipmentlocator Com  32.2161  -110.971   \n2  Job intermediary                   NaN   36.841    -119.8   \n3  Job intermediary                   NaN   32.842  -96.9719   \n4         Recruiter         Cowan Systems  39.2169  -76.0767   \n\n                CanonIntermediary                  CanonJobTitle CanonCounty  \\\n0              XO Staffing Agency           Construction Manager      Orange   \n1                             NaN              Repair Technician        Pima   \n2                      Comphealth                            NaN      Fresno   \n3  The Judge Group , Incorporated  User Interface (UI) Developer      Dallas   \n4                             NaN       Class A CDL Truck Driver        Kent   \n\n  DivisionCode                                                MSA  \\\n0      11244.0  31080: Metropolitan Statistical Area|348: Comb...   \n1          NaN               46060: Metropolitan Statistical Area   \n2          NaN               23420: Metropolitan Statistical Area   \n3      19124.0  19100: Metropolitan Statistical Area|206: Comb...   \n4          NaN                                                NaN   \n\n                 LMA InternshipFlag ConsolidatedONET  \\\n0  DV064204|MT063110              0         11202200   \n1           MT044606              0         49907100   \n2           MT062342              0         19102903   \n3  DV481912|MT481910              0         15113400   \n4           CN240290              0         53303200   \n\n                                  CanonSkillClusters  \\\n0  Sales: Business Development;Specialized Skills...   \n1              Specialized Skills|Specialized Skills   \n2  Science and Research: Genetics;Specialized Ski...   \n3  Information Technology: JavaScript and jQuery;...   \n4      Administration: Scheduling;Specialized Skills   \n\n                                         CanonSkills IsDuplicate  \\\n0  {'Business Development': 'Sales: Business Deve...       FALSE   \n1  {'Repair': 'Specialized Skills', 'Retail Indus...       FALSE   \n2  {'Genetics': 'Science and Research: Genetics;S...       FALSE   \n3  {'AngularJS': 'Information Technology: JavaScr...       FALSE   \n4  {'Scheduling': 'Administration: Scheduling;Spe...       FALSE   \n\n  CanonMinimumDegree CanonRequiredDegrees               CIPCode MinExperience  \\\n0         Bachelor's           Bachelor's  520201|521401|522001           NaN   \n1                NaN                  NaN                   NaN           NaN   \n2                NaN                  NaN                   NaN           NaN   \n3                NaN                  NaN                   NaN           8.0   \n4                NaN                  NaN                   NaN           3.0   \n\n  ConsolidatedInferredNAICS      BGTOcc MaxAnnualSalary MaxHourlySalary  \\\n0                    2362.0  11-2022.00         88000.0           42.31   \n1                    5241.0  49-9071.91             NaN             NaN   \n2                      62.0  19-1020.01             NaN             NaN   \n3                      54.0  15-1134.93             NaN             NaN   \n4                     484.0  53-3032.00         65000.0           31.25   \n\n  MinAnnualSalary MinHourlySalary                      YearsOfExperience  \\\n0         63000.0           30.29                                    NaN   \n1             NaN             NaN                                    NaN   \n2             NaN             NaN                                    NaN   \n3             NaN             NaN      Min 2 Years|min 1 Year|8-10 years   \n4         54000.0           25.96  one year|three years|One year|3 years   \n\n  CanonJobHours CanonJobType CanonPostalCode CanonYearsOfExperienceCanonLevel  \\\n0           NaN          NaN           92602                              NaN   \n1      fulltime    permanent           85701                              NaN   \n2           NaN          NaN           93650                              NaN   \n3      fulltime    temporary           75014                               6+   \n4           NaN          NaN           21620                              1-6   \n\n  CanonYearsOfExperienceLevel  \\\n0                         NaN   \n1                         NaN   \n2                         NaN   \n3                        high   \n4                         mid   \n\n                                   ConsolidatedTitle Language  \\\n0                               Construction Manager       en   \n1                                  Repair Technician       en   \n2  Academic Pediatric Geneticist, Information And...       en   \n3                      User Interface (UI) Developer       en   \n4                           Class A CDL Truck Driver       en   \n\n                                      BGTSubOcc ConsolidatedDegreeLevels  \\\n0                  Business Development Manager                       16   \n1  Building and General Maintenance Technician                       NaN   \n2                                     Biologist                      NaN   \n3                 User Interface (UI) Developer                      NaN   \n4                         Regional Truck Driver                      NaN   \n\n  MaxDegreeLevel MinDegreeLevel  \n0            NaN           16.0  \n1            NaN            NaN  \n2            NaN            NaN  \n3            NaN            NaN  \n4            NaN            NaN  ",
      "text/html": "<div>\n<style scoped>\n    .dataframe tbody tr th:only-of-type {\n        vertical-align: middle;\n    }\n\n    .dataframe tbody tr th {\n        vertical-align: top;\n    }\n\n    .dataframe thead th {\n        text-align: right;\n    }\n</style>\n<table border=\"1\" class=\"dataframe\">\n  <thead>\n    <tr style=\"text-align: right;\">\n      <th></th>\n      <th>JobID</th>\n      <th>CleanJobTitle</th>\n      <th>CanonCity</th>\n      <th>CanonState</th>\n      <th>JobDate</th>\n      <th>JobText</th>\n      <th>Source</th>\n      <th>CanonEmployer</th>\n      <th>Latitude</th>\n      <th>Longitude</th>\n      <th>CanonIntermediary</th>\n      <th>CanonJobTitle</th>\n      <th>CanonCounty</th>\n      <th>DivisionCode</th>\n      <th>MSA</th>\n      <th>LMA</th>\n      <th>InternshipFlag</th>\n      <th>ConsolidatedONET</th>\n      <th>CanonSkillClusters</th>\n      <th>CanonSkills</th>\n      <th>IsDuplicate</th>\n      <th>CanonMinimumDegree</th>\n      <th>CanonRequiredDegrees</th>\n      <th>CIPCode</th>\n      <th>MinExperience</th>\n      <th>ConsolidatedInferredNAICS</th>\n      <th>BGTOcc</th>\n      <th>MaxAnnualSalary</th>\n      <th>MaxHourlySalary</th>\n      <th>MinAnnualSalary</th>\n      <th>MinHourlySalary</th>\n      <th>YearsOfExperience</th>\n      <th>CanonJobHours</th>\n      <th>CanonJobType</th>\n      <th>CanonPostalCode</th>\n      <th>CanonYearsOfExperienceCanonLevel</th>\n      <th>CanonYearsOfExperienceLevel</th>\n      <th>ConsolidatedTitle</th>\n      <th>Language</th>\n      <th>BGTSubOcc</th>\n      <th>ConsolidatedDegreeLevels</th>\n      <th>MaxDegreeLevel</th>\n      <th>MinDegreeLevel</th>\n    </tr>\n  </thead>\n  <tbody>\n    <tr>\n      <th>0</th>\n      <td>38807273782</td>\n      <td>Business Development Manager - Construction</td>\n      <td>Irvine</td>\n      <td>CA</td>\n      <td>2020-07-03</td>\n      <td>Business Development Manager - Construction\\n\\...</td>\n      <td>Job intermediary</td>\n      <td>NaN</td>\n      <td>33.7425</td>\n      <td>-117.747</td>\n      <td>XO Staffing Agency</td>\n      <td>Construction Manager</td>\n      <td>Orange</td>\n      <td>11244.0</td>\n      <td>31080: Metropolitan Statistical Area|348: Comb...</td>\n      <td>DV064204|MT063110</td>\n      <td>0</td>\n      <td>11202200</td>\n      <td>Sales: Business Development;Specialized Skills...</td>\n      <td>{'Business Development': 'Sales: Business Deve...</td>\n      <td>FALSE</td>\n      <td>Bachelor's</td>\n      <td>Bachelor's</td>\n      <td>520201|521401|522001</td>\n      <td>NaN</td>\n      <td>2362.0</td>\n      <td>11-2022.00</td>\n      <td>88000.0</td>\n      <td>42.31</td>\n      <td>63000.0</td>\n      <td>30.29</td>\n      <td>NaN</td>\n      <td>NaN</td>\n      <td>NaN</td>\n      <td>92602</td>\n      <td>NaN</td>\n      <td>NaN</td>\n      <td>Construction Manager</td>\n      <td>en</td>\n      <td>Business Development Manager</td>\n      <td>16</td>\n      <td>NaN</td>\n      <td>16.0</td>\n    </tr>\n    <tr>\n      <th>1</th>\n      <td>38765089544</td>\n      <td>Stihl Repair Technician</td>\n      <td>Tucson</td>\n      <td>AZ</td>\n      <td>2020-04-19</td>\n      <td>STIHL Repair Technician\\n\\nEquipmentLocator.co...</td>\n      <td>Job Board</td>\n      <td>Equipmentlocator Com</td>\n      <td>32.2161</td>\n      <td>-110.971</td>\n      <td>NaN</td>\n      <td>Repair Technician</td>\n      <td>Pima</td>\n      <td>NaN</td>\n      <td>46060: Metropolitan Statistical Area</td>\n      <td>MT044606</td>\n      <td>0</td>\n      <td>49907100</td>\n      <td>Specialized Skills|Specialized Skills</td>\n      <td>{'Repair': 'Specialized Skills', 'Retail Indus...</td>\n      <td>FALSE</td>\n      <td>NaN</td>\n      <td>NaN</td>\n      <td>NaN</td>\n      <td>NaN</td>\n      <td>5241.0</td>\n      <td>49-9071.91</td>\n      <td>NaN</td>\n      <td>NaN</td>\n      <td>NaN</td>\n      <td>NaN</td>\n      <td>NaN</td>\n      <td>fulltime</td>\n      <td>permanent</td>\n      <td>85701</td>\n      <td>NaN</td>\n      <td>NaN</td>\n      <td>Repair Technician</td>\n      <td>en</td>\n      <td>Building and General Maintenance Technician</td>\n      <td>NaN</td>\n      <td>NaN</td>\n      <td>NaN</td>\n    </tr>\n    <tr>\n      <th>2</th>\n      <td>38726367466</td>\n      <td>Pediatrics In - Academic Pediatric Geneticist</td>\n      <td>Fresno</td>\n      <td>CA</td>\n      <td>2020-03-10</td>\n      <td>Pediatrics in CA - Academic Pediatric Genetici...</td>\n      <td>Job intermediary</td>\n      <td>NaN</td>\n      <td>36.841</td>\n      <td>-119.8</td>\n      <td>Comphealth</td>\n      <td>NaN</td>\n      <td>Fresno</td>\n      <td>NaN</td>\n      <td>23420: Metropolitan Statistical Area</td>\n      <td>MT062342</td>\n      <td>0</td>\n      <td>19102903</td>\n      <td>Science and Research: Genetics;Specialized Ski...</td>\n      <td>{'Genetics': 'Science and Research: Genetics;S...</td>\n      <td>FALSE</td>\n      <td>NaN</td>\n      <td>NaN</td>\n      <td>NaN</td>\n      <td>NaN</td>\n      <td>62.0</td>\n      <td>19-1020.01</td>\n      <td>NaN</td>\n      <td>NaN</td>\n      <td>NaN</td>\n      <td>NaN</td>\n      <td>NaN</td>\n      <td>NaN</td>\n      <td>NaN</td>\n      <td>93650</td>\n      <td>NaN</td>\n      <td>NaN</td>\n      <td>Academic Pediatric Geneticist, Information And...</td>\n      <td>en</td>\n      <td>Biologist</td>\n      <td>NaN</td>\n      <td>NaN</td>\n      <td>NaN</td>\n    </tr>\n    <tr>\n      <th>3</th>\n      <td>38813841551</td>\n      <td>Ui Developer At The Judge Group</td>\n      <td>Irving</td>\n      <td>TX</td>\n      <td>2020-07-13</td>\n      <td>UI Developer at The Judge Group\\n\\nIrving, TX\\...</td>\n      <td>Job intermediary</td>\n      <td>NaN</td>\n      <td>32.842</td>\n      <td>-96.9719</td>\n      <td>The Judge Group , Incorporated</td>\n      <td>User Interface (UI) Developer</td>\n      <td>Dallas</td>\n      <td>19124.0</td>\n      <td>19100: Metropolitan Statistical Area|206: Comb...</td>\n      <td>DV481912|MT481910</td>\n      <td>0</td>\n      <td>15113400</td>\n      <td>Information Technology: JavaScript and jQuery;...</td>\n      <td>{'AngularJS': 'Information Technology: JavaScr...</td>\n      <td>FALSE</td>\n      <td>NaN</td>\n      <td>NaN</td>\n      <td>NaN</td>\n      <td>8.0</td>\n      <td>54.0</td>\n      <td>15-1134.93</td>\n      <td>NaN</td>\n      <td>NaN</td>\n      <td>NaN</td>\n      <td>NaN</td>\n      <td>Min 2 Years|min 1 Year|8-10 years</td>\n      <td>fulltime</td>\n      <td>temporary</td>\n      <td>75014</td>\n      <td>6+</td>\n      <td>high</td>\n      <td>User Interface (UI) Developer</td>\n      <td>en</td>\n      <td>User Interface (UI) Developer</td>\n      <td>NaN</td>\n      <td>NaN</td>\n      <td>NaN</td>\n    </tr>\n    <tr>\n      <th>4</th>\n      <td>38799678091</td>\n      <td>Cdl A Regional Truck Driver</td>\n      <td>Chestertown</td>\n      <td>MD</td>\n      <td>2020-06-20</td>\n      <td>CDL A Regional Truck Driver\\n\\nCowan Systems\\n...</td>\n      <td>Recruiter</td>\n      <td>Cowan Systems</td>\n      <td>39.2169</td>\n      <td>-76.0767</td>\n      <td>NaN</td>\n      <td>Class A CDL Truck Driver</td>\n      <td>Kent</td>\n      <td>NaN</td>\n      <td>NaN</td>\n      <td>CN240290</td>\n      <td>0</td>\n      <td>53303200</td>\n      <td>Administration: Scheduling;Specialized Skills</td>\n      <td>{'Scheduling': 'Administration: Scheduling;Spe...</td>\n      <td>FALSE</td>\n      <td>NaN</td>\n      <td>NaN</td>\n      <td>NaN</td>\n      <td>3.0</td>\n      <td>484.0</td>\n      <td>53-3032.00</td>\n      <td>65000.0</td>\n      <td>31.25</td>\n      <td>54000.0</td>\n      <td>25.96</td>\n      <td>one year|three years|One year|3 years</td>\n      <td>NaN</td>\n      <td>NaN</td>\n      <td>21620</td>\n      <td>1-6</td>\n      <td>mid</td>\n      <td>Class A CDL Truck Driver</td>\n      <td>en</td>\n      <td>Regional Truck Driver</td>\n      <td>NaN</td>\n      <td>NaN</td>\n      <td>NaN</td>\n    </tr>\n  </tbody>\n</table>\n</div>"
     },
     "metadata": {},
     "execution_count": 10
    }
   ],
   "source": [
    "%%time\n",
    "\n",
    "df.head()"
   ]
  },
  {
   "cell_type": "code",
   "execution_count": 11,
   "metadata": {},
   "outputs": [
    {
     "output_type": "execute_result",
     "data": {
      "text/plain": "35"
     },
     "metadata": {},
     "execution_count": 11
    }
   ],
   "source": [
    "df.npartitions"
   ]
  },
  {
   "cell_type": "code",
   "execution_count": 12,
   "metadata": {
    "tags": []
   },
   "outputs": [
    {
     "output_type": "stream",
     "name": "stdout",
     "text": "CPU times: user 2.33 s, sys: 224 ms, total: 2.55 s\nWall time: 42.7 s\n"
    }
   ],
   "source": [
    "%%time\n",
    "\n",
    "with ProgressBar():\n",
    "    missing_values = df.isna().sum()\n",
    "    missing_count = ((missing_values / df.index.size) * 100)\n",
    "    missing_count_pct = missing_count.compute()\n",
    "    \n",
    "# missing_count_pct"
   ]
  },
  {
   "cell_type": "code",
   "execution_count": 13,
   "metadata": {},
   "outputs": [
    {
     "output_type": "execute_result",
     "data": {
      "text/plain": "JobID                                0.000000\nCleanJobTitle                        0.008750\nCanonCity                            0.533776\nCanonState                           0.044819\nJobDate                              0.000213\nJobText                              0.000000\nSource                               1.197740\nCanonEmployer                       20.021385\nLatitude                             0.493652\nLongitude                            0.493011\nCanonIntermediary                   87.850364\nCanonJobTitle                       36.211367\nCanonCounty                          0.539965\nDivisionCode                        68.530933\nMSA                                  2.950172\nLMA                                  0.844736\nInternshipFlag                       0.004482\nConsolidatedONET                     3.585537\nCanonSkillClusters                   5.107470\nCanonSkills                          0.004482\nIsDuplicate                          0.004909\nCanonMinimumDegree                  49.128906\nCanonRequiredDegrees                54.813477\nCIPCode                             83.274748\nMinExperience                       55.522688\nConsolidatedInferredNAICS           24.871892\nBGTOcc                               6.577327\nMaxAnnualSalary                     69.830690\nMaxHourlySalary                     69.830690\nMinAnnualSalary                     69.829623\nMinHourlySalary                     69.829410\nYearsOfExperience                   43.223441\nCanonJobHours                       49.331660\nCanonJobType                        47.824454\nCanonPostalCode                      0.912605\nCanonYearsOfExperienceCanonLevel    53.026044\nCanonYearsOfExperienceLevel         53.026044\nConsolidatedTitle                    0.014299\nLanguage                             0.005976\nBGTSubOcc                            6.580955\nConsolidatedDegreeLevels            49.130400\nMaxDegreeLevel                      83.279444\nMinDegreeLevel                      49.130400\ndtype: float64"
     },
     "metadata": {},
     "execution_count": 13
    }
   ],
   "source": [
    "missing_count_pct"
   ]
  },
  {
   "cell_type": "code",
   "execution_count": 18,
   "metadata": {},
   "outputs": [],
   "source": [
    "import pyarrow"
   ]
  },
  {
   "cell_type": "code",
   "execution_count": 14,
   "metadata": {
    "tags": []
   },
   "outputs": [
    {
     "output_type": "stream",
     "name": "stdout",
     "text": "0    11-2022.00\n1    49-9071.91\n2    19-1020.01\n3    15-1134.93\n4    53-3032.00\nName: BGTOcc, dtype: object\n"
    }
   ],
   "source": [
    "with ProgressBar():\n",
    "    unique_occus = df.BGTOcc.unique().compute()\n",
    "    print(unique_occus[:5])"
   ]
  },
  {
   "cell_type": "code",
   "execution_count": 15,
   "metadata": {},
   "outputs": [],
   "source": [
    "client.close()"
   ]
  },
  {
   "cell_type": "code",
   "execution_count": 15,
   "metadata": {},
   "outputs": [
    {
     "data": {
      "text/html": [
       "<div>\n",
       "<style scoped>\n",
       "    .dataframe tbody tr th:only-of-type {\n",
       "        vertical-align: middle;\n",
       "    }\n",
       "\n",
       "    .dataframe tbody tr th {\n",
       "        vertical-align: top;\n",
       "    }\n",
       "\n",
       "    .dataframe thead th {\n",
       "        text-align: right;\n",
       "    }\n",
       "</style>\n",
       "<table border=\"1\" class=\"dataframe\">\n",
       "  <thead>\n",
       "    <tr style=\"text-align: right;\">\n",
       "      <th></th>\n",
       "      <th>JobID</th>\n",
       "      <th>CleanJobTitle</th>\n",
       "      <th>CanonCity</th>\n",
       "      <th>CanonState</th>\n",
       "      <th>JobDate</th>\n",
       "      <th>JobText</th>\n",
       "      <th>Source</th>\n",
       "      <th>CanonEmployer</th>\n",
       "      <th>Latitude</th>\n",
       "      <th>Longitude</th>\n",
       "      <th>CanonIntermediary</th>\n",
       "      <th>CanonJobTitle</th>\n",
       "      <th>CanonCounty</th>\n",
       "      <th>DivisionCode</th>\n",
       "      <th>MSA</th>\n",
       "      <th>LMA</th>\n",
       "      <th>InternshipFlag</th>\n",
       "      <th>ConsolidatedONET</th>\n",
       "      <th>CanonSkillClusters</th>\n",
       "      <th>CanonSkills</th>\n",
       "      <th>IsDuplicate</th>\n",
       "      <th>CanonMinimumDegree</th>\n",
       "      <th>CanonRequiredDegrees</th>\n",
       "      <th>CIPCode</th>\n",
       "      <th>MinExperience</th>\n",
       "      <th>ConsolidatedInferredNAICS</th>\n",
       "      <th>BGTOcc</th>\n",
       "      <th>MaxAnnualSalary</th>\n",
       "      <th>MaxHourlySalary</th>\n",
       "      <th>MinAnnualSalary</th>\n",
       "      <th>MinHourlySalary</th>\n",
       "      <th>YearsOfExperience</th>\n",
       "      <th>CanonJobHours</th>\n",
       "      <th>CanonJobType</th>\n",
       "      <th>CanonPostalCode</th>\n",
       "      <th>CanonYearsOfExperienceCanonLevel</th>\n",
       "      <th>CanonYearsOfExperienceLevel</th>\n",
       "      <th>ConsolidatedTitle</th>\n",
       "      <th>Language</th>\n",
       "      <th>BGTSubOcc</th>\n",
       "      <th>ConsolidatedDegreeLevels</th>\n",
       "      <th>MaxDegreeLevel</th>\n",
       "      <th>MinDegreeLevel</th>\n",
       "    </tr>\n",
       "  </thead>\n",
       "  <tbody>\n",
       "    <tr>\n",
       "      <th>499995</th>\n",
       "      <td>38687559870</td>\n",
       "      <td>Ct Technologist | Radiology/Ct | | With Rotati...</td>\n",
       "      <td>Eau Claire</td>\n",
       "      <td>WI</td>\n",
       "      <td>2019-12-29</td>\n",
       "      <td>CT Technologist | Radiology/CT | 40hrs/wk | Va...</td>\n",
       "      <td>Company</td>\n",
       "      <td>St Nicholas Hospital</td>\n",
       "      <td>44.7985</td>\n",
       "      <td>-91.4824</td>\n",
       "      <td>NaN</td>\n",
       "      <td>Radiologic Technologist</td>\n",
       "      <td>Eau Claire</td>\n",
       "      <td>NaN</td>\n",
       "      <td>20740: Metropolitan Statistical Area</td>\n",
       "      <td>MT552074</td>\n",
       "      <td>0</td>\n",
       "      <td>29203400</td>\n",
       "      <td>Health Care: Emergency and Intensive Care;Spec...</td>\n",
       "      <td>{'Life Support': 'Health Care: Emergency and I...</td>\n",
       "      <td>FALSE</td>\n",
       "      <td>Bachelor's</td>\n",
       "      <td>NaN</td>\n",
       "      <td>NaN</td>\n",
       "      <td>NaN</td>\n",
       "      <td>6221.0</td>\n",
       "      <td>29-2099.92</td>\n",
       "      <td>NaN</td>\n",
       "      <td>NaN</td>\n",
       "      <td>NaN</td>\n",
       "      <td>NaN</td>\n",
       "      <td>1 Year</td>\n",
       "      <td>fulltime</td>\n",
       "      <td>permanent</td>\n",
       "      <td>54701</td>\n",
       "      <td>NaN</td>\n",
       "      <td>NaN</td>\n",
       "      <td>Radiologic Technologist</td>\n",
       "      <td>en</td>\n",
       "      <td>Radiologic Technician / Technologist</td>\n",
       "      <td>16</td>\n",
       "      <td>16.0</td>\n",
       "      <td>16.0</td>\n",
       "    </tr>\n",
       "    <tr>\n",
       "      <th>499996</th>\n",
       "      <td>38669407953</td>\n",
       "      <td>Dishwasher</td>\n",
       "      <td>Morrow</td>\n",
       "      <td>GA</td>\n",
       "      <td>2019-11-24</td>\n",
       "      <td>Dishwasher\\n\\nChilis\\n\\n-\\n\\nMorrow, GA 30260\\...</td>\n",
       "      <td>Job Board</td>\n",
       "      <td>Chili's</td>\n",
       "      <td>33.5854</td>\n",
       "      <td>-84.3271</td>\n",
       "      <td>NaN</td>\n",
       "      <td>Dish Washer</td>\n",
       "      <td>Clayton</td>\n",
       "      <td>NaN</td>\n",
       "      <td>12060: Metropolitan Statistical Area</td>\n",
       "      <td>MT131206</td>\n",
       "      <td>0</td>\n",
       "      <td>35902100</td>\n",
       "      <td>Personal Care and Services: Food and Beverage ...</td>\n",
       "      <td>{'Cooking': 'Personal Care and Services: Food ...</td>\n",
       "      <td>FALSE</td>\n",
       "      <td>NaN</td>\n",
       "      <td>NaN</td>\n",
       "      <td>NaN</td>\n",
       "      <td>NaN</td>\n",
       "      <td>722511.0</td>\n",
       "      <td>35-9021.00</td>\n",
       "      <td>NaN</td>\n",
       "      <td>NaN</td>\n",
       "      <td>NaN</td>\n",
       "      <td>NaN</td>\n",
       "      <td>NaN</td>\n",
       "      <td>fulltime</td>\n",
       "      <td>permanent</td>\n",
       "      <td>30260</td>\n",
       "      <td>0</td>\n",
       "      <td>zero</td>\n",
       "      <td>Dish Washer</td>\n",
       "      <td>en</td>\n",
       "      <td>Dishwasher</td>\n",
       "      <td>NaN</td>\n",
       "      <td>NaN</td>\n",
       "      <td>NaN</td>\n",
       "    </tr>\n",
       "    <tr>\n",
       "      <th>499997</th>\n",
       "      <td>38635347958</td>\n",
       "      <td>Music Therapist</td>\n",
       "      <td>Des Moines</td>\n",
       "      <td>IA</td>\n",
       "      <td>2019-10-20</td>\n",
       "      <td>Job Information\\n\\nYouth Emergency Services &amp; ...</td>\n",
       "      <td>Job Board</td>\n",
       "      <td>Youth Emergency Services &amp; Shelter</td>\n",
       "      <td>41.605</td>\n",
       "      <td>-93.6319</td>\n",
       "      <td>NaN</td>\n",
       "      <td>NaN</td>\n",
       "      <td>Polk</td>\n",
       "      <td>NaN</td>\n",
       "      <td>19780: Metropolitan Statistical Area</td>\n",
       "      <td>MT191978</td>\n",
       "      <td>0</td>\n",
       "      <td>29112500</td>\n",
       "      <td>Common Skills|Marketing and Public Relations: ...</td>\n",
       "      <td>{'Communication Skills': 'Common Skills', 'Com...</td>\n",
       "      <td>FALSE</td>\n",
       "      <td>Bachelor's</td>\n",
       "      <td>Bachelor's</td>\n",
       "      <td>512305</td>\n",
       "      <td>2.0</td>\n",
       "      <td>62.0</td>\n",
       "      <td>29-1125.00</td>\n",
       "      <td>NaN</td>\n",
       "      <td>NaN</td>\n",
       "      <td>NaN</td>\n",
       "      <td>NaN</td>\n",
       "      <td>Minimum of two years</td>\n",
       "      <td>fulltime</td>\n",
       "      <td>permanent</td>\n",
       "      <td>50301</td>\n",
       "      <td>1-6</td>\n",
       "      <td>mid</td>\n",
       "      <td>Music Therapist</td>\n",
       "      <td>en</td>\n",
       "      <td>Art / Music / Recreational Therapist</td>\n",
       "      <td>16</td>\n",
       "      <td>NaN</td>\n",
       "      <td>16.0</td>\n",
       "    </tr>\n",
       "    <tr>\n",
       "      <th>499998</th>\n",
       "      <td>38595586361</td>\n",
       "      <td>Cdl A Flatbed Driver - Regional And Over The Road</td>\n",
       "      <td>New Orleans</td>\n",
       "      <td>LA</td>\n",
       "      <td>2019-10-02</td>\n",
       "      <td>CDL A Flatbed Drivers - Regional and OTR\\n\\nDe...</td>\n",
       "      <td>Job Board</td>\n",
       "      <td>Decker Truck Line</td>\n",
       "      <td>29.9575</td>\n",
       "      <td>-90.0769</td>\n",
       "      <td>NaN</td>\n",
       "      <td>Class A CDL Truck Driver</td>\n",
       "      <td>Orleans</td>\n",
       "      <td>NaN</td>\n",
       "      <td>35380: Metropolitan Statistical Area</td>\n",
       "      <td>MT223538</td>\n",
       "      <td>0</td>\n",
       "      <td>53303200</td>\n",
       "      <td>NaN</td>\n",
       "      <td>{}</td>\n",
       "      <td>FALSE</td>\n",
       "      <td>NaN</td>\n",
       "      <td>NaN</td>\n",
       "      <td>NaN</td>\n",
       "      <td>NaN</td>\n",
       "      <td>484.0</td>\n",
       "      <td>53-3032.00</td>\n",
       "      <td>NaN</td>\n",
       "      <td>NaN</td>\n",
       "      <td>NaN</td>\n",
       "      <td>NaN</td>\n",
       "      <td>NaN</td>\n",
       "      <td>NaN</td>\n",
       "      <td>NaN</td>\n",
       "      <td>70112</td>\n",
       "      <td>NaN</td>\n",
       "      <td>NaN</td>\n",
       "      <td>Class A CDL Truck Driver</td>\n",
       "      <td>en</td>\n",
       "      <td>Over-the-Road (OTR) Truck Driver</td>\n",
       "      <td>NaN</td>\n",
       "      <td>NaN</td>\n",
       "      <td>NaN</td>\n",
       "    </tr>\n",
       "    <tr>\n",
       "      <th>499999</th>\n",
       "      <td>38669475936</td>\n",
       "      <td>Azure Engineer</td>\n",
       "      <td>Schaumburg</td>\n",
       "      <td>IL</td>\n",
       "      <td>2019-11-24</td>\n",
       "      <td>Azure Engineer\\n\\nYork Solutions, LLC Schaumbu...</td>\n",
       "      <td>Job intermediary</td>\n",
       "      <td>NaN</td>\n",
       "      <td>42.033</td>\n",
       "      <td>-88.0834</td>\n",
       "      <td>York Solutions</td>\n",
       "      <td>Azure Engineer</td>\n",
       "      <td>Cook</td>\n",
       "      <td>16974.0</td>\n",
       "      <td>16980: Metropolitan Statistical Area|176: Comb...</td>\n",
       "      <td>DV171697|MT171698</td>\n",
       "      <td>0</td>\n",
       "      <td>17219900</td>\n",
       "      <td>Information Technology: Distributed Computing;...</td>\n",
       "      <td>{'Apache Kafka': 'Information Technology: Dist...</td>\n",
       "      <td>FALSE</td>\n",
       "      <td>NaN</td>\n",
       "      <td>NaN</td>\n",
       "      <td>NaN</td>\n",
       "      <td>NaN</td>\n",
       "      <td>NaN</td>\n",
       "      <td>NaN</td>\n",
       "      <td>133819.0</td>\n",
       "      <td>64.34</td>\n",
       "      <td>133819.0</td>\n",
       "      <td>64.34</td>\n",
       "      <td>NaN</td>\n",
       "      <td>fulltime</td>\n",
       "      <td>permanent</td>\n",
       "      <td>60159</td>\n",
       "      <td>NaN</td>\n",
       "      <td>NaN</td>\n",
       "      <td>Azure Engineer</td>\n",
       "      <td>en</td>\n",
       "      <td>NaN</td>\n",
       "      <td>NaN</td>\n",
       "      <td>NaN</td>\n",
       "      <td>NaN</td>\n",
       "    </tr>\n",
       "  </tbody>\n",
       "</table>\n",
       "</div>"
      ],
      "text/plain": [
       "              JobID                                      CleanJobTitle  \\\n",
       "499995  38687559870  Ct Technologist | Radiology/Ct | | With Rotati...   \n",
       "499996  38669407953                                         Dishwasher   \n",
       "499997  38635347958                                    Music Therapist   \n",
       "499998  38595586361  Cdl A Flatbed Driver - Regional And Over The Road   \n",
       "499999  38669475936                                     Azure Engineer   \n",
       "\n",
       "          CanonCity CanonState     JobDate  \\\n",
       "499995   Eau Claire         WI  2019-12-29   \n",
       "499996       Morrow         GA  2019-11-24   \n",
       "499997   Des Moines         IA  2019-10-20   \n",
       "499998  New Orleans         LA  2019-10-02   \n",
       "499999   Schaumburg         IL  2019-11-24   \n",
       "\n",
       "                                                  JobText            Source  \\\n",
       "499995  CT Technologist | Radiology/CT | 40hrs/wk | Va...           Company   \n",
       "499996  Dishwasher\\n\\nChilis\\n\\n-\\n\\nMorrow, GA 30260\\...         Job Board   \n",
       "499997  Job Information\\n\\nYouth Emergency Services & ...         Job Board   \n",
       "499998  CDL A Flatbed Drivers - Regional and OTR\\n\\nDe...         Job Board   \n",
       "499999  Azure Engineer\\n\\nYork Solutions, LLC Schaumbu...  Job intermediary   \n",
       "\n",
       "                             CanonEmployer Latitude Longitude  \\\n",
       "499995                St Nicholas Hospital  44.7985  -91.4824   \n",
       "499996                             Chili's  33.5854  -84.3271   \n",
       "499997  Youth Emergency Services & Shelter   41.605  -93.6319   \n",
       "499998                   Decker Truck Line  29.9575  -90.0769   \n",
       "499999                                 NaN   42.033  -88.0834   \n",
       "\n",
       "       CanonIntermediary             CanonJobTitle CanonCounty DivisionCode  \\\n",
       "499995               NaN   Radiologic Technologist  Eau Claire          NaN   \n",
       "499996               NaN               Dish Washer     Clayton          NaN   \n",
       "499997               NaN                       NaN        Polk          NaN   \n",
       "499998               NaN  Class A CDL Truck Driver     Orleans          NaN   \n",
       "499999    York Solutions            Azure Engineer        Cook      16974.0   \n",
       "\n",
       "                                                      MSA                LMA  \\\n",
       "499995               20740: Metropolitan Statistical Area           MT552074   \n",
       "499996               12060: Metropolitan Statistical Area           MT131206   \n",
       "499997               19780: Metropolitan Statistical Area           MT191978   \n",
       "499998               35380: Metropolitan Statistical Area           MT223538   \n",
       "499999  16980: Metropolitan Statistical Area|176: Comb...  DV171697|MT171698   \n",
       "\n",
       "       InternshipFlag ConsolidatedONET  \\\n",
       "499995              0         29203400   \n",
       "499996              0         35902100   \n",
       "499997              0         29112500   \n",
       "499998              0         53303200   \n",
       "499999              0         17219900   \n",
       "\n",
       "                                       CanonSkillClusters  \\\n",
       "499995  Health Care: Emergency and Intensive Care;Spec...   \n",
       "499996  Personal Care and Services: Food and Beverage ...   \n",
       "499997  Common Skills|Marketing and Public Relations: ...   \n",
       "499998                                                NaN   \n",
       "499999  Information Technology: Distributed Computing;...   \n",
       "\n",
       "                                              CanonSkills IsDuplicate  \\\n",
       "499995  {'Life Support': 'Health Care: Emergency and I...       FALSE   \n",
       "499996  {'Cooking': 'Personal Care and Services: Food ...       FALSE   \n",
       "499997  {'Communication Skills': 'Common Skills', 'Com...       FALSE   \n",
       "499998                                                 {}       FALSE   \n",
       "499999  {'Apache Kafka': 'Information Technology: Dist...       FALSE   \n",
       "\n",
       "       CanonMinimumDegree CanonRequiredDegrees CIPCode MinExperience  \\\n",
       "499995         Bachelor's                  NaN     NaN           NaN   \n",
       "499996                NaN                  NaN     NaN           NaN   \n",
       "499997         Bachelor's           Bachelor's  512305           2.0   \n",
       "499998                NaN                  NaN     NaN           NaN   \n",
       "499999                NaN                  NaN     NaN           NaN   \n",
       "\n",
       "       ConsolidatedInferredNAICS      BGTOcc MaxAnnualSalary MaxHourlySalary  \\\n",
       "499995                    6221.0  29-2099.92             NaN             NaN   \n",
       "499996                  722511.0  35-9021.00             NaN             NaN   \n",
       "499997                      62.0  29-1125.00             NaN             NaN   \n",
       "499998                     484.0  53-3032.00             NaN             NaN   \n",
       "499999                       NaN         NaN        133819.0           64.34   \n",
       "\n",
       "       MinAnnualSalary MinHourlySalary     YearsOfExperience CanonJobHours  \\\n",
       "499995             NaN             NaN                1 Year      fulltime   \n",
       "499996             NaN             NaN                   NaN      fulltime   \n",
       "499997             NaN             NaN  Minimum of two years      fulltime   \n",
       "499998             NaN             NaN                   NaN           NaN   \n",
       "499999        133819.0           64.34                   NaN      fulltime   \n",
       "\n",
       "       CanonJobType CanonPostalCode CanonYearsOfExperienceCanonLevel  \\\n",
       "499995    permanent           54701                              NaN   \n",
       "499996    permanent           30260                                0   \n",
       "499997    permanent           50301                              1-6   \n",
       "499998          NaN           70112                              NaN   \n",
       "499999    permanent           60159                              NaN   \n",
       "\n",
       "       CanonYearsOfExperienceLevel         ConsolidatedTitle Language  \\\n",
       "499995                         NaN   Radiologic Technologist       en   \n",
       "499996                        zero               Dish Washer       en   \n",
       "499997                         mid           Music Therapist       en   \n",
       "499998                         NaN  Class A CDL Truck Driver       en   \n",
       "499999                         NaN            Azure Engineer       en   \n",
       "\n",
       "                                   BGTSubOcc ConsolidatedDegreeLevels  \\\n",
       "499995  Radiologic Technician / Technologist                       16   \n",
       "499996                            Dishwasher                      NaN   \n",
       "499997  Art / Music / Recreational Therapist                       16   \n",
       "499998      Over-the-Road (OTR) Truck Driver                      NaN   \n",
       "499999                                   NaN                      NaN   \n",
       "\n",
       "       MaxDegreeLevel MinDegreeLevel  \n",
       "499995           16.0           16.0  \n",
       "499996            NaN            NaN  \n",
       "499997            NaN           16.0  \n",
       "499998            NaN            NaN  \n",
       "499999            NaN            NaN  "
      ]
     },
     "execution_count": 15,
     "metadata": {},
     "output_type": "execute_result"
    }
   ],
   "source": [
    "df.tail()"
   ]
  },
  {
   "cell_type": "code",
   "execution_count": 17,
   "metadata": {},
   "outputs": [
    {
     "name": "stdout",
     "output_type": "stream",
     "text": [
      "[########################################] | 100% Completed |  0.1s\n",
      "0     20000\n",
      "1     20000\n",
      "2     20000\n",
      "3     20000\n",
      "4     20000\n",
      "5     20000\n",
      "6     20000\n",
      "7     19999\n",
      "8     20000\n",
      "9     20000\n",
      "10    20000\n",
      "11    20000\n",
      "12    20000\n",
      "13    20000\n",
      "14    20000\n",
      "15    20000\n",
      "16    20000\n",
      "17    20000\n",
      "18    20000\n",
      "19    20000\n",
      "20    20000\n",
      "21    20000\n",
      "22    20000\n",
      "23    20000\n",
      "24    20000\n",
      "dtype: int64\n"
     ]
    }
   ],
   "source": [
    "with ProgressBar():\n",
    "    print(df.map_partitions(len).compute())"
   ]
  },
  {
   "cell_type": "code",
   "execution_count": null,
   "metadata": {},
   "outputs": [],
   "source": []
  }
 ],
 "metadata": {
  "kernelspec": {
   "display_name": "Python 3",
   "language": "python",
   "name": "python3"
  },
  "language_info": {
   "codemirror_mode": {
    "name": "ipython",
    "version": 3
   },
   "file_extension": ".py",
   "mimetype": "text/x-python",
   "name": "python",
   "nbconvert_exporter": "python",
   "pygments_lexer": "ipython3",
   "version": "3.7.7-final"
  }
 },
 "nbformat": 4,
 "nbformat_minor": 4
}