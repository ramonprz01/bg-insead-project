{
 "cells": [
  {
   "cell_type": "markdown",
   "metadata": {},
   "source": [
    "# Clustering Test"
   ]
  },
  {
   "cell_type": "code",
   "execution_count": 97,
   "metadata": {},
   "outputs": [],
   "source": [
    "import pandas as pd\n",
    "import numpy as np\n",
    "import concurrent.futures as cf\n",
    "import matplotlib.pyplot as plt\n",
    "import seaborn as sns\n",
    "from pprint import pprint\n",
    "\n",
    "pd.set_option('display.max_columns', None)\n",
    "\n",
    "%matplotlib inline"
   ]
  },
  {
   "cell_type": "code",
   "execution_count": 100,
   "metadata": {},
   "outputs": [
    {
     "name": "stdout",
     "output_type": "stream",
     "text": [
      "CPU times: user 19.3 s, sys: 20.4 s, total: 39.7 s\n",
      "Wall time: 1min 4s\n"
     ]
    },
    {
     "data": {
      "text/html": [
       "<div>\n",
       "<style scoped>\n",
       "    .dataframe tbody tr th:only-of-type {\n",
       "        vertical-align: middle;\n",
       "    }\n",
       "\n",
       "    .dataframe tbody tr th {\n",
       "        vertical-align: top;\n",
       "    }\n",
       "\n",
       "    .dataframe thead th {\n",
       "        text-align: right;\n",
       "    }\n",
       "</style>\n",
       "<table border=\"1\" class=\"dataframe\">\n",
       "  <thead>\n",
       "    <tr style=\"text-align: right;\">\n",
       "      <th></th>\n",
       "      <th>Language</th>\n",
       "      <th>CanonCity</th>\n",
       "      <th>CanonState</th>\n",
       "      <th>CleanJobTitle</th>\n",
       "      <th>JobDate</th>\n",
       "      <th>JobText</th>\n",
       "      <th>JobID</th>\n",
       "      <th>Latitude</th>\n",
       "      <th>Longitude</th>\n",
       "      <th>CanonPostalCode</th>\n",
       "      <th>CanonCounty</th>\n",
       "      <th>DivisionCode</th>\n",
       "      <th>LMA</th>\n",
       "      <th>MSA</th>\n",
       "      <th>CanonEmployer</th>\n",
       "      <th>CanonJobTitle</th>\n",
       "      <th>ConsolidatedONET</th>\n",
       "      <th>CanonIntermediary</th>\n",
       "      <th>InternshipFlag</th>\n",
       "      <th>Source</th>\n",
       "      <th>CanonSkillClusters</th>\n",
       "      <th>CanonSkills</th>\n",
       "      <th>IsDuplicate</th>\n",
       "      <th>CanonMinimumDegree</th>\n",
       "      <th>CanonRequiredDegrees</th>\n",
       "      <th>CIPCode</th>\n",
       "      <th>MinExperience</th>\n",
       "      <th>ConsolidatedInferredNAICS</th>\n",
       "      <th>BGTOcc</th>\n",
       "      <th>MaxAnnualSalary</th>\n",
       "      <th>MaxHourlySalary</th>\n",
       "      <th>MinAnnualSalary</th>\n",
       "      <th>MinHourlySalary</th>\n",
       "      <th>CanonJobHours</th>\n",
       "      <th>CanonJobType</th>\n",
       "      <th>CanonYearsOfExperienceCanonLevel</th>\n",
       "      <th>CanonYearsOfExperienceLevel</th>\n",
       "      <th>ConsolidatedDegreeLevels</th>\n",
       "      <th>ConsolidatedTitle</th>\n",
       "      <th>MaxDegreeLevel</th>\n",
       "      <th>MinDegreeLevel</th>\n",
       "      <th>BGTSubOcc</th>\n",
       "      <th>YearsOfExperience</th>\n",
       "    </tr>\n",
       "  </thead>\n",
       "  <tbody>\n",
       "    <tr>\n",
       "      <th>0</th>\n",
       "      <td>en</td>\n",
       "      <td>Irvine</td>\n",
       "      <td>CA</td>\n",
       "      <td>Pt Faculty Pool - Recycling &amp; Zero Waste</td>\n",
       "      <td>2013-01-03</td>\n",
       "      <td>Posting Details South Orange County Community ...</td>\n",
       "      <td>110103522</td>\n",
       "      <td>33.6881</td>\n",
       "      <td>-117.7880</td>\n",
       "      <td>92604</td>\n",
       "      <td>Orange</td>\n",
       "      <td>11244.0</td>\n",
       "      <td>DV064204|MT063110</td>\n",
       "      <td>31080: Metropolitan Statistical Area|348: Comb...</td>\n",
       "      <td>Saddleback College</td>\n",
       "      <td>NaN</td>\n",
       "      <td>25-119900</td>\n",
       "      <td>NaN</td>\n",
       "      <td>0</td>\n",
       "      <td>Education</td>\n",
       "      <td>Education and Training: Instructional and Curr...</td>\n",
       "      <td>{'Course Development': 'Education and Training...</td>\n",
       "      <td>False</td>\n",
       "      <td>Bachelor of Arts</td>\n",
       "      <td>Bachelor of Arts|Bachelor's|Master's</td>\n",
       "      <td>030103</td>\n",
       "      <td>6.0</td>\n",
       "      <td>6113.0</td>\n",
       "      <td>25-1199.91</td>\n",
       "      <td>NaN</td>\n",
       "      <td>NaN</td>\n",
       "      <td>NaN</td>\n",
       "      <td>NaN</td>\n",
       "      <td>fulltime</td>\n",
       "      <td>permanent</td>\n",
       "      <td>1-6</td>\n",
       "      <td>mid</td>\n",
       "      <td>16|18</td>\n",
       "      <td>Pt Faculty Pool - Recycling &amp; Zero Waste</td>\n",
       "      <td>18.0</td>\n",
       "      <td>16.0</td>\n",
       "      <td>College Professor / Instructor</td>\n",
       "      <td>2) years|6) years|Two years</td>\n",
       "    </tr>\n",
       "    <tr>\n",
       "      <th>1</th>\n",
       "      <td>en</td>\n",
       "      <td>Marbury</td>\n",
       "      <td>MD</td>\n",
       "      <td>Class A Cdl Truck Driver</td>\n",
       "      <td>2013-11-20</td>\n",
       "      <td>Experienced Class A CDL Truck Drivers (20658)</td>\n",
       "      <td>255851194</td>\n",
       "      <td>38.5624</td>\n",
       "      <td>-77.1639</td>\n",
       "      <td>20658</td>\n",
       "      <td>Charles</td>\n",
       "      <td>47894.0</td>\n",
       "      <td>DV114789|MT114790</td>\n",
       "      <td>47900: Metropolitan Statistical Area|548: Comb...</td>\n",
       "      <td>Usa Truck</td>\n",
       "      <td>Class A CDL Truck Driver</td>\n",
       "      <td>53-303200</td>\n",
       "      <td>NaN</td>\n",
       "      <td>0</td>\n",
       "      <td>Job Board</td>\n",
       "      <td>NaN</td>\n",
       "      <td>{}</td>\n",
       "      <td>False</td>\n",
       "      <td>NaN</td>\n",
       "      <td>NaN</td>\n",
       "      <td>NaN</td>\n",
       "      <td>NaN</td>\n",
       "      <td>484.0</td>\n",
       "      <td>53-3032.00</td>\n",
       "      <td>NaN</td>\n",
       "      <td>NaN</td>\n",
       "      <td>NaN</td>\n",
       "      <td>NaN</td>\n",
       "      <td>NaN</td>\n",
       "      <td>NaN</td>\n",
       "      <td>NaN</td>\n",
       "      <td>NaN</td>\n",
       "      <td>NaN</td>\n",
       "      <td>Class A CDL Truck Driver</td>\n",
       "      <td>NaN</td>\n",
       "      <td>NaN</td>\n",
       "      <td>Tractor-Trailer Truck Driver (General)</td>\n",
       "      <td>NaN</td>\n",
       "    </tr>\n",
       "    <tr>\n",
       "      <th>2</th>\n",
       "      <td>en</td>\n",
       "      <td>Auburn</td>\n",
       "      <td>AL</td>\n",
       "      <td>Apartment Community Maintenance Technician - S...</td>\n",
       "      <td>2013-09-06</td>\n",
       "      <td>Posted: 2013-09-05, 4:16PM EDT\\n\\nApartment Co...</td>\n",
       "      <td>246911326</td>\n",
       "      <td>32.5824</td>\n",
       "      <td>-85.5126</td>\n",
       "      <td>36830</td>\n",
       "      <td>Lee</td>\n",
       "      <td>NaN</td>\n",
       "      <td>MT011222</td>\n",
       "      <td>12220: Metropolitan Statistical Area</td>\n",
       "      <td>NaN</td>\n",
       "      <td>Maintenance Technician</td>\n",
       "      <td>49-907100</td>\n",
       "      <td>NaN</td>\n",
       "      <td>0</td>\n",
       "      <td>FreeJobBoard</td>\n",
       "      <td>Maintenance, Repair, and Installation: HVAC;Sp...</td>\n",
       "      <td>{'HVAC': 'Maintenance, Repair, and Installatio...</td>\n",
       "      <td>False</td>\n",
       "      <td>Higher Secondary Certificate</td>\n",
       "      <td>Higher Secondary Certificate</td>\n",
       "      <td>NaN</td>\n",
       "      <td>2.0</td>\n",
       "      <td>NaN</td>\n",
       "      <td>49-9071.91</td>\n",
       "      <td>NaN</td>\n",
       "      <td>NaN</td>\n",
       "      <td>NaN</td>\n",
       "      <td>NaN</td>\n",
       "      <td>NaN</td>\n",
       "      <td>NaN</td>\n",
       "      <td>1-6</td>\n",
       "      <td>mid</td>\n",
       "      <td>12</td>\n",
       "      <td>Maintenance Technician</td>\n",
       "      <td>NaN</td>\n",
       "      <td>12.0</td>\n",
       "      <td>Building and General Maintenance Technician</td>\n",
       "      <td>minimum of six months|two years</td>\n",
       "    </tr>\n",
       "    <tr>\n",
       "      <th>3</th>\n",
       "      <td>en</td>\n",
       "      <td>Anchorage</td>\n",
       "      <td>AK</td>\n",
       "      <td>Registered Nurse - All Specialties And Shifts</td>\n",
       "      <td>2013-08-30</td>\n",
       "      <td>Description:\\n*  Registered Nurses - All Spec...</td>\n",
       "      <td>244857419</td>\n",
       "      <td>61.2157</td>\n",
       "      <td>-149.8690</td>\n",
       "      <td>99501</td>\n",
       "      <td>Anchorage</td>\n",
       "      <td>NaN</td>\n",
       "      <td>MT021126</td>\n",
       "      <td>11260: Metropolitan Statistical Area</td>\n",
       "      <td>Nadiagruzd</td>\n",
       "      <td>Registered Nurse</td>\n",
       "      <td>29-114100</td>\n",
       "      <td>NaN</td>\n",
       "      <td>0</td>\n",
       "      <td>Recruiter</td>\n",
       "      <td>NaN</td>\n",
       "      <td>{}</td>\n",
       "      <td>False</td>\n",
       "      <td>NaN</td>\n",
       "      <td>NaN</td>\n",
       "      <td>NaN</td>\n",
       "      <td>NaN</td>\n",
       "      <td>62.0</td>\n",
       "      <td>29-1141.00</td>\n",
       "      <td>NaN</td>\n",
       "      <td>NaN</td>\n",
       "      <td>NaN</td>\n",
       "      <td>NaN</td>\n",
       "      <td>NaN</td>\n",
       "      <td>NaN</td>\n",
       "      <td>NaN</td>\n",
       "      <td>NaN</td>\n",
       "      <td>NaN</td>\n",
       "      <td>Registered Nurse</td>\n",
       "      <td>NaN</td>\n",
       "      <td>NaN</td>\n",
       "      <td>Registered Nurse</td>\n",
       "      <td>NaN</td>\n",
       "    </tr>\n",
       "    <tr>\n",
       "      <th>4</th>\n",
       "      <td>en</td>\n",
       "      <td>Madison</td>\n",
       "      <td>WI</td>\n",
       "      <td>Project Manager</td>\n",
       "      <td>2013-11-30</td>\n",
       "      <td>Apex Systems, Inc      Skills:      Project ma...</td>\n",
       "      <td>420796045</td>\n",
       "      <td>43.1153</td>\n",
       "      <td>-89.5249</td>\n",
       "      <td>53562</td>\n",
       "      <td>Dane</td>\n",
       "      <td>NaN</td>\n",
       "      <td>MT553154</td>\n",
       "      <td>31540: Metropolitan Statistical Area</td>\n",
       "      <td>NaN</td>\n",
       "      <td>NaN</td>\n",
       "      <td>15-119909</td>\n",
       "      <td>Apex Systems, Inc.</td>\n",
       "      <td>0</td>\n",
       "      <td>Job intermediary</td>\n",
       "      <td>Finance: Cost Accounting;Specialized Skills|Ma...</td>\n",
       "      <td>{'Cost Analysis': 'Finance: Cost Accounting;Sp...</td>\n",
       "      <td>False</td>\n",
       "      <td>NaN</td>\n",
       "      <td>NaN</td>\n",
       "      <td>NaN</td>\n",
       "      <td>7.0</td>\n",
       "      <td>NaN</td>\n",
       "      <td>15-1199.95</td>\n",
       "      <td>NaN</td>\n",
       "      <td>NaN</td>\n",
       "      <td>NaN</td>\n",
       "      <td>NaN</td>\n",
       "      <td>fulltime</td>\n",
       "      <td>permanent</td>\n",
       "      <td>6+</td>\n",
       "      <td>high</td>\n",
       "      <td>NaN</td>\n",
       "      <td>Project Manager</td>\n",
       "      <td>NaN</td>\n",
       "      <td>NaN</td>\n",
       "      <td>IT Project Manager</td>\n",
       "      <td>7 years|5 years|3 years</td>\n",
       "    </tr>\n",
       "  </tbody>\n",
       "</table>\n",
       "</div>"
      ],
      "text/plain": [
       "  Language  CanonCity CanonState  \\\n",
       "0       en     Irvine         CA   \n",
       "1       en    Marbury         MD   \n",
       "2       en     Auburn         AL   \n",
       "3       en  Anchorage         AK   \n",
       "4       en    Madison         WI   \n",
       "\n",
       "                                       CleanJobTitle    JobDate  \\\n",
       "0           Pt Faculty Pool - Recycling & Zero Waste 2013-01-03   \n",
       "1                           Class A Cdl Truck Driver 2013-11-20   \n",
       "2  Apartment Community Maintenance Technician - S... 2013-09-06   \n",
       "3      Registered Nurse - All Specialties And Shifts 2013-08-30   \n",
       "4                                    Project Manager 2013-11-30   \n",
       "\n",
       "                                             JobText      JobID  Latitude  \\\n",
       "0  Posting Details South Orange County Community ...  110103522   33.6881   \n",
       "1      Experienced Class A CDL Truck Drivers (20658)  255851194   38.5624   \n",
       "2  Posted: 2013-09-05, 4:16PM EDT\\n\\nApartment Co...  246911326   32.5824   \n",
       "3   Description:\\n*  Registered Nurses - All Spec...  244857419   61.2157   \n",
       "4  Apex Systems, Inc      Skills:      Project ma...  420796045   43.1153   \n",
       "\n",
       "   Longitude CanonPostalCode CanonCounty  DivisionCode                LMA  \\\n",
       "0  -117.7880           92604      Orange       11244.0  DV064204|MT063110   \n",
       "1   -77.1639           20658     Charles       47894.0  DV114789|MT114790   \n",
       "2   -85.5126           36830         Lee           NaN           MT011222   \n",
       "3  -149.8690           99501   Anchorage           NaN           MT021126   \n",
       "4   -89.5249           53562        Dane           NaN           MT553154   \n",
       "\n",
       "                                                 MSA       CanonEmployer  \\\n",
       "0  31080: Metropolitan Statistical Area|348: Comb...  Saddleback College   \n",
       "1  47900: Metropolitan Statistical Area|548: Comb...           Usa Truck   \n",
       "2               12220: Metropolitan Statistical Area                 NaN   \n",
       "3               11260: Metropolitan Statistical Area          Nadiagruzd   \n",
       "4               31540: Metropolitan Statistical Area                 NaN   \n",
       "\n",
       "              CanonJobTitle ConsolidatedONET   CanonIntermediary  \\\n",
       "0                       NaN        25-119900                 NaN   \n",
       "1  Class A CDL Truck Driver        53-303200                 NaN   \n",
       "2    Maintenance Technician        49-907100                 NaN   \n",
       "3          Registered Nurse        29-114100                 NaN   \n",
       "4                       NaN        15-119909  Apex Systems, Inc.   \n",
       "\n",
       "   InternshipFlag            Source  \\\n",
       "0               0         Education   \n",
       "1               0         Job Board   \n",
       "2               0      FreeJobBoard   \n",
       "3               0         Recruiter   \n",
       "4               0  Job intermediary   \n",
       "\n",
       "                                  CanonSkillClusters  \\\n",
       "0  Education and Training: Instructional and Curr...   \n",
       "1                                                NaN   \n",
       "2  Maintenance, Repair, and Installation: HVAC;Sp...   \n",
       "3                                                NaN   \n",
       "4  Finance: Cost Accounting;Specialized Skills|Ma...   \n",
       "\n",
       "                                         CanonSkills  IsDuplicate  \\\n",
       "0  {'Course Development': 'Education and Training...        False   \n",
       "1                                                 {}        False   \n",
       "2  {'HVAC': 'Maintenance, Repair, and Installatio...        False   \n",
       "3                                                 {}        False   \n",
       "4  {'Cost Analysis': 'Finance: Cost Accounting;Sp...        False   \n",
       "\n",
       "             CanonMinimumDegree                  CanonRequiredDegrees CIPCode  \\\n",
       "0              Bachelor of Arts  Bachelor of Arts|Bachelor's|Master's  030103   \n",
       "1                           NaN                                   NaN     NaN   \n",
       "2  Higher Secondary Certificate          Higher Secondary Certificate     NaN   \n",
       "3                           NaN                                   NaN     NaN   \n",
       "4                           NaN                                   NaN     NaN   \n",
       "\n",
       "   MinExperience  ConsolidatedInferredNAICS      BGTOcc  MaxAnnualSalary  \\\n",
       "0            6.0                     6113.0  25-1199.91              NaN   \n",
       "1            NaN                      484.0  53-3032.00              NaN   \n",
       "2            2.0                        NaN  49-9071.91              NaN   \n",
       "3            NaN                       62.0  29-1141.00              NaN   \n",
       "4            7.0                        NaN  15-1199.95              NaN   \n",
       "\n",
       "   MaxHourlySalary  MinAnnualSalary  MinHourlySalary CanonJobHours  \\\n",
       "0              NaN              NaN              NaN      fulltime   \n",
       "1              NaN              NaN              NaN           NaN   \n",
       "2              NaN              NaN              NaN           NaN   \n",
       "3              NaN              NaN              NaN           NaN   \n",
       "4              NaN              NaN              NaN      fulltime   \n",
       "\n",
       "  CanonJobType CanonYearsOfExperienceCanonLevel CanonYearsOfExperienceLevel  \\\n",
       "0    permanent                              1-6                         mid   \n",
       "1          NaN                              NaN                         NaN   \n",
       "2          NaN                              1-6                         mid   \n",
       "3          NaN                              NaN                         NaN   \n",
       "4    permanent                               6+                        high   \n",
       "\n",
       "  ConsolidatedDegreeLevels                         ConsolidatedTitle  \\\n",
       "0                    16|18  Pt Faculty Pool - Recycling & Zero Waste   \n",
       "1                      NaN                  Class A CDL Truck Driver   \n",
       "2                       12                    Maintenance Technician   \n",
       "3                      NaN                          Registered Nurse   \n",
       "4                      NaN                           Project Manager   \n",
       "\n",
       "   MaxDegreeLevel  MinDegreeLevel  \\\n",
       "0            18.0            16.0   \n",
       "1             NaN             NaN   \n",
       "2             NaN            12.0   \n",
       "3             NaN             NaN   \n",
       "4             NaN             NaN   \n",
       "\n",
       "                                      BGTSubOcc  \\\n",
       "0                College Professor / Instructor   \n",
       "1        Tractor-Trailer Truck Driver (General)   \n",
       "2  Building and General Maintenance Technician    \n",
       "3                              Registered Nurse   \n",
       "4                            IT Project Manager   \n",
       "\n",
       "                 YearsOfExperience  \n",
       "0      2) years|6) years|Two years  \n",
       "1                              NaN  \n",
       "2  minimum of six months|two years  \n",
       "3                              NaN  \n",
       "4          7 years|5 years|3 years  "
      ]
     },
     "execution_count": 100,
     "metadata": {},
     "output_type": "execute_result"
    }
   ],
   "source": [
    "%%time\n",
    "\n",
    "df = pd.read_csv('/Volumes/LaCie SSD/bgdata/random_data/all_years_rand_samp.csv', parse_dates=['JobDate'], low_memory=False)\n",
    "df.head()"
   ]
  },
  {
   "cell_type": "markdown",
   "metadata": {},
   "source": [
    "# Data Inspection & Cleaning"
   ]
  },
  {
   "cell_type": "code",
   "execution_count": 101,
   "metadata": {},
   "outputs": [
    {
     "name": "stdout",
     "output_type": "stream",
     "text": [
      "<class 'pandas.core.frame.DataFrame'>\n",
      "RangeIndex: 476428 entries, 0 to 476427\n",
      "Data columns (total 43 columns):\n",
      " #   Column                            Non-Null Count   Dtype         \n",
      "---  ------                            --------------   -----         \n",
      " 0   Language                          476428 non-null  object        \n",
      " 1   CanonCity                         466244 non-null  object        \n",
      " 2   CanonState                        476394 non-null  object        \n",
      " 3   CleanJobTitle                     476269 non-null  object        \n",
      " 4   JobDate                           476428 non-null  datetime64[ns]\n",
      " 5   JobText                           473483 non-null  object        \n",
      " 6   JobID                             476428 non-null  int64         \n",
      " 7   Latitude                          466253 non-null  float64       \n",
      " 8   Longitude                         466253 non-null  float64       \n",
      " 9   CanonPostalCode                   465000 non-null  object        \n",
      " 10  CanonCounty                       466140 non-null  object        \n",
      " 11  DivisionCode                      152025 non-null  float64       \n",
      " 12  LMA                               464617 non-null  object        \n",
      " 13  MSA                               453647 non-null  object        \n",
      " 14  CanonEmployer                     302830 non-null  object        \n",
      " 15  CanonJobTitle                     308828 non-null  object        \n",
      " 16  ConsolidatedONET                  459307 non-null  object        \n",
      " 17  CanonIntermediary                 68291 non-null   object        \n",
      " 18  InternshipFlag                    476428 non-null  int64         \n",
      " 19  Source                            461331 non-null  object        \n",
      " 20  CanonSkillClusters                435166 non-null  object        \n",
      " 21  CanonSkills                       476428 non-null  object        \n",
      " 22  IsDuplicate                       476428 non-null  bool          \n",
      " 23  CanonMinimumDegree                225160 non-null  object        \n",
      " 24  CanonRequiredDegrees              199091 non-null  object        \n",
      " 25  CIPCode                           85787 non-null   object        \n",
      " 26  MinExperience                     211785 non-null  float64       \n",
      " 27  ConsolidatedInferredNAICS         366807 non-null  float64       \n",
      " 28  BGTOcc                            444779 non-null  object        \n",
      " 29  MaxAnnualSalary                   84594 non-null   float64       \n",
      " 30  MaxHourlySalary                   84594 non-null   float64       \n",
      " 31  MinAnnualSalary                   84594 non-null   float64       \n",
      " 32  MinHourlySalary                   84594 non-null   float64       \n",
      " 33  CanonJobHours                     223986 non-null  object        \n",
      " 34  CanonJobType                      229971 non-null  object        \n",
      " 35  CanonYearsOfExperienceCanonLevel  222577 non-null  object        \n",
      " 36  CanonYearsOfExperienceLevel       222577 non-null  object        \n",
      " 37  ConsolidatedDegreeLevels          225160 non-null  object        \n",
      " 38  ConsolidatedTitle                 476289 non-null  object        \n",
      " 39  MaxDegreeLevel                    74949 non-null   float64       \n",
      " 40  MinDegreeLevel                    225160 non-null  float64       \n",
      " 41  BGTSubOcc                         444741 non-null  object        \n",
      " 42  YearsOfExperience                 243235 non-null  object        \n",
      "dtypes: bool(1), datetime64[ns](1), float64(11), int64(2), object(28)\n",
      "memory usage: 2.5 GB\n"
     ]
    }
   ],
   "source": [
    "df.info(memory_usage='deep')"
   ]
  },
  {
   "cell_type": "code",
   "execution_count": 102,
   "metadata": {},
   "outputs": [
    {
     "data": {
      "text/plain": [
       "(476428, 43)"
      ]
     },
     "execution_count": 102,
     "metadata": {},
     "output_type": "execute_result"
    }
   ],
   "source": [
    "df.shape"
   ]
  },
  {
   "cell_type": "code",
   "execution_count": 103,
   "metadata": {},
   "outputs": [
    {
     "data": {
      "text/plain": [
       "Language                             0.000000\n",
       "CanonCity                            2.137574\n",
       "CanonState                           0.007136\n",
       "CleanJobTitle                        0.033373\n",
       "JobDate                              0.000000\n",
       "JobText                              0.618142\n",
       "JobID                                0.000000\n",
       "Latitude                             2.135685\n",
       "Longitude                            2.135685\n",
       "CanonPostalCode                      2.398684\n",
       "CanonCounty                          2.159403\n",
       "DivisionCode                        68.090666\n",
       "LMA                                  2.479073\n",
       "MSA                                  4.781625\n",
       "CanonEmployer                       36.437405\n",
       "CanonJobTitle                       35.178453\n",
       "ConsolidatedONET                     3.593618\n",
       "CanonIntermediary                   85.666040\n",
       "InternshipFlag                       0.000000\n",
       "Source                               3.168789\n",
       "CanonSkillClusters                   8.660700\n",
       "CanonSkills                          0.000000\n",
       "IsDuplicate                          0.000000\n",
       "CanonMinimumDegree                  52.739973\n",
       "CanonRequiredDegrees                58.211734\n",
       "CIPCode                             81.993712\n",
       "MinExperience                       55.547323\n",
       "ConsolidatedInferredNAICS           23.008933\n",
       "BGTOcc                               6.642976\n",
       "MaxAnnualSalary                     82.244117\n",
       "MaxHourlySalary                     82.244117\n",
       "MinAnnualSalary                     82.244117\n",
       "MinHourlySalary                     82.244117\n",
       "CanonJobHours                       52.986390\n",
       "CanonJobType                        51.730167\n",
       "CanonYearsOfExperienceCanonLevel    53.282133\n",
       "CanonYearsOfExperienceLevel         53.282133\n",
       "ConsolidatedDegreeLevels            52.739973\n",
       "ConsolidatedTitle                    0.029175\n",
       "MaxDegreeLevel                      84.268557\n",
       "MinDegreeLevel                      52.739973\n",
       "BGTSubOcc                            6.650953\n",
       "YearsOfExperience                   48.946116\n",
       "dtype: float64"
      ]
     },
     "execution_count": 103,
     "metadata": {},
     "output_type": "execute_result"
    }
   ],
   "source": [
    "missing_pct = df.isna().sum() / df.shape[0] * 100\n",
    "missing_pct"
   ]
  },
  {
   "cell_type": "markdown",
   "metadata": {},
   "source": [
    "A lot of the missing values in the `CanonEmployer` variable might be missing due to the job being posted through a recruiting agency. Let's see how many of these missing value have a value available in the `CanonIntermediary` column."
   ]
  },
  {
   "cell_type": "code",
   "execution_count": 104,
   "metadata": {},
   "outputs": [
    {
     "data": {
      "text/plain": [
       "(68284, 43)"
      ]
     },
     "execution_count": 104,
     "metadata": {},
     "output_type": "execute_result"
    }
   ],
   "source": [
    "df.loc[(df['CanonEmployer'].isna()) & (df['CanonIntermediary'].notna()), :].shape"
   ]
  },
  {
   "cell_type": "markdown",
   "metadata": {},
   "source": [
    "As we can see, about ~68,000 missing values in `CanonEmployer` have a matching Recruiting Agency in `CanonIntermediary`."
   ]
  },
  {
   "cell_type": "code",
   "execution_count": 105,
   "metadata": {},
   "outputs": [
    {
     "data": {
      "text/html": [
       "<div>\n",
       "<style scoped>\n",
       "    .dataframe tbody tr th:only-of-type {\n",
       "        vertical-align: middle;\n",
       "    }\n",
       "\n",
       "    .dataframe tbody tr th {\n",
       "        vertical-align: top;\n",
       "    }\n",
       "\n",
       "    .dataframe thead th {\n",
       "        text-align: right;\n",
       "    }\n",
       "</style>\n",
       "<table border=\"1\" class=\"dataframe\">\n",
       "  <thead>\n",
       "    <tr style=\"text-align: right;\">\n",
       "      <th></th>\n",
       "      <th>CanonEmployer</th>\n",
       "      <th>CanonIntermediary</th>\n",
       "    </tr>\n",
       "  </thead>\n",
       "  <tbody>\n",
       "    <tr>\n",
       "      <th>4</th>\n",
       "      <td>NaN</td>\n",
       "      <td>Apex Systems, Inc.</td>\n",
       "    </tr>\n",
       "    <tr>\n",
       "      <th>10</th>\n",
       "      <td>NaN</td>\n",
       "      <td>Nigel Frank International</td>\n",
       "    </tr>\n",
       "    <tr>\n",
       "      <th>12</th>\n",
       "      <td>NaN</td>\n",
       "      <td>Kelly Services</td>\n",
       "    </tr>\n",
       "    <tr>\n",
       "      <th>20</th>\n",
       "      <td>NaN</td>\n",
       "      <td>Elance</td>\n",
       "    </tr>\n",
       "    <tr>\n",
       "      <th>31</th>\n",
       "      <td>NaN</td>\n",
       "      <td>Randstad</td>\n",
       "    </tr>\n",
       "  </tbody>\n",
       "</table>\n",
       "</div>"
      ],
      "text/plain": [
       "   CanonEmployer          CanonIntermediary\n",
       "4            NaN         Apex Systems, Inc.\n",
       "10           NaN  Nigel Frank International\n",
       "12           NaN             Kelly Services\n",
       "20           NaN                     Elance\n",
       "31           NaN                   Randstad"
      ]
     },
     "execution_count": 105,
     "metadata": {},
     "output_type": "execute_result"
    }
   ],
   "source": [
    "df.loc[(df['CanonEmployer'].isna()) & (df['CanonIntermediary'].notna()), ['CanonEmployer', 'CanonIntermediary']].head()"
   ]
  },
  {
   "cell_type": "code",
   "execution_count": 106,
   "metadata": {},
   "outputs": [
    {
     "data": {
      "text/plain": [
       "71464.2"
      ]
     },
     "execution_count": 106,
     "metadata": {},
     "output_type": "execute_result"
    }
   ],
   "source": [
    "df.shape[0] * .15"
   ]
  },
  {
   "cell_type": "markdown",
   "metadata": {},
   "source": [
    "We can also see that the `CanonIntermediary` variable has about `0.15` of non-missing values in it, which is almost the same amount of values missing in the `CanonEmployer` var. Instead of filling in each missing value `CanonEmployer` with its respective recruiting agency for that title, what we will do instead is to fill in those missing values with the title, `Recruiting Agency`."
   ]
  },
  {
   "cell_type": "code",
   "execution_count": 107,
   "metadata": {},
   "outputs": [
    {
     "name": "stdout",
     "output_type": "stream",
     "text": [
      "Missing companies BEFORE adding the Recruitment Agencies: 173598\n"
     ]
    }
   ],
   "source": [
    "print(f'Missing companies BEFORE adding the Recruitment Agencies: {df.CanonEmployer.isna().sum()}')"
   ]
  },
  {
   "cell_type": "code",
   "execution_count": 108,
   "metadata": {},
   "outputs": [],
   "source": [
    "df.loc[(df['CanonEmployer'].isna()) & (df['CanonIntermediary'].notna()), 'CanonEmployer'] = 'Recruiting Agency'"
   ]
  },
  {
   "cell_type": "code",
   "execution_count": 109,
   "metadata": {},
   "outputs": [
    {
     "name": "stdout",
     "output_type": "stream",
     "text": [
      "Missing companies AFTER adding the Recruitment Agencies: 105314\n"
     ]
    }
   ],
   "source": [
    "print(f'Missing companies AFTER adding the Recruitment Agencies: {df.CanonEmployer.isna().sum()}')"
   ]
  },
  {
   "cell_type": "code",
   "execution_count": 110,
   "metadata": {},
   "outputs": [
    {
     "name": "stdout",
     "output_type": "stream",
     "text": [
      "Amount of Unique Employers:  75805\n"
     ]
    }
   ],
   "source": [
    "print('Amount of Unique Employers: ', len(df['CanonEmployer'].unique()))"
   ]
  },
  {
   "cell_type": "code",
   "execution_count": 111,
   "metadata": {},
   "outputs": [],
   "source": [
    "# to_drop_cols = (missing_pct[missing_pct > 75]).index\n",
    "# print(to_drop_cols)\n",
    "# df.drop(to_drop_cols, axis=1, inplace=True)\n",
    "# print(df.shape)"
   ]
  },
  {
   "cell_type": "code",
   "execution_count": 112,
   "metadata": {},
   "outputs": [
    {
     "name": "stdout",
     "output_type": "stream",
     "text": [
      "Amount of Unique Jobs:  271225\n"
     ]
    }
   ],
   "source": [
    "print('Amount of Unique Jobs: ', len(df['CleanJobTitle'].unique()))"
   ]
  },
  {
   "cell_type": "code",
   "execution_count": 113,
   "metadata": {},
   "outputs": [
    {
     "name": "stdout",
     "output_type": "stream",
     "text": [
      "Percentage of Unique Jobs in the Dataset: 56.93\n"
     ]
    }
   ],
   "source": [
    "print('Percentage of Unique Jobs in the Dataset: %.2f' % (len(df['CleanJobTitle'].unique()) / df.shape[0] * 100))"
   ]
  },
  {
   "cell_type": "code",
   "execution_count": 114,
   "metadata": {},
   "outputs": [
    {
     "name": "stdout",
     "output_type": "stream",
     "text": [
      "Observations per Year\n"
     ]
    },
    {
     "data": {
      "text/plain": [
       "year\n",
       "2007    47695\n",
       "2010    40487\n",
       "2011    50144\n",
       "2012    49926\n",
       "2013    25631\n",
       "2014    33690\n",
       "2015    40945\n",
       "2016    43376\n",
       "2017    39534\n",
       "2018    35000\n",
       "2019    35000\n",
       "2020    35000\n",
       "Name: year, dtype: int64"
      ]
     },
     "execution_count": 114,
     "metadata": {},
     "output_type": "execute_result"
    }
   ],
   "source": [
    "df['year'] = df['JobDate'].dt.year\n",
    "print(\"Observations per Year\")\n",
    "df.groupby('year')['year'].count()"
   ]
  },
  {
   "cell_type": "markdown",
   "metadata": {},
   "source": [
    "# More Cleaning"
   ]
  },
  {
   "cell_type": "code",
   "execution_count": 115,
   "metadata": {},
   "outputs": [],
   "source": [
    "df = df[df['CanonEmployer'].notna()]\n",
    "df = df[df['JobText'].notna()]\n",
    "df = df[df['CleanJobTitle'].notna()]"
   ]
  },
  {
   "cell_type": "code",
   "execution_count": 116,
   "metadata": {},
   "outputs": [
    {
     "data": {
      "text/plain": [
       "(368555, 44)"
      ]
     },
     "execution_count": 116,
     "metadata": {},
     "output_type": "execute_result"
    }
   ],
   "source": [
    "df.shape"
   ]
  },
  {
   "cell_type": "code",
   "execution_count": 117,
   "metadata": {},
   "outputs": [],
   "source": [
    "df['clean_text'] = df['JobText'].apply(lambda x: ' '.join(list(filter(None, x.split('\\n')))))\n",
    "df['charac_text_len'] = df['clean_text'].apply(len)\n",
    "df['low_clean'] = df['clean_text'].apply(lambda x: x.lower())"
   ]
  },
  {
   "cell_type": "code",
   "execution_count": 118,
   "metadata": {},
   "outputs": [],
   "source": [
    "df['list_job_text'] = df['clean_text'].apply(lambda x: list(filter(None, x.split())))"
   ]
  },
  {
   "cell_type": "code",
   "execution_count": 119,
   "metadata": {},
   "outputs": [],
   "source": [
    "df['len_job_text'] = df['list_job_text'].apply(len)"
   ]
  },
  {
   "cell_type": "code",
   "execution_count": 120,
   "metadata": {},
   "outputs": [
    {
     "data": {
      "text/plain": [
       "<matplotlib.axes._subplots.AxesSubplot at 0x7feb1e417fd0>"
      ]
     },
     "execution_count": 120,
     "metadata": {},
     "output_type": "execute_result"
    },
    {
     "data": {
      "image/png": "[encoded data removed]",
      "text/plain": [
       "<Figure size 432x288 with 1 Axes>"
      ]
     },
     "metadata": {
      "needs_background": "light"
     },
     "output_type": "display_data"
    }
   ],
   "source": [
    "df['len_job_text'].plot(kind='hist', bins=50)"
   ]
  },
  {
   "cell_type": "code",
   "execution_count": 121,
   "metadata": {},
   "outputs": [
    {
     "data": {
      "text/plain": [
       "count    368555.000000\n",
       "mean        442.574134\n",
       "std         336.774133\n",
       "min           1.000000\n",
       "25%         233.000000\n",
       "50%         391.000000\n",
       "75%         578.000000\n",
       "max        7370.000000\n",
       "Name: len_job_text, dtype: float64"
      ]
     },
     "execution_count": 121,
     "metadata": {},
     "output_type": "execute_result"
    }
   ],
   "source": [
    "df['len_job_text'].describe()"
   ]
  },
  {
   "cell_type": "code",
   "execution_count": 122,
   "metadata": {},
   "outputs": [
    {
     "data": {
      "text/plain": [
       "(342332, 49)"
      ]
     },
     "execution_count": 122,
     "metadata": {},
     "output_type": "execute_result"
    }
   ],
   "source": [
    "df = df.loc[df['len_job_text'] > 75]\n",
    "df.shape"
   ]
  },
  {
   "cell_type": "code",
   "execution_count": 123,
   "metadata": {},
   "outputs": [
    {
     "data": {
      "text/plain": [
       "count    342332.000000\n",
       "mean        474.721735\n",
       "std         327.921201\n",
       "min          76.000000\n",
       "25%         269.000000\n",
       "50%         413.000000\n",
       "75%         595.000000\n",
       "max        7370.000000\n",
       "Name: len_job_text, dtype: float64"
      ]
     },
     "execution_count": 123,
     "metadata": {},
     "output_type": "execute_result"
    }
   ],
   "source": [
    "df['len_job_text'].describe()"
   ]
  },
  {
   "cell_type": "markdown",
   "metadata": {},
   "source": [
    "# Select Random Sample of 100K"
   ]
  },
  {
   "cell_type": "code",
   "execution_count": 124,
   "metadata": {},
   "outputs": [
    {
     "data": {
      "text/html": [
       "<div>\n",
       "<style scoped>\n",
       "    .dataframe tbody tr th:only-of-type {\n",
       "        vertical-align: middle;\n",
       "    }\n",
       "\n",
       "    .dataframe tbody tr th {\n",
       "        vertical-align: top;\n",
       "    }\n",
       "\n",
       "    .dataframe thead th {\n",
       "        text-align: right;\n",
       "    }\n",
       "</style>\n",
       "<table border=\"1\" class=\"dataframe\">\n",
       "  <thead>\n",
       "    <tr style=\"text-align: right;\">\n",
       "      <th></th>\n",
       "      <th>JobDate</th>\n",
       "      <th>CanonEmployer</th>\n",
       "      <th>CleanJobTitle</th>\n",
       "      <th>clean_text</th>\n",
       "    </tr>\n",
       "  </thead>\n",
       "  <tbody>\n",
       "    <tr>\n",
       "      <th>0</th>\n",
       "      <td>2010-11-17</td>\n",
       "      <td>Itech United States</td>\n",
       "      <td>Lsf 0 Administrator</td>\n",
       "      <td>Skills: Lawson LSF 9.0 Administrator Date: 11-...</td>\n",
       "    </tr>\n",
       "    <tr>\n",
       "      <th>1</th>\n",
       "      <td>2020-04-02</td>\n",
       "      <td>Indianapolis Power Light Company</td>\n",
       "      <td>Pd-Engineering Drafter</td>\n",
       "      <td>PD-Engineering Drafter-002060 US, Indianapolis...</td>\n",
       "    </tr>\n",
       "    <tr>\n",
       "      <th>2</th>\n",
       "      <td>2017-02-08</td>\n",
       "      <td>Recruiting Agency</td>\n",
       "      <td>Accounting Assistant</td>\n",
       "      <td>Acounting Assistant Accountemps Redlands, CA 2...</td>\n",
       "    </tr>\n",
       "    <tr>\n",
       "      <th>3</th>\n",
       "      <td>2011-02-26</td>\n",
       "      <td>Recruiting Agency</td>\n",
       "      <td>Sap Abap Consultant</td>\n",
       "      <td>RJT Compuquest provides ERP management consult...</td>\n",
       "    </tr>\n",
       "    <tr>\n",
       "      <th>4</th>\n",
       "      <td>2015-10-07</td>\n",
       "      <td>Recruiting Agency</td>\n",
       "      <td>Development With Angular Js - Outsource Com</td>\n",
       "      <td>Development with angular.js (Portland) - Outso...</td>\n",
       "    </tr>\n",
       "  </tbody>\n",
       "</table>\n",
       "</div>"
      ],
      "text/plain": [
       "     JobDate                     CanonEmployer  \\\n",
       "0 2010-11-17               Itech United States   \n",
       "1 2020-04-02  Indianapolis Power Light Company   \n",
       "2 2017-02-08                 Recruiting Agency   \n",
       "3 2011-02-26                 Recruiting Agency   \n",
       "4 2015-10-07                 Recruiting Agency   \n",
       "\n",
       "                                 CleanJobTitle  \\\n",
       "0                          Lsf 0 Administrator   \n",
       "1                       Pd-Engineering Drafter   \n",
       "2                         Accounting Assistant   \n",
       "3                          Sap Abap Consultant   \n",
       "4  Development With Angular Js - Outsource Com   \n",
       "\n",
       "                                          clean_text  \n",
       "0  Skills: Lawson LSF 9.0 Administrator Date: 11-...  \n",
       "1  PD-Engineering Drafter-002060 US, Indianapolis...  \n",
       "2  Acounting Assistant Accountemps Redlands, CA 2...  \n",
       "3  RJT Compuquest provides ERP management consult...  \n",
       "4  Development with angular.js (Portland) - Outso...  "
      ]
     },
     "execution_count": 124,
     "metadata": {},
     "output_type": "execute_result"
    }
   ],
   "source": [
    "df = df.sample(n=100000)\n",
    "df = df[['JobDate', 'CanonEmployer', 'CleanJobTitle', 'clean_text']]\n",
    "df.reset_index(drop=True, inplace=True)\n",
    "df.head()"
   ]
  },
  {
   "cell_type": "code",
   "execution_count": null,
   "metadata": {},
   "outputs": [],
   "source": []
  }
 ],
 "metadata": {
  "kernelspec": {
   "display_name": "Python 3",
   "language": "python",
   "name": "python3"
  },
  "language_info": {
   "codemirror_mode": {
    "name": "ipython",
    "version": 3
   },
   "file_extension": ".py",
   "mimetype": "text/x-python",
   "name": "python",
   "nbconvert_exporter": "python",
   "pygments_lexer": "ipython3",
   "version": "3.7.7"
  }
 },
 "nbformat": 4,
 "nbformat_minor": 4
}
