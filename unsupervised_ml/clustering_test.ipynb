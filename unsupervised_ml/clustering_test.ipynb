{
 "cells": [
  {
   "cell_type": "markdown",
   "metadata": {},
   "source": [
    "# Clustering Test"
   ]
  },
  {
   "cell_type": "code",
   "execution_count": 1,
   "metadata": {},
   "outputs": [],
   "source": [
    "import pandas as pd\n",
    "import numpy as np\n",
    "import concurrent.futures as cf\n",
    "import matplotlib.pyplot as plt\n",
    "import seaborn as sns\n",
    "from pprint import pprint\n",
    "\n",
    "\n",
    "%matplotlib inline"
   ]
  },
  {
   "cell_type": "code",
   "execution_count": 2,
   "metadata": {},
   "outputs": [
    {
     "name": "stdout",
     "output_type": "stream",
     "text": [
      "CPU times: user 15.6 s, sys: 4.6 s, total: 20.2 s\n",
      "Wall time: 21.3 s\n"
     ]
    },
    {
     "data": {
      "text/html": [
       "<div>\n",
       "<style scoped>\n",
       "    .dataframe tbody tr th:only-of-type {\n",
       "        vertical-align: middle;\n",
       "    }\n",
       "\n",
       "    .dataframe tbody tr th {\n",
       "        vertical-align: top;\n",
       "    }\n",
       "\n",
       "    .dataframe thead th {\n",
       "        text-align: right;\n",
       "    }\n",
       "</style>\n",
       "<table border=\"1\" class=\"dataframe\">\n",
       "  <thead>\n",
       "    <tr style=\"text-align: right;\">\n",
       "      <th></th>\n",
       "      <th>Language</th>\n",
       "      <th>CanonCity</th>\n",
       "      <th>CanonState</th>\n",
       "      <th>CleanJobTitle</th>\n",
       "      <th>JobDate</th>\n",
       "      <th>JobText</th>\n",
       "      <th>JobID</th>\n",
       "      <th>Latitude</th>\n",
       "      <th>Longitude</th>\n",
       "      <th>CanonPostalCode</th>\n",
       "      <th>...</th>\n",
       "      <th>CanonJobHours</th>\n",
       "      <th>CanonJobType</th>\n",
       "      <th>CanonYearsOfExperienceCanonLevel</th>\n",
       "      <th>CanonYearsOfExperienceLevel</th>\n",
       "      <th>ConsolidatedDegreeLevels</th>\n",
       "      <th>ConsolidatedTitle</th>\n",
       "      <th>MaxDegreeLevel</th>\n",
       "      <th>MinDegreeLevel</th>\n",
       "      <th>BGTSubOcc</th>\n",
       "      <th>YearsOfExperience</th>\n",
       "    </tr>\n",
       "  </thead>\n",
       "  <tbody>\n",
       "    <tr>\n",
       "      <th>0</th>\n",
       "      <td>en</td>\n",
       "      <td>Irvine</td>\n",
       "      <td>CA</td>\n",
       "      <td>Pt Faculty Pool - Recycling &amp; Zero Waste</td>\n",
       "      <td>2013-01-03</td>\n",
       "      <td>Posting Details South Orange County Community ...</td>\n",
       "      <td>110103522</td>\n",
       "      <td>33.6881</td>\n",
       "      <td>-117.7880</td>\n",
       "      <td>92604</td>\n",
       "      <td>...</td>\n",
       "      <td>fulltime</td>\n",
       "      <td>permanent</td>\n",
       "      <td>1-6</td>\n",
       "      <td>mid</td>\n",
       "      <td>16|18</td>\n",
       "      <td>Pt Faculty Pool - Recycling &amp; Zero Waste</td>\n",
       "      <td>18.0</td>\n",
       "      <td>16.0</td>\n",
       "      <td>College Professor / Instructor</td>\n",
       "      <td>2) years|6) years|Two years</td>\n",
       "    </tr>\n",
       "    <tr>\n",
       "      <th>1</th>\n",
       "      <td>en</td>\n",
       "      <td>Marbury</td>\n",
       "      <td>MD</td>\n",
       "      <td>Class A Cdl Truck Driver</td>\n",
       "      <td>2013-11-20</td>\n",
       "      <td>Experienced Class A CDL Truck Drivers (20658)</td>\n",
       "      <td>255851194</td>\n",
       "      <td>38.5624</td>\n",
       "      <td>-77.1639</td>\n",
       "      <td>20658</td>\n",
       "      <td>...</td>\n",
       "      <td>NaN</td>\n",
       "      <td>NaN</td>\n",
       "      <td>NaN</td>\n",
       "      <td>NaN</td>\n",
       "      <td>NaN</td>\n",
       "      <td>Class A CDL Truck Driver</td>\n",
       "      <td>NaN</td>\n",
       "      <td>NaN</td>\n",
       "      <td>Tractor-Trailer Truck Driver (General)</td>\n",
       "      <td>NaN</td>\n",
       "    </tr>\n",
       "    <tr>\n",
       "      <th>2</th>\n",
       "      <td>en</td>\n",
       "      <td>Auburn</td>\n",
       "      <td>AL</td>\n",
       "      <td>Apartment Community Maintenance Technician - S...</td>\n",
       "      <td>2013-09-06</td>\n",
       "      <td>Posted: 2013-09-05, 4:16PM EDT\\n\\nApartment Co...</td>\n",
       "      <td>246911326</td>\n",
       "      <td>32.5824</td>\n",
       "      <td>-85.5126</td>\n",
       "      <td>36830</td>\n",
       "      <td>...</td>\n",
       "      <td>NaN</td>\n",
       "      <td>NaN</td>\n",
       "      <td>1-6</td>\n",
       "      <td>mid</td>\n",
       "      <td>12</td>\n",
       "      <td>Maintenance Technician</td>\n",
       "      <td>NaN</td>\n",
       "      <td>12.0</td>\n",
       "      <td>Building and General Maintenance Technician</td>\n",
       "      <td>minimum of six months|two years</td>\n",
       "    </tr>\n",
       "    <tr>\n",
       "      <th>3</th>\n",
       "      <td>en</td>\n",
       "      <td>Anchorage</td>\n",
       "      <td>AK</td>\n",
       "      <td>Registered Nurse - All Specialties And Shifts</td>\n",
       "      <td>2013-08-30</td>\n",
       "      <td>Description:\\n*  Registered Nurses - All Spec...</td>\n",
       "      <td>244857419</td>\n",
       "      <td>61.2157</td>\n",
       "      <td>-149.8690</td>\n",
       "      <td>99501</td>\n",
       "      <td>...</td>\n",
       "      <td>NaN</td>\n",
       "      <td>NaN</td>\n",
       "      <td>NaN</td>\n",
       "      <td>NaN</td>\n",
       "      <td>NaN</td>\n",
       "      <td>Registered Nurse</td>\n",
       "      <td>NaN</td>\n",
       "      <td>NaN</td>\n",
       "      <td>Registered Nurse</td>\n",
       "      <td>NaN</td>\n",
       "    </tr>\n",
       "    <tr>\n",
       "      <th>4</th>\n",
       "      <td>en</td>\n",
       "      <td>Madison</td>\n",
       "      <td>WI</td>\n",
       "      <td>Project Manager</td>\n",
       "      <td>2013-11-30</td>\n",
       "      <td>Apex Systems, Inc      Skills:      Project ma...</td>\n",
       "      <td>420796045</td>\n",
       "      <td>43.1153</td>\n",
       "      <td>-89.5249</td>\n",
       "      <td>53562</td>\n",
       "      <td>...</td>\n",
       "      <td>fulltime</td>\n",
       "      <td>permanent</td>\n",
       "      <td>6+</td>\n",
       "      <td>high</td>\n",
       "      <td>NaN</td>\n",
       "      <td>Project Manager</td>\n",
       "      <td>NaN</td>\n",
       "      <td>NaN</td>\n",
       "      <td>IT Project Manager</td>\n",
       "      <td>7 years|5 years|3 years</td>\n",
       "    </tr>\n",
       "  </tbody>\n",
       "</table>\n",
       "<p>5 rows × 43 columns</p>\n",
       "</div>"
      ],
      "text/plain": [
       "  Language  CanonCity CanonState  \\\n",
       "0       en     Irvine         CA   \n",
       "1       en    Marbury         MD   \n",
       "2       en     Auburn         AL   \n",
       "3       en  Anchorage         AK   \n",
       "4       en    Madison         WI   \n",
       "\n",
       "                                       CleanJobTitle    JobDate  \\\n",
       "0           Pt Faculty Pool - Recycling & Zero Waste 2013-01-03   \n",
       "1                           Class A Cdl Truck Driver 2013-11-20   \n",
       "2  Apartment Community Maintenance Technician - S... 2013-09-06   \n",
       "3      Registered Nurse - All Specialties And Shifts 2013-08-30   \n",
       "4                                    Project Manager 2013-11-30   \n",
       "\n",
       "                                             JobText      JobID  Latitude  \\\n",
       "0  Posting Details South Orange County Community ...  110103522   33.6881   \n",
       "1      Experienced Class A CDL Truck Drivers (20658)  255851194   38.5624   \n",
       "2  Posted: 2013-09-05, 4:16PM EDT\\n\\nApartment Co...  246911326   32.5824   \n",
       "3   Description:\\n*  Registered Nurses - All Spec...  244857419   61.2157   \n",
       "4  Apex Systems, Inc      Skills:      Project ma...  420796045   43.1153   \n",
       "\n",
       "   Longitude CanonPostalCode  ... CanonJobHours  CanonJobType  \\\n",
       "0  -117.7880           92604  ...      fulltime     permanent   \n",
       "1   -77.1639           20658  ...           NaN           NaN   \n",
       "2   -85.5126           36830  ...           NaN           NaN   \n",
       "3  -149.8690           99501  ...           NaN           NaN   \n",
       "4   -89.5249           53562  ...      fulltime     permanent   \n",
       "\n",
       "  CanonYearsOfExperienceCanonLevel CanonYearsOfExperienceLevel  \\\n",
       "0                              1-6                         mid   \n",
       "1                              NaN                         NaN   \n",
       "2                              1-6                         mid   \n",
       "3                              NaN                         NaN   \n",
       "4                               6+                        high   \n",
       "\n",
       "  ConsolidatedDegreeLevels                         ConsolidatedTitle  \\\n",
       "0                    16|18  Pt Faculty Pool - Recycling & Zero Waste   \n",
       "1                      NaN                  Class A CDL Truck Driver   \n",
       "2                       12                    Maintenance Technician   \n",
       "3                      NaN                          Registered Nurse   \n",
       "4                      NaN                           Project Manager   \n",
       "\n",
       "  MaxDegreeLevel MinDegreeLevel                                     BGTSubOcc  \\\n",
       "0           18.0           16.0                College Professor / Instructor   \n",
       "1            NaN            NaN        Tractor-Trailer Truck Driver (General)   \n",
       "2            NaN           12.0  Building and General Maintenance Technician    \n",
       "3            NaN            NaN                              Registered Nurse   \n",
       "4            NaN            NaN                            IT Project Manager   \n",
       "\n",
       "                 YearsOfExperience  \n",
       "0      2) years|6) years|Two years  \n",
       "1                              NaN  \n",
       "2  minimum of six months|two years  \n",
       "3                              NaN  \n",
       "4          7 years|5 years|3 years  \n",
       "\n",
       "[5 rows x 43 columns]"
      ]
     },
     "execution_count": 2,
     "metadata": {},
     "output_type": "execute_result"
    }
   ],
   "source": [
    "%%time\n",
    "\n",
    "df = pd.read_csv('/Volumes/LaCie SSD/bgdata/random_data/all_years_rand_samp.csv', parse_dates=['JobDate'], low_memory=False)\n",
    "df.head()"
   ]
  },
  {
   "cell_type": "markdown",
   "metadata": {},
   "source": [
    "# Data Inspection & Cleaning"
   ]
  },
  {
   "cell_type": "code",
   "execution_count": 3,
   "metadata": {},
   "outputs": [
    {
     "name": "stdout",
     "output_type": "stream",
     "text": [
      "<class 'pandas.core.frame.DataFrame'>\n",
      "RangeIndex: 476428 entries, 0 to 476427\n",
      "Data columns (total 43 columns):\n",
      " #   Column                            Non-Null Count   Dtype         \n",
      "---  ------                            --------------   -----         \n",
      " 0   Language                          476428 non-null  object        \n",
      " 1   CanonCity                         466244 non-null  object        \n",
      " 2   CanonState                        476394 non-null  object        \n",
      " 3   CleanJobTitle                     476269 non-null  object        \n",
      " 4   JobDate                           476428 non-null  datetime64[ns]\n",
      " 5   JobText                           473483 non-null  object        \n",
      " 6   JobID                             476428 non-null  int64         \n",
      " 7   Latitude                          466253 non-null  float64       \n",
      " 8   Longitude                         466253 non-null  float64       \n",
      " 9   CanonPostalCode                   465000 non-null  object        \n",
      " 10  CanonCounty                       466140 non-null  object        \n",
      " 11  DivisionCode                      152025 non-null  float64       \n",
      " 12  LMA                               464617 non-null  object        \n",
      " 13  MSA                               453647 non-null  object        \n",
      " 14  CanonEmployer                     302830 non-null  object        \n",
      " 15  CanonJobTitle                     308828 non-null  object        \n",
      " 16  ConsolidatedONET                  459307 non-null  object        \n",
      " 17  CanonIntermediary                 68291 non-null   object        \n",
      " 18  InternshipFlag                    476428 non-null  int64         \n",
      " 19  Source                            461331 non-null  object        \n",
      " 20  CanonSkillClusters                435166 non-null  object        \n",
      " 21  CanonSkills                       476428 non-null  object        \n",
      " 22  IsDuplicate                       476428 non-null  bool          \n",
      " 23  CanonMinimumDegree                225160 non-null  object        \n",
      " 24  CanonRequiredDegrees              199091 non-null  object        \n",
      " 25  CIPCode                           85787 non-null   object        \n",
      " 26  MinExperience                     211785 non-null  float64       \n",
      " 27  ConsolidatedInferredNAICS         366807 non-null  float64       \n",
      " 28  BGTOcc                            444779 non-null  object        \n",
      " 29  MaxAnnualSalary                   84594 non-null   float64       \n",
      " 30  MaxHourlySalary                   84594 non-null   float64       \n",
      " 31  MinAnnualSalary                   84594 non-null   float64       \n",
      " 32  MinHourlySalary                   84594 non-null   float64       \n",
      " 33  CanonJobHours                     223986 non-null  object        \n",
      " 34  CanonJobType                      229971 non-null  object        \n",
      " 35  CanonYearsOfExperienceCanonLevel  222577 non-null  object        \n",
      " 36  CanonYearsOfExperienceLevel       222577 non-null  object        \n",
      " 37  ConsolidatedDegreeLevels          225160 non-null  object        \n",
      " 38  ConsolidatedTitle                 476289 non-null  object        \n",
      " 39  MaxDegreeLevel                    74949 non-null   float64       \n",
      " 40  MinDegreeLevel                    225160 non-null  float64       \n",
      " 41  BGTSubOcc                         444741 non-null  object        \n",
      " 42  YearsOfExperience                 243235 non-null  object        \n",
      "dtypes: bool(1), datetime64[ns](1), float64(11), int64(2), object(28)\n",
      "memory usage: 2.5 GB\n"
     ]
    }
   ],
   "source": [
    "df.info(memory_usage='deep')"
   ]
  },
  {
   "cell_type": "code",
   "execution_count": 4,
   "metadata": {},
   "outputs": [
    {
     "data": {
      "text/plain": [
       "(476428, 43)"
      ]
     },
     "execution_count": 4,
     "metadata": {},
     "output_type": "execute_result"
    }
   ],
   "source": [
    "df.shape"
   ]
  },
  {
   "cell_type": "code",
   "execution_count": 32,
   "metadata": {},
   "outputs": [
    {
     "data": {
      "text/plain": [
       "Language                             0.000000\n",
       "CanonCity                            2.137574\n",
       "CanonState                           0.007136\n",
       "CleanJobTitle                        0.033373\n",
       "JobDate                              0.000000\n",
       "JobText                              0.618142\n",
       "JobID                                0.000000\n",
       "Latitude                             2.135685\n",
       "Longitude                            2.135685\n",
       "CanonPostalCode                      2.398684\n",
       "CanonCounty                          2.159403\n",
       "DivisionCode                        68.090666\n",
       "LMA                                  2.479073\n",
       "MSA                                  4.781625\n",
       "CanonEmployer                       22.104914\n",
       "CanonJobTitle                       35.178453\n",
       "ConsolidatedONET                     3.593618\n",
       "CanonIntermediary                   85.666040\n",
       "InternshipFlag                       0.000000\n",
       "Source                               3.168789\n",
       "CanonSkillClusters                   8.660700\n",
       "CanonSkills                          0.000000\n",
       "IsDuplicate                          0.000000\n",
       "CanonMinimumDegree                  52.739973\n",
       "CanonRequiredDegrees                58.211734\n",
       "CIPCode                             81.993712\n",
       "MinExperience                       55.547323\n",
       "ConsolidatedInferredNAICS           23.008933\n",
       "BGTOcc                               6.642976\n",
       "MaxAnnualSalary                     82.244117\n",
       "MaxHourlySalary                     82.244117\n",
       "MinAnnualSalary                     82.244117\n",
       "MinHourlySalary                     82.244117\n",
       "CanonJobHours                       52.986390\n",
       "CanonJobType                        51.730167\n",
       "CanonYearsOfExperienceCanonLevel    53.282133\n",
       "CanonYearsOfExperienceLevel         53.282133\n",
       "ConsolidatedDegreeLevels            52.739973\n",
       "ConsolidatedTitle                    0.029175\n",
       "MaxDegreeLevel                      84.268557\n",
       "MinDegreeLevel                      52.739973\n",
       "BGTSubOcc                            6.650953\n",
       "YearsOfExperience                   48.946116\n",
       "year                                 0.000000\n",
       "dtype: float64"
      ]
     },
     "execution_count": 32,
     "metadata": {},
     "output_type": "execute_result"
    }
   ],
   "source": [
    "missing_pct = df.isna().sum() / df.shape[0] * 100\n",
    "missing_pct"
   ]
  },
  {
   "cell_type": "code",
   "execution_count": 34,
   "metadata": {},
   "outputs": [
    {
     "data": {
      "text/plain": [
       "Index(['CanonIntermediary', 'CIPCode', 'MaxAnnualSalary', 'MaxHourlySalary',\n",
       "       'MinAnnualSalary', 'MinHourlySalary', 'MaxDegreeLevel'],\n",
       "      dtype='object')"
      ]
     },
     "execution_count": 34,
     "metadata": {},
     "output_type": "execute_result"
    }
   ],
   "source": [
    "to_drop_cols = (missing_pct[missing_pct > 75]).index\n",
    "to_drop_cols"
   ]
  },
  {
   "cell_type": "code",
   "execution_count": 36,
   "metadata": {},
   "outputs": [
    {
     "data": {
      "text/plain": [
       "(476428, 37)"
      ]
     },
     "execution_count": 36,
     "metadata": {},
     "output_type": "execute_result"
    }
   ],
   "source": [
    "df.drop(to_drop_cols, axis=1, inplace=True)\n",
    "df.shape"
   ]
  },
  {
   "cell_type": "code",
   "execution_count": 9,
   "metadata": {},
   "outputs": [
    {
     "data": {
      "text/plain": [
       "(68284, 43)"
      ]
     },
     "execution_count": 9,
     "metadata": {},
     "output_type": "execute_result"
    }
   ],
   "source": [
    "df.loc[(df['CanonEmployer'].isna()) & (df['CanonIntermediary'].notna()), :].shape"
   ]
  },
  {
   "cell_type": "code",
   "execution_count": 13,
   "metadata": {},
   "outputs": [
    {
     "data": {
      "text/plain": [
       "4     NaN\n",
       "10    NaN\n",
       "12    NaN\n",
       "20    NaN\n",
       "31    NaN\n",
       "Name: CanonEmployer, dtype: object"
      ]
     },
     "execution_count": 13,
     "metadata": {},
     "output_type": "execute_result"
    }
   ],
   "source": [
    "df.loc[(df['CanonEmployer'].isna()) & (df['CanonIntermediary'].notna()), :]['CanonEmployer'].head()"
   ]
  },
  {
   "cell_type": "code",
   "execution_count": 14,
   "metadata": {},
   "outputs": [
    {
     "data": {
      "text/plain": [
       "4            Apex Systems, Inc.\n",
       "10    Nigel Frank International\n",
       "12               Kelly Services\n",
       "20                       Elance\n",
       "31                     Randstad\n",
       "Name: CanonIntermediary, dtype: object"
      ]
     },
     "execution_count": 14,
     "metadata": {},
     "output_type": "execute_result"
    }
   ],
   "source": [
    "df.loc[(df['CanonEmployer'].isna()) & (df['CanonIntermediary'].notna()), :]['CanonIntermediary'].head()"
   ]
  },
  {
   "cell_type": "code",
   "execution_count": 10,
   "metadata": {},
   "outputs": [
    {
     "data": {
      "text/plain": [
       "71464.2"
      ]
     },
     "execution_count": 10,
     "metadata": {},
     "output_type": "execute_result"
    }
   ],
   "source": [
    "df.shape[0] * .15"
   ]
  },
  {
   "cell_type": "code",
   "execution_count": 18,
   "metadata": {},
   "outputs": [],
   "source": [
    "df.loc[(df['CanonEmployer'].isna()) & (df['CanonIntermediary'].notna()), 'CanonEmployer'] = 'Recruiting Agency'"
   ]
  },
  {
   "cell_type": "code",
   "execution_count": 21,
   "metadata": {},
   "outputs": [
    {
     "data": {
      "text/plain": [
       "0    False\n",
       "1    False\n",
       "2     True\n",
       "3    False\n",
       "4    False\n",
       "Name: CanonEmployer, dtype: bool"
      ]
     },
     "execution_count": 21,
     "metadata": {},
     "output_type": "execute_result"
    }
   ],
   "source": [
    "df['CanonEmployer'].isna().head()"
   ]
  },
  {
   "cell_type": "code",
   "execution_count": 23,
   "metadata": {},
   "outputs": [
    {
     "data": {
      "text/plain": [
       "75805"
      ]
     },
     "execution_count": 23,
     "metadata": {},
     "output_type": "execute_result"
    }
   ],
   "source": [
    "len(df['CanonEmployer'].unique())"
   ]
  },
  {
   "cell_type": "code",
   "execution_count": 24,
   "metadata": {},
   "outputs": [
    {
     "data": {
      "text/plain": [
       "271225"
      ]
     },
     "execution_count": 24,
     "metadata": {},
     "output_type": "execute_result"
    }
   ],
   "source": [
    "len(df['CleanJobTitle'].unique())"
   ]
  },
  {
   "cell_type": "code",
   "execution_count": 25,
   "metadata": {},
   "outputs": [
    {
     "data": {
      "text/plain": [
       "56.92885388768083"
      ]
     },
     "execution_count": 25,
     "metadata": {},
     "output_type": "execute_result"
    }
   ],
   "source": [
    "len(df['CleanJobTitle'].unique()) / df.shape[0] * 100"
   ]
  },
  {
   "cell_type": "code",
   "execution_count": 29,
   "metadata": {},
   "outputs": [
    {
     "data": {
      "text/plain": [
       "array([2013, 2007, 2020, 2017, 2019, 2011, 2018, 2010, 2016, 2012, 2015,\n",
       "       2014])"
      ]
     },
     "execution_count": 29,
     "metadata": {},
     "output_type": "execute_result"
    }
   ],
   "source": [
    "(df['JobDate'].dt.year.unique())"
   ]
  },
  {
   "cell_type": "code",
   "execution_count": 30,
   "metadata": {},
   "outputs": [],
   "source": [
    "df['year'] = df['JobDate'].dt.year"
   ]
  },
  {
   "cell_type": "code",
   "execution_count": 31,
   "metadata": {},
   "outputs": [
    {
     "data": {
      "text/plain": [
       "year\n",
       "2007    47695\n",
       "2010    40487\n",
       "2011    50144\n",
       "2012    49926\n",
       "2013    25631\n",
       "2014    33690\n",
       "2015    40945\n",
       "2016    43376\n",
       "2017    39534\n",
       "2018    35000\n",
       "2019    35000\n",
       "2020    35000\n",
       "Name: year, dtype: int64"
      ]
     },
     "execution_count": 31,
     "metadata": {},
     "output_type": "execute_result"
    }
   ],
   "source": [
    "df.groupby('year')['year'].count()"
   ]
  },
  {
   "cell_type": "code",
   "execution_count": null,
   "metadata": {},
   "outputs": [],
   "source": []
  }
 ],
 "metadata": {
  "kernelspec": {
   "display_name": "Python 3",
   "language": "python",
   "name": "python3"
  },
  "language_info": {
   "codemirror_mode": {
    "name": "ipython",
    "version": 3
   },
   "file_extension": ".py",
   "mimetype": "text/x-python",
   "name": "python",
   "nbconvert_exporter": "python",
   "pygments_lexer": "ipython3",
   "version": "3.7.7"
  }
 },
 "nbformat": 4,
 "nbformat_minor": 4
}
