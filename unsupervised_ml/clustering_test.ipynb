{
 "cells": [
  {
   "cell_type": "markdown",
   "metadata": {},
   "source": [
    "# Clustering Test"
   ]
  },
  {
   "cell_type": "code",
   "execution_count": 13,
   "metadata": {},
   "outputs": [],
   "source": [
    "import pandas as pd\n",
    "import numpy as np\n",
    "import concurrent.futures as cf\n",
    "import matplotlib.pyplot as plt\n",
    "import seaborn as sns\n",
    "from pprint import pprint\n",
    "import nltk\n",
    "import re\n",
    "from sklearn.feature_extraction.text import TfidfVectorizer\n",
    "from sklearn.metrics.pairwise import cosine_similarity\n",
    "from sklearn.feature_extraction.text import CountVectorizer\n",
    "from sklearn.cluster import KMeans\n",
    "from collections import Counter\n",
    "\n",
    "pd.set_option('display.max_columns', None)\n",
    "\n",
    "%matplotlib inline"
   ]
  },
  {
   "cell_type": "code",
   "execution_count": 33,
   "metadata": {},
   "outputs": [],
   "source": [
    "path_in = '~/Dropbox/Burning Glass/Data/random_data/'\n",
    "path_out = '~/Dropbox/Burning Glass/Analysis/unsupervised_approach/'"
   ]
  },
  {
   "cell_type": "code",
   "execution_count": 3,
   "metadata": {},
   "outputs": [
    {
     "name": "stdout",
     "output_type": "stream",
     "text": [
      "CPU times: user 16.8 s, sys: 6.91 s, total: 23.7 s\n",
      "Wall time: 29.2 s\n"
     ]
    },
    {
     "data": {
      "text/html": [
       "<div>\n",
       "<style scoped>\n",
       "    .dataframe tbody tr th:only-of-type {\n",
       "        vertical-align: middle;\n",
       "    }\n",
       "\n",
       "    .dataframe tbody tr th {\n",
       "        vertical-align: top;\n",
       "    }\n",
       "\n",
       "    .dataframe thead th {\n",
       "        text-align: right;\n",
       "    }\n",
       "</style>\n",
       "<table border=\"1\" class=\"dataframe\">\n",
       "  <thead>\n",
       "    <tr style=\"text-align: right;\">\n",
       "      <th></th>\n",
       "      <th>Language</th>\n",
       "      <th>CanonCity</th>\n",
       "      <th>CanonState</th>\n",
       "      <th>CleanJobTitle</th>\n",
       "      <th>JobDate</th>\n",
       "      <th>JobText</th>\n",
       "      <th>JobID</th>\n",
       "      <th>Latitude</th>\n",
       "      <th>Longitude</th>\n",
       "      <th>CanonPostalCode</th>\n",
       "      <th>CanonCounty</th>\n",
       "      <th>DivisionCode</th>\n",
       "      <th>LMA</th>\n",
       "      <th>MSA</th>\n",
       "      <th>CanonEmployer</th>\n",
       "      <th>CanonJobTitle</th>\n",
       "      <th>ConsolidatedONET</th>\n",
       "      <th>CanonIntermediary</th>\n",
       "      <th>InternshipFlag</th>\n",
       "      <th>Source</th>\n",
       "      <th>CanonSkillClusters</th>\n",
       "      <th>CanonSkills</th>\n",
       "      <th>IsDuplicate</th>\n",
       "      <th>CanonMinimumDegree</th>\n",
       "      <th>CanonRequiredDegrees</th>\n",
       "      <th>CIPCode</th>\n",
       "      <th>MinExperience</th>\n",
       "      <th>ConsolidatedInferredNAICS</th>\n",
       "      <th>BGTOcc</th>\n",
       "      <th>MaxAnnualSalary</th>\n",
       "      <th>MaxHourlySalary</th>\n",
       "      <th>MinAnnualSalary</th>\n",
       "      <th>MinHourlySalary</th>\n",
       "      <th>CanonJobHours</th>\n",
       "      <th>CanonJobType</th>\n",
       "      <th>CanonYearsOfExperienceCanonLevel</th>\n",
       "      <th>CanonYearsOfExperienceLevel</th>\n",
       "      <th>ConsolidatedDegreeLevels</th>\n",
       "      <th>ConsolidatedTitle</th>\n",
       "      <th>MaxDegreeLevel</th>\n",
       "      <th>MinDegreeLevel</th>\n",
       "      <th>BGTSubOcc</th>\n",
       "      <th>YearsOfExperience</th>\n",
       "    </tr>\n",
       "  </thead>\n",
       "  <tbody>\n",
       "    <tr>\n",
       "      <th>0</th>\n",
       "      <td>en</td>\n",
       "      <td>Irvine</td>\n",
       "      <td>CA</td>\n",
       "      <td>Pt Faculty Pool - Recycling &amp; Zero Waste</td>\n",
       "      <td>2013-01-03</td>\n",
       "      <td>Posting Details South Orange County Community ...</td>\n",
       "      <td>110103522</td>\n",
       "      <td>33.6881</td>\n",
       "      <td>-117.7880</td>\n",
       "      <td>92604</td>\n",
       "      <td>Orange</td>\n",
       "      <td>11244.0</td>\n",
       "      <td>DV064204|MT063110</td>\n",
       "      <td>31080: Metropolitan Statistical Area|348: Comb...</td>\n",
       "      <td>Saddleback College</td>\n",
       "      <td>NaN</td>\n",
       "      <td>25-119900</td>\n",
       "      <td>NaN</td>\n",
       "      <td>0</td>\n",
       "      <td>Education</td>\n",
       "      <td>Education and Training: Instructional and Curr...</td>\n",
       "      <td>{'Course Development': 'Education and Training...</td>\n",
       "      <td>False</td>\n",
       "      <td>Bachelor of Arts</td>\n",
       "      <td>Bachelor of Arts|Bachelor's|Master's</td>\n",
       "      <td>030103</td>\n",
       "      <td>6.0</td>\n",
       "      <td>6113.0</td>\n",
       "      <td>25-1199.91</td>\n",
       "      <td>NaN</td>\n",
       "      <td>NaN</td>\n",
       "      <td>NaN</td>\n",
       "      <td>NaN</td>\n",
       "      <td>fulltime</td>\n",
       "      <td>permanent</td>\n",
       "      <td>1-6</td>\n",
       "      <td>mid</td>\n",
       "      <td>16|18</td>\n",
       "      <td>Pt Faculty Pool - Recycling &amp; Zero Waste</td>\n",
       "      <td>18.0</td>\n",
       "      <td>16.0</td>\n",
       "      <td>College Professor / Instructor</td>\n",
       "      <td>2) years|6) years|Two years</td>\n",
       "    </tr>\n",
       "    <tr>\n",
       "      <th>1</th>\n",
       "      <td>en</td>\n",
       "      <td>Marbury</td>\n",
       "      <td>MD</td>\n",
       "      <td>Class A Cdl Truck Driver</td>\n",
       "      <td>2013-11-20</td>\n",
       "      <td>Experienced Class A CDL Truck Drivers (20658)</td>\n",
       "      <td>255851194</td>\n",
       "      <td>38.5624</td>\n",
       "      <td>-77.1639</td>\n",
       "      <td>20658</td>\n",
       "      <td>Charles</td>\n",
       "      <td>47894.0</td>\n",
       "      <td>DV114789|MT114790</td>\n",
       "      <td>47900: Metropolitan Statistical Area|548: Comb...</td>\n",
       "      <td>Usa Truck</td>\n",
       "      <td>Class A CDL Truck Driver</td>\n",
       "      <td>53-303200</td>\n",
       "      <td>NaN</td>\n",
       "      <td>0</td>\n",
       "      <td>Job Board</td>\n",
       "      <td>NaN</td>\n",
       "      <td>{}</td>\n",
       "      <td>False</td>\n",
       "      <td>NaN</td>\n",
       "      <td>NaN</td>\n",
       "      <td>NaN</td>\n",
       "      <td>NaN</td>\n",
       "      <td>484.0</td>\n",
       "      <td>53-3032.00</td>\n",
       "      <td>NaN</td>\n",
       "      <td>NaN</td>\n",
       "      <td>NaN</td>\n",
       "      <td>NaN</td>\n",
       "      <td>NaN</td>\n",
       "      <td>NaN</td>\n",
       "      <td>NaN</td>\n",
       "      <td>NaN</td>\n",
       "      <td>NaN</td>\n",
       "      <td>Class A CDL Truck Driver</td>\n",
       "      <td>NaN</td>\n",
       "      <td>NaN</td>\n",
       "      <td>Tractor-Trailer Truck Driver (General)</td>\n",
       "      <td>NaN</td>\n",
       "    </tr>\n",
       "    <tr>\n",
       "      <th>2</th>\n",
       "      <td>en</td>\n",
       "      <td>Auburn</td>\n",
       "      <td>AL</td>\n",
       "      <td>Apartment Community Maintenance Technician - S...</td>\n",
       "      <td>2013-09-06</td>\n",
       "      <td>Posted: 2013-09-05, 4:16PM EDT\\n\\nApartment Co...</td>\n",
       "      <td>246911326</td>\n",
       "      <td>32.5824</td>\n",
       "      <td>-85.5126</td>\n",
       "      <td>36830</td>\n",
       "      <td>Lee</td>\n",
       "      <td>NaN</td>\n",
       "      <td>MT011222</td>\n",
       "      <td>12220: Metropolitan Statistical Area</td>\n",
       "      <td>NaN</td>\n",
       "      <td>Maintenance Technician</td>\n",
       "      <td>49-907100</td>\n",
       "      <td>NaN</td>\n",
       "      <td>0</td>\n",
       "      <td>FreeJobBoard</td>\n",
       "      <td>Maintenance, Repair, and Installation: HVAC;Sp...</td>\n",
       "      <td>{'HVAC': 'Maintenance, Repair, and Installatio...</td>\n",
       "      <td>False</td>\n",
       "      <td>Higher Secondary Certificate</td>\n",
       "      <td>Higher Secondary Certificate</td>\n",
       "      <td>NaN</td>\n",
       "      <td>2.0</td>\n",
       "      <td>NaN</td>\n",
       "      <td>49-9071.91</td>\n",
       "      <td>NaN</td>\n",
       "      <td>NaN</td>\n",
       "      <td>NaN</td>\n",
       "      <td>NaN</td>\n",
       "      <td>NaN</td>\n",
       "      <td>NaN</td>\n",
       "      <td>1-6</td>\n",
       "      <td>mid</td>\n",
       "      <td>12</td>\n",
       "      <td>Maintenance Technician</td>\n",
       "      <td>NaN</td>\n",
       "      <td>12.0</td>\n",
       "      <td>Building and General Maintenance Technician</td>\n",
       "      <td>minimum of six months|two years</td>\n",
       "    </tr>\n",
       "    <tr>\n",
       "      <th>3</th>\n",
       "      <td>en</td>\n",
       "      <td>Anchorage</td>\n",
       "      <td>AK</td>\n",
       "      <td>Registered Nurse - All Specialties And Shifts</td>\n",
       "      <td>2013-08-30</td>\n",
       "      <td>Description:\\n*  Registered Nurses - All Spec...</td>\n",
       "      <td>244857419</td>\n",
       "      <td>61.2157</td>\n",
       "      <td>-149.8690</td>\n",
       "      <td>99501</td>\n",
       "      <td>Anchorage</td>\n",
       "      <td>NaN</td>\n",
       "      <td>MT021126</td>\n",
       "      <td>11260: Metropolitan Statistical Area</td>\n",
       "      <td>Nadiagruzd</td>\n",
       "      <td>Registered Nurse</td>\n",
       "      <td>29-114100</td>\n",
       "      <td>NaN</td>\n",
       "      <td>0</td>\n",
       "      <td>Recruiter</td>\n",
       "      <td>NaN</td>\n",
       "      <td>{}</td>\n",
       "      <td>False</td>\n",
       "      <td>NaN</td>\n",
       "      <td>NaN</td>\n",
       "      <td>NaN</td>\n",
       "      <td>NaN</td>\n",
       "      <td>62.0</td>\n",
       "      <td>29-1141.00</td>\n",
       "      <td>NaN</td>\n",
       "      <td>NaN</td>\n",
       "      <td>NaN</td>\n",
       "      <td>NaN</td>\n",
       "      <td>NaN</td>\n",
       "      <td>NaN</td>\n",
       "      <td>NaN</td>\n",
       "      <td>NaN</td>\n",
       "      <td>NaN</td>\n",
       "      <td>Registered Nurse</td>\n",
       "      <td>NaN</td>\n",
       "      <td>NaN</td>\n",
       "      <td>Registered Nurse</td>\n",
       "      <td>NaN</td>\n",
       "    </tr>\n",
       "    <tr>\n",
       "      <th>4</th>\n",
       "      <td>en</td>\n",
       "      <td>Madison</td>\n",
       "      <td>WI</td>\n",
       "      <td>Project Manager</td>\n",
       "      <td>2013-11-30</td>\n",
       "      <td>Apex Systems, Inc      Skills:      Project ma...</td>\n",
       "      <td>420796045</td>\n",
       "      <td>43.1153</td>\n",
       "      <td>-89.5249</td>\n",
       "      <td>53562</td>\n",
       "      <td>Dane</td>\n",
       "      <td>NaN</td>\n",
       "      <td>MT553154</td>\n",
       "      <td>31540: Metropolitan Statistical Area</td>\n",
       "      <td>NaN</td>\n",
       "      <td>NaN</td>\n",
       "      <td>15-119909</td>\n",
       "      <td>Apex Systems, Inc.</td>\n",
       "      <td>0</td>\n",
       "      <td>Job intermediary</td>\n",
       "      <td>Finance: Cost Accounting;Specialized Skills|Ma...</td>\n",
       "      <td>{'Cost Analysis': 'Finance: Cost Accounting;Sp...</td>\n",
       "      <td>False</td>\n",
       "      <td>NaN</td>\n",
       "      <td>NaN</td>\n",
       "      <td>NaN</td>\n",
       "      <td>7.0</td>\n",
       "      <td>NaN</td>\n",
       "      <td>15-1199.95</td>\n",
       "      <td>NaN</td>\n",
       "      <td>NaN</td>\n",
       "      <td>NaN</td>\n",
       "      <td>NaN</td>\n",
       "      <td>fulltime</td>\n",
       "      <td>permanent</td>\n",
       "      <td>6+</td>\n",
       "      <td>high</td>\n",
       "      <td>NaN</td>\n",
       "      <td>Project Manager</td>\n",
       "      <td>NaN</td>\n",
       "      <td>NaN</td>\n",
       "      <td>IT Project Manager</td>\n",
       "      <td>7 years|5 years|3 years</td>\n",
       "    </tr>\n",
       "  </tbody>\n",
       "</table>\n",
       "</div>"
      ],
      "text/plain": [
       "  Language  CanonCity CanonState  \\\n",
       "0       en     Irvine         CA   \n",
       "1       en    Marbury         MD   \n",
       "2       en     Auburn         AL   \n",
       "3       en  Anchorage         AK   \n",
       "4       en    Madison         WI   \n",
       "\n",
       "                                       CleanJobTitle    JobDate  \\\n",
       "0           Pt Faculty Pool - Recycling & Zero Waste 2013-01-03   \n",
       "1                           Class A Cdl Truck Driver 2013-11-20   \n",
       "2  Apartment Community Maintenance Technician - S... 2013-09-06   \n",
       "3      Registered Nurse - All Specialties And Shifts 2013-08-30   \n",
       "4                                    Project Manager 2013-11-30   \n",
       "\n",
       "                                             JobText      JobID  Latitude  \\\n",
       "0  Posting Details South Orange County Community ...  110103522   33.6881   \n",
       "1      Experienced Class A CDL Truck Drivers (20658)  255851194   38.5624   \n",
       "2  Posted: 2013-09-05, 4:16PM EDT\\n\\nApartment Co...  246911326   32.5824   \n",
       "3   Description:\\n*  Registered Nurses - All Spec...  244857419   61.2157   \n",
       "4  Apex Systems, Inc      Skills:      Project ma...  420796045   43.1153   \n",
       "\n",
       "   Longitude CanonPostalCode CanonCounty  DivisionCode                LMA  \\\n",
       "0  -117.7880           92604      Orange       11244.0  DV064204|MT063110   \n",
       "1   -77.1639           20658     Charles       47894.0  DV114789|MT114790   \n",
       "2   -85.5126           36830         Lee           NaN           MT011222   \n",
       "3  -149.8690           99501   Anchorage           NaN           MT021126   \n",
       "4   -89.5249           53562        Dane           NaN           MT553154   \n",
       "\n",
       "                                                 MSA       CanonEmployer  \\\n",
       "0  31080: Metropolitan Statistical Area|348: Comb...  Saddleback College   \n",
       "1  47900: Metropolitan Statistical Area|548: Comb...           Usa Truck   \n",
       "2               12220: Metropolitan Statistical Area                 NaN   \n",
       "3               11260: Metropolitan Statistical Area          Nadiagruzd   \n",
       "4               31540: Metropolitan Statistical Area                 NaN   \n",
       "\n",
       "              CanonJobTitle ConsolidatedONET   CanonIntermediary  \\\n",
       "0                       NaN        25-119900                 NaN   \n",
       "1  Class A CDL Truck Driver        53-303200                 NaN   \n",
       "2    Maintenance Technician        49-907100                 NaN   \n",
       "3          Registered Nurse        29-114100                 NaN   \n",
       "4                       NaN        15-119909  Apex Systems, Inc.   \n",
       "\n",
       "   InternshipFlag            Source  \\\n",
       "0               0         Education   \n",
       "1               0         Job Board   \n",
       "2               0      FreeJobBoard   \n",
       "3               0         Recruiter   \n",
       "4               0  Job intermediary   \n",
       "\n",
       "                                  CanonSkillClusters  \\\n",
       "0  Education and Training: Instructional and Curr...   \n",
       "1                                                NaN   \n",
       "2  Maintenance, Repair, and Installation: HVAC;Sp...   \n",
       "3                                                NaN   \n",
       "4  Finance: Cost Accounting;Specialized Skills|Ma...   \n",
       "\n",
       "                                         CanonSkills  IsDuplicate  \\\n",
       "0  {'Course Development': 'Education and Training...        False   \n",
       "1                                                 {}        False   \n",
       "2  {'HVAC': 'Maintenance, Repair, and Installatio...        False   \n",
       "3                                                 {}        False   \n",
       "4  {'Cost Analysis': 'Finance: Cost Accounting;Sp...        False   \n",
       "\n",
       "             CanonMinimumDegree                  CanonRequiredDegrees CIPCode  \\\n",
       "0              Bachelor of Arts  Bachelor of Arts|Bachelor's|Master's  030103   \n",
       "1                           NaN                                   NaN     NaN   \n",
       "2  Higher Secondary Certificate          Higher Secondary Certificate     NaN   \n",
       "3                           NaN                                   NaN     NaN   \n",
       "4                           NaN                                   NaN     NaN   \n",
       "\n",
       "   MinExperience  ConsolidatedInferredNAICS      BGTOcc  MaxAnnualSalary  \\\n",
       "0            6.0                     6113.0  25-1199.91              NaN   \n",
       "1            NaN                      484.0  53-3032.00              NaN   \n",
       "2            2.0                        NaN  49-9071.91              NaN   \n",
       "3            NaN                       62.0  29-1141.00              NaN   \n",
       "4            7.0                        NaN  15-1199.95              NaN   \n",
       "\n",
       "   MaxHourlySalary  MinAnnualSalary  MinHourlySalary CanonJobHours  \\\n",
       "0              NaN              NaN              NaN      fulltime   \n",
       "1              NaN              NaN              NaN           NaN   \n",
       "2              NaN              NaN              NaN           NaN   \n",
       "3              NaN              NaN              NaN           NaN   \n",
       "4              NaN              NaN              NaN      fulltime   \n",
       "\n",
       "  CanonJobType CanonYearsOfExperienceCanonLevel CanonYearsOfExperienceLevel  \\\n",
       "0    permanent                              1-6                         mid   \n",
       "1          NaN                              NaN                         NaN   \n",
       "2          NaN                              1-6                         mid   \n",
       "3          NaN                              NaN                         NaN   \n",
       "4    permanent                               6+                        high   \n",
       "\n",
       "  ConsolidatedDegreeLevels                         ConsolidatedTitle  \\\n",
       "0                    16|18  Pt Faculty Pool - Recycling & Zero Waste   \n",
       "1                      NaN                  Class A CDL Truck Driver   \n",
       "2                       12                    Maintenance Technician   \n",
       "3                      NaN                          Registered Nurse   \n",
       "4                      NaN                           Project Manager   \n",
       "\n",
       "   MaxDegreeLevel  MinDegreeLevel  \\\n",
       "0            18.0            16.0   \n",
       "1             NaN             NaN   \n",
       "2             NaN            12.0   \n",
       "3             NaN             NaN   \n",
       "4             NaN             NaN   \n",
       "\n",
       "                                      BGTSubOcc  \\\n",
       "0                College Professor / Instructor   \n",
       "1        Tractor-Trailer Truck Driver (General)   \n",
       "2  Building and General Maintenance Technician    \n",
       "3                              Registered Nurse   \n",
       "4                            IT Project Manager   \n",
       "\n",
       "                 YearsOfExperience  \n",
       "0      2) years|6) years|Two years  \n",
       "1                              NaN  \n",
       "2  minimum of six months|two years  \n",
       "3                              NaN  \n",
       "4          7 years|5 years|3 years  "
      ]
     },
     "execution_count": 3,
     "metadata": {},
     "output_type": "execute_result"
    }
   ],
   "source": [
    "%%time\n",
    "\n",
    "df = pd.read_csv(path_in + 'all_years_rand_samp.csv', \n",
    "                 parse_dates=['JobDate'], low_memory=False)\n",
    "df.head()"
   ]
  },
  {
   "cell_type": "markdown",
   "metadata": {},
   "source": [
    "# Data Inspection & Cleaning"
   ]
  },
  {
   "cell_type": "code",
   "execution_count": 4,
   "metadata": {},
   "outputs": [
    {
     "name": "stdout",
     "output_type": "stream",
     "text": [
      "<class 'pandas.core.frame.DataFrame'>\n",
      "RangeIndex: 476428 entries, 0 to 476427\n",
      "Data columns (total 43 columns):\n",
      " #   Column                            Non-Null Count   Dtype         \n",
      "---  ------                            --------------   -----         \n",
      " 0   Language                          476428 non-null  object        \n",
      " 1   CanonCity                         466244 non-null  object        \n",
      " 2   CanonState                        476394 non-null  object        \n",
      " 3   CleanJobTitle                     476269 non-null  object        \n",
      " 4   JobDate                           476428 non-null  datetime64[ns]\n",
      " 5   JobText                           473483 non-null  object        \n",
      " 6   JobID                             476428 non-null  int64         \n",
      " 7   Latitude                          466253 non-null  float64       \n",
      " 8   Longitude                         466253 non-null  float64       \n",
      " 9   CanonPostalCode                   465000 non-null  object        \n",
      " 10  CanonCounty                       466140 non-null  object        \n",
      " 11  DivisionCode                      152025 non-null  float64       \n",
      " 12  LMA                               464617 non-null  object        \n",
      " 13  MSA                               453647 non-null  object        \n",
      " 14  CanonEmployer                     302830 non-null  object        \n",
      " 15  CanonJobTitle                     308828 non-null  object        \n",
      " 16  ConsolidatedONET                  459307 non-null  object        \n",
      " 17  CanonIntermediary                 68291 non-null   object        \n",
      " 18  InternshipFlag                    476428 non-null  int64         \n",
      " 19  Source                            461331 non-null  object        \n",
      " 20  CanonSkillClusters                435166 non-null  object        \n",
      " 21  CanonSkills                       476428 non-null  object        \n",
      " 22  IsDuplicate                       476428 non-null  bool          \n",
      " 23  CanonMinimumDegree                225160 non-null  object        \n",
      " 24  CanonRequiredDegrees              199091 non-null  object        \n",
      " 25  CIPCode                           85787 non-null   object        \n",
      " 26  MinExperience                     211785 non-null  float64       \n",
      " 27  ConsolidatedInferredNAICS         366807 non-null  float64       \n",
      " 28  BGTOcc                            444779 non-null  object        \n",
      " 29  MaxAnnualSalary                   84594 non-null   float64       \n",
      " 30  MaxHourlySalary                   84594 non-null   float64       \n",
      " 31  MinAnnualSalary                   84594 non-null   float64       \n",
      " 32  MinHourlySalary                   84594 non-null   float64       \n",
      " 33  CanonJobHours                     223986 non-null  object        \n",
      " 34  CanonJobType                      229971 non-null  object        \n",
      " 35  CanonYearsOfExperienceCanonLevel  222577 non-null  object        \n",
      " 36  CanonYearsOfExperienceLevel       222577 non-null  object        \n",
      " 37  ConsolidatedDegreeLevels          225160 non-null  object        \n",
      " 38  ConsolidatedTitle                 476289 non-null  object        \n",
      " 39  MaxDegreeLevel                    74949 non-null   float64       \n",
      " 40  MinDegreeLevel                    225160 non-null  float64       \n",
      " 41  BGTSubOcc                         444741 non-null  object        \n",
      " 42  YearsOfExperience                 243235 non-null  object        \n",
      "dtypes: bool(1), datetime64[ns](1), float64(11), int64(2), object(28)\n",
      "memory usage: 2.5 GB\n"
     ]
    }
   ],
   "source": [
    "df.info(memory_usage='deep')"
   ]
  },
  {
   "cell_type": "code",
   "execution_count": 5,
   "metadata": {},
   "outputs": [
    {
     "data": {
      "text/plain": [
       "(476428, 43)"
      ]
     },
     "execution_count": 5,
     "metadata": {},
     "output_type": "execute_result"
    }
   ],
   "source": [
    "df.shape"
   ]
  },
  {
   "cell_type": "code",
   "execution_count": 6,
   "metadata": {},
   "outputs": [
    {
     "data": {
      "text/plain": [
       "Language                             0.000000\n",
       "CanonCity                            2.137574\n",
       "CanonState                           0.007136\n",
       "CleanJobTitle                        0.033373\n",
       "JobDate                              0.000000\n",
       "JobText                              0.618142\n",
       "JobID                                0.000000\n",
       "Latitude                             2.135685\n",
       "Longitude                            2.135685\n",
       "CanonPostalCode                      2.398684\n",
       "CanonCounty                          2.159403\n",
       "DivisionCode                        68.090666\n",
       "LMA                                  2.479073\n",
       "MSA                                  4.781625\n",
       "CanonEmployer                       36.437405\n",
       "CanonJobTitle                       35.178453\n",
       "ConsolidatedONET                     3.593618\n",
       "CanonIntermediary                   85.666040\n",
       "InternshipFlag                       0.000000\n",
       "Source                               3.168789\n",
       "CanonSkillClusters                   8.660700\n",
       "CanonSkills                          0.000000\n",
       "IsDuplicate                          0.000000\n",
       "CanonMinimumDegree                  52.739973\n",
       "CanonRequiredDegrees                58.211734\n",
       "CIPCode                             81.993712\n",
       "MinExperience                       55.547323\n",
       "ConsolidatedInferredNAICS           23.008933\n",
       "BGTOcc                               6.642976\n",
       "MaxAnnualSalary                     82.244117\n",
       "MaxHourlySalary                     82.244117\n",
       "MinAnnualSalary                     82.244117\n",
       "MinHourlySalary                     82.244117\n",
       "CanonJobHours                       52.986390\n",
       "CanonJobType                        51.730167\n",
       "CanonYearsOfExperienceCanonLevel    53.282133\n",
       "CanonYearsOfExperienceLevel         53.282133\n",
       "ConsolidatedDegreeLevels            52.739973\n",
       "ConsolidatedTitle                    0.029175\n",
       "MaxDegreeLevel                      84.268557\n",
       "MinDegreeLevel                      52.739973\n",
       "BGTSubOcc                            6.650953\n",
       "YearsOfExperience                   48.946116\n",
       "dtype: float64"
      ]
     },
     "execution_count": 6,
     "metadata": {},
     "output_type": "execute_result"
    }
   ],
   "source": [
    "missing_pct = df.isna().sum() / df.shape[0] * 100\n",
    "missing_pct"
   ]
  },
  {
   "cell_type": "markdown",
   "metadata": {},
   "source": [
    "A lot of the missing values in the `CanonEmployer` variable might be missing due to the job being posted through a recruiting agency. Let's see how many of these missing value have a value available in the `CanonIntermediary` column."
   ]
  },
  {
   "cell_type": "code",
   "execution_count": 7,
   "metadata": {},
   "outputs": [
    {
     "data": {
      "text/plain": [
       "(68284, 43)"
      ]
     },
     "execution_count": 7,
     "metadata": {},
     "output_type": "execute_result"
    }
   ],
   "source": [
    "df.loc[(df['CanonEmployer'].isna()) & (df['CanonIntermediary'].notna()), :].shape"
   ]
  },
  {
   "cell_type": "markdown",
   "metadata": {},
   "source": [
    "As we can see, about ~68,000 missing values in `CanonEmployer` have a matching Recruiting Agency in `CanonIntermediary`."
   ]
  },
  {
   "cell_type": "code",
   "execution_count": 8,
   "metadata": {},
   "outputs": [
    {
     "data": {
      "text/html": [
       "<div>\n",
       "<style scoped>\n",
       "    .dataframe tbody tr th:only-of-type {\n",
       "        vertical-align: middle;\n",
       "    }\n",
       "\n",
       "    .dataframe tbody tr th {\n",
       "        vertical-align: top;\n",
       "    }\n",
       "\n",
       "    .dataframe thead th {\n",
       "        text-align: right;\n",
       "    }\n",
       "</style>\n",
       "<table border=\"1\" class=\"dataframe\">\n",
       "  <thead>\n",
       "    <tr style=\"text-align: right;\">\n",
       "      <th></th>\n",
       "      <th>CanonEmployer</th>\n",
       "      <th>CanonIntermediary</th>\n",
       "    </tr>\n",
       "  </thead>\n",
       "  <tbody>\n",
       "    <tr>\n",
       "      <th>4</th>\n",
       "      <td>NaN</td>\n",
       "      <td>Apex Systems, Inc.</td>\n",
       "    </tr>\n",
       "    <tr>\n",
       "      <th>10</th>\n",
       "      <td>NaN</td>\n",
       "      <td>Nigel Frank International</td>\n",
       "    </tr>\n",
       "    <tr>\n",
       "      <th>12</th>\n",
       "      <td>NaN</td>\n",
       "      <td>Kelly Services</td>\n",
       "    </tr>\n",
       "    <tr>\n",
       "      <th>20</th>\n",
       "      <td>NaN</td>\n",
       "      <td>Elance</td>\n",
       "    </tr>\n",
       "    <tr>\n",
       "      <th>31</th>\n",
       "      <td>NaN</td>\n",
       "      <td>Randstad</td>\n",
       "    </tr>\n",
       "  </tbody>\n",
       "</table>\n",
       "</div>"
      ],
      "text/plain": [
       "   CanonEmployer          CanonIntermediary\n",
       "4            NaN         Apex Systems, Inc.\n",
       "10           NaN  Nigel Frank International\n",
       "12           NaN             Kelly Services\n",
       "20           NaN                     Elance\n",
       "31           NaN                   Randstad"
      ]
     },
     "execution_count": 8,
     "metadata": {},
     "output_type": "execute_result"
    }
   ],
   "source": [
    "df.loc[(df['CanonEmployer'].isna()) & (df['CanonIntermediary'].notna()), ['CanonEmployer', 'CanonIntermediary']].head()"
   ]
  },
  {
   "cell_type": "code",
   "execution_count": 9,
   "metadata": {},
   "outputs": [
    {
     "data": {
      "text/plain": [
       "71464.2"
      ]
     },
     "execution_count": 9,
     "metadata": {},
     "output_type": "execute_result"
    }
   ],
   "source": [
    "df.shape[0] * .15"
   ]
  },
  {
   "cell_type": "markdown",
   "metadata": {},
   "source": [
    "We can also see that the `CanonIntermediary` variable has about `0.15` of non-missing values in it, which is almost the same amount of values missing in the `CanonEmployer` var. Instead of filling in each missing value `CanonEmployer` with its respective recruiting agency for that title, what we will do instead is to fill in those missing values with the title, `Recruiting Agency`."
   ]
  },
  {
   "cell_type": "code",
   "execution_count": 10,
   "metadata": {},
   "outputs": [
    {
     "name": "stdout",
     "output_type": "stream",
     "text": [
      "Missing companies BEFORE adding the Recruitment Agencies: 173598\n"
     ]
    }
   ],
   "source": [
    "print(f'Missing companies BEFORE adding the Recruitment Agencies: {df.CanonEmployer.isna().sum()}')"
   ]
  },
  {
   "cell_type": "code",
   "execution_count": 11,
   "metadata": {},
   "outputs": [],
   "source": [
    "df.loc[(df['CanonEmployer'].isna()) & (df['CanonIntermediary'].notna()), 'CanonEmployer'] = 'Recruiting Agency'"
   ]
  },
  {
   "cell_type": "code",
   "execution_count": 12,
   "metadata": {},
   "outputs": [
    {
     "name": "stdout",
     "output_type": "stream",
     "text": [
      "Missing companies AFTER adding the Recruitment Agencies: 105314\n"
     ]
    }
   ],
   "source": [
    "print(f'Missing companies AFTER adding the Recruitment Agencies: {df.CanonEmployer.isna().sum()}')"
   ]
  },
  {
   "cell_type": "code",
   "execution_count": 13,
   "metadata": {},
   "outputs": [
    {
     "name": "stdout",
     "output_type": "stream",
     "text": [
      "Amount of Unique Employers:  75805\n"
     ]
    }
   ],
   "source": [
    "print('Amount of Unique Employers: ', len(df['CanonEmployer'].unique()))"
   ]
  },
  {
   "cell_type": "code",
   "execution_count": 14,
   "metadata": {},
   "outputs": [],
   "source": [
    "# to_drop_cols = (missing_pct[missing_pct > 75]).index\n",
    "# print(to_drop_cols)\n",
    "# df.drop(to_drop_cols, axis=1, inplace=True)\n",
    "# print(df.shape)"
   ]
  },
  {
   "cell_type": "code",
   "execution_count": 15,
   "metadata": {},
   "outputs": [
    {
     "name": "stdout",
     "output_type": "stream",
     "text": [
      "Amount of Unique Jobs:  271225\n"
     ]
    }
   ],
   "source": [
    "print('Amount of Unique Jobs: ', len(df['CleanJobTitle'].unique()))"
   ]
  },
  {
   "cell_type": "code",
   "execution_count": 16,
   "metadata": {},
   "outputs": [
    {
     "name": "stdout",
     "output_type": "stream",
     "text": [
      "Percentage of Unique Jobs in the Dataset: 56.93\n"
     ]
    }
   ],
   "source": [
    "print('Percentage of Unique Jobs in the Dataset: %.2f' % (len(df['CleanJobTitle'].unique()) / df.shape[0] * 100))"
   ]
  },
  {
   "cell_type": "code",
   "execution_count": 17,
   "metadata": {},
   "outputs": [
    {
     "name": "stdout",
     "output_type": "stream",
     "text": [
      "Observations per Year\n"
     ]
    },
    {
     "data": {
      "text/plain": [
       "2011    50144\n",
       "2012    49926\n",
       "2007    47695\n",
       "2016    43376\n",
       "2015    40945\n",
       "2010    40487\n",
       "2017    39534\n",
       "2020    35000\n",
       "2019    35000\n",
       "2018    35000\n",
       "2014    33690\n",
       "2013    25631\n",
       "Name: year, dtype: int64"
      ]
     },
     "execution_count": 17,
     "metadata": {},
     "output_type": "execute_result"
    }
   ],
   "source": [
    "df['year'] = df['JobDate'].dt.year\n",
    "print(\"Observations per Year\")\n",
    "df['year'].value_counts()"
   ]
  },
  {
   "cell_type": "markdown",
   "metadata": {},
   "source": [
    "# More Cleaning"
   ]
  },
  {
   "cell_type": "code",
   "execution_count": 18,
   "metadata": {},
   "outputs": [],
   "source": [
    "df = df[df['CanonEmployer'].notna()]\n",
    "df = df[df['JobText'].notna()]\n",
    "df = df[df['CleanJobTitle'].notna()]"
   ]
  },
  {
   "cell_type": "code",
   "execution_count": 19,
   "metadata": {},
   "outputs": [
    {
     "data": {
      "text/plain": [
       "(368555, 44)"
      ]
     },
     "execution_count": 19,
     "metadata": {},
     "output_type": "execute_result"
    }
   ],
   "source": [
    "df.shape"
   ]
  },
  {
   "cell_type": "code",
   "execution_count": 20,
   "metadata": {},
   "outputs": [],
   "source": [
    "df['clean_text'] = df['JobText'].apply(lambda x: ' '.join(list(filter(None, x.split('\\n')))))\n",
    "df['charac_text_len'] = df['clean_text'].apply(len)\n",
    "df['low_clean'] = df['clean_text'].apply(lambda x: x.lower())"
   ]
  },
  {
   "cell_type": "code",
   "execution_count": 21,
   "metadata": {},
   "outputs": [],
   "source": [
    "df['list_job_text'] = df['clean_text'].apply(lambda x: list(filter(None, x.split())))\n",
    "df['list_title_words'] = df['CleanJobTitle'].apply(lambda x: list(filter(None, x.split())))"
   ]
  },
  {
   "cell_type": "code",
   "execution_count": 22,
   "metadata": {},
   "outputs": [],
   "source": [
    "df['len_job_text'] = df['list_job_text'].apply(len)"
   ]
  },
  {
   "cell_type": "code",
   "execution_count": 23,
   "metadata": {},
   "outputs": [
    {
     "data": {
      "text/plain": [
       "<matplotlib.axes._subplots.AxesSubplot at 0x7fa28f0ff5d0>"
      ]
     },
     "execution_count": 23,
     "metadata": {},
     "output_type": "execute_result"
    },
    {
     "data": {
      "image/png": "[encoded data removed]",
      "text/plain": [
       "<Figure size 432x288 with 1 Axes>"
      ]
     },
     "metadata": {
      "needs_background": "light"
     },
     "output_type": "display_data"
    }
   ],
   "source": [
    "df['len_job_text'].plot(kind='hist', bins=50)"
   ]
  },
  {
   "cell_type": "code",
   "execution_count": 24,
   "metadata": {},
   "outputs": [
    {
     "data": {
      "text/plain": [
       "count    368555.000000\n",
       "mean        442.574134\n",
       "std         336.774133\n",
       "min           1.000000\n",
       "25%         233.000000\n",
       "50%         391.000000\n",
       "75%         578.000000\n",
       "max        7370.000000\n",
       "Name: len_job_text, dtype: float64"
      ]
     },
     "execution_count": 24,
     "metadata": {},
     "output_type": "execute_result"
    }
   ],
   "source": [
    "df['len_job_text'].describe()"
   ]
  },
  {
   "cell_type": "code",
   "execution_count": 25,
   "metadata": {},
   "outputs": [
    {
     "data": {
      "text/plain": [
       "(342332, 49)"
      ]
     },
     "execution_count": 25,
     "metadata": {},
     "output_type": "execute_result"
    }
   ],
   "source": [
    "df = df.loc[df['len_job_text'] > 75]\n",
    "df.shape"
   ]
  },
  {
   "cell_type": "code",
   "execution_count": 26,
   "metadata": {},
   "outputs": [
    {
     "data": {
      "text/plain": [
       "count    342332.000000\n",
       "mean        474.721735\n",
       "std         327.921201\n",
       "min          76.000000\n",
       "25%         269.000000\n",
       "50%         413.000000\n",
       "75%         595.000000\n",
       "max        7370.000000\n",
       "Name: len_job_text, dtype: float64"
      ]
     },
     "execution_count": 26,
     "metadata": {},
     "output_type": "execute_result"
    }
   ],
   "source": [
    "df['len_job_text'].describe()"
   ]
  },
  {
   "cell_type": "markdown",
   "metadata": {},
   "source": [
    "# Select Random Sample of 100K"
   ]
  },
  {
   "cell_type": "markdown",
   "metadata": {},
   "source": [
    "The `.sample()` method below can be adjusted to whichever `n` sample you'd like. Also, note that unless you save the sample you are taking from the slightly larger data, every time you run this notebook you will get slightly different results as the sample will change."
   ]
  },
  {
   "cell_type": "code",
   "execution_count": 27,
   "metadata": {},
   "outputs": [
    {
     "data": {
      "text/html": [
       "<div>\n",
       "<style scoped>\n",
       "    .dataframe tbody tr th:only-of-type {\n",
       "        vertical-align: middle;\n",
       "    }\n",
       "\n",
       "    .dataframe tbody tr th {\n",
       "        vertical-align: top;\n",
       "    }\n",
       "\n",
       "    .dataframe thead th {\n",
       "        text-align: right;\n",
       "    }\n",
       "</style>\n",
       "<table border=\"1\" class=\"dataframe\">\n",
       "  <thead>\n",
       "    <tr style=\"text-align: right;\">\n",
       "      <th></th>\n",
       "      <th>JobDate</th>\n",
       "      <th>CanonEmployer</th>\n",
       "      <th>CleanJobTitle</th>\n",
       "      <th>clean_text</th>\n",
       "    </tr>\n",
       "  </thead>\n",
       "  <tbody>\n",
       "    <tr>\n",
       "      <th>0</th>\n",
       "      <td>2019-05-16</td>\n",
       "      <td>Heartland Express Incorporated</td>\n",
       "      <td>Class A Cdl Truck Driver</td>\n",
       "      <td>Class A CDL Truck Driver - Auburn Company: Hea...</td>\n",
       "    </tr>\n",
       "    <tr>\n",
       "      <th>1</th>\n",
       "      <td>2020-02-07</td>\n",
       "      <td>Department General Services</td>\n",
       "      <td>Custodian Worker</td>\n",
       "      <td>Custodian Worker Department of General Service...</td>\n",
       "    </tr>\n",
       "    <tr>\n",
       "      <th>2</th>\n",
       "      <td>2011-06-30</td>\n",
       "      <td>Gateway Health System</td>\n",
       "      <td>Medical Technologist - Medical Technician 80Hr...</td>\n",
       "      <td>Go to the main content section. Welcome. You a...</td>\n",
       "    </tr>\n",
       "    <tr>\n",
       "      <th>3</th>\n",
       "      <td>2012-06-12</td>\n",
       "      <td>Christus Coushatta Health Care Center</td>\n",
       "      <td>Human Resources Specialist Fmla And Leave *</td>\n",
       "      <td>Job Title:  HR Specialist (FMLA and leave)* Jo...</td>\n",
       "    </tr>\n",
       "    <tr>\n",
       "      <th>4</th>\n",
       "      <td>2007-01-21</td>\n",
       "      <td>First Assist Incorporated</td>\n",
       "      <td>Cath Laboratory - Registered Nurse</td>\n",
       "      <td>Cath Lab RN - Registered Nurse - (US- - ) Min ...</td>\n",
       "    </tr>\n",
       "  </tbody>\n",
       "</table>\n",
       "</div>"
      ],
      "text/plain": [
       "     JobDate                          CanonEmployer  \\\n",
       "0 2019-05-16         Heartland Express Incorporated   \n",
       "1 2020-02-07            Department General Services   \n",
       "2 2011-06-30                  Gateway Health System   \n",
       "3 2012-06-12  Christus Coushatta Health Care Center   \n",
       "4 2007-01-21              First Assist Incorporated   \n",
       "\n",
       "                                       CleanJobTitle  \\\n",
       "0                           Class A Cdl Truck Driver   \n",
       "1                                   Custodian Worker   \n",
       "2  Medical Technologist - Medical Technician 80Hr...   \n",
       "3        Human Resources Specialist Fmla And Leave *   \n",
       "4                 Cath Laboratory - Registered Nurse   \n",
       "\n",
       "                                          clean_text  \n",
       "0  Class A CDL Truck Driver - Auburn Company: Hea...  \n",
       "1  Custodian Worker Department of General Service...  \n",
       "2  Go to the main content section. Welcome. You a...  \n",
       "3  Job Title:  HR Specialist (FMLA and leave)* Jo...  \n",
       "4  Cath Lab RN - Registered Nurse - (US- - ) Min ...  "
      ]
     },
     "execution_count": 27,
     "metadata": {},
     "output_type": "execute_result"
    }
   ],
   "source": [
    "df = df.sample(n=100000)\n",
    "df = df[['JobDate', 'CanonEmployer', 'CleanJobTitle', 'clean_text']]\n",
    "df.reset_index(drop=True, inplace=True)\n",
    "df.head()"
   ]
  },
  {
   "cell_type": "markdown",
   "metadata": {},
   "source": [
    "Let's make sure there are no missing values in this random sample."
   ]
  },
  {
   "cell_type": "code",
   "execution_count": 28,
   "metadata": {},
   "outputs": [
    {
     "data": {
      "text/plain": [
       "JobDate          False\n",
       "CanonEmployer    False\n",
       "CleanJobTitle    False\n",
       "clean_text       False\n",
       "dtype: bool"
      ]
     },
     "execution_count": 28,
     "metadata": {},
     "output_type": "execute_result"
    }
   ],
   "source": [
    "df.isna().any()"
   ]
  },
  {
   "cell_type": "code",
   "execution_count": 30,
   "metadata": {},
   "outputs": [],
   "source": [
    "def normalize_doc(doc):\n",
    "    \"\"\"\n",
    "    This function normalizes your list of documents by taking only\n",
    "    words, numbers, and spaces in between them. It then filters out\n",
    "    stop words if you want to.\n",
    "    \"\"\"\n",
    "    doc = re.sub(r'[^a-zA-Z0-9\\s]', '', doc, re.I|re.A)\n",
    "    doc = doc.lower()\n",
    "    doc = doc.strip()\n",
    "    tokens = nltk.word_tokenize(doc)\n",
    "    filtered_tokens = [token for token in tokens]\n",
    "    # if you want to remove stopwords, uncomment the line below and\n",
    "    # comment out the one above\n",
    "    # filtered_tokens = [token for token in tokens if token not in stop_words]\n",
    "    doc = ' '.join(filtered_tokens)\n",
    "    return doc\n",
    "\n",
    "corp_normalizer = np.vectorize(normalize_doc)"
   ]
  },
  {
   "cell_type": "code",
   "execution_count": 31,
   "metadata": {},
   "outputs": [
    {
     "name": "stdout",
     "output_type": "stream",
     "text": [
      "CPU times: user 3min 18s, sys: 26.4 s, total: 3min 45s\n",
      "Wall time: 4min 3s\n"
     ]
    }
   ],
   "source": [
    "%%time\n",
    "\n",
    "normal_corpus = corp_normalizer(list(df['clean_text']))"
   ]
  },
  {
   "cell_type": "code",
   "execution_count": 32,
   "metadata": {},
   "outputs": [
    {
     "data": {
      "text/plain": [
       "(100000,)"
      ]
     },
     "execution_count": 32,
     "metadata": {},
     "output_type": "execute_result"
    }
   ],
   "source": [
    "normal_corpus.shape"
   ]
  },
  {
   "cell_type": "code",
   "execution_count": 33,
   "metadata": {},
   "outputs": [
    {
     "data": {
      "text/plain": [
       "'skills red hat linux 5x websphere weblogic andor apache vmwarevsphere date 5272011 location ashburn va area code 571 employ type concorp conind conw2 pay rate negotiable job length 6 months position id linwinadmin dice id 10118406 travel required none telecommute no contact information save this job click here to apply printerfriendly job description linuxwindows server 2008 administrator multiple openings ashburn va note if you are comfortable with the below requirements please forward your resume with requirement to jobsloginsoftconsultingcom or give a call at 7039567410 extn 55005523 requirement 1 unixlinux system administrator multiple positions in different locations location ashburn va and temple terrace fl or freehold nj key requirements job skills mandatory experience installing and configuring red hat linux 5x 3 years rhel 55 preferred experience installing and configuring websphere weblogic andor apache experience working with vmwarevsphere or experience with network attached storage netapp 31406280 ontap 8 snapmirroring strong verbal and written communications skills must be able to understand instructions and to communicate issues to their test leads organized with a strong attention to detail some experience working in a testing qa or production environment ability to work under pressure strong analytical skills strong microsoft office skills word excel preferred skills experience with network attached storage netapp 31406280 ontap 8 experience setting up and configuring hp c7000 chassis with hp blade servers experience working with vmwarevsphere experience with etrust experience administrating ms windows 2008 servers experience installing and configuring file transfer software asperasigniant experience installing and configuring video software rhozetcertify networking experience tcpip fiberoptics routers switches etc experience education desired bs degree in a technical field bsee or bscs preferred with 3 years of related job experience or equivalent requirement 2 windows 2008 server administrator location ashburn va key requirements job skills mandatory experience installing and configuring ms windows 2008 server 3 years experience installing and configuring websphere weblogic andor apache experience working with vmwarevsphere or experience with network attached storage netapp 31406280 ontap 8 snapmirroring strong verbal and written communications skills must be able to understand instructions and to communicate issues to their test leads organized with a strong attention to detail some experience working in a testing qa or production environment ability to work under pressure strong analytical skills strong microsoft office skills word excel preferred skills experience with network attached storage netapp 31406280 ontap 8 experience setting up and configuring hp c7000 chassis with hp blade servers experience working with vmwarevsphere experience administrating rhel 5x experience with etrust experience installing and configuring file transfer software asperasigniant experience installing and configuring video software rhozetcertify networking experience tcpip fiberoptics routers switches etc experience education desired bs degree in a technical field bsee or bscs preferred with 3 years of related job experience or equivalent company overview save this job click here to apply positive neutral negative misrepresented job pays below market level not a real job position no longer available other please provide an explanation 400 character limit security for security purposes please enter the characters seen to the left in the text field below before submitting email address password login not a member yet sign up now for your free dice account'"
      ]
     },
     "execution_count": 33,
     "metadata": {},
     "output_type": "execute_result"
    }
   ],
   "source": [
    "normal_corpus[6]"
   ]
  },
  {
   "cell_type": "code",
   "execution_count": 38,
   "metadata": {},
   "outputs": [],
   "source": [
    "df['normal_text'] = normal_corpus"
   ]
  },
  {
   "cell_type": "code",
   "execution_count": 34,
   "metadata": {},
   "outputs": [
    {
     "name": "stdout",
     "output_type": "stream",
     "text": [
      "CPU times: user 7.8 s, sys: 251 ms, total: 8.05 s\n",
      "Wall time: 8.44 s\n"
     ]
    }
   ],
   "source": [
    "%%time\n",
    "\n",
    "normal_titles = corp_normalizer(list(df['CleanJobTitle']))"
   ]
  },
  {
   "cell_type": "code",
   "execution_count": 35,
   "metadata": {},
   "outputs": [
    {
     "data": {
      "text/plain": [
       "(100000,)"
      ]
     },
     "execution_count": 35,
     "metadata": {},
     "output_type": "execute_result"
    }
   ],
   "source": [
    "normal_titles.shape"
   ]
  },
  {
   "cell_type": "code",
   "execution_count": 36,
   "metadata": {},
   "outputs": [
    {
     "data": {
      "text/plain": [
       "'class a cdl truck driver'"
      ]
     },
     "execution_count": 36,
     "metadata": {},
     "output_type": "execute_result"
    }
   ],
   "source": [
    "normal_titles[0]"
   ]
  },
  {
   "cell_type": "code",
   "execution_count": 39,
   "metadata": {},
   "outputs": [],
   "source": [
    "df['normal_titles'] = normal_titles"
   ]
  },
  {
   "cell_type": "code",
   "execution_count": 40,
   "metadata": {},
   "outputs": [],
   "source": [
    "sample_name = 'rands_100k.csv'"
   ]
  },
  {
   "cell_type": "code",
   "execution_count": 43,
   "metadata": {},
   "outputs": [
    {
     "data": {
      "text/html": [
       "<div>\n",
       "<style scoped>\n",
       "    .dataframe tbody tr th:only-of-type {\n",
       "        vertical-align: middle;\n",
       "    }\n",
       "\n",
       "    .dataframe tbody tr th {\n",
       "        vertical-align: top;\n",
       "    }\n",
       "\n",
       "    .dataframe thead th {\n",
       "        text-align: right;\n",
       "    }\n",
       "</style>\n",
       "<table border=\"1\" class=\"dataframe\">\n",
       "  <thead>\n",
       "    <tr style=\"text-align: right;\">\n",
       "      <th></th>\n",
       "      <th>JobDate</th>\n",
       "      <th>CanonEmployer</th>\n",
       "      <th>CleanJobTitle</th>\n",
       "      <th>clean_text</th>\n",
       "      <th>normal_text</th>\n",
       "      <th>normal_titles</th>\n",
       "    </tr>\n",
       "  </thead>\n",
       "  <tbody>\n",
       "    <tr>\n",
       "      <th>0</th>\n",
       "      <td>2019-05-16</td>\n",
       "      <td>Heartland Express Incorporated</td>\n",
       "      <td>Class A Cdl Truck Driver</td>\n",
       "      <td>Class A CDL Truck Driver - Auburn Company: Hea...</td>\n",
       "      <td>class a cdl truck driver auburn company heartl...</td>\n",
       "      <td>class a cdl truck driver</td>\n",
       "    </tr>\n",
       "    <tr>\n",
       "      <th>1</th>\n",
       "      <td>2020-02-07</td>\n",
       "      <td>Department General Services</td>\n",
       "      <td>Custodian Worker</td>\n",
       "      <td>Custodian Worker Department of General Service...</td>\n",
       "      <td>custodian worker department of general service...</td>\n",
       "      <td>custodian worker</td>\n",
       "    </tr>\n",
       "    <tr>\n",
       "      <th>2</th>\n",
       "      <td>2011-06-30</td>\n",
       "      <td>Gateway Health System</td>\n",
       "      <td>Medical Technologist - Medical Technician 80Hr...</td>\n",
       "      <td>Go to the main content section. Welcome. You a...</td>\n",
       "      <td>go to the main content section welcome you are...</td>\n",
       "      <td>medical technologist medical technician 80hr 2...</td>\n",
       "    </tr>\n",
       "    <tr>\n",
       "      <th>3</th>\n",
       "      <td>2012-06-12</td>\n",
       "      <td>Christus Coushatta Health Care Center</td>\n",
       "      <td>Human Resources Specialist Fmla And Leave *</td>\n",
       "      <td>Job Title:  HR Specialist (FMLA and leave)* Jo...</td>\n",
       "      <td>job title hr specialist fmla and leave job cod...</td>\n",
       "      <td>human resources specialist fmla and leave</td>\n",
       "    </tr>\n",
       "    <tr>\n",
       "      <th>4</th>\n",
       "      <td>2007-01-21</td>\n",
       "      <td>First Assist Incorporated</td>\n",
       "      <td>Cath Laboratory - Registered Nurse</td>\n",
       "      <td>Cath Lab RN - Registered Nurse - (US- - ) Min ...</td>\n",
       "      <td>cath lab rn registered nurse us min education ...</td>\n",
       "      <td>cath laboratory registered nurse</td>\n",
       "    </tr>\n",
       "  </tbody>\n",
       "</table>\n",
       "</div>"
      ],
      "text/plain": [
       "     JobDate                          CanonEmployer  \\\n",
       "0 2019-05-16         Heartland Express Incorporated   \n",
       "1 2020-02-07            Department General Services   \n",
       "2 2011-06-30                  Gateway Health System   \n",
       "3 2012-06-12  Christus Coushatta Health Care Center   \n",
       "4 2007-01-21              First Assist Incorporated   \n",
       "\n",
       "                                       CleanJobTitle  \\\n",
       "0                           Class A Cdl Truck Driver   \n",
       "1                                   Custodian Worker   \n",
       "2  Medical Technologist - Medical Technician 80Hr...   \n",
       "3        Human Resources Specialist Fmla And Leave *   \n",
       "4                 Cath Laboratory - Registered Nurse   \n",
       "\n",
       "                                          clean_text  \\\n",
       "0  Class A CDL Truck Driver - Auburn Company: Hea...   \n",
       "1  Custodian Worker Department of General Service...   \n",
       "2  Go to the main content section. Welcome. You a...   \n",
       "3  Job Title:  HR Specialist (FMLA and leave)* Jo...   \n",
       "4  Cath Lab RN - Registered Nurse - (US- - ) Min ...   \n",
       "\n",
       "                                         normal_text  \\\n",
       "0  class a cdl truck driver auburn company heartl...   \n",
       "1  custodian worker department of general service...   \n",
       "2  go to the main content section welcome you are...   \n",
       "3  job title hr specialist fmla and leave job cod...   \n",
       "4  cath lab rn registered nurse us min education ...   \n",
       "\n",
       "                                       normal_titles  \n",
       "0                           class a cdl truck driver  \n",
       "1                                   custodian worker  \n",
       "2  medical technologist medical technician 80hr 2...  \n",
       "3          human resources specialist fmla and leave  \n",
       "4                   cath laboratory registered nurse  "
      ]
     },
     "execution_count": 43,
     "metadata": {},
     "output_type": "execute_result"
    }
   ],
   "source": [
    "df.head()"
   ]
  },
  {
   "cell_type": "code",
   "execution_count": 42,
   "metadata": {},
   "outputs": [
    {
     "name": "stdout",
     "output_type": "stream",
     "text": [
      "CPU times: user 13.5 s, sys: 1.97 s, total: 15.5 s\n",
      "Wall time: 17.2 s\n"
     ]
    }
   ],
   "source": [
    "%%time\n",
    "\n",
    "df.to_csv(path_in + sample_name, index=False)"
   ]
  },
  {
   "cell_type": "markdown",
   "metadata": {},
   "source": [
    "# Section I - Getting the Data and our Text Matrices"
   ]
  },
  {
   "cell_type": "code",
   "execution_count": 90,
   "metadata": {},
   "outputs": [
    {
     "data": {
      "text/plain": [
       "66924"
      ]
     },
     "execution_count": 90,
     "metadata": {},
     "output_type": "execute_result"
    }
   ],
   "source": [
    "len(df['CleanJobTitle'].unique())"
   ]
  },
  {
   "cell_type": "code",
   "execution_count": 15,
   "metadata": {},
   "outputs": [],
   "source": [
    "stopwords = nltk.corpus.stopwords.words('english')"
   ]
  },
  {
   "cell_type": "code",
   "execution_count": 16,
   "metadata": {},
   "outputs": [
    {
     "name": "stdout",
     "output_type": "stream",
     "text": [
      "CPU times: user 4.05 s, sys: 821 ms, total: 4.88 s\n",
      "Wall time: 4.96 s\n"
     ]
    },
    {
     "data": {
      "text/html": [
       "<div>\n",
       "<style scoped>\n",
       "    .dataframe tbody tr th:only-of-type {\n",
       "        vertical-align: middle;\n",
       "    }\n",
       "\n",
       "    .dataframe tbody tr th {\n",
       "        vertical-align: top;\n",
       "    }\n",
       "\n",
       "    .dataframe thead th {\n",
       "        text-align: right;\n",
       "    }\n",
       "</style>\n",
       "<table border=\"1\" class=\"dataframe\">\n",
       "  <thead>\n",
       "    <tr style=\"text-align: right;\">\n",
       "      <th></th>\n",
       "      <th>JobDate</th>\n",
       "      <th>CanonEmployer</th>\n",
       "      <th>CleanJobTitle</th>\n",
       "      <th>clean_text</th>\n",
       "      <th>normal_text</th>\n",
       "      <th>normal_titles</th>\n",
       "    </tr>\n",
       "  </thead>\n",
       "  <tbody>\n",
       "    <tr>\n",
       "      <th>0</th>\n",
       "      <td>2019-05-16</td>\n",
       "      <td>Heartland Express Incorporated</td>\n",
       "      <td>Class A Cdl Truck Driver</td>\n",
       "      <td>Class A CDL Truck Driver - Auburn Company: Hea...</td>\n",
       "      <td>class a cdl truck driver auburn company heartl...</td>\n",
       "      <td>class a cdl truck driver</td>\n",
       "    </tr>\n",
       "    <tr>\n",
       "      <th>1</th>\n",
       "      <td>2020-02-07</td>\n",
       "      <td>Department General Services</td>\n",
       "      <td>Custodian Worker</td>\n",
       "      <td>Custodian Worker Department of General Service...</td>\n",
       "      <td>custodian worker department of general service...</td>\n",
       "      <td>custodian worker</td>\n",
       "    </tr>\n",
       "    <tr>\n",
       "      <th>2</th>\n",
       "      <td>2011-06-30</td>\n",
       "      <td>Gateway Health System</td>\n",
       "      <td>Medical Technologist - Medical Technician 80Hr...</td>\n",
       "      <td>Go to the main content section. Welcome. You a...</td>\n",
       "      <td>go to the main content section welcome you are...</td>\n",
       "      <td>medical technologist medical technician 80hr 2...</td>\n",
       "    </tr>\n",
       "    <tr>\n",
       "      <th>3</th>\n",
       "      <td>2012-06-12</td>\n",
       "      <td>Christus Coushatta Health Care Center</td>\n",
       "      <td>Human Resources Specialist Fmla And Leave *</td>\n",
       "      <td>Job Title:  HR Specialist (FMLA and leave)* Jo...</td>\n",
       "      <td>job title hr specialist fmla and leave job cod...</td>\n",
       "      <td>human resources specialist fmla and leave</td>\n",
       "    </tr>\n",
       "    <tr>\n",
       "      <th>4</th>\n",
       "      <td>2007-01-21</td>\n",
       "      <td>First Assist Incorporated</td>\n",
       "      <td>Cath Laboratory - Registered Nurse</td>\n",
       "      <td>Cath Lab RN - Registered Nurse - (US- - ) Min ...</td>\n",
       "      <td>cath lab rn registered nurse us min education ...</td>\n",
       "      <td>cath laboratory registered nurse</td>\n",
       "    </tr>\n",
       "  </tbody>\n",
       "</table>\n",
       "</div>"
      ],
      "text/plain": [
       "      JobDate                          CanonEmployer  \\\n",
       "0  2019-05-16         Heartland Express Incorporated   \n",
       "1  2020-02-07            Department General Services   \n",
       "2  2011-06-30                  Gateway Health System   \n",
       "3  2012-06-12  Christus Coushatta Health Care Center   \n",
       "4  2007-01-21              First Assist Incorporated   \n",
       "\n",
       "                                       CleanJobTitle  \\\n",
       "0                           Class A Cdl Truck Driver   \n",
       "1                                   Custodian Worker   \n",
       "2  Medical Technologist - Medical Technician 80Hr...   \n",
       "3        Human Resources Specialist Fmla And Leave *   \n",
       "4                 Cath Laboratory - Registered Nurse   \n",
       "\n",
       "                                          clean_text  \\\n",
       "0  Class A CDL Truck Driver - Auburn Company: Hea...   \n",
       "1  Custodian Worker Department of General Service...   \n",
       "2  Go to the main content section. Welcome. You a...   \n",
       "3  Job Title:  HR Specialist (FMLA and leave)* Jo...   \n",
       "4  Cath Lab RN - Registered Nurse - (US- - ) Min ...   \n",
       "\n",
       "                                         normal_text  \\\n",
       "0  class a cdl truck driver auburn company heartl...   \n",
       "1  custodian worker department of general service...   \n",
       "2  go to the main content section welcome you are...   \n",
       "3  job title hr specialist fmla and leave job cod...   \n",
       "4  cath lab rn registered nurse us min education ...   \n",
       "\n",
       "                                       normal_titles  \n",
       "0                           class a cdl truck driver  \n",
       "1                                   custodian worker  \n",
       "2  medical technologist medical technician 80hr 2...  \n",
       "3          human resources specialist fmla and leave  \n",
       "4                   cath laboratory registered nurse  "
      ]
     },
     "execution_count": 16,
     "metadata": {},
     "output_type": "execute_result"
    }
   ],
   "source": [
    "%%time\n",
    "\n",
    "sample_name = 'rands_100k.csv'\n",
    "\n",
    "df = pd.read_csv(path_in + sample_name, low_memory=False)\n",
    "df.head()"
   ]
  },
  {
   "cell_type": "code",
   "execution_count": null,
   "metadata": {},
   "outputs": [],
   "source": [
    "def kmeans_algo_pipe(model, num_clus, vectorizer, , data, column, stop_w: bool=True) -> pd.DataFrame:\n",
    "    \n",
    "    vectorizer = vectorizer()\n",
    "    \n",
    "    km = model()"
   ]
  },
  {
   "cell_type": "code",
   "execution_count": null,
   "metadata": {},
   "outputs": [],
   "source": []
  },
  {
   "cell_type": "code",
   "execution_count": null,
   "metadata": {},
   "outputs": [],
   "source": []
  },
  {
   "cell_type": "code",
   "execution_count": null,
   "metadata": {},
   "outputs": [],
   "source": []
  },
  {
   "cell_type": "code",
   "execution_count": null,
   "metadata": {},
   "outputs": [],
   "source": []
  },
  {
   "cell_type": "markdown",
   "metadata": {},
   "source": [
    "# Section II: Clustering the Titles"
   ]
  },
  {
   "cell_type": "markdown",
   "metadata": {},
   "source": [
    "## KMeans Approach the BOW-WOW 😮 Way"
   ]
  },
  {
   "cell_type": "code",
   "execution_count": 17,
   "metadata": {},
   "outputs": [
    {
     "data": {
      "text/plain": [
       "((100000, 16796), (100000, 107256), (100000, 217631))"
      ]
     },
     "execution_count": 17,
     "metadata": {},
     "output_type": "execute_result"
    }
   ],
   "source": [
    "count_vect_uni = CountVectorizer(ngram_range=(1, 1)) \n",
    "count_vect_bi = CountVectorizer(ngram_range=(1, 2))\n",
    "count_vect_tri = CountVectorizer(ngram_range=(1, 3))\n",
    "\n",
    "cv_titles_uni = count_vect_uni.fit_transform(df['CleanJobTitle'])\n",
    "cv_titles_bi = count_vect_bi.fit_transform(df['CleanJobTitle']) \n",
    "cv_titles_tri = count_vect_tri.fit_transform(df['CleanJobTitle'])\n",
    "\n",
    "cv_titles_uni.shape, cv_titles_bi.shape, cv_titles_tri.shape"
   ]
  },
  {
   "cell_type": "code",
   "execution_count": 23,
   "metadata": {},
   "outputs": [
    {
     "data": {
      "text/plain": [
       "'0, 3298)\\t1\\n  (0, 3646)\\t1\\n  (0, 5256)\\t1\\n  (0, 15606)\\t1\\n  (1, 4537)\\t1\\n  (1, 16617)\\t1\\n  (2, 552)\\t1\\n  (2, 691)\\t1\\n  (2, 984)\\t1\\n  (2, 9686)\\t2\\n  (2, 15089)\\t1\\n  (2, 15107)\\t1\\n  (3, 1685)\\t1\\n  (3, 6408)\\t1\\n  (3, 7616)\\t1\\n  (3, 8909)\\t1\\n  (3, 13017)\\t1\\n  (3, 14319)\\t1\\n  (4, 3227)\\t1\\n  (4, 8744)\\t1\\n  (4, 10664)\\t1\\n  (4, 12784)\\t1\\n  (5, 9400)\\t1\\n  (5, 9476)\\t1\\n  (5, 13726)\\t1\\n  :\\t:\\n  (99993, 10986)\\t1\\n  (99994, 5736)\\t1\\n  (99994, 7540)\\t1\\n  (99994, 13776)\\t1\\n  (99995, 2160)\\t1\\n  (99995, 9400)\\t1\\n  (99995, 13776)\\t2\\n  (99995, 15493)\\t1\\n  (99996, 1685)\\t1\\n  (99996, 2953)\\t1\\n  (99996, 4911)\\t1\\n  (99996, 5017)\\t1\\n  (99996, 9476)\\t1\\n  (99996, 12778)\\t1\\n  (99996, 14627)\\t1\\n  (99997, 9400)\\t1\\n  (99997, 12143)\\t1\\n  (99998, 1657)\\t1\\n  (99998, 3960)\\t1\\n  (99998, 4387)\\t1\\n  (99998, 10544)\\t1\\n  (99999, 7863)\\t1\\n  (99999, 13021)\\t1\\n  (99999, 13328)\\t1\\n  (99999, 15269)\\t1'"
      ]
     },
     "execution_count": 23,
     "metadata": {},
     "output_type": "execute_result"
    }
   ],
   "source": [
    "str(cvs[0])[3:]"
   ]
  },
  {
   "cell_type": "code",
   "execution_count": 18,
   "metadata": {},
   "outputs": [
    {
     "name": "stdout",
     "output_type": "stream",
     "text": [
      "Done with k=0\n"
     ]
    },
    {
     "name": "stderr",
     "output_type": "stream",
     "text": [
      "/opt/anaconda3/lib/python3.7/site-packages/joblib/externals/loky/process_executor.py:691: UserWarning: A worker stopped while some jobs were given to the executor. This can be caused by a too short worker timeout or by a memory leak.\n",
      "  \"timeout or by a memory leak.\", UserWarning\n"
     ]
    },
    {
     "name": "stdout",
     "output_type": "stream",
     "text": [
      "Done with k=1\n",
      "Done with k=2\n",
      "Done with k=3\n",
      "Done with k=4\n",
      "Done with k=5\n",
      "Done with k=6\n",
      "CPU times: user 32.4 s, sys: 58.4 s, total: 1min 30s\n",
      "Wall time: 2h 22min 2s\n"
     ]
    }
   ],
   "source": [
    "%%time\n",
    "\n",
    "num_clusters = [30, 35, 40, 45, 50, 55, 60]\n",
    "cvs = [cv_titles_uni, cv_titles_bi, cv_titles_tri]\n",
    "\n",
    "for i in range(len(num_clusters)):\n",
    "    \n",
    "    for s in cvs:\n",
    "        km = KMeans(n_clusters=num_clusters[i], # how many clusters do we want\n",
    "            max_iter=10000, # reshuffle each centroid x number of times\n",
    "            n_init=25, # that x num of times can be set here\n",
    "            random_state=42,\n",
    "            n_jobs=2 # number of cpu's to use in the computation\n",
    "           )\n",
    "        \n",
    "        \n",
    "        km.fit(s)\n",
    "        \n",
    "        df[str(s)[3:] + '_' + str(i)] = km.labels_\n",
    "    \n",
    "    print(f\"Done with k = {num_clusters[i]}\")"
   ]
  },
  {
   "cell_type": "code",
   "execution_count": 29,
   "metadata": {},
   "outputs": [
    {
     "data": {
      "text/plain": [
       "27"
      ]
     },
     "execution_count": 29,
     "metadata": {},
     "output_type": "execute_result"
    }
   ],
   "source": [
    "len(df.columns)"
   ]
  },
  {
   "cell_type": "code",
   "execution_count": 30,
   "metadata": {
    "scrolled": true
   },
   "outputs": [],
   "source": [
    "df.columns = ['JobDate', 'CanonEmployer', 'CleanJobTitle', \n",
    "                    'clean_text', 'normal_text', 'normal_titles',\n",
    "                    'km_uni_30', 'km_bi_30', 'km_tri_30',\n",
    "                    'km_uni_35', 'km_bi_35', 'km_tri_35',\n",
    "                    'km_uni_40', 'km_bi_40', 'km_tri_40',\n",
    "                    'km_uni_45', 'km_bi_45', 'km_tri_45',\n",
    "                    'km_uni_50', 'km_bi_50', 'km_tri_50',\n",
    "                    'km_uni_55', 'km_bi_55', 'km_tri_55',\n",
    "                    'km_uni_60', 'km_bi_60', 'km_tri_60']"
   ]
  },
  {
   "cell_type": "code",
   "execution_count": 31,
   "metadata": {},
   "outputs": [
    {
     "data": {
      "text/plain": [
       "Index(['JobDate', 'CanonEmployer', 'CleanJobTitle', 'clean_text',\n",
       "       'normal_text', 'normal_titles', 'km_uni_30', 'km_bi_30', 'km_tri_30',\n",
       "       'km_uni_35', 'km_bi_35', 'km_tri_35', 'km_uni_40', 'km_bi_40',\n",
       "       'km_tri_40', 'km_uni_45', 'km_bi_45', 'km_tri_45', 'km_uni_50',\n",
       "       'km_bi_50', 'km_tri_50', 'km_uni_55', 'km_bi_55', 'km_tri_55',\n",
       "       'km_uni_60', 'km_bi_60', 'km_tri_60'],\n",
       "      dtype='object')"
      ]
     },
     "execution_count": 31,
     "metadata": {},
     "output_type": "execute_result"
    }
   ],
   "source": [
    "df.columns"
   ]
  },
  {
   "cell_type": "code",
   "execution_count": 32,
   "metadata": {},
   "outputs": [
    {
     "data": {
      "text/html": [
       "<div>\n",
       "<style scoped>\n",
       "    .dataframe tbody tr th:only-of-type {\n",
       "        vertical-align: middle;\n",
       "    }\n",
       "\n",
       "    .dataframe tbody tr th {\n",
       "        vertical-align: top;\n",
       "    }\n",
       "\n",
       "    .dataframe thead th {\n",
       "        text-align: right;\n",
       "    }\n",
       "</style>\n",
       "<table border=\"1\" class=\"dataframe\">\n",
       "  <thead>\n",
       "    <tr style=\"text-align: right;\">\n",
       "      <th></th>\n",
       "      <th>JobDate</th>\n",
       "      <th>CanonEmployer</th>\n",
       "      <th>CleanJobTitle</th>\n",
       "      <th>clean_text</th>\n",
       "      <th>normal_text</th>\n",
       "      <th>normal_titles</th>\n",
       "      <th>km_uni_30</th>\n",
       "      <th>km_bi_30</th>\n",
       "      <th>km_tri_30</th>\n",
       "      <th>km_uni_35</th>\n",
       "      <th>km_bi_35</th>\n",
       "      <th>km_tri_35</th>\n",
       "      <th>km_uni_40</th>\n",
       "      <th>km_bi_40</th>\n",
       "      <th>km_tri_40</th>\n",
       "      <th>km_uni_45</th>\n",
       "      <th>km_bi_45</th>\n",
       "      <th>km_tri_45</th>\n",
       "      <th>km_uni_50</th>\n",
       "      <th>km_bi_50</th>\n",
       "      <th>km_tri_50</th>\n",
       "      <th>km_uni_55</th>\n",
       "      <th>km_bi_55</th>\n",
       "      <th>km_tri_55</th>\n",
       "      <th>km_uni_60</th>\n",
       "      <th>km_bi_60</th>\n",
       "      <th>km_tri_60</th>\n",
       "    </tr>\n",
       "  </thead>\n",
       "  <tbody>\n",
       "    <tr>\n",
       "      <th>0</th>\n",
       "      <td>2019-05-16</td>\n",
       "      <td>Heartland Express Incorporated</td>\n",
       "      <td>Class A Cdl Truck Driver</td>\n",
       "      <td>Class A CDL Truck Driver - Auburn Company: Hea...</td>\n",
       "      <td>class a cdl truck driver auburn company heartl...</td>\n",
       "      <td>class a cdl truck driver</td>\n",
       "      <td>29</td>\n",
       "      <td>25</td>\n",
       "      <td>10</td>\n",
       "      <td>26</td>\n",
       "      <td>2</td>\n",
       "      <td>30</td>\n",
       "      <td>5</td>\n",
       "      <td>2</td>\n",
       "      <td>25</td>\n",
       "      <td>11</td>\n",
       "      <td>25</td>\n",
       "      <td>25</td>\n",
       "      <td>11</td>\n",
       "      <td>25</td>\n",
       "      <td>25</td>\n",
       "      <td>46</td>\n",
       "      <td>2</td>\n",
       "      <td>3</td>\n",
       "      <td>46</td>\n",
       "      <td>2</td>\n",
       "      <td>59</td>\n",
       "    </tr>\n",
       "    <tr>\n",
       "      <th>1</th>\n",
       "      <td>2020-02-07</td>\n",
       "      <td>Department General Services</td>\n",
       "      <td>Custodian Worker</td>\n",
       "      <td>Custodian Worker Department of General Service...</td>\n",
       "      <td>custodian worker department of general service...</td>\n",
       "      <td>custodian worker</td>\n",
       "      <td>20</td>\n",
       "      <td>22</td>\n",
       "      <td>1</td>\n",
       "      <td>4</td>\n",
       "      <td>5</td>\n",
       "      <td>1</td>\n",
       "      <td>0</td>\n",
       "      <td>5</td>\n",
       "      <td>14</td>\n",
       "      <td>21</td>\n",
       "      <td>22</td>\n",
       "      <td>14</td>\n",
       "      <td>21</td>\n",
       "      <td>22</td>\n",
       "      <td>14</td>\n",
       "      <td>37</td>\n",
       "      <td>4</td>\n",
       "      <td>11</td>\n",
       "      <td>37</td>\n",
       "      <td>4</td>\n",
       "      <td>11</td>\n",
       "    </tr>\n",
       "    <tr>\n",
       "      <th>2</th>\n",
       "      <td>2011-06-30</td>\n",
       "      <td>Gateway Health System</td>\n",
       "      <td>Medical Technologist - Medical Technician 80Hr...</td>\n",
       "      <td>Go to the main content section. Welcome. You a...</td>\n",
       "      <td>go to the main content section welcome you are...</td>\n",
       "      <td>medical technologist medical technician 80hr 2...</td>\n",
       "      <td>0</td>\n",
       "      <td>12</td>\n",
       "      <td>1</td>\n",
       "      <td>5</td>\n",
       "      <td>21</td>\n",
       "      <td>1</td>\n",
       "      <td>28</td>\n",
       "      <td>21</td>\n",
       "      <td>0</td>\n",
       "      <td>6</td>\n",
       "      <td>39</td>\n",
       "      <td>0</td>\n",
       "      <td>6</td>\n",
       "      <td>39</td>\n",
       "      <td>0</td>\n",
       "      <td>35</td>\n",
       "      <td>26</td>\n",
       "      <td>39</td>\n",
       "      <td>35</td>\n",
       "      <td>26</td>\n",
       "      <td>39</td>\n",
       "    </tr>\n",
       "    <tr>\n",
       "      <th>3</th>\n",
       "      <td>2012-06-12</td>\n",
       "      <td>Christus Coushatta Health Care Center</td>\n",
       "      <td>Human Resources Specialist Fmla And Leave *</td>\n",
       "      <td>Job Title:  HR Specialist (FMLA and leave)* Jo...</td>\n",
       "      <td>job title hr specialist fmla and leave job cod...</td>\n",
       "      <td>human resources specialist fmla and leave</td>\n",
       "      <td>3</td>\n",
       "      <td>3</td>\n",
       "      <td>21</td>\n",
       "      <td>25</td>\n",
       "      <td>10</td>\n",
       "      <td>21</td>\n",
       "      <td>25</td>\n",
       "      <td>10</td>\n",
       "      <td>6</td>\n",
       "      <td>10</td>\n",
       "      <td>3</td>\n",
       "      <td>6</td>\n",
       "      <td>10</td>\n",
       "      <td>3</td>\n",
       "      <td>6</td>\n",
       "      <td>27</td>\n",
       "      <td>40</td>\n",
       "      <td>34</td>\n",
       "      <td>27</td>\n",
       "      <td>40</td>\n",
       "      <td>34</td>\n",
       "    </tr>\n",
       "    <tr>\n",
       "      <th>4</th>\n",
       "      <td>2007-01-21</td>\n",
       "      <td>First Assist Incorporated</td>\n",
       "      <td>Cath Laboratory - Registered Nurse</td>\n",
       "      <td>Cath Lab RN - Registered Nurse - (US- - ) Min ...</td>\n",
       "      <td>cath lab rn registered nurse us min education ...</td>\n",
       "      <td>cath laboratory registered nurse</td>\n",
       "      <td>2</td>\n",
       "      <td>10</td>\n",
       "      <td>14</td>\n",
       "      <td>11</td>\n",
       "      <td>0</td>\n",
       "      <td>14</td>\n",
       "      <td>4</td>\n",
       "      <td>0</td>\n",
       "      <td>7</td>\n",
       "      <td>13</td>\n",
       "      <td>10</td>\n",
       "      <td>7</td>\n",
       "      <td>13</td>\n",
       "      <td>10</td>\n",
       "      <td>7</td>\n",
       "      <td>52</td>\n",
       "      <td>0</td>\n",
       "      <td>16</td>\n",
       "      <td>52</td>\n",
       "      <td>0</td>\n",
       "      <td>16</td>\n",
       "    </tr>\n",
       "  </tbody>\n",
       "</table>\n",
       "</div>"
      ],
      "text/plain": [
       "      JobDate                          CanonEmployer  \\\n",
       "0  2019-05-16         Heartland Express Incorporated   \n",
       "1  2020-02-07            Department General Services   \n",
       "2  2011-06-30                  Gateway Health System   \n",
       "3  2012-06-12  Christus Coushatta Health Care Center   \n",
       "4  2007-01-21              First Assist Incorporated   \n",
       "\n",
       "                                       CleanJobTitle  \\\n",
       "0                           Class A Cdl Truck Driver   \n",
       "1                                   Custodian Worker   \n",
       "2  Medical Technologist - Medical Technician 80Hr...   \n",
       "3        Human Resources Specialist Fmla And Leave *   \n",
       "4                 Cath Laboratory - Registered Nurse   \n",
       "\n",
       "                                          clean_text  \\\n",
       "0  Class A CDL Truck Driver - Auburn Company: Hea...   \n",
       "1  Custodian Worker Department of General Service...   \n",
       "2  Go to the main content section. Welcome. You a...   \n",
       "3  Job Title:  HR Specialist (FMLA and leave)* Jo...   \n",
       "4  Cath Lab RN - Registered Nurse - (US- - ) Min ...   \n",
       "\n",
       "                                         normal_text  \\\n",
       "0  class a cdl truck driver auburn company heartl...   \n",
       "1  custodian worker department of general service...   \n",
       "2  go to the main content section welcome you are...   \n",
       "3  job title hr specialist fmla and leave job cod...   \n",
       "4  cath lab rn registered nurse us min education ...   \n",
       "\n",
       "                                       normal_titles  km_uni_30  km_bi_30  \\\n",
       "0                           class a cdl truck driver         29        25   \n",
       "1                                   custodian worker         20        22   \n",
       "2  medical technologist medical technician 80hr 2...          0        12   \n",
       "3          human resources specialist fmla and leave          3         3   \n",
       "4                   cath laboratory registered nurse          2        10   \n",
       "\n",
       "   km_tri_30  km_uni_35  km_bi_35  km_tri_35  km_uni_40  km_bi_40  km_tri_40  \\\n",
       "0         10         26         2         30          5         2         25   \n",
       "1          1          4         5          1          0         5         14   \n",
       "2          1          5        21          1         28        21          0   \n",
       "3         21         25        10         21         25        10          6   \n",
       "4         14         11         0         14          4         0          7   \n",
       "\n",
       "   km_uni_45  km_bi_45  km_tri_45  km_uni_50  km_bi_50  km_tri_50  km_uni_55  \\\n",
       "0         11        25         25         11        25         25         46   \n",
       "1         21        22         14         21        22         14         37   \n",
       "2          6        39          0          6        39          0         35   \n",
       "3         10         3          6         10         3          6         27   \n",
       "4         13        10          7         13        10          7         52   \n",
       "\n",
       "   km_bi_55  km_tri_55  km_uni_60  km_bi_60  km_tri_60  \n",
       "0         2          3         46         2         59  \n",
       "1         4         11         37         4         11  \n",
       "2        26         39         35        26         39  \n",
       "3        40         34         27        40         34  \n",
       "4         0         16         52         0         16  "
      ]
     },
     "execution_count": 32,
     "metadata": {},
     "output_type": "execute_result"
    }
   ],
   "source": [
    "df.head()"
   ]
  },
  {
   "cell_type": "code",
   "execution_count": 34,
   "metadata": {},
   "outputs": [],
   "source": [
    "df.to_csv(path_out + 'kmeans_titles_approach_100k.csv', index=False)"
   ]
  },
  {
   "cell_type": "code",
   "execution_count": 35,
   "metadata": {},
   "outputs": [],
   "source": [
    "(df.drop_duplicates()\n",
    "   .sample(2000)\n",
    "   .to_csv(path_out + 'kmeans_titles_approach_2k_unique.csv', index=False))"
   ]
  },
  {
   "cell_type": "code",
   "execution_count": 36,
   "metadata": {},
   "outputs": [
    {
     "data": {
      "image/png": "[encoded data removed]",
      "text/plain": [
       "<Figure size 1080x576 with 1 Axes>"
      ]
     },
     "metadata": {
      "needs_background": "light"
     },
     "output_type": "display_data"
    }
   ],
   "source": [
    "pd.Series(Counter(km.labels_)).sort_values().plot(kind='bar',\n",
    "                                    rot=90, \n",
    "                                    figsize=(15, 8),\n",
    "                                    fontsize=14,\n",
    "                                    color='green',\n",
    "                                    title='KMeans Clusters',\n",
    "                                    grid=True,\n",
    "                                    alpha=0.70);"
   ]
  },
  {
   "cell_type": "code",
   "execution_count": 37,
   "metadata": {},
   "outputs": [
    {
     "data": {
      "text/plain": [
       "2423                  Pt Produce Associate - Food Lion\n",
       "2994        Pt Frozen Food/Dairy Associate - Food Lion\n",
       "3506                  Pt Grocery Associate - Food Lion\n",
       "4414                    Pt Sales Associate - Food Lion\n",
       "5269           Center Store Grocery Manager- Food Lion\n",
       "7764                Pt Perishable Associate- Food Lion\n",
       "9234        Pt Quality Assurance Associate - Food Lion\n",
       "9789     Pt Center Store Grocery Associate - Food Lion\n",
       "12078                   Pt Sales Associate - Food Lion\n",
       "14725                          Meat Cutter - Food Lion\n",
       "15403                         Dsd Receiver - Food Lion\n",
       "15557                          Meat Cutter - Food Lion\n",
       "15770                 Pt Grocery Associate - Food Lion\n",
       "15888             Pt Deli/Bakery Associate - Food Lion\n",
       "17862             Dry Lead And Trainer Asm - Food Lion\n",
       "18322                 Pt Service Associate - Food Lion\n",
       "19441                Deli/Bakery Associate - Food Lion\n",
       "19995             Pt Deli/Bakery Associate - Food Lion\n",
       "20113                   Pt Sales Associate - Food Lion\n",
       "20217          Frozen Food/Dairy Associate - Food Lion\n",
       "Name: CleanJobTitle, dtype: object"
      ]
     },
     "execution_count": 37,
     "metadata": {},
     "output_type": "execute_result"
    }
   ],
   "source": [
    "df.loc[df['km_bi_30'] == 11, 'CleanJobTitle'].head(20)"
   ]
  },
  {
   "cell_type": "code",
   "execution_count": null,
   "metadata": {},
   "outputs": [],
   "source": []
  },
  {
   "cell_type": "code",
   "execution_count": 132,
   "metadata": {},
   "outputs": [],
   "source": [
    "title_clusters = (df[['CleanJobTitle', 'km_clusters']].sort_values(by=['km_clusters'], ascending=False).groupby('km_clusters').head(20))\n",
    "\n",
    "\n",
    "title_clusters = title_clusters.copy(deep=True)\n",
    "feature_names = count_vect.get_feature_names()\n",
    "topn_features = 15\n",
    "ordered_centroids = km.cluster_centers_.argsort()[:, ::-1]"
   ]
  },
  {
   "cell_type": "code",
   "execution_count": 135,
   "metadata": {},
   "outputs": [
    {
     "ename": "SyntaxError",
     "evalue": "invalid character in identifier (<ipython-input-135-aeed7d93c717>, line 3)",
     "output_type": "error",
     "traceback": [
      "\u001b[0;36m  File \u001b[0;32m\"<ipython-input-135-aeed7d93c717>\"\u001b[0;36m, line \u001b[0;32m3\u001b[0m\n\u001b[0;31m    \u001b[0m\n\u001b[0m    ^\u001b[0m\n\u001b[0;31mSyntaxError\u001b[0m\u001b[0;31m:\u001b[0m invalid character in identifier\n"
     ]
    }
   ],
   "source": [
    "for cluster_num in range(num_clusters):\n",
    "    key_features = [feature_names[index] for index in ordered_centroids[cluster_num, :topn_features]]\n",
    "    \n",
    "    titles = title_clusters[title_clusters['km_clusters'] == cluster_num]['CleanJobTitle'].values.tolist()\n",
    "    \n",
    "    print('CLUSTER #'+ str(cluster_num + 1))\n",
    "    print('Key Words:', key_features)\n",
    "    print('Common Titles:', titles)\n",
    "    print('-'*80)"
   ]
  },
  {
   "cell_type": "markdown",
   "metadata": {},
   "source": [
    "## KMeans Approach the TF-IDF (TGIF) 😃🙌🏼 Way"
   ]
  },
  {
   "cell_type": "code",
   "execution_count": null,
   "metadata": {},
   "outputs": [],
   "source": []
  },
  {
   "cell_type": "code",
   "execution_count": null,
   "metadata": {},
   "outputs": [],
   "source": []
  },
  {
   "cell_type": "code",
   "execution_count": null,
   "metadata": {},
   "outputs": [],
   "source": []
  },
  {
   "cell_type": "code",
   "execution_count": null,
   "metadata": {},
   "outputs": [],
   "source": []
  },
  {
   "cell_type": "code",
   "execution_count": null,
   "metadata": {},
   "outputs": [],
   "source": []
  },
  {
   "cell_type": "code",
   "execution_count": null,
   "metadata": {},
   "outputs": [],
   "source": []
  },
  {
   "cell_type": "code",
   "execution_count": null,
   "metadata": {},
   "outputs": [],
   "source": []
  },
  {
   "cell_type": "markdown",
   "metadata": {},
   "source": [
    "# K-Nearest Neighbors"
   ]
  },
  {
   "cell_type": "code",
   "execution_count": 79,
   "metadata": {},
   "outputs": [],
   "source": [
    "from sklearn.neighbors import NearestNeighbors"
   ]
  },
  {
   "cell_type": "code",
   "execution_count": 87,
   "metadata": {},
   "outputs": [],
   "source": [
    "knn = NearestNeighbors(n_neighbors=50,\n",
    "                       metric='euclidean',\n",
    "                       algorithm='brute',\n",
    "                       n_jobs=4,\n",
    "                      )"
   ]
  },
  {
   "cell_type": "code",
   "execution_count": 88,
   "metadata": {},
   "outputs": [
    {
     "data": {
      "text/plain": [
       "NearestNeighbors(algorithm='brute', leaf_size=30, metric='euclidean',\n",
       "                 metric_params=None, n_jobs=4, n_neighbors=5, p=2, radius=1.0)"
      ]
     },
     "execution_count": 88,
     "metadata": {},
     "output_type": "execute_result"
    }
   ],
   "source": [
    "knn.fit(cv_matrix)"
   ]
  },
  {
   "cell_type": "code",
   "execution_count": null,
   "metadata": {},
   "outputs": [],
   "source": []
  },
  {
   "cell_type": "code",
   "execution_count": null,
   "metadata": {},
   "outputs": [],
   "source": []
  },
  {
   "cell_type": "code",
   "execution_count": null,
   "metadata": {},
   "outputs": [],
   "source": []
  },
  {
   "cell_type": "code",
   "execution_count": null,
   "metadata": {},
   "outputs": [],
   "source": []
  },
  {
   "cell_type": "code",
   "execution_count": null,
   "metadata": {},
   "outputs": [],
   "source": []
  },
  {
   "cell_type": "code",
   "execution_count": null,
   "metadata": {},
   "outputs": [],
   "source": []
  },
  {
   "cell_type": "code",
   "execution_count": null,
   "metadata": {},
   "outputs": [],
   "source": []
  },
  {
   "cell_type": "code",
   "execution_count": null,
   "metadata": {},
   "outputs": [],
   "source": []
  },
  {
   "cell_type": "code",
   "execution_count": null,
   "metadata": {},
   "outputs": [],
   "source": []
  },
  {
   "cell_type": "code",
   "execution_count": null,
   "metadata": {},
   "outputs": [],
   "source": []
  },
  {
   "cell_type": "code",
   "execution_count": null,
   "metadata": {},
   "outputs": [],
   "source": []
  },
  {
   "cell_type": "code",
   "execution_count": null,
   "metadata": {},
   "outputs": [],
   "source": []
  },
  {
   "cell_type": "code",
   "execution_count": null,
   "metadata": {},
   "outputs": [],
   "source": []
  },
  {
   "cell_type": "code",
   "execution_count": null,
   "metadata": {},
   "outputs": [],
   "source": []
  },
  {
   "cell_type": "code",
   "execution_count": null,
   "metadata": {},
   "outputs": [],
   "source": []
  },
  {
   "cell_type": "code",
   "execution_count": null,
   "metadata": {},
   "outputs": [],
   "source": []
  },
  {
   "cell_type": "code",
   "execution_count": null,
   "metadata": {},
   "outputs": [],
   "source": []
  },
  {
   "cell_type": "markdown",
   "metadata": {},
   "source": [
    "# Section III - Clustering the Job Descriptions"
   ]
  },
  {
   "cell_type": "markdown",
   "metadata": {},
   "source": [
    "For this section we will use a 10k random sample."
   ]
  },
  {
   "cell_type": "code",
   "execution_count": 38,
   "metadata": {},
   "outputs": [
    {
     "data": {
      "text/plain": [
       "Index(['JobDate', 'CanonEmployer', 'CleanJobTitle', 'clean_text',\n",
       "       'normal_text', 'normal_titles', 'km_uni_30', 'km_bi_30', 'km_tri_30',\n",
       "       'km_uni_35', 'km_bi_35', 'km_tri_35', 'km_uni_40', 'km_bi_40',\n",
       "       'km_tri_40', 'km_uni_45', 'km_bi_45', 'km_tri_45', 'km_uni_50',\n",
       "       'km_bi_50', 'km_tri_50', 'km_uni_55', 'km_bi_55', 'km_tri_55',\n",
       "       'km_uni_60', 'km_bi_60', 'km_tri_60'],\n",
       "      dtype='object')"
      ]
     },
     "execution_count": 38,
     "metadata": {},
     "output_type": "execute_result"
    }
   ],
   "source": [
    "df.columns"
   ]
  },
  {
   "cell_type": "code",
   "execution_count": 40,
   "metadata": {},
   "outputs": [
    {
     "name": "stdout",
     "output_type": "stream",
     "text": [
      "CPU times: user 11.8 ms, sys: 15.9 ms, total: 27.6 ms\n",
      "Wall time: 33.3 ms\n"
     ]
    }
   ],
   "source": [
    "%%time\n",
    "\n",
    "small_df = df.sample(5000).copy()"
   ]
  },
  {
   "cell_type": "code",
   "execution_count": 42,
   "metadata": {},
   "outputs": [
    {
     "data": {
      "text/plain": [
       "(5000, 27)"
      ]
     },
     "execution_count": 42,
     "metadata": {},
     "output_type": "execute_result"
    }
   ],
   "source": [
    "small_df.shape"
   ]
  },
  {
   "cell_type": "code",
   "execution_count": 45,
   "metadata": {},
   "outputs": [
    {
     "name": "stdout",
     "output_type": "stream",
     "text": [
      "CPU times: user 20.9 s, sys: 1.53 s, total: 22.4 s\n",
      "Wall time: 23.3 s\n"
     ]
    },
    {
     "data": {
      "text/plain": [
       "((5000, 8175), (5000, 34051), (5000, 49186))"
      ]
     },
     "execution_count": 45,
     "metadata": {},
     "output_type": "execute_result"
    }
   ],
   "source": [
    "%%time\n",
    "\n",
    "count_vect_uni = CountVectorizer(ngram_range=(1, 1), min_df=10, max_df=0.85) \n",
    "count_vect_bi = CountVectorizer(ngram_range=(1, 2), min_df=10, max_df=0.85)\n",
    "count_vect_tri = CountVectorizer(ngram_range=(1, 3), min_df=10, max_df=0.85)\n",
    "\n",
    "cv_text_uni = count_vect_uni.fit_transform(small_df['normal_text'])\n",
    "cv_text_bi = count_vect_bi.fit_transform(small_df['normal_text']) \n",
    "cv_text_tri = count_vect_tri.fit_transform(small_df['normal_text'])\n",
    "\n",
    "cv_text_uni.shape, cv_text_bi.shape, cv_text_tri.shape"
   ]
  },
  {
   "cell_type": "code",
   "execution_count": 46,
   "metadata": {},
   "outputs": [
    {
     "data": {
      "text/plain": [
       "'text_uni'"
      ]
     },
     "execution_count": 46,
     "metadata": {},
     "output_type": "execute_result"
    }
   ],
   "source": [
    "cvs_names = ['cv_text_uni', 'cv_text_bi', 'cv_text_tri']\n",
    "\n",
    "cvs_names[0][3:]"
   ]
  },
  {
   "cell_type": "code",
   "execution_count": 47,
   "metadata": {},
   "outputs": [
    {
     "name": "stdout",
     "output_type": "stream",
     "text": [
      "Done with k = 30\n",
      "Done with k = 35\n",
      "Done with k = 40\n",
      "Done with k = 45\n",
      "Done with k = 50\n",
      "Done with k = 55\n",
      "Done with k = 60\n",
      "CPU times: user 9.94 s, sys: 16.5 s, total: 26.4 s\n",
      "Wall time: 9h 33min 54s\n"
     ]
    }
   ],
   "source": [
    "%%time\n",
    "\n",
    "num_clusters = [30, 35, 40, 45, 50, 55, 60]\n",
    "cvs = [cv_text_uni, cv_text_bi, cv_text_tri]\n",
    "cvs_names = ['cv_text_uni', 'cv_text_bi', 'cv_text_tri']\n",
    "\n",
    "for i in range(len(num_clusters)):\n",
    "    \n",
    "    for s, r in zip(cvs, cvs_names):\n",
    "\n",
    "        km = KMeans(n_clusters=num_clusters[i], # how many clusters do we want\n",
    "            max_iter=10000, # reshuffle each centroid x number of times\n",
    "            n_init=25, # that x num of times can be set here\n",
    "            random_state=42,\n",
    "            n_jobs=2 # number of cpu's to use in the computation\n",
    "           )\n",
    "        \n",
    "        \n",
    "        km.fit(s)\n",
    "        \n",
    "        small_df[r[3:] + '_' + str(i)] = km.labels_\n",
    "    \n",
    "    print(f\"Done with k = {num_clusters[i]}\")"
   ]
  },
  {
   "cell_type": "code",
   "execution_count": 48,
   "metadata": {},
   "outputs": [
    {
     "data": {
      "text/html": [
       "<div>\n",
       "<style scoped>\n",
       "    .dataframe tbody tr th:only-of-type {\n",
       "        vertical-align: middle;\n",
       "    }\n",
       "\n",
       "    .dataframe tbody tr th {\n",
       "        vertical-align: top;\n",
       "    }\n",
       "\n",
       "    .dataframe thead th {\n",
       "        text-align: right;\n",
       "    }\n",
       "</style>\n",
       "<table border=\"1\" class=\"dataframe\">\n",
       "  <thead>\n",
       "    <tr style=\"text-align: right;\">\n",
       "      <th></th>\n",
       "      <th>JobDate</th>\n",
       "      <th>CanonEmployer</th>\n",
       "      <th>CleanJobTitle</th>\n",
       "      <th>clean_text</th>\n",
       "      <th>normal_text</th>\n",
       "      <th>normal_titles</th>\n",
       "      <th>km_uni_30</th>\n",
       "      <th>km_bi_30</th>\n",
       "      <th>km_tri_30</th>\n",
       "      <th>km_uni_35</th>\n",
       "      <th>km_bi_35</th>\n",
       "      <th>km_tri_35</th>\n",
       "      <th>km_uni_40</th>\n",
       "      <th>km_bi_40</th>\n",
       "      <th>km_tri_40</th>\n",
       "      <th>km_uni_45</th>\n",
       "      <th>km_bi_45</th>\n",
       "      <th>km_tri_45</th>\n",
       "      <th>km_uni_50</th>\n",
       "      <th>km_bi_50</th>\n",
       "      <th>km_tri_50</th>\n",
       "      <th>km_uni_55</th>\n",
       "      <th>km_bi_55</th>\n",
       "      <th>km_tri_55</th>\n",
       "      <th>km_uni_60</th>\n",
       "      <th>km_bi_60</th>\n",
       "      <th>km_tri_60</th>\n",
       "      <th>text_uni_0</th>\n",
       "      <th>text_bi_0</th>\n",
       "      <th>text_tri_0</th>\n",
       "      <th>text_uni_1</th>\n",
       "      <th>text_bi_1</th>\n",
       "      <th>text_tri_1</th>\n",
       "      <th>text_uni_2</th>\n",
       "      <th>text_bi_2</th>\n",
       "      <th>text_tri_2</th>\n",
       "      <th>text_uni_3</th>\n",
       "      <th>text_bi_3</th>\n",
       "      <th>text_tri_3</th>\n",
       "      <th>text_uni_4</th>\n",
       "      <th>text_bi_4</th>\n",
       "      <th>text_tri_4</th>\n",
       "      <th>text_uni_5</th>\n",
       "      <th>text_bi_5</th>\n",
       "      <th>text_tri_5</th>\n",
       "      <th>text_uni_6</th>\n",
       "      <th>text_bi_6</th>\n",
       "      <th>text_tri_6</th>\n",
       "    </tr>\n",
       "  </thead>\n",
       "  <tbody>\n",
       "    <tr>\n",
       "      <th>57569</th>\n",
       "      <td>2007-11-04</td>\n",
       "      <td>Recruiting Agency</td>\n",
       "      <td>Manufacturing Device Technician</td>\n",
       "      <td>Manufacturing Device Technician: Kforce Scient...</td>\n",
       "      <td>manufacturing device technician kforce scienti...</td>\n",
       "      <td>manufacturing device technician</td>\n",
       "      <td>0</td>\n",
       "      <td>12</td>\n",
       "      <td>1</td>\n",
       "      <td>23</td>\n",
       "      <td>21</td>\n",
       "      <td>1</td>\n",
       "      <td>37</td>\n",
       "      <td>21</td>\n",
       "      <td>0</td>\n",
       "      <td>6</td>\n",
       "      <td>42</td>\n",
       "      <td>0</td>\n",
       "      <td>6</td>\n",
       "      <td>42</td>\n",
       "      <td>0</td>\n",
       "      <td>35</td>\n",
       "      <td>26</td>\n",
       "      <td>39</td>\n",
       "      <td>35</td>\n",
       "      <td>26</td>\n",
       "      <td>39</td>\n",
       "      <td>1</td>\n",
       "      <td>21</td>\n",
       "      <td>24</td>\n",
       "      <td>1</td>\n",
       "      <td>32</td>\n",
       "      <td>34</td>\n",
       "      <td>35</td>\n",
       "      <td>32</td>\n",
       "      <td>34</td>\n",
       "      <td>27</td>\n",
       "      <td>42</td>\n",
       "      <td>34</td>\n",
       "      <td>10</td>\n",
       "      <td>2</td>\n",
       "      <td>34</td>\n",
       "      <td>45</td>\n",
       "      <td>5</td>\n",
       "      <td>28</td>\n",
       "      <td>30</td>\n",
       "      <td>2</td>\n",
       "      <td>21</td>\n",
       "    </tr>\n",
       "    <tr>\n",
       "      <th>56128</th>\n",
       "      <td>2011-08-12</td>\n",
       "      <td>Parexel</td>\n",
       "      <td>Administrative Assistant</td>\n",
       "      <td>Home News Headlines Jobs by Location Jobs by T...</td>\n",
       "      <td>home news headlines jobs by location jobs by t...</td>\n",
       "      <td>administrative assistant</td>\n",
       "      <td>17</td>\n",
       "      <td>16</td>\n",
       "      <td>29</td>\n",
       "      <td>24</td>\n",
       "      <td>18</td>\n",
       "      <td>29</td>\n",
       "      <td>6</td>\n",
       "      <td>18</td>\n",
       "      <td>36</td>\n",
       "      <td>27</td>\n",
       "      <td>36</td>\n",
       "      <td>36</td>\n",
       "      <td>27</td>\n",
       "      <td>36</td>\n",
       "      <td>36</td>\n",
       "      <td>30</td>\n",
       "      <td>42</td>\n",
       "      <td>24</td>\n",
       "      <td>30</td>\n",
       "      <td>42</td>\n",
       "      <td>24</td>\n",
       "      <td>6</td>\n",
       "      <td>18</td>\n",
       "      <td>9</td>\n",
       "      <td>6</td>\n",
       "      <td>11</td>\n",
       "      <td>28</td>\n",
       "      <td>1</td>\n",
       "      <td>11</td>\n",
       "      <td>28</td>\n",
       "      <td>14</td>\n",
       "      <td>11</td>\n",
       "      <td>28</td>\n",
       "      <td>27</td>\n",
       "      <td>14</td>\n",
       "      <td>28</td>\n",
       "      <td>4</td>\n",
       "      <td>32</td>\n",
       "      <td>6</td>\n",
       "      <td>16</td>\n",
       "      <td>30</td>\n",
       "      <td>29</td>\n",
       "    </tr>\n",
       "    <tr>\n",
       "      <th>38191</th>\n",
       "      <td>2012-02-09</td>\n",
       "      <td>Mayo Foundation for Medical Education and Rese...</td>\n",
       "      <td>Unit Secretary</td>\n",
       "      <td>Main Navigation Sub Navigation Search by Keywo...</td>\n",
       "      <td>main navigation sub navigation search by keywo...</td>\n",
       "      <td>unit secretary</td>\n",
       "      <td>20</td>\n",
       "      <td>1</td>\n",
       "      <td>1</td>\n",
       "      <td>4</td>\n",
       "      <td>33</td>\n",
       "      <td>1</td>\n",
       "      <td>0</td>\n",
       "      <td>33</td>\n",
       "      <td>14</td>\n",
       "      <td>21</td>\n",
       "      <td>42</td>\n",
       "      <td>14</td>\n",
       "      <td>21</td>\n",
       "      <td>42</td>\n",
       "      <td>14</td>\n",
       "      <td>6</td>\n",
       "      <td>51</td>\n",
       "      <td>11</td>\n",
       "      <td>6</td>\n",
       "      <td>51</td>\n",
       "      <td>11</td>\n",
       "      <td>6</td>\n",
       "      <td>15</td>\n",
       "      <td>24</td>\n",
       "      <td>6</td>\n",
       "      <td>32</td>\n",
       "      <td>34</td>\n",
       "      <td>35</td>\n",
       "      <td>32</td>\n",
       "      <td>34</td>\n",
       "      <td>4</td>\n",
       "      <td>32</td>\n",
       "      <td>41</td>\n",
       "      <td>27</td>\n",
       "      <td>14</td>\n",
       "      <td>34</td>\n",
       "      <td>4</td>\n",
       "      <td>32</td>\n",
       "      <td>6</td>\n",
       "      <td>30</td>\n",
       "      <td>30</td>\n",
       "      <td>21</td>\n",
       "    </tr>\n",
       "    <tr>\n",
       "      <th>71088</th>\n",
       "      <td>2017-10-19</td>\n",
       "      <td>Recruiting Agency</td>\n",
       "      <td>Assembler</td>\n",
       "      <td>Assembler Monday, october 16, 2017 Description...</td>\n",
       "      <td>assembler monday october 16 2017 description a...</td>\n",
       "      <td>assembler</td>\n",
       "      <td>20</td>\n",
       "      <td>1</td>\n",
       "      <td>1</td>\n",
       "      <td>4</td>\n",
       "      <td>33</td>\n",
       "      <td>1</td>\n",
       "      <td>0</td>\n",
       "      <td>33</td>\n",
       "      <td>14</td>\n",
       "      <td>26</td>\n",
       "      <td>42</td>\n",
       "      <td>14</td>\n",
       "      <td>26</td>\n",
       "      <td>42</td>\n",
       "      <td>14</td>\n",
       "      <td>38</td>\n",
       "      <td>4</td>\n",
       "      <td>11</td>\n",
       "      <td>38</td>\n",
       "      <td>4</td>\n",
       "      <td>11</td>\n",
       "      <td>4</td>\n",
       "      <td>2</td>\n",
       "      <td>21</td>\n",
       "      <td>4</td>\n",
       "      <td>23</td>\n",
       "      <td>0</td>\n",
       "      <td>21</td>\n",
       "      <td>23</td>\n",
       "      <td>0</td>\n",
       "      <td>17</td>\n",
       "      <td>21</td>\n",
       "      <td>0</td>\n",
       "      <td>28</td>\n",
       "      <td>45</td>\n",
       "      <td>0</td>\n",
       "      <td>25</td>\n",
       "      <td>46</td>\n",
       "      <td>24</td>\n",
       "      <td>19</td>\n",
       "      <td>58</td>\n",
       "      <td>23</td>\n",
       "    </tr>\n",
       "    <tr>\n",
       "      <th>23216</th>\n",
       "      <td>2007-10-02</td>\n",
       "      <td>Bon Secours Health System Incorporated</td>\n",
       "      <td>Advanced Practice Nurse</td>\n",
       "      <td>Back to Job Search Results Printer Friendly Ve...</td>\n",
       "      <td>back to job search results printer friendly ve...</td>\n",
       "      <td>advanced practice nurse</td>\n",
       "      <td>2</td>\n",
       "      <td>1</td>\n",
       "      <td>1</td>\n",
       "      <td>11</td>\n",
       "      <td>33</td>\n",
       "      <td>1</td>\n",
       "      <td>4</td>\n",
       "      <td>33</td>\n",
       "      <td>14</td>\n",
       "      <td>13</td>\n",
       "      <td>42</td>\n",
       "      <td>42</td>\n",
       "      <td>13</td>\n",
       "      <td>42</td>\n",
       "      <td>42</td>\n",
       "      <td>52</td>\n",
       "      <td>4</td>\n",
       "      <td>11</td>\n",
       "      <td>52</td>\n",
       "      <td>4</td>\n",
       "      <td>11</td>\n",
       "      <td>1</td>\n",
       "      <td>15</td>\n",
       "      <td>24</td>\n",
       "      <td>22</td>\n",
       "      <td>21</td>\n",
       "      <td>31</td>\n",
       "      <td>8</td>\n",
       "      <td>21</td>\n",
       "      <td>11</td>\n",
       "      <td>28</td>\n",
       "      <td>42</td>\n",
       "      <td>11</td>\n",
       "      <td>6</td>\n",
       "      <td>14</td>\n",
       "      <td>46</td>\n",
       "      <td>49</td>\n",
       "      <td>5</td>\n",
       "      <td>27</td>\n",
       "      <td>20</td>\n",
       "      <td>2</td>\n",
       "      <td>56</td>\n",
       "    </tr>\n",
       "  </tbody>\n",
       "</table>\n",
       "</div>"
      ],
      "text/plain": [
       "          JobDate                                      CanonEmployer  \\\n",
       "57569  2007-11-04                                  Recruiting Agency   \n",
       "56128  2011-08-12                                            Parexel   \n",
       "38191  2012-02-09  Mayo Foundation for Medical Education and Rese...   \n",
       "71088  2017-10-19                                  Recruiting Agency   \n",
       "23216  2007-10-02             Bon Secours Health System Incorporated   \n",
       "\n",
       "                         CleanJobTitle  \\\n",
       "57569  Manufacturing Device Technician   \n",
       "56128         Administrative Assistant   \n",
       "38191                   Unit Secretary   \n",
       "71088                        Assembler   \n",
       "23216          Advanced Practice Nurse   \n",
       "\n",
       "                                              clean_text  \\\n",
       "57569  Manufacturing Device Technician: Kforce Scient...   \n",
       "56128  Home News Headlines Jobs by Location Jobs by T...   \n",
       "38191  Main Navigation Sub Navigation Search by Keywo...   \n",
       "71088  Assembler Monday, october 16, 2017 Description...   \n",
       "23216  Back to Job Search Results Printer Friendly Ve...   \n",
       "\n",
       "                                             normal_text  \\\n",
       "57569  manufacturing device technician kforce scienti...   \n",
       "56128  home news headlines jobs by location jobs by t...   \n",
       "38191  main navigation sub navigation search by keywo...   \n",
       "71088  assembler monday october 16 2017 description a...   \n",
       "23216  back to job search results printer friendly ve...   \n",
       "\n",
       "                         normal_titles  km_uni_30  km_bi_30  km_tri_30  \\\n",
       "57569  manufacturing device technician          0        12          1   \n",
       "56128         administrative assistant         17        16         29   \n",
       "38191                   unit secretary         20         1          1   \n",
       "71088                        assembler         20         1          1   \n",
       "23216          advanced practice nurse          2         1          1   \n",
       "\n",
       "       km_uni_35  km_bi_35  km_tri_35  km_uni_40  km_bi_40  km_tri_40  \\\n",
       "57569         23        21          1         37        21          0   \n",
       "56128         24        18         29          6        18         36   \n",
       "38191          4        33          1          0        33         14   \n",
       "71088          4        33          1          0        33         14   \n",
       "23216         11        33          1          4        33         14   \n",
       "\n",
       "       km_uni_45  km_bi_45  km_tri_45  km_uni_50  km_bi_50  km_tri_50  \\\n",
       "57569          6        42          0          6        42          0   \n",
       "56128         27        36         36         27        36         36   \n",
       "38191         21        42         14         21        42         14   \n",
       "71088         26        42         14         26        42         14   \n",
       "23216         13        42         42         13        42         42   \n",
       "\n",
       "       km_uni_55  km_bi_55  km_tri_55  km_uni_60  km_bi_60  km_tri_60  \\\n",
       "57569         35        26         39         35        26         39   \n",
       "56128         30        42         24         30        42         24   \n",
       "38191          6        51         11          6        51         11   \n",
       "71088         38         4         11         38         4         11   \n",
       "23216         52         4         11         52         4         11   \n",
       "\n",
       "       text_uni_0  text_bi_0  text_tri_0  text_uni_1  text_bi_1  text_tri_1  \\\n",
       "57569           1         21          24           1         32          34   \n",
       "56128           6         18           9           6         11          28   \n",
       "38191           6         15          24           6         32          34   \n",
       "71088           4          2          21           4         23           0   \n",
       "23216           1         15          24          22         21          31   \n",
       "\n",
       "       text_uni_2  text_bi_2  text_tri_2  text_uni_3  text_bi_3  text_tri_3  \\\n",
       "57569          35         32          34          27         42          34   \n",
       "56128           1         11          28          14         11          28   \n",
       "38191          35         32          34           4         32          41   \n",
       "71088          21         23           0          17         21           0   \n",
       "23216           8         21          11          28         42          11   \n",
       "\n",
       "       text_uni_4  text_bi_4  text_tri_4  text_uni_5  text_bi_5  text_tri_5  \\\n",
       "57569          10          2          34          45          5          28   \n",
       "56128          27         14          28           4         32           6   \n",
       "38191          27         14          34           4         32           6   \n",
       "71088          28         45           0          25         46          24   \n",
       "23216           6         14          46          49          5          27   \n",
       "\n",
       "       text_uni_6  text_bi_6  text_tri_6  \n",
       "57569          30          2          21  \n",
       "56128          16         30          29  \n",
       "38191          30         30          21  \n",
       "71088          19         58          23  \n",
       "23216          20          2          56  "
      ]
     },
     "execution_count": 48,
     "metadata": {},
     "output_type": "execute_result"
    }
   ],
   "source": [
    "small_df.head()"
   ]
  },
  {
   "cell_type": "code",
   "execution_count": 49,
   "metadata": {},
   "outputs": [
    {
     "data": {
      "text/plain": [
       "(5000, 48)"
      ]
     },
     "execution_count": 49,
     "metadata": {},
     "output_type": "execute_result"
    }
   ],
   "source": [
    "small_df.shape"
   ]
  },
  {
   "cell_type": "code",
   "execution_count": null,
   "metadata": {},
   "outputs": [],
   "source": []
  },
  {
   "cell_type": "code",
   "execution_count": 50,
   "metadata": {},
   "outputs": [],
   "source": [
    "small_df.to_csv(path_out + 'km_text_approach_5k.csv', index=False)"
   ]
  },
  {
   "cell_type": "code",
   "execution_count": 51,
   "metadata": {},
   "outputs": [],
   "source": [
    "(small_df.drop_duplicates()\n",
    "         .sample(2000)\n",
    "         .to_csv(path_out + 'km_text_approach_2k_unique.csv', index=False))"
   ]
  },
  {
   "cell_type": "code",
   "execution_count": 52,
   "metadata": {},
   "outputs": [
    {
     "data": {
      "image/png": "[encoded data removed]",
      "text/plain": [
       "<Figure size 1080x576 with 1 Axes>"
      ]
     },
     "metadata": {
      "needs_background": "light"
     },
     "output_type": "display_data"
    }
   ],
   "source": [
    "pd.Series(Counter(km.labels_)).sort_values().plot(kind='bar',\n",
    "                                    rot=90, \n",
    "                                    figsize=(15, 8),\n",
    "                                    fontsize=14,\n",
    "                                    color='blue',\n",
    "                                    title='KMeans JobText Clusters',\n",
    "                                    grid=True,\n",
    "                                    alpha=0.70);"
   ]
  },
  {
   "cell_type": "code",
   "execution_count": 58,
   "metadata": {},
   "outputs": [
    {
     "data": {
      "text/plain": [
       "16536                                  Test Engineer\n",
       "87293    Assistant Maintenance Manager - Metropointe\n",
       "88551                             Highway Technician\n",
       "72121       Contracts And Procurement Management Ana\n",
       "Name: CleanJobTitle, dtype: object"
      ]
     },
     "execution_count": 58,
     "metadata": {},
     "output_type": "execute_result"
    }
   ],
   "source": [
    "small_df.loc[small_df['text_uni_6'] == 21, 'CleanJobTitle'].head(20)"
   ]
  },
  {
   "cell_type": "code",
   "execution_count": null,
   "metadata": {},
   "outputs": [],
   "source": []
  },
  {
   "cell_type": "code",
   "execution_count": 118,
   "metadata": {},
   "outputs": [],
   "source": [
    "cv_mx = CountVectorizer(ngram_range=(1, 1),\n",
    "                          min_df=8,\n",
    "                          max_df=0.85,\n",
    "#                           stop_words=stopwords\n",
    "    )"
   ]
  },
  {
   "cell_type": "code",
   "execution_count": 119,
   "metadata": {},
   "outputs": [
    {
     "name": "stdout",
     "output_type": "stream",
     "text": [
      "CPU times: user 3.84 s, sys: 990 ms, total: 4.83 s\n",
      "Wall time: 6.85 s\n"
     ]
    },
    {
     "data": {
      "text/plain": [
       "<10000x13077 sparse matrix of type '<class 'numpy.int64'>'\n",
       "\twith 2304213 stored elements in Compressed Sparse Row format>"
      ]
     },
     "execution_count": 119,
     "metadata": {},
     "output_type": "execute_result"
    }
   ],
   "source": [
    "%%time\n",
    "\n",
    "cv_text_mx = cv_mx.fit_transform(small_df['clean_text'])\n",
    "cv_text_mx"
   ]
  },
  {
   "cell_type": "code",
   "execution_count": 120,
   "metadata": {},
   "outputs": [
    {
     "data": {
      "text/plain": [
       "(10000, 13077)"
      ]
     },
     "execution_count": 120,
     "metadata": {},
     "output_type": "execute_result"
    }
   ],
   "source": [
    "cv_text_mx.shape"
   ]
  },
  {
   "cell_type": "code",
   "execution_count": 122,
   "metadata": {},
   "outputs": [],
   "source": [
    "num_clusters = 50\n",
    "\n",
    "km_text = KMeans(n_clusters=num_clusters, # how many clusters do we want\n",
    "                 max_iter=1000, # reshuffle each centroid x n number of times\n",
    "                 n_init=25, # do the max_iter n number of times\n",
    "                 random_state=42, # set the seed for reproducible results\n",
    "                 n_jobs=4 # number of cpu's to use in the computation\n",
    "           )"
   ]
  },
  {
   "cell_type": "code",
   "execution_count": 123,
   "metadata": {},
   "outputs": [
    {
     "name": "stdout",
     "output_type": "stream",
     "text": [
      "CPU times: user 447 ms, sys: 829 ms, total: 1.28 s\n",
      "Wall time: 29min 2s\n"
     ]
    },
    {
     "data": {
      "text/plain": [
       "KMeans(algorithm='auto', copy_x=True, init='k-means++', max_iter=1000,\n",
       "       n_clusters=50, n_init=25, n_jobs=4, precompute_distances='auto',\n",
       "       random_state=42, tol=0.0001, verbose=0)"
      ]
     },
     "execution_count": 123,
     "metadata": {},
     "output_type": "execute_result"
    }
   ],
   "source": [
    "%%time\n",
    "\n",
    "km_text.fit(cv_text_mx)"
   ]
  },
  {
   "cell_type": "code",
   "execution_count": 124,
   "metadata": {},
   "outputs": [
    {
     "data": {
      "text/html": [
       "<div>\n",
       "<style scoped>\n",
       "    .dataframe tbody tr th:only-of-type {\n",
       "        vertical-align: middle;\n",
       "    }\n",
       "\n",
       "    .dataframe tbody tr th {\n",
       "        vertical-align: top;\n",
       "    }\n",
       "\n",
       "    .dataframe thead th {\n",
       "        text-align: right;\n",
       "    }\n",
       "</style>\n",
       "<table border=\"1\" class=\"dataframe\">\n",
       "  <thead>\n",
       "    <tr style=\"text-align: right;\">\n",
       "      <th></th>\n",
       "      <th>JobDate</th>\n",
       "      <th>CanonEmployer</th>\n",
       "      <th>CleanJobTitle</th>\n",
       "      <th>clean_text</th>\n",
       "      <th>normal_text</th>\n",
       "      <th>normal_titles</th>\n",
       "      <th>km_clusters</th>\n",
       "      <th>km_labels</th>\n",
       "    </tr>\n",
       "  </thead>\n",
       "  <tbody>\n",
       "    <tr>\n",
       "      <th>34685</th>\n",
       "      <td>2011-04-04</td>\n",
       "      <td>URS Corporation</td>\n",
       "      <td>Proposal Manager</td>\n",
       "      <td>Requisition Number: URS50828 Interest Category...</td>\n",
       "      <td>requisition number urs50828 interest category ...</td>\n",
       "      <td>proposal manager</td>\n",
       "      <td>19</td>\n",
       "      <td>34</td>\n",
       "    </tr>\n",
       "    <tr>\n",
       "      <th>61200</th>\n",
       "      <td>2011-08-22</td>\n",
       "      <td>Cannery Casino Resorts</td>\n",
       "      <td>Advertising Coordinator</td>\n",
       "      <td>| | | Job Title: Advertising Coordinator City:...</td>\n",
       "      <td>job title advertising coordinator city washing...</td>\n",
       "      <td>advertising coordinator</td>\n",
       "      <td>1</td>\n",
       "      <td>42</td>\n",
       "    </tr>\n",
       "    <tr>\n",
       "      <th>55037</th>\n",
       "      <td>2014-10-12</td>\n",
       "      <td>Recruiting Agency</td>\n",
       "      <td>Maintenance Mechanic</td>\n",
       "      <td>Maintenance Mechanic Company: N/A Location: Au...</td>\n",
       "      <td>maintenance mechanic company na location auror...</td>\n",
       "      <td>maintenance mechanic</td>\n",
       "      <td>21</td>\n",
       "      <td>34</td>\n",
       "    </tr>\n",
       "    <tr>\n",
       "      <th>9557</th>\n",
       "      <td>2018-08-05</td>\n",
       "      <td>Recruiting Agency</td>\n",
       "      <td>Facility In North Seeking Psychiatric Physicia...</td>\n",
       "      <td>Facility in North Carolina Seeking Psychiatric...</td>\n",
       "      <td>facility in north carolina seeking psychiatric...</td>\n",
       "      <td>facility in north seeking psychiatric physicia...</td>\n",
       "      <td>22</td>\n",
       "      <td>11</td>\n",
       "    </tr>\n",
       "    <tr>\n",
       "      <th>90278</th>\n",
       "      <td>2014-01-14</td>\n",
       "      <td>Schoodic Arts For All</td>\n",
       "      <td>Bookkeeper Development Manager</td>\n",
       "      <td>Bookkeeper Development Manager Schoodic Arts f...</td>\n",
       "      <td>bookkeeper development manager schoodic arts f...</td>\n",
       "      <td>bookkeeper development manager</td>\n",
       "      <td>19</td>\n",
       "      <td>42</td>\n",
       "    </tr>\n",
       "  </tbody>\n",
       "</table>\n",
       "</div>"
      ],
      "text/plain": [
       "          JobDate           CanonEmployer  \\\n",
       "34685  2011-04-04         URS Corporation   \n",
       "61200  2011-08-22  Cannery Casino Resorts   \n",
       "55037  2014-10-12       Recruiting Agency   \n",
       "9557   2018-08-05       Recruiting Agency   \n",
       "90278  2014-01-14   Schoodic Arts For All   \n",
       "\n",
       "                                           CleanJobTitle  \\\n",
       "34685                                   Proposal Manager   \n",
       "61200                            Advertising Coordinator   \n",
       "55037                               Maintenance Mechanic   \n",
       "9557   Facility In North Seeking Psychiatric Physicia...   \n",
       "90278                     Bookkeeper Development Manager   \n",
       "\n",
       "                                              clean_text  \\\n",
       "34685  Requisition Number: URS50828 Interest Category...   \n",
       "61200  | | | Job Title: Advertising Coordinator City:...   \n",
       "55037  Maintenance Mechanic Company: N/A Location: Au...   \n",
       "9557   Facility in North Carolina Seeking Psychiatric...   \n",
       "90278  Bookkeeper Development Manager Schoodic Arts f...   \n",
       "\n",
       "                                             normal_text  \\\n",
       "34685  requisition number urs50828 interest category ...   \n",
       "61200  job title advertising coordinator city washing...   \n",
       "55037  maintenance mechanic company na location auror...   \n",
       "9557   facility in north carolina seeking psychiatric...   \n",
       "90278  bookkeeper development manager schoodic arts f...   \n",
       "\n",
       "                                           normal_titles  km_clusters  \\\n",
       "34685                                   proposal manager           19   \n",
       "61200                            advertising coordinator            1   \n",
       "55037                               maintenance mechanic           21   \n",
       "9557   facility in north seeking psychiatric physicia...           22   \n",
       "90278                     bookkeeper development manager           19   \n",
       "\n",
       "       km_labels  \n",
       "34685         34  \n",
       "61200         42  \n",
       "55037         34  \n",
       "9557          11  \n",
       "90278         42  "
      ]
     },
     "execution_count": 124,
     "metadata": {},
     "output_type": "execute_result"
    }
   ],
   "source": [
    "small_df['km_labels'] = km_text.labels_\n",
    "small_df.head()"
   ]
  },
  {
   "cell_type": "code",
   "execution_count": 126,
   "metadata": {},
   "outputs": [
    {
     "data": {
      "image/png": "[encoded data removed]",
      "text/plain": [
       "<Figure size 1080x576 with 1 Axes>"
      ]
     },
     "metadata": {
      "needs_background": "light"
     },
     "output_type": "display_data"
    }
   ],
   "source": [
    "pd.Series(Counter(km_text.labels_)).sort_values().plot(kind='bar',\n",
    "                                    rot=90, \n",
    "                                    figsize=(15, 8),\n",
    "                                    fontsize=14,\n",
    "                                    color='cyan',\n",
    "                                    title='KMeans Clusters from Job Description',\n",
    "                                    grid=True,\n",
    "                                    alpha=0.70);"
   ]
  },
  {
   "cell_type": "code",
   "execution_count": null,
   "metadata": {},
   "outputs": [],
   "source": []
  },
  {
   "cell_type": "code",
   "execution_count": null,
   "metadata": {},
   "outputs": [],
   "source": []
  },
  {
   "cell_type": "code",
   "execution_count": null,
   "metadata": {},
   "outputs": [],
   "source": []
  },
  {
   "cell_type": "code",
   "execution_count": null,
   "metadata": {},
   "outputs": [],
   "source": []
  },
  {
   "cell_type": "code",
   "execution_count": null,
   "metadata": {},
   "outputs": [],
   "source": []
  },
  {
   "cell_type": "code",
   "execution_count": null,
   "metadata": {},
   "outputs": [],
   "source": []
  },
  {
   "cell_type": "code",
   "execution_count": null,
   "metadata": {},
   "outputs": [],
   "source": []
  },
  {
   "cell_type": "code",
   "execution_count": null,
   "metadata": {},
   "outputs": [],
   "source": []
  },
  {
   "cell_type": "code",
   "execution_count": null,
   "metadata": {},
   "outputs": [],
   "source": []
  },
  {
   "cell_type": "code",
   "execution_count": null,
   "metadata": {},
   "outputs": [],
   "source": []
  },
  {
   "cell_type": "code",
   "execution_count": null,
   "metadata": {},
   "outputs": [],
   "source": []
  },
  {
   "cell_type": "code",
   "execution_count": null,
   "metadata": {},
   "outputs": [],
   "source": []
  },
  {
   "cell_type": "code",
   "execution_count": null,
   "metadata": {},
   "outputs": [],
   "source": []
  },
  {
   "cell_type": "code",
   "execution_count": null,
   "metadata": {},
   "outputs": [],
   "source": []
  },
  {
   "cell_type": "code",
   "execution_count": null,
   "metadata": {},
   "outputs": [],
   "source": []
  },
  {
   "cell_type": "code",
   "execution_count": null,
   "metadata": {},
   "outputs": [],
   "source": []
  },
  {
   "cell_type": "code",
   "execution_count": null,
   "metadata": {},
   "outputs": [],
   "source": []
  },
  {
   "cell_type": "code",
   "execution_count": null,
   "metadata": {},
   "outputs": [],
   "source": []
  },
  {
   "cell_type": "code",
   "execution_count": null,
   "metadata": {},
   "outputs": [],
   "source": []
  },
  {
   "cell_type": "code",
   "execution_count": null,
   "metadata": {},
   "outputs": [],
   "source": []
  },
  {
   "cell_type": "code",
   "execution_count": null,
   "metadata": {},
   "outputs": [],
   "source": []
  },
  {
   "cell_type": "code",
   "execution_count": null,
   "metadata": {},
   "outputs": [],
   "source": []
  },
  {
   "cell_type": "code",
   "execution_count": null,
   "metadata": {},
   "outputs": [],
   "source": []
  },
  {
   "cell_type": "markdown",
   "metadata": {},
   "source": [
    "### To Add\n",
    "\n",
    "1. Distance metrics conditions to satisfy"
   ]
  },
  {
   "cell_type": "code",
   "execution_count": 1,
   "metadata": {},
   "outputs": [],
   "source": [
    "import hdbscan"
   ]
  },
  {
   "cell_type": "code",
   "execution_count": null,
   "metadata": {},
   "outputs": [],
   "source": [
    "cluster = hdbscan.HDBSCAN().fit(cv_matrix)"
   ]
  },
  {
   "cell_type": "code",
   "execution_count": null,
   "metadata": {},
   "outputs": [],
   "source": [
    "Counter(cluster.labels_)"
   ]
  }
 ],
 "metadata": {
  "kernelspec": {
   "display_name": "Python 3",
   "language": "python",
   "name": "python3"
  },
  "language_info": {
   "codemirror_mode": {
    "name": "ipython",
    "version": 3
   },
   "file_extension": ".py",
   "mimetype": "text/x-python",
   "name": "python",
   "nbconvert_exporter": "python",
   "pygments_lexer": "ipython3",
   "version": "3.7.7"
  }
 },
 "nbformat": 4,
 "nbformat_minor": 4
}
