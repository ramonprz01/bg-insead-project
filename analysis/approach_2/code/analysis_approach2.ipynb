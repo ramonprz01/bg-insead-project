{
 "cells": [
  {
   "cell_type": "markdown",
   "metadata": {},
   "source": [
    "# Approach 2 (Specific Companies Only)"
   ]
  },
  {
   "cell_type": "markdown",
   "metadata": {},
   "source": [
    "**Idea:** Get a list of O*NET occupations and their associated job titles (there are over 800 occupations and at least 5-10 titles for each). Get humans to assign each job title within and then across occupations to its likely hierarchical level in a firm, regardless of which firm it’s in. Use continuous bag of words model to expand the job titles in O*NET to the full job title list in burning glass. Once done, we can simply assign levels to each job title in BG based on coder opinion. Then we count the number of unique levels in the firm and consider firms with a larger number of unique levels as ‘more hierarchical’.\n",
    "\n",
    "**Assumptions to test:**\n",
    "\n",
    "Distribution of job titles within occupations: how many job titles correspond to each O*NET code from the BG data (occupation == O*NET code)  \n",
    "a. For each firm, the number of occupations (unique) (BGTOcc)  \n",
    "b. For every company-BGTOcc, unique number of job titles & list of those job titles. I reinterpreted this one as “For every company and every BGTOcc within it, get unique number of job titles & list of those job titles”  \n",
    "c. For every job title, number of occupations it appears under  \n",
    "d. Not just the # of jobs and # occupations but ideally the # of job titles matched to an occupation. How many unique job titles do you see in an occupation?  \n",
    "\n",
    "**Additions from meeting on Friday, June 19**\n",
    "1. List of job titles (consolidated & clean) e.g., for Facebook, which appear less than median (I think it was 2) times. [Link to answer](https://www.dropbox.com/s/ekqjjb4t00l8b74/fb_job_var_nums.xlsx?dl=0)\n",
    "2. For a sample firm, xls with list of unique occupations (we need to read those and see whether they  make sense in terms of functions / divisions)\n",
    "[Link to answer](https://www.dropbox.com/s/ccll89c1vhqf6av/sample_firm_unique_occu.csv?dl=0)\n",
    "3. Avg number of occupations a job title (both consolidated & clean) is assigned to (for a sample firm and across firms in the sample) [Link to answer](https://www.dropbox.com/sh/w2j41ka4hsgx0gf/AAAdEGOsjI9_gK8__ZeVHE5Ta?dl=0)\n",
    "    - For each job title in a company, how many different occupations this job map into?\n",
    "    - For each of the 20 most common canon job titles, extract all unique clean job titles that correspond to them\n",
    "4. Xls with examples of those job titles assigned to multiple occupations: is there an occupation they are primarily associated to, and the others are just some noise"
   ]
  },
  {
   "cell_type": "code",
   "execution_count": 48,
   "metadata": {},
   "outputs": [],
   "source": [
    "import matplotlib.pyplot as plt\n",
    "import pandas as pd\n",
    "import numpy as np\n",
    "from numba import jit, njit, vectorize\n",
    "from glob import glob\n",
    "import re\n",
    "import seaborn as sns\n",
    "import pickle\n",
    "import joblib\n",
    "import nltk\n",
    "from collections import Counter\n",
    "\n",
    "import concurrent.futures as cf\n",
    "\n",
    "pd.set_option('display.max_columns', None) \n",
    "\n",
    "%matplotlib inline"
   ]
  },
  {
   "cell_type": "code",
   "execution_count": 2,
   "metadata": {},
   "outputs": [],
   "source": [
    "dtypes={'JobID': np.str, 'CleanJobTitle': np.str, 'JobDomain': np.str, \n",
    "        'CanonCity': np.str, 'CanonCountry': np.str, 'CanonState': np.str, \n",
    "        'JobText': np.str, 'JobURL': np.str, 'PostingHTML': np.float64, \n",
    "        'Source': np.str, 'JobReferenceID': np.str, 'Email': np.str, \n",
    "        'CanonEmployer': np.str, 'Latitude': np.str, 'Longitude': np.str, \n",
    "        'CanonIntermediary': np.str, 'Telephone': np.str, 'CanonJobTitle': 'object', \n",
    "        'CanonCounty': np.str, 'DivisionCode': np.float64, 'MSA': np.str, 'LMA': np.str,\n",
    "        'InternshipFlag': np.str, 'ConsolidatedONET': np.str, 'CanonCertification': np.str, \n",
    "        'CanonSkillClusters': np.str, 'CanonSkills': np.str, 'IsDuplicate': np.str, \n",
    "        'IsDuplicateOf': np.float64, 'CanonMaximumDegree': np.str, 'CanonMinimumDegree': np.str, \n",
    "        'CanonOtherDegrees': np.str, 'CanonPreferredDegrees': np.str,\n",
    "        'CanonRequiredDegrees': np.str, 'CIPCode': np.str, 'StandardMajor': np.str, \n",
    "        'MaxExperience': np.float64, 'MinExperience': np.float64, 'ConsolidatedInferredNAICS': np.float64, \n",
    "        'BGTOcc': np.str, 'MaxAnnualSalary': np.float64, 'MaxHourlySalary': np.float64, \n",
    "        'MinAnnualSalary': np.float64, 'MinHourlySalary': np.float64, 'YearsOfExperience': np.str, \n",
    "        'CanonJobHours': np.str, 'CanonJobType': np.str, 'CanonPostalCode': np.str, \n",
    "        'CanonYearsOfExperienceCanonLevel': np.str, 'CanonYearsOfExperienceLevel': np.str, \n",
    "        'ConsolidatedTitle': np.str, 'Language': np.str, 'BGTSubOcc': np.str, 'JobDate': np.str,\n",
    "        'ConsolidatedDegreeLevels': np.str, 'MaxDegreeLevel': np.float64, 'MinDegreeLevel': np.float64\n",
    "                       }"
   ]
  },
  {
   "cell_type": "markdown",
   "metadata": {},
   "source": [
    "Depending on your use case for this particular approach, you can use either of the following two lists of variables. The rest have been removed for the simple reason that they have either >90% missing or their field does not add any useful value to the dataset. For example, `PostingHTML` contains links to websites which have mostly been despricated by now."
   ]
  },
  {
   "cell_type": "code",
   "execution_count": 3,
   "metadata": {},
   "outputs": [],
   "source": [
    "best_list = ['JobID', 'CleanJobTitle', 'CanonCity', 'CanonState', 'JobDate', 'JobText', 'Source', 'CanonEmployer',\n",
    "             'Latitude', 'Longitude', 'CanonIntermediary', 'CanonJobTitle', 'CanonCounty', 'DivisionCode', 'MSA', 'LMA',\n",
    "             'InternshipFlag', 'ConsolidatedONET', 'CanonSkillClusters', 'CanonSkills', 'IsDuplicate', 'CanonMinimumDegree', \n",
    "             'CanonRequiredDegrees', 'CIPCode', 'MinExperience', 'ConsolidatedInferredNAICS', 'BGTOcc', 'MaxAnnualSalary',\n",
    "             'MaxHourlySalary', 'MinAnnualSalary', 'MinHourlySalary', 'YearsOfExperience', 'CanonJobHours', 'CanonJobType',\n",
    "             'CanonPostalCode', 'CanonYearsOfExperienceCanonLevel', 'CanonYearsOfExperienceLevel', 'ConsolidatedTitle', \n",
    "             'Language', 'BGTSubOcc', 'ConsolidatedDegreeLevels', 'MaxDegreeLevel', 'MinDegreeLevel']"
   ]
  },
  {
   "cell_type": "markdown",
   "metadata": {},
   "source": [
    "This is the version used for `Approach 2`."
   ]
  },
  {
   "cell_type": "code",
   "execution_count": 3,
   "metadata": {},
   "outputs": [],
   "source": [
    "small_list = ['JobID', 'CleanJobTitle', 'JobDate', 'JobText', 'CanonEmployer', 'CanonCity', 'CanonState', 'Latitude', 'Longitude', 'CanonCounty', \n",
    "              'CanonJobTitle', 'DivisionCode', 'MSA', 'LMA', 'ConsolidatedONET', 'CanonSkillClusters', \n",
    "              'CanonSkills', 'MinExperience', 'ConsolidatedInferredNAICS', 'BGTOcc', 'CanonJobHours', \n",
    "              'CanonJobType', 'CanonYearsOfExperienceLevel', 'ConsolidatedTitle', 'BGTSubOcc'\n",
    "             ]"
   ]
  },
  {
   "cell_type": "markdown",
   "metadata": {},
   "source": [
    "## 1. The Data -- For multiple files use the following code"
   ]
  },
  {
   "cell_type": "code",
   "execution_count": 5,
   "metadata": {},
   "outputs": [
    {
     "data": {
      "text/plain": [
       "['/Users/ramonperez/Dropbox/Burning Glass/Analysis/company_data/x_companies_2.csv',\n",
       " '/Users/ramonperez/Dropbox/Burning Glass/Analysis/company_data/x_companies_3.csv',\n",
       " '/Users/ramonperez/Dropbox/Burning Glass/Analysis/company_data/x_companies_1.csv']"
      ]
     },
     "execution_count": 5,
     "metadata": {},
     "output_type": "execute_result"
    }
   ],
   "source": [
    "# Add your path a the wildcard * to select multiple files with glob\n",
    "\n",
    "files = glob('/Users/ramonperez/Dropbox/Burning Glass/Analysis/company_data/x_co*.csv') \n",
    "files[:3]"
   ]
  },
  {
   "cell_type": "markdown",
   "metadata": {},
   "source": [
    "#### One approach is to read the data with a list comprehension\n",
    "\n",
    "This is fine for 1 to 3 GB of data that fits into memory."
   ]
  },
  {
   "cell_type": "code",
   "execution_count": 28,
   "metadata": {},
   "outputs": [
    {
     "name": "stdout",
     "output_type": "stream",
     "text": [
      "CPU times: user 28.5 s, sys: 27.2 s, total: 55.7 s\n",
      "Wall time: 1min 52s\n"
     ]
    }
   ],
   "source": [
    "%%time\n",
    "\n",
    "# Create a list containing all of the datasets\n",
    "dfs = [pd.read_csv(f, low_memory=False, parse_dates=['JobDate'], usecols=small_list, dtype=dtypes) for f in files]\n",
    "\n",
    "# Concatenate all of the datasets into one\n",
    "df = pd.concat(dfs)\n",
    "df.reset_index(drop=True, inplace=True)\n",
    "df.head(3)"
   ]
  },
  {
   "cell_type": "markdown",
   "metadata": {},
   "source": [
    "#### The other approach is to take advantage of multiprocessing\n",
    "\n",
    "This is great for 2 or more GB of data. Keep in mind that the size of the data you will read should be less than your RAM."
   ]
  },
  {
   "cell_type": "code",
   "execution_count": 6,
   "metadata": {},
   "outputs": [
    {
     "name": "stdout",
     "output_type": "stream",
     "text": [
      "CPU times: user 9.24 s, sys: 39.6 s, total: 48.8 s\n",
      "Wall time: 3min 53s\n"
     ]
    },
    {
     "data": {
      "text/html": [
       "<div>\n",
       "<style scoped>\n",
       "    .dataframe tbody tr th:only-of-type {\n",
       "        vertical-align: middle;\n",
       "    }\n",
       "\n",
       "    .dataframe tbody tr th {\n",
       "        vertical-align: top;\n",
       "    }\n",
       "\n",
       "    .dataframe thead th {\n",
       "        text-align: right;\n",
       "    }\n",
       "</style>\n",
       "<table border=\"1\" class=\"dataframe\">\n",
       "  <thead>\n",
       "    <tr style=\"text-align: right;\">\n",
       "      <th></th>\n",
       "      <th>BGTOcc</th>\n",
       "      <th>BGTSubOcc</th>\n",
       "      <th>CanonCity</th>\n",
       "      <th>CanonCounty</th>\n",
       "      <th>CanonEmployer</th>\n",
       "      <th>CanonJobHours</th>\n",
       "      <th>CanonJobTitle</th>\n",
       "      <th>CanonJobType</th>\n",
       "      <th>CanonSkillClusters</th>\n",
       "      <th>CanonSkills</th>\n",
       "      <th>CanonState</th>\n",
       "      <th>CanonYearsOfExperienceLevel</th>\n",
       "      <th>CleanJobTitle</th>\n",
       "      <th>ConsolidatedInferredNAICS</th>\n",
       "      <th>ConsolidatedONET</th>\n",
       "      <th>ConsolidatedTitle</th>\n",
       "      <th>DivisionCode</th>\n",
       "      <th>JobDate</th>\n",
       "      <th>JobID</th>\n",
       "      <th>JobText</th>\n",
       "      <th>LMA</th>\n",
       "      <th>Latitude</th>\n",
       "      <th>Longitude</th>\n",
       "      <th>MSA</th>\n",
       "      <th>MinExperience</th>\n",
       "    </tr>\n",
       "  </thead>\n",
       "  <tbody>\n",
       "    <tr>\n",
       "      <th>0</th>\n",
       "      <td>41-2031.00</td>\n",
       "      <td>Retail Sales Associate (General)</td>\n",
       "      <td>Foley</td>\n",
       "      <td>Baldwin</td>\n",
       "      <td>Chrysler</td>\n",
       "      <td>fulltime</td>\n",
       "      <td>Sales Associate</td>\n",
       "      <td>permanent</td>\n",
       "      <td>Sales: Specialized Sales;Specialized Skills|Sp...</td>\n",
       "      <td>{'Automotive Sales': 'Sales: Specialized Sales...</td>\n",
       "      <td>AL</td>\n",
       "      <td>NaN</td>\n",
       "      <td>Sales Associate</td>\n",
       "      <td>336111.0</td>\n",
       "      <td>41203100</td>\n",
       "      <td>Sales Associate</td>\n",
       "      <td>NaN</td>\n",
       "      <td>2017-03-25</td>\n",
       "      <td>38201188919</td>\n",
       "      <td>Sales Associates\\n-Foley,AL36535\\n-3781 S McKe...</td>\n",
       "      <td>MC011930</td>\n",
       "      <td>30.3962</td>\n",
       "      <td>-87.7019</td>\n",
       "      <td>19300: Metropolitan Statistical Area</td>\n",
       "      <td>NaN</td>\n",
       "    </tr>\n",
       "    <tr>\n",
       "      <th>1</th>\n",
       "      <td>41-2031.00</td>\n",
       "      <td>Retail Sales Associate (General)</td>\n",
       "      <td>Foley</td>\n",
       "      <td>Baldwin</td>\n",
       "      <td>Chrysler</td>\n",
       "      <td>fulltime</td>\n",
       "      <td>Sales Associate</td>\n",
       "      <td>permanent</td>\n",
       "      <td>Sales: Specialized Sales;Specialized Skills|Co...</td>\n",
       "      <td>{'Automotive Sales': 'Sales: Specialized Sales...</td>\n",
       "      <td>AL</td>\n",
       "      <td>NaN</td>\n",
       "      <td>Automotive Sales Associate</td>\n",
       "      <td>336111.0</td>\n",
       "      <td>41203100</td>\n",
       "      <td>Sales Associate</td>\n",
       "      <td>NaN</td>\n",
       "      <td>2017-03-24</td>\n",
       "      <td>38200222343</td>\n",
       "      <td>AUTO SALES ASSOCIATES, ENTRY LEVEL\\n\\nGULF CHR...</td>\n",
       "      <td>MC011930</td>\n",
       "      <td>30.3962</td>\n",
       "      <td>-87.7019</td>\n",
       "      <td>19300: Metropolitan Statistical Area</td>\n",
       "      <td>NaN</td>\n",
       "    </tr>\n",
       "    <tr>\n",
       "      <th>2</th>\n",
       "      <td>53-7061.00</td>\n",
       "      <td>Detailer</td>\n",
       "      <td>Fowlerville</td>\n",
       "      <td>Livingston</td>\n",
       "      <td>Chrysler</td>\n",
       "      <td>fulltime</td>\n",
       "      <td>Automotive Detailer</td>\n",
       "      <td>permanent</td>\n",
       "      <td>Specialized Skills|Specialized Skills</td>\n",
       "      <td>{'Automotive Services Industry Knowledge': 'Sp...</td>\n",
       "      <td>MI</td>\n",
       "      <td>NaN</td>\n",
       "      <td>Automotive Service Detailer</td>\n",
       "      <td>336111.0</td>\n",
       "      <td>53706100</td>\n",
       "      <td>Automotive Detailer</td>\n",
       "      <td>47664.0</td>\n",
       "      <td>2017-03-20</td>\n",
       "      <td>38198645467</td>\n",
       "      <td>Automotive Service Detailer\\n\\nChrysler Dealer...</td>\n",
       "      <td>DV264764|MT261982</td>\n",
       "      <td>42.6645</td>\n",
       "      <td>-84.0695</td>\n",
       "      <td>19820: Metropolitan Statistical Area|220: Comb...</td>\n",
       "      <td>NaN</td>\n",
       "    </tr>\n",
       "  </tbody>\n",
       "</table>\n",
       "</div>"
      ],
      "text/plain": [
       "       BGTOcc                         BGTSubOcc    CanonCity CanonCounty  \\\n",
       "0  41-2031.00  Retail Sales Associate (General)        Foley     Baldwin   \n",
       "1  41-2031.00  Retail Sales Associate (General)        Foley     Baldwin   \n",
       "2  53-7061.00                          Detailer  Fowlerville  Livingston   \n",
       "\n",
       "  CanonEmployer CanonJobHours        CanonJobTitle CanonJobType  \\\n",
       "0      Chrysler      fulltime      Sales Associate    permanent   \n",
       "1      Chrysler      fulltime      Sales Associate    permanent   \n",
       "2      Chrysler      fulltime  Automotive Detailer    permanent   \n",
       "\n",
       "                                  CanonSkillClusters  \\\n",
       "0  Sales: Specialized Sales;Specialized Skills|Sp...   \n",
       "1  Sales: Specialized Sales;Specialized Skills|Co...   \n",
       "2              Specialized Skills|Specialized Skills   \n",
       "\n",
       "                                         CanonSkills CanonState  \\\n",
       "0  {'Automotive Sales': 'Sales: Specialized Sales...         AL   \n",
       "1  {'Automotive Sales': 'Sales: Specialized Sales...         AL   \n",
       "2  {'Automotive Services Industry Knowledge': 'Sp...         MI   \n",
       "\n",
       "  CanonYearsOfExperienceLevel                CleanJobTitle  \\\n",
       "0                         NaN              Sales Associate   \n",
       "1                         NaN   Automotive Sales Associate   \n",
       "2                         NaN  Automotive Service Detailer   \n",
       "\n",
       "   ConsolidatedInferredNAICS ConsolidatedONET    ConsolidatedTitle  \\\n",
       "0                   336111.0         41203100      Sales Associate   \n",
       "1                   336111.0         41203100      Sales Associate   \n",
       "2                   336111.0         53706100  Automotive Detailer   \n",
       "\n",
       "   DivisionCode    JobDate        JobID  \\\n",
       "0           NaN 2017-03-25  38201188919   \n",
       "1           NaN 2017-03-24  38200222343   \n",
       "2       47664.0 2017-03-20  38198645467   \n",
       "\n",
       "                                             JobText                LMA  \\\n",
       "0  Sales Associates\\n-Foley,AL36535\\n-3781 S McKe...           MC011930   \n",
       "1  AUTO SALES ASSOCIATES, ENTRY LEVEL\\n\\nGULF CHR...           MC011930   \n",
       "2  Automotive Service Detailer\\n\\nChrysler Dealer...  DV264764|MT261982   \n",
       "\n",
       "  Latitude Longitude                                                MSA  \\\n",
       "0  30.3962  -87.7019               19300: Metropolitan Statistical Area   \n",
       "1  30.3962  -87.7019               19300: Metropolitan Statistical Area   \n",
       "2  42.6645  -84.0695  19820: Metropolitan Statistical Area|220: Comb...   \n",
       "\n",
       "   MinExperience  \n",
       "0            NaN  \n",
       "1            NaN  \n",
       "2            NaN  "
      ]
     },
     "execution_count": 6,
     "metadata": {},
     "output_type": "execute_result"
    }
   ],
   "source": [
    "%%time\n",
    "\n",
    "\n",
    "def get_data(data):\n",
    "    return pd.read_csv(data, low_memory=False,\n",
    "                       parse_dates=['JobDate'], \n",
    "                       usecols=small_list, dtype=dtypes)\n",
    "\n",
    "with cf.ProcessPoolExecutor() as executor:\n",
    "    results = executor.map(get_data, files)\n",
    "    \n",
    "df = pd.concat(results)\n",
    "df.reset_index(drop=True, inplace=True)\n",
    "df.head(3)"
   ]
  },
  {
   "cell_type": "code",
   "execution_count": 7,
   "metadata": {},
   "outputs": [
    {
     "data": {
      "text/html": [
       "<div>\n",
       "<style scoped>\n",
       "    .dataframe tbody tr th:only-of-type {\n",
       "        vertical-align: middle;\n",
       "    }\n",
       "\n",
       "    .dataframe tbody tr th {\n",
       "        vertical-align: top;\n",
       "    }\n",
       "\n",
       "    .dataframe thead th {\n",
       "        text-align: right;\n",
       "    }\n",
       "</style>\n",
       "<table border=\"1\" class=\"dataframe\">\n",
       "  <thead>\n",
       "    <tr style=\"text-align: right;\">\n",
       "      <th></th>\n",
       "      <th>BGTOcc</th>\n",
       "      <th>BGTSubOcc</th>\n",
       "      <th>CanonCity</th>\n",
       "      <th>CanonCounty</th>\n",
       "      <th>CanonEmployer</th>\n",
       "      <th>CanonJobHours</th>\n",
       "      <th>CanonJobTitle</th>\n",
       "      <th>CanonJobType</th>\n",
       "      <th>CanonSkillClusters</th>\n",
       "      <th>CanonSkills</th>\n",
       "      <th>CanonState</th>\n",
       "      <th>CanonYearsOfExperienceLevel</th>\n",
       "      <th>CleanJobTitle</th>\n",
       "      <th>ConsolidatedInferredNAICS</th>\n",
       "      <th>ConsolidatedONET</th>\n",
       "      <th>ConsolidatedTitle</th>\n",
       "      <th>DivisionCode</th>\n",
       "      <th>JobDate</th>\n",
       "      <th>JobID</th>\n",
       "      <th>JobText</th>\n",
       "      <th>LMA</th>\n",
       "      <th>Latitude</th>\n",
       "      <th>Longitude</th>\n",
       "      <th>MSA</th>\n",
       "      <th>MinExperience</th>\n",
       "    </tr>\n",
       "  </thead>\n",
       "  <tbody>\n",
       "    <tr>\n",
       "      <th>0</th>\n",
       "      <td>41-2031.00</td>\n",
       "      <td>Retail Sales Associate (General)</td>\n",
       "      <td>Foley</td>\n",
       "      <td>Baldwin</td>\n",
       "      <td>Chrysler</td>\n",
       "      <td>fulltime</td>\n",
       "      <td>Sales Associate</td>\n",
       "      <td>permanent</td>\n",
       "      <td>Sales: Specialized Sales;Specialized Skills|Sp...</td>\n",
       "      <td>{'Automotive Sales': 'Sales: Specialized Sales...</td>\n",
       "      <td>AL</td>\n",
       "      <td>NaN</td>\n",
       "      <td>Sales Associate</td>\n",
       "      <td>336111.0</td>\n",
       "      <td>41203100</td>\n",
       "      <td>Sales Associate</td>\n",
       "      <td>NaN</td>\n",
       "      <td>2017-03-25</td>\n",
       "      <td>38201188919</td>\n",
       "      <td>Sales Associates\\n-Foley,AL36535\\n-3781 S McKe...</td>\n",
       "      <td>MC011930</td>\n",
       "      <td>30.3962</td>\n",
       "      <td>-87.7019</td>\n",
       "      <td>19300: Metropolitan Statistical Area</td>\n",
       "      <td>NaN</td>\n",
       "    </tr>\n",
       "    <tr>\n",
       "      <th>1</th>\n",
       "      <td>41-2031.00</td>\n",
       "      <td>Retail Sales Associate (General)</td>\n",
       "      <td>Foley</td>\n",
       "      <td>Baldwin</td>\n",
       "      <td>Chrysler</td>\n",
       "      <td>fulltime</td>\n",
       "      <td>Sales Associate</td>\n",
       "      <td>permanent</td>\n",
       "      <td>Sales: Specialized Sales;Specialized Skills|Co...</td>\n",
       "      <td>{'Automotive Sales': 'Sales: Specialized Sales...</td>\n",
       "      <td>AL</td>\n",
       "      <td>NaN</td>\n",
       "      <td>Automotive Sales Associate</td>\n",
       "      <td>336111.0</td>\n",
       "      <td>41203100</td>\n",
       "      <td>Sales Associate</td>\n",
       "      <td>NaN</td>\n",
       "      <td>2017-03-24</td>\n",
       "      <td>38200222343</td>\n",
       "      <td>AUTO SALES ASSOCIATES, ENTRY LEVEL\\n\\nGULF CHR...</td>\n",
       "      <td>MC011930</td>\n",
       "      <td>30.3962</td>\n",
       "      <td>-87.7019</td>\n",
       "      <td>19300: Metropolitan Statistical Area</td>\n",
       "      <td>NaN</td>\n",
       "    </tr>\n",
       "    <tr>\n",
       "      <th>2</th>\n",
       "      <td>53-7061.00</td>\n",
       "      <td>Detailer</td>\n",
       "      <td>Fowlerville</td>\n",
       "      <td>Livingston</td>\n",
       "      <td>Chrysler</td>\n",
       "      <td>fulltime</td>\n",
       "      <td>Automotive Detailer</td>\n",
       "      <td>permanent</td>\n",
       "      <td>Specialized Skills|Specialized Skills</td>\n",
       "      <td>{'Automotive Services Industry Knowledge': 'Sp...</td>\n",
       "      <td>MI</td>\n",
       "      <td>NaN</td>\n",
       "      <td>Automotive Service Detailer</td>\n",
       "      <td>336111.0</td>\n",
       "      <td>53706100</td>\n",
       "      <td>Automotive Detailer</td>\n",
       "      <td>47664.0</td>\n",
       "      <td>2017-03-20</td>\n",
       "      <td>38198645467</td>\n",
       "      <td>Automotive Service Detailer\\n\\nChrysler Dealer...</td>\n",
       "      <td>DV264764|MT261982</td>\n",
       "      <td>42.6645</td>\n",
       "      <td>-84.0695</td>\n",
       "      <td>19820: Metropolitan Statistical Area|220: Comb...</td>\n",
       "      <td>NaN</td>\n",
       "    </tr>\n",
       "  </tbody>\n",
       "</table>\n",
       "</div>"
      ],
      "text/plain": [
       "       BGTOcc                         BGTSubOcc    CanonCity CanonCounty  \\\n",
       "0  41-2031.00  Retail Sales Associate (General)        Foley     Baldwin   \n",
       "1  41-2031.00  Retail Sales Associate (General)        Foley     Baldwin   \n",
       "2  53-7061.00                          Detailer  Fowlerville  Livingston   \n",
       "\n",
       "  CanonEmployer CanonJobHours        CanonJobTitle CanonJobType  \\\n",
       "0      Chrysler      fulltime      Sales Associate    permanent   \n",
       "1      Chrysler      fulltime      Sales Associate    permanent   \n",
       "2      Chrysler      fulltime  Automotive Detailer    permanent   \n",
       "\n",
       "                                  CanonSkillClusters  \\\n",
       "0  Sales: Specialized Sales;Specialized Skills|Sp...   \n",
       "1  Sales: Specialized Sales;Specialized Skills|Co...   \n",
       "2              Specialized Skills|Specialized Skills   \n",
       "\n",
       "                                         CanonSkills CanonState  \\\n",
       "0  {'Automotive Sales': 'Sales: Specialized Sales...         AL   \n",
       "1  {'Automotive Sales': 'Sales: Specialized Sales...         AL   \n",
       "2  {'Automotive Services Industry Knowledge': 'Sp...         MI   \n",
       "\n",
       "  CanonYearsOfExperienceLevel                CleanJobTitle  \\\n",
       "0                         NaN              Sales Associate   \n",
       "1                         NaN   Automotive Sales Associate   \n",
       "2                         NaN  Automotive Service Detailer   \n",
       "\n",
       "   ConsolidatedInferredNAICS ConsolidatedONET    ConsolidatedTitle  \\\n",
       "0                   336111.0         41203100      Sales Associate   \n",
       "1                   336111.0         41203100      Sales Associate   \n",
       "2                   336111.0         53706100  Automotive Detailer   \n",
       "\n",
       "   DivisionCode    JobDate        JobID  \\\n",
       "0           NaN 2017-03-25  38201188919   \n",
       "1           NaN 2017-03-24  38200222343   \n",
       "2       47664.0 2017-03-20  38198645467   \n",
       "\n",
       "                                             JobText                LMA  \\\n",
       "0  Sales Associates\\n-Foley,AL36535\\n-3781 S McKe...           MC011930   \n",
       "1  AUTO SALES ASSOCIATES, ENTRY LEVEL\\n\\nGULF CHR...           MC011930   \n",
       "2  Automotive Service Detailer\\n\\nChrysler Dealer...  DV264764|MT261982   \n",
       "\n",
       "  Latitude Longitude                                                MSA  \\\n",
       "0  30.3962  -87.7019               19300: Metropolitan Statistical Area   \n",
       "1  30.3962  -87.7019               19300: Metropolitan Statistical Area   \n",
       "2  42.6645  -84.0695  19820: Metropolitan Statistical Area|220: Comb...   \n",
       "\n",
       "   MinExperience  \n",
       "0            NaN  \n",
       "1            NaN  \n",
       "2            NaN  "
      ]
     },
     "execution_count": 7,
     "metadata": {},
     "output_type": "execute_result"
    }
   ],
   "source": [
    "df.head(3)"
   ]
  },
  {
   "cell_type": "code",
   "execution_count": 8,
   "metadata": {},
   "outputs": [
    {
     "data": {
      "text/plain": [
       "(718629, 25)"
      ]
     },
     "execution_count": 8,
     "metadata": {},
     "output_type": "execute_result"
    }
   ],
   "source": [
    "df.shape"
   ]
  },
  {
   "cell_type": "markdown",
   "metadata": {},
   "source": [
    "We will normalise the Employer names a bit in this dataset in a manual way by mapping the clean names to the not so clean ones. **NB**: This would not be a good approach to the larger dataset."
   ]
  },
  {
   "cell_type": "code",
   "execution_count": 11,
   "metadata": {},
   "outputs": [],
   "source": [
    "dict_comps = {\n",
    "    'Chrysler':'Chrysler',\n",
    "    'Ford Motor Company':'Ford Motor Company', \n",
    "    'JP Morgan Chase Company':'JP Morgan Chase Company', \n",
    "    'McKinsey & Company':'McKinsey & Company',\n",
    "    'Boston Consulting Group Incorporated':'Boston Consulting Group',\n",
    "    'Boston Consulting Group':'Boston Consulting Group',\n",
    "    'Bain Company':'Bain Company',\n",
    "    'Bain Company Incorporated':'Bain Company',\n",
    "    'General Motors':'General Motors',\n",
    "    'Microsoft Corporation':'Microsoft Corporation',\n",
    "    'Citi':'Citi',\n",
    "    'PepsiCo Inc.':'PepsiCo Inc.',\n",
    "    'Tyson Foods Incorporated':'Tyson Foods Incorporated',\n",
    "    'Nestle USA Incorporated':'Nestle USA Incorporated',\n",
    "    'Bank of America':'Bank of America',\n",
    "    'The Goldman Sachs Group, Inc.':'The Goldman Sachs Group, Inc.',\n",
    "    'Morgan Stanley':'Morgan Stanley',\n",
    "    'Kraft Foods':'Kraft Foods',\n",
    "    'Anheuser-Busch Companies, Inc.':'Anheuser-Busch Companies, Inc.',\n",
    "    'Google Inc.':'Google Inc.',\n",
    "    'Facebook':'Facebook',\n",
    "    'Twitter':'Twitter',\n",
    "    'Yahoo':'Yahoo',\n",
    "    'Chryslerdealer':'Chrysler',\n",
    "    'Oliver Wyman':'Oliver Wyman',\n",
    "    'Oliver Wyman, Inc':'Oliver Wyman',\n",
    "    'Bank Of America Charlotte':'Bank of America',\n",
    "    'Roland Berger':'Roland Berger',\n",
    "    'Roland Berger Llc':'Roland Berger',\n",
    "    'General Motorsgeneral Motors':'General Motors',\n",
    "    'Facebookadvertisers':'Facebook'\n",
    "}"
   ]
  },
  {
   "cell_type": "code",
   "execution_count": 10,
   "metadata": {},
   "outputs": [],
   "source": [
    "df['CanonEmployer'] = df['CanonEmployer'].map(dict_comps)"
   ]
  },
  {
   "cell_type": "markdown",
   "metadata": {},
   "source": [
    "Let's now take out any observation without a job description."
   ]
  },
  {
   "cell_type": "code",
   "execution_count": 12,
   "metadata": {},
   "outputs": [
    {
     "name": "stdout",
     "output_type": "stream",
     "text": [
      "CPU times: user 2.27 s, sys: 8.86 s, total: 11.1 s\n",
      "Wall time: 20.8 s\n"
     ]
    }
   ],
   "source": [
    "%%time\n",
    "\n",
    "df = df[df['JobText'].notna()].copy()"
   ]
  },
  {
   "cell_type": "markdown",
   "metadata": {},
   "source": [
    "Check out the space that is currently occupied in your computer's memory with the following command."
   ]
  },
  {
   "cell_type": "code",
   "execution_count": 13,
   "metadata": {
    "scrolled": true
   },
   "outputs": [
    {
     "name": "stdout",
     "output_type": "stream",
     "text": [
      "<class 'pandas.core.frame.DataFrame'>\n",
      "Int64Index: 718301 entries, 0 to 718628\n",
      "Data columns (total 25 columns):\n",
      " #   Column                       Non-Null Count   Dtype         \n",
      "---  ------                       --------------   -----         \n",
      " 0   BGTOcc                       645891 non-null  object        \n",
      " 1   BGTSubOcc                    645870 non-null  object        \n",
      " 2   CanonCity                    711832 non-null  object        \n",
      " 3   CanonCounty                  709999 non-null  object        \n",
      " 4   CanonEmployer                718301 non-null  object        \n",
      " 5   CanonJobHours                396003 non-null  object        \n",
      " 6   CanonJobTitle                410256 non-null  object        \n",
      " 7   CanonJobType                 397617 non-null  object        \n",
      " 8   CanonSkillClusters           707773 non-null  object        \n",
      " 9   CanonSkills                  718301 non-null  object        \n",
      " 10  CanonState                   718283 non-null  object        \n",
      " 11  CanonYearsOfExperienceLevel  456126 non-null  object        \n",
      " 12  CleanJobTitle                718211 non-null  object        \n",
      " 13  ConsolidatedInferredNAICS    713747 non-null  float64       \n",
      " 14  ConsolidatedONET             677157 non-null  object        \n",
      " 15  ConsolidatedTitle            718261 non-null  object        \n",
      " 16  DivisionCode                 383782 non-null  float64       \n",
      " 17  JobDate                      718301 non-null  datetime64[ns]\n",
      " 18  JobID                        718301 non-null  object        \n",
      " 19  JobText                      718301 non-null  object        \n",
      " 20  LMA                          707613 non-null  object        \n",
      " 21  Latitude                     711850 non-null  object        \n",
      " 22  Longitude                    711850 non-null  object        \n",
      " 23  MSA                          699314 non-null  object        \n",
      " 24  MinExperience                451429 non-null  float64       \n",
      "dtypes: datetime64[ns](1), float64(3), object(21)\n",
      "memory usage: 4.4 GB\n"
     ]
    }
   ],
   "source": [
    "df.info(memory_usage='deep')"
   ]
  },
  {
   "cell_type": "code",
   "execution_count": 14,
   "metadata": {},
   "outputs": [
    {
     "data": {
      "text/plain": [
       "BGTOcc                         10.080732\n",
       "BGTSubOcc                      10.083656\n",
       "CanonCity                       0.900597\n",
       "CanonCounty                     1.155783\n",
       "CanonEmployer                   0.000000\n",
       "CanonJobHours                  44.869491\n",
       "CanonJobTitle                  42.885225\n",
       "CanonJobType                   44.644794\n",
       "CanonSkillClusters              1.465681\n",
       "CanonSkills                     0.000000\n",
       "CanonState                      0.002506\n",
       "CanonYearsOfExperienceLevel    36.499323\n",
       "CleanJobTitle                   0.012530\n",
       "ConsolidatedInferredNAICS       0.633996\n",
       "ConsolidatedONET                5.727961\n",
       "ConsolidatedTitle               0.005569\n",
       "DivisionCode                   46.570867\n",
       "JobDate                         0.000000\n",
       "JobID                           0.000000\n",
       "JobText                         0.000000\n",
       "LMA                             1.487956\n",
       "Latitude                        0.898091\n",
       "Longitude                       0.898091\n",
       "MSA                             2.643321\n",
       "MinExperience                  37.153227\n",
       "dtype: float64"
      ]
     },
     "execution_count": 14,
     "metadata": {},
     "output_type": "execute_result"
    }
   ],
   "source": [
    "missing_vals = df.isnull().sum() / df.shape[0] * 100\n",
    "missing_vals"
   ]
  },
  {
   "cell_type": "markdown",
   "metadata": {},
   "source": [
    "Notice that some vars above have a high percentage of missing values. If you would like to get rid of some of them given a threshold, change the value 70 below to your desired threshold."
   ]
  },
  {
   "cell_type": "code",
   "execution_count": 15,
   "metadata": {},
   "outputs": [
    {
     "data": {
      "text/html": [
       "<div>\n",
       "<style scoped>\n",
       "    .dataframe tbody tr th:only-of-type {\n",
       "        vertical-align: middle;\n",
       "    }\n",
       "\n",
       "    .dataframe tbody tr th {\n",
       "        vertical-align: top;\n",
       "    }\n",
       "\n",
       "    .dataframe thead th {\n",
       "        text-align: right;\n",
       "    }\n",
       "</style>\n",
       "<table border=\"1\" class=\"dataframe\">\n",
       "  <thead>\n",
       "    <tr style=\"text-align: right;\">\n",
       "      <th></th>\n",
       "      <th>BGTOcc</th>\n",
       "      <th>BGTSubOcc</th>\n",
       "      <th>CanonCity</th>\n",
       "      <th>CanonCounty</th>\n",
       "      <th>CanonEmployer</th>\n",
       "      <th>CanonJobHours</th>\n",
       "      <th>CanonJobTitle</th>\n",
       "      <th>CanonJobType</th>\n",
       "      <th>CanonSkillClusters</th>\n",
       "      <th>CanonSkills</th>\n",
       "      <th>CanonState</th>\n",
       "      <th>CanonYearsOfExperienceLevel</th>\n",
       "      <th>CleanJobTitle</th>\n",
       "      <th>ConsolidatedInferredNAICS</th>\n",
       "      <th>ConsolidatedONET</th>\n",
       "      <th>ConsolidatedTitle</th>\n",
       "      <th>DivisionCode</th>\n",
       "      <th>JobDate</th>\n",
       "      <th>JobID</th>\n",
       "      <th>JobText</th>\n",
       "      <th>LMA</th>\n",
       "      <th>Latitude</th>\n",
       "      <th>Longitude</th>\n",
       "      <th>MSA</th>\n",
       "      <th>MinExperience</th>\n",
       "    </tr>\n",
       "  </thead>\n",
       "  <tbody>\n",
       "    <tr>\n",
       "      <th>0</th>\n",
       "      <td>41-2031.00</td>\n",
       "      <td>Retail Sales Associate (General)</td>\n",
       "      <td>Foley</td>\n",
       "      <td>Baldwin</td>\n",
       "      <td>Chrysler</td>\n",
       "      <td>fulltime</td>\n",
       "      <td>Sales Associate</td>\n",
       "      <td>permanent</td>\n",
       "      <td>Sales: Specialized Sales;Specialized Skills|Sp...</td>\n",
       "      <td>{'Automotive Sales': 'Sales: Specialized Sales...</td>\n",
       "      <td>AL</td>\n",
       "      <td>NaN</td>\n",
       "      <td>Sales Associate</td>\n",
       "      <td>336111.0</td>\n",
       "      <td>41203100</td>\n",
       "      <td>Sales Associate</td>\n",
       "      <td>NaN</td>\n",
       "      <td>2017-03-25</td>\n",
       "      <td>38201188919</td>\n",
       "      <td>Sales Associates\\n-Foley,AL36535\\n-3781 S McKe...</td>\n",
       "      <td>MC011930</td>\n",
       "      <td>30.3962</td>\n",
       "      <td>-87.7019</td>\n",
       "      <td>19300: Metropolitan Statistical Area</td>\n",
       "      <td>NaN</td>\n",
       "    </tr>\n",
       "    <tr>\n",
       "      <th>1</th>\n",
       "      <td>41-2031.00</td>\n",
       "      <td>Retail Sales Associate (General)</td>\n",
       "      <td>Foley</td>\n",
       "      <td>Baldwin</td>\n",
       "      <td>Chrysler</td>\n",
       "      <td>fulltime</td>\n",
       "      <td>Sales Associate</td>\n",
       "      <td>permanent</td>\n",
       "      <td>Sales: Specialized Sales;Specialized Skills|Co...</td>\n",
       "      <td>{'Automotive Sales': 'Sales: Specialized Sales...</td>\n",
       "      <td>AL</td>\n",
       "      <td>NaN</td>\n",
       "      <td>Automotive Sales Associate</td>\n",
       "      <td>336111.0</td>\n",
       "      <td>41203100</td>\n",
       "      <td>Sales Associate</td>\n",
       "      <td>NaN</td>\n",
       "      <td>2017-03-24</td>\n",
       "      <td>38200222343</td>\n",
       "      <td>AUTO SALES ASSOCIATES, ENTRY LEVEL\\n\\nGULF CHR...</td>\n",
       "      <td>MC011930</td>\n",
       "      <td>30.3962</td>\n",
       "      <td>-87.7019</td>\n",
       "      <td>19300: Metropolitan Statistical Area</td>\n",
       "      <td>NaN</td>\n",
       "    </tr>\n",
       "    <tr>\n",
       "      <th>2</th>\n",
       "      <td>53-7061.00</td>\n",
       "      <td>Detailer</td>\n",
       "      <td>Fowlerville</td>\n",
       "      <td>Livingston</td>\n",
       "      <td>Chrysler</td>\n",
       "      <td>fulltime</td>\n",
       "      <td>Automotive Detailer</td>\n",
       "      <td>permanent</td>\n",
       "      <td>Specialized Skills|Specialized Skills</td>\n",
       "      <td>{'Automotive Services Industry Knowledge': 'Sp...</td>\n",
       "      <td>MI</td>\n",
       "      <td>NaN</td>\n",
       "      <td>Automotive Service Detailer</td>\n",
       "      <td>336111.0</td>\n",
       "      <td>53706100</td>\n",
       "      <td>Automotive Detailer</td>\n",
       "      <td>47664.0</td>\n",
       "      <td>2017-03-20</td>\n",
       "      <td>38198645467</td>\n",
       "      <td>Automotive Service Detailer\\n\\nChrysler Dealer...</td>\n",
       "      <td>DV264764|MT261982</td>\n",
       "      <td>42.6645</td>\n",
       "      <td>-84.0695</td>\n",
       "      <td>19820: Metropolitan Statistical Area|220: Comb...</td>\n",
       "      <td>NaN</td>\n",
       "    </tr>\n",
       "  </tbody>\n",
       "</table>\n",
       "</div>"
      ],
      "text/plain": [
       "       BGTOcc                         BGTSubOcc    CanonCity CanonCounty  \\\n",
       "0  41-2031.00  Retail Sales Associate (General)        Foley     Baldwin   \n",
       "1  41-2031.00  Retail Sales Associate (General)        Foley     Baldwin   \n",
       "2  53-7061.00                          Detailer  Fowlerville  Livingston   \n",
       "\n",
       "  CanonEmployer CanonJobHours        CanonJobTitle CanonJobType  \\\n",
       "0      Chrysler      fulltime      Sales Associate    permanent   \n",
       "1      Chrysler      fulltime      Sales Associate    permanent   \n",
       "2      Chrysler      fulltime  Automotive Detailer    permanent   \n",
       "\n",
       "                                  CanonSkillClusters  \\\n",
       "0  Sales: Specialized Sales;Specialized Skills|Sp...   \n",
       "1  Sales: Specialized Sales;Specialized Skills|Co...   \n",
       "2              Specialized Skills|Specialized Skills   \n",
       "\n",
       "                                         CanonSkills CanonState  \\\n",
       "0  {'Automotive Sales': 'Sales: Specialized Sales...         AL   \n",
       "1  {'Automotive Sales': 'Sales: Specialized Sales...         AL   \n",
       "2  {'Automotive Services Industry Knowledge': 'Sp...         MI   \n",
       "\n",
       "  CanonYearsOfExperienceLevel                CleanJobTitle  \\\n",
       "0                         NaN              Sales Associate   \n",
       "1                         NaN   Automotive Sales Associate   \n",
       "2                         NaN  Automotive Service Detailer   \n",
       "\n",
       "   ConsolidatedInferredNAICS ConsolidatedONET    ConsolidatedTitle  \\\n",
       "0                   336111.0         41203100      Sales Associate   \n",
       "1                   336111.0         41203100      Sales Associate   \n",
       "2                   336111.0         53706100  Automotive Detailer   \n",
       "\n",
       "   DivisionCode    JobDate        JobID  \\\n",
       "0           NaN 2017-03-25  38201188919   \n",
       "1           NaN 2017-03-24  38200222343   \n",
       "2       47664.0 2017-03-20  38198645467   \n",
       "\n",
       "                                             JobText                LMA  \\\n",
       "0  Sales Associates\\n-Foley,AL36535\\n-3781 S McKe...           MC011930   \n",
       "1  AUTO SALES ASSOCIATES, ENTRY LEVEL\\n\\nGULF CHR...           MC011930   \n",
       "2  Automotive Service Detailer\\n\\nChrysler Dealer...  DV264764|MT261982   \n",
       "\n",
       "  Latitude Longitude                                                MSA  \\\n",
       "0  30.3962  -87.7019               19300: Metropolitan Statistical Area   \n",
       "1  30.3962  -87.7019               19300: Metropolitan Statistical Area   \n",
       "2  42.6645  -84.0695  19820: Metropolitan Statistical Area|220: Comb...   \n",
       "\n",
       "   MinExperience  \n",
       "0            NaN  \n",
       "1            NaN  \n",
       "2            NaN  "
      ]
     },
     "execution_count": 15,
     "metadata": {},
     "output_type": "execute_result"
    }
   ],
   "source": [
    "to_drop = (missing_vals[missing_vals > 70]).index\n",
    "df.drop(to_drop, axis=1, inplace=True)\n",
    "df.head(3)"
   ]
  },
  {
   "cell_type": "markdown",
   "metadata": {},
   "source": [
    "Let's inspect the amount of occupations found in each company before moving to the next section."
   ]
  },
  {
   "cell_type": "code",
   "execution_count": 16,
   "metadata": {},
   "outputs": [],
   "source": [
    "companies = df.groupby(['CanonEmployer'])"
   ]
  },
  {
   "cell_type": "code",
   "execution_count": 17,
   "metadata": {},
   "outputs": [
    {
     "data": {
      "text/html": [
       "<div>\n",
       "<style scoped>\n",
       "    .dataframe tbody tr th:only-of-type {\n",
       "        vertical-align: middle;\n",
       "    }\n",
       "\n",
       "    .dataframe tbody tr th {\n",
       "        vertical-align: top;\n",
       "    }\n",
       "\n",
       "    .dataframe thead tr th {\n",
       "        text-align: left;\n",
       "    }\n",
       "\n",
       "    .dataframe thead tr:last-of-type th {\n",
       "        text-align: right;\n",
       "    }\n",
       "</style>\n",
       "<table border=\"1\" class=\"dataframe\">\n",
       "  <thead>\n",
       "    <tr>\n",
       "      <th></th>\n",
       "      <th>BGTOcc</th>\n",
       "      <th>ConsolidatedInferredNAICS</th>\n",
       "      <th>ConsolidatedONET</th>\n",
       "    </tr>\n",
       "    <tr>\n",
       "      <th></th>\n",
       "      <th>count</th>\n",
       "      <th>count</th>\n",
       "      <th>count</th>\n",
       "    </tr>\n",
       "    <tr>\n",
       "      <th>CanonEmployer</th>\n",
       "      <th></th>\n",
       "      <th></th>\n",
       "      <th></th>\n",
       "    </tr>\n",
       "  </thead>\n",
       "  <tbody>\n",
       "    <tr>\n",
       "      <th>Anheuser-Busch Companies, Inc.</th>\n",
       "      <td>4298</td>\n",
       "      <td>5005</td>\n",
       "      <td>4703</td>\n",
       "    </tr>\n",
       "    <tr>\n",
       "      <th>Bain Company</th>\n",
       "      <td>1013</td>\n",
       "      <td>520</td>\n",
       "      <td>1057</td>\n",
       "    </tr>\n",
       "    <tr>\n",
       "      <th>Bank of America</th>\n",
       "      <td>128493</td>\n",
       "      <td>147389</td>\n",
       "      <td>138164</td>\n",
       "    </tr>\n",
       "    <tr>\n",
       "      <th>Boston Consulting Group</th>\n",
       "      <td>1765</td>\n",
       "      <td>767</td>\n",
       "      <td>2030</td>\n",
       "    </tr>\n",
       "    <tr>\n",
       "      <th>Chrysler</th>\n",
       "      <td>48776</td>\n",
       "      <td>50877</td>\n",
       "      <td>50150</td>\n",
       "    </tr>\n",
       "    <tr>\n",
       "      <th>Citi</th>\n",
       "      <td>42399</td>\n",
       "      <td>47884</td>\n",
       "      <td>44461</td>\n",
       "    </tr>\n",
       "    <tr>\n",
       "      <th>Facebook</th>\n",
       "      <td>23208</td>\n",
       "      <td>25818</td>\n",
       "      <td>24491</td>\n",
       "    </tr>\n",
       "    <tr>\n",
       "      <th>Ford Motor Company</th>\n",
       "      <td>9564</td>\n",
       "      <td>10628</td>\n",
       "      <td>9986</td>\n",
       "    </tr>\n",
       "    <tr>\n",
       "      <th>General Motors</th>\n",
       "      <td>28492</td>\n",
       "      <td>30174</td>\n",
       "      <td>29274</td>\n",
       "    </tr>\n",
       "    <tr>\n",
       "      <th>Google Inc.</th>\n",
       "      <td>22693</td>\n",
       "      <td>25117</td>\n",
       "      <td>23769</td>\n",
       "    </tr>\n",
       "    <tr>\n",
       "      <th>JP Morgan Chase Company</th>\n",
       "      <td>166179</td>\n",
       "      <td>180439</td>\n",
       "      <td>170367</td>\n",
       "    </tr>\n",
       "    <tr>\n",
       "      <th>Kraft Foods</th>\n",
       "      <td>2834</td>\n",
       "      <td>3172</td>\n",
       "      <td>3029</td>\n",
       "    </tr>\n",
       "    <tr>\n",
       "      <th>McKinsey &amp; Company</th>\n",
       "      <td>6363</td>\n",
       "      <td>7981</td>\n",
       "      <td>6830</td>\n",
       "    </tr>\n",
       "    <tr>\n",
       "      <th>Microsoft Corporation</th>\n",
       "      <td>34324</td>\n",
       "      <td>38960</td>\n",
       "      <td>38581</td>\n",
       "    </tr>\n",
       "    <tr>\n",
       "      <th>Morgan Stanley</th>\n",
       "      <td>14809</td>\n",
       "      <td>17865</td>\n",
       "      <td>15240</td>\n",
       "    </tr>\n",
       "    <tr>\n",
       "      <th>Nestle USA Incorporated</th>\n",
       "      <td>21059</td>\n",
       "      <td>22612</td>\n",
       "      <td>21773</td>\n",
       "    </tr>\n",
       "    <tr>\n",
       "      <th>Oliver Wyman</th>\n",
       "      <td>109</td>\n",
       "      <td>42</td>\n",
       "      <td>114</td>\n",
       "    </tr>\n",
       "    <tr>\n",
       "      <th>PepsiCo Inc.</th>\n",
       "      <td>48220</td>\n",
       "      <td>50709</td>\n",
       "      <td>49435</td>\n",
       "    </tr>\n",
       "    <tr>\n",
       "      <th>Roland Berger</th>\n",
       "      <td>22</td>\n",
       "      <td>1</td>\n",
       "      <td>22</td>\n",
       "    </tr>\n",
       "    <tr>\n",
       "      <th>The Goldman Sachs Group, Inc.</th>\n",
       "      <td>15073</td>\n",
       "      <td>18320</td>\n",
       "      <td>15774</td>\n",
       "    </tr>\n",
       "    <tr>\n",
       "      <th>Twitter</th>\n",
       "      <td>3980</td>\n",
       "      <td>4116</td>\n",
       "      <td>4106</td>\n",
       "    </tr>\n",
       "    <tr>\n",
       "      <th>Tyson Foods Incorporated</th>\n",
       "      <td>18866</td>\n",
       "      <td>21590</td>\n",
       "      <td>20326</td>\n",
       "    </tr>\n",
       "    <tr>\n",
       "      <th>Yahoo</th>\n",
       "      <td>3352</td>\n",
       "      <td>3761</td>\n",
       "      <td>3475</td>\n",
       "    </tr>\n",
       "  </tbody>\n",
       "</table>\n",
       "</div>"
      ],
      "text/plain": [
       "                                BGTOcc ConsolidatedInferredNAICS  \\\n",
       "                                 count                     count   \n",
       "CanonEmployer                                                      \n",
       "Anheuser-Busch Companies, Inc.    4298                      5005   \n",
       "Bain Company                      1013                       520   \n",
       "Bank of America                 128493                    147389   \n",
       "Boston Consulting Group           1765                       767   \n",
       "Chrysler                         48776                     50877   \n",
       "Citi                             42399                     47884   \n",
       "Facebook                         23208                     25818   \n",
       "Ford Motor Company                9564                     10628   \n",
       "General Motors                   28492                     30174   \n",
       "Google Inc.                      22693                     25117   \n",
       "JP Morgan Chase Company         166179                    180439   \n",
       "Kraft Foods                       2834                      3172   \n",
       "McKinsey & Company                6363                      7981   \n",
       "Microsoft Corporation            34324                     38960   \n",
       "Morgan Stanley                   14809                     17865   \n",
       "Nestle USA Incorporated          21059                     22612   \n",
       "Oliver Wyman                       109                        42   \n",
       "PepsiCo Inc.                     48220                     50709   \n",
       "Roland Berger                       22                         1   \n",
       "The Goldman Sachs Group, Inc.    15073                     18320   \n",
       "Twitter                           3980                      4116   \n",
       "Tyson Foods Incorporated         18866                     21590   \n",
       "Yahoo                             3352                      3761   \n",
       "\n",
       "                               ConsolidatedONET  \n",
       "                                          count  \n",
       "CanonEmployer                                    \n",
       "Anheuser-Busch Companies, Inc.             4703  \n",
       "Bain Company                               1057  \n",
       "Bank of America                          138164  \n",
       "Boston Consulting Group                    2030  \n",
       "Chrysler                                  50150  \n",
       "Citi                                      44461  \n",
       "Facebook                                  24491  \n",
       "Ford Motor Company                         9986  \n",
       "General Motors                            29274  \n",
       "Google Inc.                               23769  \n",
       "JP Morgan Chase Company                  170367  \n",
       "Kraft Foods                                3029  \n",
       "McKinsey & Company                         6830  \n",
       "Microsoft Corporation                     38581  \n",
       "Morgan Stanley                            15240  \n",
       "Nestle USA Incorporated                   21773  \n",
       "Oliver Wyman                                114  \n",
       "PepsiCo Inc.                              49435  \n",
       "Roland Berger                                22  \n",
       "The Goldman Sachs Group, Inc.             15774  \n",
       "Twitter                                    4106  \n",
       "Tyson Foods Incorporated                  20326  \n",
       "Yahoo                                      3475  "
      ]
     },
     "execution_count": 17,
     "metadata": {},
     "output_type": "execute_result"
    }
   ],
   "source": [
    "companies[['BGTOcc','ConsolidatedInferredNAICS', 'ConsolidatedONET']].agg(['count'])"
   ]
  },
  {
   "cell_type": "markdown",
   "metadata": {},
   "source": [
    "The `BTGOcc` var contains values with a `-` in them so we will filtered `NaN` values out, remove the `-`, and change the data type to `int8` for our mergin purposes coming up in the next section."
   ]
  },
  {
   "cell_type": "code",
   "execution_count": 18,
   "metadata": {},
   "outputs": [
    {
     "data": {
      "text/plain": [
       "72410"
      ]
     },
     "execution_count": 18,
     "metadata": {},
     "output_type": "execute_result"
    }
   ],
   "source": [
    "df['BGTOcc'].str.replace('-', '').astype(np.float32).isna().sum()"
   ]
  },
  {
   "cell_type": "code",
   "execution_count": 19,
   "metadata": {},
   "outputs": [
    {
     "name": "stdout",
     "output_type": "stream",
     "text": [
      "CPU times: user 1.03 s, sys: 1.7 s, total: 2.73 s\n",
      "Wall time: 2.88 s\n"
     ]
    },
    {
     "data": {
      "text/plain": [
       "0    412031\n",
       "1    412031\n",
       "2    537061\n",
       "3    419041\n",
       "4    493023\n",
       "Name: BGTOcc, dtype: int32"
      ]
     },
     "execution_count": 19,
     "metadata": {},
     "output_type": "execute_result"
    }
   ],
   "source": [
    "%%time\n",
    "\n",
    "df = df[df['BGTOcc'].notna()].copy()\n",
    "df['BGTOcc'] = df['BGTOcc'].str.replace('-', '').astype(np.float32).astype(np.int32)\n",
    "df['BGTOcc'].head()"
   ]
  },
  {
   "cell_type": "markdown",
   "metadata": {},
   "source": [
    "## 2. Load Occupations Data"
   ]
  },
  {
   "cell_type": "markdown",
   "metadata": {},
   "source": [
    "You can find the cleaned occupations data in our collaborative [DropBox folder here](https://www.dropbox.com/sh/k3qogf35dhxepik/AADndlDA4VZcLl5Mku0wAFRFa?dl=0)."
   ]
  },
  {
   "cell_type": "code",
   "execution_count": 21,
   "metadata": {},
   "outputs": [
    {
     "data": {
      "text/html": [
       "<div>\n",
       "<style scoped>\n",
       "    .dataframe tbody tr th:only-of-type {\n",
       "        vertical-align: middle;\n",
       "    }\n",
       "\n",
       "    .dataframe tbody tr th {\n",
       "        vertical-align: top;\n",
       "    }\n",
       "\n",
       "    .dataframe thead th {\n",
       "        text-align: right;\n",
       "    }\n",
       "</style>\n",
       "<table border=\"1\" class=\"dataframe\">\n",
       "  <thead>\n",
       "    <tr style=\"text-align: right;\">\n",
       "      <th></th>\n",
       "      <th>occu_code</th>\n",
       "      <th>occu_text</th>\n",
       "    </tr>\n",
       "  </thead>\n",
       "  <tbody>\n",
       "    <tr>\n",
       "      <th>0</th>\n",
       "      <td>110000</td>\n",
       "      <td>Management Occupations</td>\n",
       "    </tr>\n",
       "    <tr>\n",
       "      <th>1</th>\n",
       "      <td>112022</td>\n",
       "      <td>Sales Managers</td>\n",
       "    </tr>\n",
       "    <tr>\n",
       "      <th>2</th>\n",
       "      <td>113021</td>\n",
       "      <td>Computer and Information Systems Managers</td>\n",
       "    </tr>\n",
       "    <tr>\n",
       "      <th>3</th>\n",
       "      <td>113131</td>\n",
       "      <td>Training and Development Managers</td>\n",
       "    </tr>\n",
       "    <tr>\n",
       "      <th>4</th>\n",
       "      <td>119021</td>\n",
       "      <td>Construction Managers</td>\n",
       "    </tr>\n",
       "  </tbody>\n",
       "</table>\n",
       "</div>"
      ],
      "text/plain": [
       "   occu_code                                  occu_text\n",
       "0     110000                     Management Occupations\n",
       "1     112022                             Sales Managers\n",
       "2     113021  Computer and Information Systems Managers\n",
       "3     113131          Training and Development Managers\n",
       "4     119021                      Construction Managers"
      ]
     },
     "execution_count": 21,
     "metadata": {},
     "output_type": "execute_result"
    }
   ],
   "source": [
    "occupations_df = pd.read_csv('~/Dropbox/Burning Glass/Analysis/occupations_clean.csv',\n",
    "                             dtype={'occu_code': np.int32, 'occu_text': np.str})\n",
    "occupations_df.head()"
   ]
  },
  {
   "cell_type": "code",
   "execution_count": 22,
   "metadata": {},
   "outputs": [
    {
     "name": "stdout",
     "output_type": "stream",
     "text": [
      "<class 'pandas.core.frame.DataFrame'>\n",
      "RangeIndex: 564 entries, 0 to 563\n",
      "Data columns (total 2 columns):\n",
      " #   Column     Non-Null Count  Dtype \n",
      "---  ------     --------------  ----- \n",
      " 0   occu_code  564 non-null    int32 \n",
      " 1   occu_text  564 non-null    object\n",
      "dtypes: int32(1), object(1)\n",
      "memory usage: 6.7+ KB\n"
     ]
    }
   ],
   "source": [
    "occupations_df.info()"
   ]
  },
  {
   "cell_type": "code",
   "execution_count": 23,
   "metadata": {},
   "outputs": [
    {
     "data": {
      "text/plain": [
       "(645891, 25)"
      ]
     },
     "execution_count": 23,
     "metadata": {},
     "output_type": "execute_result"
    }
   ],
   "source": [
    "df.shape"
   ]
  },
  {
   "cell_type": "markdown",
   "metadata": {},
   "source": [
    "We will merge the the main dataframe with the occupations dataframe using an inner join, and by combining `BTGOcc` with `occu_code` (which stands for occupation code)."
   ]
  },
  {
   "cell_type": "code",
   "execution_count": 24,
   "metadata": {},
   "outputs": [
    {
     "name": "stdout",
     "output_type": "stream",
     "text": [
      "CPU times: user 1.72 s, sys: 1.59 s, total: 3.31 s\n",
      "Wall time: 3.35 s\n"
     ]
    },
    {
     "data": {
      "text/html": [
       "<div>\n",
       "<style scoped>\n",
       "    .dataframe tbody tr th:only-of-type {\n",
       "        vertical-align: middle;\n",
       "    }\n",
       "\n",
       "    .dataframe tbody tr th {\n",
       "        vertical-align: top;\n",
       "    }\n",
       "\n",
       "    .dataframe thead th {\n",
       "        text-align: right;\n",
       "    }\n",
       "</style>\n",
       "<table border=\"1\" class=\"dataframe\">\n",
       "  <thead>\n",
       "    <tr style=\"text-align: right;\">\n",
       "      <th></th>\n",
       "      <th>BGTOcc</th>\n",
       "      <th>BGTSubOcc</th>\n",
       "      <th>CanonCity</th>\n",
       "      <th>CanonCounty</th>\n",
       "      <th>CanonEmployer</th>\n",
       "      <th>CanonJobHours</th>\n",
       "      <th>CanonJobTitle</th>\n",
       "      <th>CanonJobType</th>\n",
       "      <th>CanonSkillClusters</th>\n",
       "      <th>CanonSkills</th>\n",
       "      <th>CanonState</th>\n",
       "      <th>CanonYearsOfExperienceLevel</th>\n",
       "      <th>CleanJobTitle</th>\n",
       "      <th>ConsolidatedInferredNAICS</th>\n",
       "      <th>ConsolidatedONET</th>\n",
       "      <th>ConsolidatedTitle</th>\n",
       "      <th>DivisionCode</th>\n",
       "      <th>JobDate</th>\n",
       "      <th>JobID</th>\n",
       "      <th>JobText</th>\n",
       "      <th>LMA</th>\n",
       "      <th>Latitude</th>\n",
       "      <th>Longitude</th>\n",
       "      <th>MSA</th>\n",
       "      <th>MinExperience</th>\n",
       "      <th>occu_code</th>\n",
       "      <th>occu_text</th>\n",
       "    </tr>\n",
       "  </thead>\n",
       "  <tbody>\n",
       "    <tr>\n",
       "      <th>0</th>\n",
       "      <td>412031</td>\n",
       "      <td>Retail Sales Associate (General)</td>\n",
       "      <td>Foley</td>\n",
       "      <td>Baldwin</td>\n",
       "      <td>Chrysler</td>\n",
       "      <td>fulltime</td>\n",
       "      <td>Sales Associate</td>\n",
       "      <td>permanent</td>\n",
       "      <td>Sales: Specialized Sales;Specialized Skills|Sp...</td>\n",
       "      <td>{'Automotive Sales': 'Sales: Specialized Sales...</td>\n",
       "      <td>AL</td>\n",
       "      <td>NaN</td>\n",
       "      <td>Sales Associate</td>\n",
       "      <td>336111.0</td>\n",
       "      <td>41203100</td>\n",
       "      <td>Sales Associate</td>\n",
       "      <td>NaN</td>\n",
       "      <td>2017-03-25</td>\n",
       "      <td>38201188919</td>\n",
       "      <td>Sales Associates\\n-Foley,AL36535\\n-3781 S McKe...</td>\n",
       "      <td>MC011930</td>\n",
       "      <td>30.3962</td>\n",
       "      <td>-87.7019</td>\n",
       "      <td>19300: Metropolitan Statistical Area</td>\n",
       "      <td>NaN</td>\n",
       "      <td>412031</td>\n",
       "      <td>Retail Salespersons</td>\n",
       "    </tr>\n",
       "    <tr>\n",
       "      <th>1</th>\n",
       "      <td>412031</td>\n",
       "      <td>Retail Sales Associate (General)</td>\n",
       "      <td>Foley</td>\n",
       "      <td>Baldwin</td>\n",
       "      <td>Chrysler</td>\n",
       "      <td>fulltime</td>\n",
       "      <td>Sales Associate</td>\n",
       "      <td>permanent</td>\n",
       "      <td>Sales: Specialized Sales;Specialized Skills|Co...</td>\n",
       "      <td>{'Automotive Sales': 'Sales: Specialized Sales...</td>\n",
       "      <td>AL</td>\n",
       "      <td>NaN</td>\n",
       "      <td>Automotive Sales Associate</td>\n",
       "      <td>336111.0</td>\n",
       "      <td>41203100</td>\n",
       "      <td>Sales Associate</td>\n",
       "      <td>NaN</td>\n",
       "      <td>2017-03-24</td>\n",
       "      <td>38200222343</td>\n",
       "      <td>AUTO SALES ASSOCIATES, ENTRY LEVEL\\n\\nGULF CHR...</td>\n",
       "      <td>MC011930</td>\n",
       "      <td>30.3962</td>\n",
       "      <td>-87.7019</td>\n",
       "      <td>19300: Metropolitan Statistical Area</td>\n",
       "      <td>NaN</td>\n",
       "      <td>412031</td>\n",
       "      <td>Retail Salespersons</td>\n",
       "    </tr>\n",
       "    <tr>\n",
       "      <th>2</th>\n",
       "      <td>412031</td>\n",
       "      <td>Retail Sales Associate (General)</td>\n",
       "      <td>Arlington Heights</td>\n",
       "      <td>Cook</td>\n",
       "      <td>Chrysler</td>\n",
       "      <td>fulltime</td>\n",
       "      <td>Sales Associate</td>\n",
       "      <td>permanent</td>\n",
       "      <td>Sales: Specialized Sales;Specialized Skills|Co...</td>\n",
       "      <td>{'Automotive Sales': 'Sales: Specialized Sales...</td>\n",
       "      <td>IL</td>\n",
       "      <td>mid</td>\n",
       "      <td>Automotive Sales Associate</td>\n",
       "      <td>336111.0</td>\n",
       "      <td>41203100</td>\n",
       "      <td>Sales Associate</td>\n",
       "      <td>16974.0</td>\n",
       "      <td>2017-03-13</td>\n",
       "      <td>38195316884</td>\n",
       "      <td>Automotive Sales Associate\\n\\nArlington Height...</td>\n",
       "      <td>DV171697|MT171698</td>\n",
       "      <td>41.8792</td>\n",
       "      <td>-87.9747</td>\n",
       "      <td>16980: Metropolitan Statistical Area|176: Comb...</td>\n",
       "      <td>3.0</td>\n",
       "      <td>412031</td>\n",
       "      <td>Retail Salespersons</td>\n",
       "    </tr>\n",
       "    <tr>\n",
       "      <th>3</th>\n",
       "      <td>412031</td>\n",
       "      <td>Retail Sales Associate (General)</td>\n",
       "      <td>Elgin</td>\n",
       "      <td>Kane</td>\n",
       "      <td>Chrysler</td>\n",
       "      <td>fulltime</td>\n",
       "      <td>Sales Associate</td>\n",
       "      <td>permanent</td>\n",
       "      <td>Sales: Specialized Sales;Specialized Skills|Co...</td>\n",
       "      <td>{'Automotive Sales': 'Sales: Specialized Sales...</td>\n",
       "      <td>IL</td>\n",
       "      <td>mid</td>\n",
       "      <td>Automotive Sales Associate</td>\n",
       "      <td>336111.0</td>\n",
       "      <td>41203100</td>\n",
       "      <td>Sales Associate</td>\n",
       "      <td>20994.0</td>\n",
       "      <td>2017-03-13</td>\n",
       "      <td>38195337619</td>\n",
       "      <td>Automotive Sales Associate\\n\\nElgin, Illinois ...</td>\n",
       "      <td>DV171697|MT171698</td>\n",
       "      <td>42.0363</td>\n",
       "      <td>-88.2398</td>\n",
       "      <td>16980: Metropolitan Statistical Area|176: Comb...</td>\n",
       "      <td>3.0</td>\n",
       "      <td>412031</td>\n",
       "      <td>Retail Salespersons</td>\n",
       "    </tr>\n",
       "    <tr>\n",
       "      <th>4</th>\n",
       "      <td>412031</td>\n",
       "      <td>Retail Sales Associate (General)</td>\n",
       "      <td>Cincinnati</td>\n",
       "      <td>Hamilton</td>\n",
       "      <td>Chrysler</td>\n",
       "      <td>fulltime</td>\n",
       "      <td>NaN</td>\n",
       "      <td>permanent</td>\n",
       "      <td>Supply Chain and Logistics: Procurement;Specia...</td>\n",
       "      <td>{'Buying Experience': 'Supply Chain and Logist...</td>\n",
       "      <td>OH</td>\n",
       "      <td>NaN</td>\n",
       "      <td>Automobile Sales &amp; Used</td>\n",
       "      <td>336111.0</td>\n",
       "      <td>41203100</td>\n",
       "      <td>Automobile Sales</td>\n",
       "      <td>NaN</td>\n",
       "      <td>2017-03-14</td>\n",
       "      <td>38195661888</td>\n",
       "      <td>Automobile Sales NEW &amp; USED\\n\\nJake Sweeney Ch...</td>\n",
       "      <td>MT391714</td>\n",
       "      <td>39.1072</td>\n",
       "      <td>-84.5003</td>\n",
       "      <td>17140: Metropolitan Statistical Area</td>\n",
       "      <td>NaN</td>\n",
       "      <td>412031</td>\n",
       "      <td>Retail Salespersons</td>\n",
       "    </tr>\n",
       "  </tbody>\n",
       "</table>\n",
       "</div>"
      ],
      "text/plain": [
       "   BGTOcc                         BGTSubOcc          CanonCity CanonCounty  \\\n",
       "0  412031  Retail Sales Associate (General)              Foley     Baldwin   \n",
       "1  412031  Retail Sales Associate (General)              Foley     Baldwin   \n",
       "2  412031  Retail Sales Associate (General)  Arlington Heights        Cook   \n",
       "3  412031  Retail Sales Associate (General)              Elgin        Kane   \n",
       "4  412031  Retail Sales Associate (General)         Cincinnati    Hamilton   \n",
       "\n",
       "  CanonEmployer CanonJobHours    CanonJobTitle CanonJobType  \\\n",
       "0      Chrysler      fulltime  Sales Associate    permanent   \n",
       "1      Chrysler      fulltime  Sales Associate    permanent   \n",
       "2      Chrysler      fulltime  Sales Associate    permanent   \n",
       "3      Chrysler      fulltime  Sales Associate    permanent   \n",
       "4      Chrysler      fulltime              NaN    permanent   \n",
       "\n",
       "                                  CanonSkillClusters  \\\n",
       "0  Sales: Specialized Sales;Specialized Skills|Sp...   \n",
       "1  Sales: Specialized Sales;Specialized Skills|Co...   \n",
       "2  Sales: Specialized Sales;Specialized Skills|Co...   \n",
       "3  Sales: Specialized Sales;Specialized Skills|Co...   \n",
       "4  Supply Chain and Logistics: Procurement;Specia...   \n",
       "\n",
       "                                         CanonSkills CanonState  \\\n",
       "0  {'Automotive Sales': 'Sales: Specialized Sales...         AL   \n",
       "1  {'Automotive Sales': 'Sales: Specialized Sales...         AL   \n",
       "2  {'Automotive Sales': 'Sales: Specialized Sales...         IL   \n",
       "3  {'Automotive Sales': 'Sales: Specialized Sales...         IL   \n",
       "4  {'Buying Experience': 'Supply Chain and Logist...         OH   \n",
       "\n",
       "  CanonYearsOfExperienceLevel               CleanJobTitle  \\\n",
       "0                         NaN             Sales Associate   \n",
       "1                         NaN  Automotive Sales Associate   \n",
       "2                         mid  Automotive Sales Associate   \n",
       "3                         mid  Automotive Sales Associate   \n",
       "4                         NaN     Automobile Sales & Used   \n",
       "\n",
       "   ConsolidatedInferredNAICS ConsolidatedONET ConsolidatedTitle  DivisionCode  \\\n",
       "0                   336111.0         41203100   Sales Associate           NaN   \n",
       "1                   336111.0         41203100   Sales Associate           NaN   \n",
       "2                   336111.0         41203100   Sales Associate       16974.0   \n",
       "3                   336111.0         41203100   Sales Associate       20994.0   \n",
       "4                   336111.0         41203100  Automobile Sales           NaN   \n",
       "\n",
       "     JobDate        JobID                                            JobText  \\\n",
       "0 2017-03-25  38201188919  Sales Associates\\n-Foley,AL36535\\n-3781 S McKe...   \n",
       "1 2017-03-24  38200222343  AUTO SALES ASSOCIATES, ENTRY LEVEL\\n\\nGULF CHR...   \n",
       "2 2017-03-13  38195316884  Automotive Sales Associate\\n\\nArlington Height...   \n",
       "3 2017-03-13  38195337619  Automotive Sales Associate\\n\\nElgin, Illinois ...   \n",
       "4 2017-03-14  38195661888  Automobile Sales NEW & USED\\n\\nJake Sweeney Ch...   \n",
       "\n",
       "                 LMA Latitude Longitude  \\\n",
       "0           MC011930  30.3962  -87.7019   \n",
       "1           MC011930  30.3962  -87.7019   \n",
       "2  DV171697|MT171698  41.8792  -87.9747   \n",
       "3  DV171697|MT171698  42.0363  -88.2398   \n",
       "4           MT391714  39.1072  -84.5003   \n",
       "\n",
       "                                                 MSA  MinExperience  \\\n",
       "0               19300: Metropolitan Statistical Area            NaN   \n",
       "1               19300: Metropolitan Statistical Area            NaN   \n",
       "2  16980: Metropolitan Statistical Area|176: Comb...            3.0   \n",
       "3  16980: Metropolitan Statistical Area|176: Comb...            3.0   \n",
       "4               17140: Metropolitan Statistical Area            NaN   \n",
       "\n",
       "   occu_code            occu_text  \n",
       "0     412031  Retail Salespersons  \n",
       "1     412031  Retail Salespersons  \n",
       "2     412031  Retail Salespersons  \n",
       "3     412031  Retail Salespersons  \n",
       "4     412031  Retail Salespersons  "
      ]
     },
     "execution_count": 24,
     "metadata": {},
     "output_type": "execute_result"
    }
   ],
   "source": [
    "%%time\n",
    "\n",
    "new_df = df.merge(occupations_df, \n",
    "                  left_on='BGTOcc', \n",
    "                  right_on='occu_code', \n",
    "                  how='inner')\n",
    "new_df.head()"
   ]
  },
  {
   "cell_type": "markdown",
   "metadata": {},
   "source": [
    "Inspect the new dataframe shape."
   ]
  },
  {
   "cell_type": "code",
   "execution_count": 25,
   "metadata": {},
   "outputs": [
    {
     "data": {
      "text/plain": [
       "(540143, 27)"
      ]
     },
     "execution_count": 25,
     "metadata": {},
     "output_type": "execute_result"
    }
   ],
   "source": [
    "new_df.shape"
   ]
  },
  {
   "cell_type": "markdown",
   "metadata": {},
   "source": [
    "### Amount of Occupations per Employer on Filtered Down Data"
   ]
  },
  {
   "cell_type": "code",
   "execution_count": 26,
   "metadata": {},
   "outputs": [
    {
     "data": {
      "text/html": [
       "<div>\n",
       "<style scoped>\n",
       "    .dataframe tbody tr th:only-of-type {\n",
       "        vertical-align: middle;\n",
       "    }\n",
       "\n",
       "    .dataframe tbody tr th {\n",
       "        vertical-align: top;\n",
       "    }\n",
       "\n",
       "    .dataframe thead th {\n",
       "        text-align: right;\n",
       "    }\n",
       "</style>\n",
       "<table border=\"1\" class=\"dataframe\">\n",
       "  <thead>\n",
       "    <tr style=\"text-align: right;\">\n",
       "      <th></th>\n",
       "      <th>count</th>\n",
       "    </tr>\n",
       "    <tr>\n",
       "      <th>CanonEmployer</th>\n",
       "      <th></th>\n",
       "    </tr>\n",
       "  </thead>\n",
       "  <tbody>\n",
       "    <tr>\n",
       "      <th>Anheuser-Busch Companies, Inc.</th>\n",
       "      <td>3632</td>\n",
       "    </tr>\n",
       "    <tr>\n",
       "      <th>Bain Company</th>\n",
       "      <td>875</td>\n",
       "    </tr>\n",
       "    <tr>\n",
       "      <th>Bank of America</th>\n",
       "      <td>102030</td>\n",
       "    </tr>\n",
       "    <tr>\n",
       "      <th>Boston Consulting Group</th>\n",
       "      <td>1405</td>\n",
       "    </tr>\n",
       "    <tr>\n",
       "      <th>Chrysler</th>\n",
       "      <td>46804</td>\n",
       "    </tr>\n",
       "    <tr>\n",
       "      <th>Citi</th>\n",
       "      <td>34659</td>\n",
       "    </tr>\n",
       "    <tr>\n",
       "      <th>Facebook</th>\n",
       "      <td>17455</td>\n",
       "    </tr>\n",
       "    <tr>\n",
       "      <th>Ford Motor Company</th>\n",
       "      <td>8728</td>\n",
       "    </tr>\n",
       "    <tr>\n",
       "      <th>General Motors</th>\n",
       "      <td>25734</td>\n",
       "    </tr>\n",
       "    <tr>\n",
       "      <th>Google Inc.</th>\n",
       "      <td>17425</td>\n",
       "    </tr>\n",
       "    <tr>\n",
       "      <th>JP Morgan Chase Company</th>\n",
       "      <td>134396</td>\n",
       "    </tr>\n",
       "    <tr>\n",
       "      <th>Kraft Foods</th>\n",
       "      <td>2216</td>\n",
       "    </tr>\n",
       "    <tr>\n",
       "      <th>McKinsey &amp; Company</th>\n",
       "      <td>4942</td>\n",
       "    </tr>\n",
       "    <tr>\n",
       "      <th>Microsoft Corporation</th>\n",
       "      <td>28565</td>\n",
       "    </tr>\n",
       "    <tr>\n",
       "      <th>Morgan Stanley</th>\n",
       "      <td>11973</td>\n",
       "    </tr>\n",
       "    <tr>\n",
       "      <th>Nestle USA Incorporated</th>\n",
       "      <td>19032</td>\n",
       "    </tr>\n",
       "    <tr>\n",
       "      <th>Oliver Wyman</th>\n",
       "      <td>93</td>\n",
       "    </tr>\n",
       "    <tr>\n",
       "      <th>PepsiCo Inc.</th>\n",
       "      <td>45217</td>\n",
       "    </tr>\n",
       "    <tr>\n",
       "      <th>Roland Berger</th>\n",
       "      <td>22</td>\n",
       "    </tr>\n",
       "    <tr>\n",
       "      <th>The Goldman Sachs Group, Inc.</th>\n",
       "      <td>11417</td>\n",
       "    </tr>\n",
       "    <tr>\n",
       "      <th>Twitter</th>\n",
       "      <td>3283</td>\n",
       "    </tr>\n",
       "    <tr>\n",
       "      <th>Tyson Foods Incorporated</th>\n",
       "      <td>17428</td>\n",
       "    </tr>\n",
       "    <tr>\n",
       "      <th>Yahoo</th>\n",
       "      <td>2812</td>\n",
       "    </tr>\n",
       "  </tbody>\n",
       "</table>\n",
       "</div>"
      ],
      "text/plain": [
       "                                 count\n",
       "CanonEmployer                         \n",
       "Anheuser-Busch Companies, Inc.    3632\n",
       "Bain Company                       875\n",
       "Bank of America                 102030\n",
       "Boston Consulting Group           1405\n",
       "Chrysler                         46804\n",
       "Citi                             34659\n",
       "Facebook                         17455\n",
       "Ford Motor Company                8728\n",
       "General Motors                   25734\n",
       "Google Inc.                      17425\n",
       "JP Morgan Chase Company         134396\n",
       "Kraft Foods                       2216\n",
       "McKinsey & Company                4942\n",
       "Microsoft Corporation            28565\n",
       "Morgan Stanley                   11973\n",
       "Nestle USA Incorporated          19032\n",
       "Oliver Wyman                        93\n",
       "PepsiCo Inc.                     45217\n",
       "Roland Berger                       22\n",
       "The Goldman Sachs Group, Inc.    11417\n",
       "Twitter                           3283\n",
       "Tyson Foods Incorporated         17428\n",
       "Yahoo                             2812"
      ]
     },
     "execution_count": 26,
     "metadata": {},
     "output_type": "execute_result"
    }
   ],
   "source": [
    "companies = new_df.groupby(['CanonEmployer'])\n",
    "companies['occu_text'].agg(['count'])"
   ]
  },
  {
   "cell_type": "markdown",
   "metadata": {},
   "source": [
    "Let's save the final dataset and move on to the testing all assumptions."
   ]
  },
  {
   "cell_type": "code",
   "execution_count": 26,
   "metadata": {},
   "outputs": [],
   "source": [
    "new_df.to_csv('~/Dropbox/Burning Glass/Data/comps_occupations_merged.csv', \n",
    "              index=False)"
   ]
  },
  {
   "cell_type": "markdown",
   "metadata": {},
   "source": [
    "## 3. Load Merged Dataset"
   ]
  },
  {
   "cell_type": "markdown",
   "metadata": {},
   "source": [
    "To release some memory from your PC, make sure you restart the kernel (if on Jupyter Notebooks), load the libraries we will need, and proceed to run the code below.\n",
    "\n",
    "If you come back to this notebook and start from this section onwards, don't forget to load all of the libraries we will use, which can be found at the beginning of this notebook."
   ]
  },
  {
   "cell_type": "code",
   "execution_count": 4,
   "metadata": {},
   "outputs": [
    {
     "name": "stdout",
     "output_type": "stream",
     "text": [
      "CPU times: user 20.9 s, sys: 13 s, total: 33.9 s\n",
      "Wall time: 44.5 s\n"
     ]
    },
    {
     "data": {
      "text/html": [
       "<div>\n",
       "<style scoped>\n",
       "    .dataframe tbody tr th:only-of-type {\n",
       "        vertical-align: middle;\n",
       "    }\n",
       "\n",
       "    .dataframe tbody tr th {\n",
       "        vertical-align: top;\n",
       "    }\n",
       "\n",
       "    .dataframe thead th {\n",
       "        text-align: right;\n",
       "    }\n",
       "</style>\n",
       "<table border=\"1\" class=\"dataframe\">\n",
       "  <thead>\n",
       "    <tr style=\"text-align: right;\">\n",
       "      <th></th>\n",
       "      <th>BGTOcc</th>\n",
       "      <th>BGTSubOcc</th>\n",
       "      <th>CanonCity</th>\n",
       "      <th>CanonCounty</th>\n",
       "      <th>CanonEmployer</th>\n",
       "      <th>CanonJobHours</th>\n",
       "      <th>CanonJobTitle</th>\n",
       "      <th>CanonJobType</th>\n",
       "      <th>CanonSkillClusters</th>\n",
       "      <th>CanonSkills</th>\n",
       "      <th>CanonState</th>\n",
       "      <th>CanonYearsOfExperienceLevel</th>\n",
       "      <th>CleanJobTitle</th>\n",
       "      <th>ConsolidatedInferredNAICS</th>\n",
       "      <th>ConsolidatedONET</th>\n",
       "      <th>ConsolidatedTitle</th>\n",
       "      <th>DivisionCode</th>\n",
       "      <th>JobDate</th>\n",
       "      <th>JobID</th>\n",
       "      <th>JobText</th>\n",
       "      <th>LMA</th>\n",
       "      <th>Latitude</th>\n",
       "      <th>Longitude</th>\n",
       "      <th>MSA</th>\n",
       "      <th>MinExperience</th>\n",
       "      <th>occu_code</th>\n",
       "      <th>occu_text</th>\n",
       "    </tr>\n",
       "  </thead>\n",
       "  <tbody>\n",
       "    <tr>\n",
       "      <th>0</th>\n",
       "      <td>412031</td>\n",
       "      <td>Retail Sales Associate (General)</td>\n",
       "      <td>Foley</td>\n",
       "      <td>Baldwin</td>\n",
       "      <td>Chrysler</td>\n",
       "      <td>fulltime</td>\n",
       "      <td>Sales Associate</td>\n",
       "      <td>permanent</td>\n",
       "      <td>Sales: Specialized Sales;Specialized Skills|Sp...</td>\n",
       "      <td>{'Automotive Sales': 'Sales: Specialized Sales...</td>\n",
       "      <td>AL</td>\n",
       "      <td>NaN</td>\n",
       "      <td>Sales Associate</td>\n",
       "      <td>336111.0</td>\n",
       "      <td>41203100</td>\n",
       "      <td>Sales Associate</td>\n",
       "      <td>NaN</td>\n",
       "      <td>2017-03-25</td>\n",
       "      <td>38201188919</td>\n",
       "      <td>Sales Associates\\n-Foley,AL36535\\n-3781 S McKe...</td>\n",
       "      <td>MC011930</td>\n",
       "      <td>30.3962</td>\n",
       "      <td>-87.7019</td>\n",
       "      <td>19300: Metropolitan Statistical Area</td>\n",
       "      <td>NaN</td>\n",
       "      <td>412031</td>\n",
       "      <td>Retail Salespersons</td>\n",
       "    </tr>\n",
       "    <tr>\n",
       "      <th>1</th>\n",
       "      <td>412031</td>\n",
       "      <td>Retail Sales Associate (General)</td>\n",
       "      <td>Foley</td>\n",
       "      <td>Baldwin</td>\n",
       "      <td>Chrysler</td>\n",
       "      <td>fulltime</td>\n",
       "      <td>Sales Associate</td>\n",
       "      <td>permanent</td>\n",
       "      <td>Sales: Specialized Sales;Specialized Skills|Co...</td>\n",
       "      <td>{'Automotive Sales': 'Sales: Specialized Sales...</td>\n",
       "      <td>AL</td>\n",
       "      <td>NaN</td>\n",
       "      <td>Automotive Sales Associate</td>\n",
       "      <td>336111.0</td>\n",
       "      <td>41203100</td>\n",
       "      <td>Sales Associate</td>\n",
       "      <td>NaN</td>\n",
       "      <td>2017-03-24</td>\n",
       "      <td>38200222343</td>\n",
       "      <td>AUTO SALES ASSOCIATES, ENTRY LEVEL\\n\\nGULF CHR...</td>\n",
       "      <td>MC011930</td>\n",
       "      <td>30.3962</td>\n",
       "      <td>-87.7019</td>\n",
       "      <td>19300: Metropolitan Statistical Area</td>\n",
       "      <td>NaN</td>\n",
       "      <td>412031</td>\n",
       "      <td>Retail Salespersons</td>\n",
       "    </tr>\n",
       "    <tr>\n",
       "      <th>2</th>\n",
       "      <td>412031</td>\n",
       "      <td>Retail Sales Associate (General)</td>\n",
       "      <td>Arlington Heights</td>\n",
       "      <td>Cook</td>\n",
       "      <td>Chrysler</td>\n",
       "      <td>fulltime</td>\n",
       "      <td>Sales Associate</td>\n",
       "      <td>permanent</td>\n",
       "      <td>Sales: Specialized Sales;Specialized Skills|Co...</td>\n",
       "      <td>{'Automotive Sales': 'Sales: Specialized Sales...</td>\n",
       "      <td>IL</td>\n",
       "      <td>mid</td>\n",
       "      <td>Automotive Sales Associate</td>\n",
       "      <td>336111.0</td>\n",
       "      <td>41203100</td>\n",
       "      <td>Sales Associate</td>\n",
       "      <td>16974.0</td>\n",
       "      <td>2017-03-13</td>\n",
       "      <td>38195316884</td>\n",
       "      <td>Automotive Sales Associate\\n\\nArlington Height...</td>\n",
       "      <td>DV171697|MT171698</td>\n",
       "      <td>41.8792</td>\n",
       "      <td>-87.9747</td>\n",
       "      <td>16980: Metropolitan Statistical Area|176: Comb...</td>\n",
       "      <td>3.0</td>\n",
       "      <td>412031</td>\n",
       "      <td>Retail Salespersons</td>\n",
       "    </tr>\n",
       "  </tbody>\n",
       "</table>\n",
       "</div>"
      ],
      "text/plain": [
       "   BGTOcc                         BGTSubOcc          CanonCity CanonCounty  \\\n",
       "0  412031  Retail Sales Associate (General)              Foley     Baldwin   \n",
       "1  412031  Retail Sales Associate (General)              Foley     Baldwin   \n",
       "2  412031  Retail Sales Associate (General)  Arlington Heights        Cook   \n",
       "\n",
       "  CanonEmployer CanonJobHours    CanonJobTitle CanonJobType  \\\n",
       "0      Chrysler      fulltime  Sales Associate    permanent   \n",
       "1      Chrysler      fulltime  Sales Associate    permanent   \n",
       "2      Chrysler      fulltime  Sales Associate    permanent   \n",
       "\n",
       "                                  CanonSkillClusters  \\\n",
       "0  Sales: Specialized Sales;Specialized Skills|Sp...   \n",
       "1  Sales: Specialized Sales;Specialized Skills|Co...   \n",
       "2  Sales: Specialized Sales;Specialized Skills|Co...   \n",
       "\n",
       "                                         CanonSkills CanonState  \\\n",
       "0  {'Automotive Sales': 'Sales: Specialized Sales...         AL   \n",
       "1  {'Automotive Sales': 'Sales: Specialized Sales...         AL   \n",
       "2  {'Automotive Sales': 'Sales: Specialized Sales...         IL   \n",
       "\n",
       "  CanonYearsOfExperienceLevel               CleanJobTitle  \\\n",
       "0                         NaN             Sales Associate   \n",
       "1                         NaN  Automotive Sales Associate   \n",
       "2                         mid  Automotive Sales Associate   \n",
       "\n",
       "   ConsolidatedInferredNAICS ConsolidatedONET ConsolidatedTitle  DivisionCode  \\\n",
       "0                   336111.0         41203100   Sales Associate           NaN   \n",
       "1                   336111.0         41203100   Sales Associate           NaN   \n",
       "2                   336111.0         41203100   Sales Associate       16974.0   \n",
       "\n",
       "     JobDate        JobID                                            JobText  \\\n",
       "0 2017-03-25  38201188919  Sales Associates\\n-Foley,AL36535\\n-3781 S McKe...   \n",
       "1 2017-03-24  38200222343  AUTO SALES ASSOCIATES, ENTRY LEVEL\\n\\nGULF CHR...   \n",
       "2 2017-03-13  38195316884  Automotive Sales Associate\\n\\nArlington Height...   \n",
       "\n",
       "                 LMA Latitude Longitude  \\\n",
       "0           MC011930  30.3962  -87.7019   \n",
       "1           MC011930  30.3962  -87.7019   \n",
       "2  DV171697|MT171698  41.8792  -87.9747   \n",
       "\n",
       "                                                 MSA  MinExperience  \\\n",
       "0               19300: Metropolitan Statistical Area            NaN   \n",
       "1               19300: Metropolitan Statistical Area            NaN   \n",
       "2  16980: Metropolitan Statistical Area|176: Comb...            3.0   \n",
       "\n",
       "   occu_code            occu_text  \n",
       "0     412031  Retail Salespersons  \n",
       "1     412031  Retail Salespersons  \n",
       "2     412031  Retail Salespersons  "
      ]
     },
     "execution_count": 4,
     "metadata": {},
     "output_type": "execute_result"
    }
   ],
   "source": [
    "%%time\n",
    "\n",
    "df = pd.read_csv('~/Dropbox/Burning Glass/Data/comps_occupations_merged.csv',\n",
    "                 low_memory=False, parse_dates=['JobDate'], dtype=dtypes)\n",
    "\n",
    "# Concatenate all of the datasets into one\n",
    "df.reset_index(drop=True, inplace=True)\n",
    "df.head(3)"
   ]
  },
  {
   "cell_type": "markdown",
   "metadata": {},
   "source": [
    "We will define a path for saving the output of all assumptions in approach 2 below."
   ]
  },
  {
   "cell_type": "code",
   "execution_count": 88,
   "metadata": {},
   "outputs": [
    {
     "name": "stdout",
     "output_type": "stream",
     "text": [
      "\u001b[34mBurning Glass\u001b[m\u001b[m                      Icon?\n",
      "ExtendedChapter9.pdf               compressed_df.pkl\n",
      "Get Started with Dropbox Paper.url new_df.csv\n",
      "Get Started with Dropbox.pdf\n"
     ]
    }
   ],
   "source": [
    "!ls ~/Dropbox"
   ]
  },
  {
   "cell_type": "code",
   "execution_count": 89,
   "metadata": {},
   "outputs": [],
   "source": [
    "path_assumptions = '/Users/ramonperez/Dropbox/Burning Glass/Analysis/approach_2/'"
   ]
  },
  {
   "cell_type": "markdown",
   "metadata": {},
   "source": [
    "Let's look at the memory usage of our new merged dataset."
   ]
  },
  {
   "cell_type": "code",
   "execution_count": 7,
   "metadata": {},
   "outputs": [
    {
     "name": "stdout",
     "output_type": "stream",
     "text": [
      "<class 'pandas.core.frame.DataFrame'>\n",
      "RangeIndex: 540143 entries, 0 to 540142\n",
      "Data columns (total 27 columns):\n",
      " #   Column                       Non-Null Count   Dtype         \n",
      "---  ------                       --------------   -----         \n",
      " 0   BGTOcc                       540143 non-null  object        \n",
      " 1   BGTSubOcc                    540122 non-null  object        \n",
      " 2   CanonCity                    535037 non-null  object        \n",
      " 3   CanonCounty                  533867 non-null  object        \n",
      " 4   CanonEmployer                540143 non-null  object        \n",
      " 5   CanonJobHours                303355 non-null  object        \n",
      " 6   CanonJobTitle                366347 non-null  object        \n",
      " 7   CanonJobType                 304541 non-null  object        \n",
      " 8   CanonSkillClusters           532116 non-null  object        \n",
      " 9   CanonSkills                  540143 non-null  object        \n",
      " 10  CanonState                   540126 non-null  object        \n",
      " 11  CanonYearsOfExperienceLevel  349183 non-null  object        \n",
      " 12  CleanJobTitle                540126 non-null  object        \n",
      " 13  ConsolidatedInferredNAICS    536574 non-null  float64       \n",
      " 14  ConsolidatedONET             540143 non-null  object        \n",
      " 15  ConsolidatedTitle            540130 non-null  object        \n",
      " 16  DivisionCode                 273912 non-null  float64       \n",
      " 17  JobDate                      540143 non-null  datetime64[ns]\n",
      " 18  JobID                        540143 non-null  object        \n",
      " 19  JobText                      540143 non-null  object        \n",
      " 20  LMA                          531863 non-null  object        \n",
      " 21  Latitude                     535054 non-null  object        \n",
      " 22  Longitude                    535054 non-null  object        \n",
      " 23  MSA                          524880 non-null  object        \n",
      " 24  MinExperience                345300 non-null  float64       \n",
      " 25  occu_code                    540143 non-null  int64         \n",
      " 26  occu_text                    540143 non-null  object        \n",
      "dtypes: datetime64[ns](1), float64(3), int64(1), object(22)\n",
      "memory usage: 3.4 GB\n"
     ]
    }
   ],
   "source": [
    "df.info(memory_usage='deep')"
   ]
  },
  {
   "cell_type": "markdown",
   "metadata": {},
   "source": [
    "# 4. Test Assumptions\n",
    "\n",
    "## a. For each firm, what is the number of unique occupations?"
   ]
  },
  {
   "cell_type": "markdown",
   "metadata": {},
   "source": [
    "We will first take a list of the unique companies in the dataset."
   ]
  },
  {
   "cell_type": "code",
   "execution_count": 8,
   "metadata": {
    "scrolled": true
   },
   "outputs": [
    {
     "data": {
      "text/plain": [
       "['Chrysler',\n",
       " 'Ford Motor Company',\n",
       " 'JP Morgan Chase Company',\n",
       " 'McKinsey & Company',\n",
       " 'Boston Consulting Group',\n",
       " 'Bain Company',\n",
       " 'General Motors',\n",
       " 'Microsoft Corporation',\n",
       " 'Citi',\n",
       " 'PepsiCo Inc.',\n",
       " 'Tyson Foods Incorporated',\n",
       " 'Nestle USA Incorporated',\n",
       " 'Bank of America',\n",
       " 'The Goldman Sachs Group, Inc.',\n",
       " 'Morgan Stanley',\n",
       " 'Kraft Foods',\n",
       " 'Anheuser-Busch Companies, Inc.',\n",
       " 'Google Inc.',\n",
       " 'Facebook',\n",
       " 'Twitter',\n",
       " 'Yahoo',\n",
       " 'Oliver Wyman',\n",
       " 'Roland Berger']"
      ]
     },
     "execution_count": 8,
     "metadata": {},
     "output_type": "execute_result"
    }
   ],
   "source": [
    "comps = list(df['CanonEmployer'].unique())\n",
    "comps"
   ]
  },
  {
   "cell_type": "markdown",
   "metadata": {},
   "source": [
    "Then, we will iterate over the list of employers, add the name of the employer and the number of unique occupations as key-value pairs to a dictionary, and then add the employer's name and the name of the unique occupations to another dictionary. In essence, we are creating two dictionaries:\n",
    "- One with the employers and the amount of occupations advertised between 2016 and 2018\n",
    "- Another with the employer and the name of those occupations for which they advertised roles between 2016 and 2018"
   ]
  },
  {
   "cell_type": "code",
   "execution_count": 9,
   "metadata": {},
   "outputs": [
    {
     "name": "stdout",
     "output_type": "stream",
     "text": [
      "CPU times: user 1.21 s, sys: 39.4 ms, total: 1.25 s\n",
      "Wall time: 1.3 s\n"
     ]
    }
   ],
   "source": [
    "%%time\n",
    "\n",
    "unique_occ_comp = {}\n",
    "unique_occ_nums = {}\n",
    "\n",
    "for comp in comps:\n",
    "    unique_occs = list(df.loc[df['CanonEmployer'] == comp, 'occu_text'].unique())\n",
    "    number_occs = len(df.loc[df['CanonEmployer'] == comp, 'occu_text'].unique())\n",
    "    unique_occ_comp[comp] = unique_occs\n",
    "    unique_occ_nums[comp] = number_occs"
   ]
  },
  {
   "cell_type": "markdown",
   "metadata": {},
   "source": [
    "Let's evaluate the results of the amount of unique occupations per firm."
   ]
  },
  {
   "cell_type": "code",
   "execution_count": 10,
   "metadata": {
    "scrolled": true
   },
   "outputs": [
    {
     "name": "stdout",
     "output_type": "stream",
     "text": [
      "{'Anheuser-Busch Companies, Inc.': 137,\n",
      " 'Bain Company': 55,\n",
      " 'Bank of America': 227,\n",
      " 'Boston Consulting Group': 81,\n",
      " 'Chrysler': 254,\n",
      " 'Citi': 197,\n",
      " 'Facebook': 247,\n",
      " 'Ford Motor Company': 155,\n",
      " 'General Motors': 241,\n",
      " 'Google Inc.': 170,\n",
      " 'JP Morgan Chase Company': 242,\n",
      " 'Kraft Foods': 123,\n",
      " 'McKinsey & Company': 116,\n",
      " 'Microsoft Corporation': 210,\n",
      " 'Morgan Stanley': 134,\n",
      " 'Nestle USA Incorporated': 209,\n",
      " 'Oliver Wyman': 30,\n",
      " 'PepsiCo Inc.': 214,\n",
      " 'Roland Berger': 4,\n",
      " 'The Goldman Sachs Group, Inc.': 154,\n",
      " 'Twitter': 138,\n",
      " 'Tyson Foods Incorporated': 206,\n",
      " 'Yahoo': 90}\n"
     ]
    }
   ],
   "source": [
    "from pprint import pprint\n",
    "pprint(unique_occ_nums)"
   ]
  },
  {
   "cell_type": "markdown",
   "metadata": {},
   "source": [
    "Let' now visualise those values by converting our dictionary into a pandas series and calling the pandas method `.plot()` on it."
   ]
  },
  {
   "cell_type": "code",
   "execution_count": 11,
   "metadata": {},
   "outputs": [
    {
     "data": {
      "image/png": "[encoded data removed]",
      "text/plain": [
       "<Figure size 1080x576 with 1 Axes>"
      ]
     },
     "metadata": {
      "needs_background": "light"
     },
     "output_type": "display_data"
    }
   ],
   "source": [
    "pd.Series(unique_occ_nums).sort_values().plot(kind='bar',\n",
    "                                              rot=90, \n",
    "                                              figsize=(15, 8),\n",
    "                                              fontsize=14,\n",
    "                                              title='Number of Unique Occupations within a Firm between 2016-2018',\n",
    "                                              grid=True,\n",
    "                                              alpha=0.70);"
   ]
  },
  {
   "cell_type": "markdown",
   "metadata": {},
   "source": [
    "Let's now look at the name of those unique occupations within a firm."
   ]
  },
  {
   "cell_type": "code",
   "execution_count": 125,
   "metadata": {
    "scrolled": true
   },
   "outputs": [
    {
     "name": "stdout",
     "output_type": "stream",
     "text": [
      "['Retail Salespersons',\n",
      " 'Cleaners of Vehicles and Equipment',\n",
      " 'Automotive Service Technicians and Mechanics',\n",
      " 'Sales Representatives, Wholesale and Manufacturing, Technical and Scientific '\n",
      " 'Products',\n",
      " 'Secretaries and Administrative Assistants, Except Legal, Medical, and '\n",
      " 'Executive',\n",
      " 'Light Truck or Delivery Services Drivers',\n",
      " 'First-Line Supervisors of Mechanics, Installers, and Repairers',\n",
      " 'Computer Programmers',\n",
      " 'Accountants and Auditors',\n",
      " 'Computer Occupations, All Other']\n"
     ]
    }
   ],
   "source": [
    "pprint(unique_occ_comp['Kraft Foods'][:10])"
   ]
  },
  {
   "cell_type": "markdown",
   "metadata": {},
   "source": [
    "Let's save both samples to a csv file for a more in-depth evaluation."
   ]
  },
  {
   "cell_type": "code",
   "execution_count": 24,
   "metadata": {},
   "outputs": [],
   "source": [
    "# unique occupation counts\n",
    "pd.Series(unique_occ_nums).to_csv(path_assumptions + 'unique_occu_nums_per_firms.csv')\n",
    "\n",
    "# unique occupation names\n",
    "(pd.DataFrame.from_dict(unique_occ_comp, orient='index')\n",
    "             .T\n",
    "             .to_csv(path_assumptions + 'unique_occu_names_per_firms.csv', index=False))"
   ]
  },
  {
   "cell_type": "markdown",
   "metadata": {},
   "source": [
    "## b. For every occupation within a company, get the unique number of job titles & names of those job titles"
   ]
  },
  {
   "cell_type": "markdown",
   "metadata": {},
   "source": [
    "We will add all three columns to a variable called job_cols as it will be easier to use them later on."
   ]
  },
  {
   "cell_type": "code",
   "execution_count": 13,
   "metadata": {},
   "outputs": [],
   "source": [
    "job_cols = ['CleanJobTitle', 'ConsolidatedTitle', 'CanonJobTitle']"
   ]
  },
  {
   "cell_type": "markdown",
   "metadata": {},
   "source": [
    "To get the name of the jobs within each occupation at a company, we can move the variables of interest to the index and create a multi-level index. Then we select our columns above to make each job map to the companies and occupations. The next step will be to reset the index to get those columns out and repopulate the matching values to each job."
   ]
  },
  {
   "cell_type": "code",
   "execution_count": 200,
   "metadata": {},
   "outputs": [
    {
     "name": "stdout",
     "output_type": "stream",
     "text": [
      "CPU times: user 358 ms, sys: 120 ms, total: 478 ms\n",
      "Wall time: 557 ms\n"
     ]
    },
    {
     "data": {
      "text/html": [
       "<div>\n",
       "<style scoped>\n",
       "    .dataframe tbody tr th:only-of-type {\n",
       "        vertical-align: middle;\n",
       "    }\n",
       "\n",
       "    .dataframe tbody tr th {\n",
       "        vertical-align: top;\n",
       "    }\n",
       "\n",
       "    .dataframe thead th {\n",
       "        text-align: right;\n",
       "    }\n",
       "</style>\n",
       "<table border=\"1\" class=\"dataframe\">\n",
       "  <thead>\n",
       "    <tr style=\"text-align: right;\">\n",
       "      <th></th>\n",
       "      <th>CanonEmployer</th>\n",
       "      <th>occu_text</th>\n",
       "      <th>CleanJobTitle</th>\n",
       "      <th>ConsolidatedTitle</th>\n",
       "      <th>CanonJobTitle</th>\n",
       "    </tr>\n",
       "  </thead>\n",
       "  <tbody>\n",
       "    <tr>\n",
       "      <th>0</th>\n",
       "      <td>Chrysler</td>\n",
       "      <td>Retail Salespersons</td>\n",
       "      <td>Sales Associate</td>\n",
       "      <td>Sales Associate</td>\n",
       "      <td>Sales Associate</td>\n",
       "    </tr>\n",
       "    <tr>\n",
       "      <th>1</th>\n",
       "      <td>Chrysler</td>\n",
       "      <td>Retail Salespersons</td>\n",
       "      <td>Automotive Sales Associate</td>\n",
       "      <td>Sales Associate</td>\n",
       "      <td>Sales Associate</td>\n",
       "    </tr>\n",
       "    <tr>\n",
       "      <th>2</th>\n",
       "      <td>Chrysler</td>\n",
       "      <td>Retail Salespersons</td>\n",
       "      <td>Automotive Sales Associate</td>\n",
       "      <td>Sales Associate</td>\n",
       "      <td>Sales Associate</td>\n",
       "    </tr>\n",
       "    <tr>\n",
       "      <th>3</th>\n",
       "      <td>Chrysler</td>\n",
       "      <td>Retail Salespersons</td>\n",
       "      <td>Automotive Sales Associate</td>\n",
       "      <td>Sales Associate</td>\n",
       "      <td>Sales Associate</td>\n",
       "    </tr>\n",
       "    <tr>\n",
       "      <th>4</th>\n",
       "      <td>Chrysler</td>\n",
       "      <td>Retail Salespersons</td>\n",
       "      <td>Automobile Sales &amp; Used</td>\n",
       "      <td>Automobile Sales</td>\n",
       "      <td>NaN</td>\n",
       "    </tr>\n",
       "  </tbody>\n",
       "</table>\n",
       "</div>"
      ],
      "text/plain": [
       "  CanonEmployer            occu_text               CleanJobTitle  \\\n",
       "0      Chrysler  Retail Salespersons             Sales Associate   \n",
       "1      Chrysler  Retail Salespersons  Automotive Sales Associate   \n",
       "2      Chrysler  Retail Salespersons  Automotive Sales Associate   \n",
       "3      Chrysler  Retail Salespersons  Automotive Sales Associate   \n",
       "4      Chrysler  Retail Salespersons     Automobile Sales & Used   \n",
       "\n",
       "  ConsolidatedTitle    CanonJobTitle  \n",
       "0   Sales Associate  Sales Associate  \n",
       "1   Sales Associate  Sales Associate  \n",
       "2   Sales Associate  Sales Associate  \n",
       "3   Sales Associate  Sales Associate  \n",
       "4  Automobile Sales              NaN  "
      ]
     },
     "execution_count": 200,
     "metadata": {},
     "output_type": "execute_result"
    }
   ],
   "source": [
    "# set the columns of interest in a multilevel index, this can also be thought of as\n",
    "# adding dimensions to our dataset\n",
    "comps_occus = df.set_index(['CanonEmployer', 'occu_text'])\n",
    "\n",
    "# select the job title columns and bring the companies and occupations back out\n",
    "comps_occus = comps_occus[job_cols].reset_index()\n",
    "comps_occus.head()"
   ]
  },
  {
   "cell_type": "code",
   "execution_count": 201,
   "metadata": {},
   "outputs": [
    {
     "data": {
      "text/plain": [
       "(540143, 5)"
      ]
     },
     "execution_count": 201,
     "metadata": {},
     "output_type": "execute_result"
    }
   ],
   "source": [
    "# evaluate the shape of the dataset containing duplicates\n",
    "comps_occus.shape"
   ]
  },
  {
   "cell_type": "markdown",
   "metadata": {},
   "source": [
    "Now that we have the dataset we wanted for this assumption, we can go ahead and get rid of duplicates with the `.drop_duplicates()` method of pandas."
   ]
  },
  {
   "cell_type": "code",
   "execution_count": 208,
   "metadata": {},
   "outputs": [
    {
     "data": {
      "text/html": [
       "<div>\n",
       "<style scoped>\n",
       "    .dataframe tbody tr th:only-of-type {\n",
       "        vertical-align: middle;\n",
       "    }\n",
       "\n",
       "    .dataframe tbody tr th {\n",
       "        vertical-align: top;\n",
       "    }\n",
       "\n",
       "    .dataframe thead th {\n",
       "        text-align: right;\n",
       "    }\n",
       "</style>\n",
       "<table border=\"1\" class=\"dataframe\">\n",
       "  <thead>\n",
       "    <tr style=\"text-align: right;\">\n",
       "      <th></th>\n",
       "      <th>CanonEmployer</th>\n",
       "      <th>occu_text</th>\n",
       "      <th>CleanJobTitle</th>\n",
       "      <th>ConsolidatedTitle</th>\n",
       "      <th>CanonJobTitle</th>\n",
       "    </tr>\n",
       "  </thead>\n",
       "  <tbody>\n",
       "    <tr>\n",
       "      <th>0</th>\n",
       "      <td>Chrysler</td>\n",
       "      <td>Retail Salespersons</td>\n",
       "      <td>Sales Associate</td>\n",
       "      <td>Sales Associate</td>\n",
       "      <td>Sales Associate</td>\n",
       "    </tr>\n",
       "    <tr>\n",
       "      <th>1</th>\n",
       "      <td>Chrysler</td>\n",
       "      <td>Retail Salespersons</td>\n",
       "      <td>Automotive Sales Associate</td>\n",
       "      <td>Sales Associate</td>\n",
       "      <td>Sales Associate</td>\n",
       "    </tr>\n",
       "    <tr>\n",
       "      <th>4</th>\n",
       "      <td>Chrysler</td>\n",
       "      <td>Retail Salespersons</td>\n",
       "      <td>Automobile Sales &amp; Used</td>\n",
       "      <td>Automobile Sales</td>\n",
       "      <td>NaN</td>\n",
       "    </tr>\n",
       "    <tr>\n",
       "      <th>5</th>\n",
       "      <td>Chrysler</td>\n",
       "      <td>Retail Salespersons</td>\n",
       "      <td>Automobile Sales - Internet</td>\n",
       "      <td>Automobile Sales/Intern</td>\n",
       "      <td>NaN</td>\n",
       "    </tr>\n",
       "    <tr>\n",
       "      <th>6</th>\n",
       "      <td>Chrysler</td>\n",
       "      <td>Retail Salespersons</td>\n",
       "      <td>Internet Sales/Bdc Sales/Automotive Sales</td>\n",
       "      <td>Intern/Sales, Sales,Automotive Sales</td>\n",
       "      <td>NaN</td>\n",
       "    </tr>\n",
       "  </tbody>\n",
       "</table>\n",
       "</div>"
      ],
      "text/plain": [
       "  CanonEmployer            occu_text  \\\n",
       "0      Chrysler  Retail Salespersons   \n",
       "1      Chrysler  Retail Salespersons   \n",
       "4      Chrysler  Retail Salespersons   \n",
       "5      Chrysler  Retail Salespersons   \n",
       "6      Chrysler  Retail Salespersons   \n",
       "\n",
       "                               CleanJobTitle  \\\n",
       "0                            Sales Associate   \n",
       "1                 Automotive Sales Associate   \n",
       "4                    Automobile Sales & Used   \n",
       "5                Automobile Sales - Internet   \n",
       "6  Internet Sales/Bdc Sales/Automotive Sales   \n",
       "\n",
       "                      ConsolidatedTitle    CanonJobTitle  \n",
       "0                       Sales Associate  Sales Associate  \n",
       "1                       Sales Associate  Sales Associate  \n",
       "4                      Automobile Sales              NaN  \n",
       "5               Automobile Sales/Intern              NaN  \n",
       "6  Intern/Sales, Sales,Automotive Sales              NaN  "
      ]
     },
     "execution_count": 208,
     "metadata": {},
     "output_type": "execute_result"
    }
   ],
   "source": [
    "comps_occus.drop_duplicates(inplace=True)\n",
    "comps_occus.head()"
   ]
  },
  {
   "cell_type": "code",
   "execution_count": 209,
   "metadata": {},
   "outputs": [
    {
     "data": {
      "text/plain": [
       "(216517, 5)"
      ]
     },
     "execution_count": 209,
     "metadata": {},
     "output_type": "execute_result"
    }
   ],
   "source": [
    "# notice the new shape of the dataset\n",
    "comps_occus.shape"
   ]
  },
  {
   "cell_type": "markdown",
   "metadata": {},
   "source": [
    "To get the number of unique jobs we will group again our dataset by company and occupation, select the job title columns, and then apply the `.count()` method to the unique count of each."
   ]
  },
  {
   "cell_type": "code",
   "execution_count": 211,
   "metadata": {},
   "outputs": [
    {
     "data": {
      "text/html": [
       "<div>\n",
       "<style scoped>\n",
       "    .dataframe tbody tr th:only-of-type {\n",
       "        vertical-align: middle;\n",
       "    }\n",
       "\n",
       "    .dataframe tbody tr th {\n",
       "        vertical-align: top;\n",
       "    }\n",
       "\n",
       "    .dataframe thead th {\n",
       "        text-align: right;\n",
       "    }\n",
       "</style>\n",
       "<table border=\"1\" class=\"dataframe\">\n",
       "  <thead>\n",
       "    <tr style=\"text-align: right;\">\n",
       "      <th></th>\n",
       "      <th></th>\n",
       "      <th>CleanJobTitle</th>\n",
       "      <th>ConsolidatedTitle</th>\n",
       "      <th>CanonJobTitle</th>\n",
       "    </tr>\n",
       "    <tr>\n",
       "      <th>CanonEmployer</th>\n",
       "      <th>occu_text</th>\n",
       "      <th></th>\n",
       "      <th></th>\n",
       "      <th></th>\n",
       "    </tr>\n",
       "  </thead>\n",
       "  <tbody>\n",
       "    <tr>\n",
       "      <th rowspan=\"5\" valign=\"top\">Anheuser-Busch Companies, Inc.</th>\n",
       "      <th>Accountants and Auditors</th>\n",
       "      <td>69</td>\n",
       "      <td>69</td>\n",
       "      <td>60</td>\n",
       "    </tr>\n",
       "    <tr>\n",
       "      <th>Agricultural and Food Science Technicians</th>\n",
       "      <td>2</td>\n",
       "      <td>2</td>\n",
       "      <td>0</td>\n",
       "    </tr>\n",
       "    <tr>\n",
       "      <th>Amusement and Recreation Attendants</th>\n",
       "      <td>2</td>\n",
       "      <td>2</td>\n",
       "      <td>0</td>\n",
       "    </tr>\n",
       "    <tr>\n",
       "      <th>Architects, Except Landscape and Naval</th>\n",
       "      <td>3</td>\n",
       "      <td>3</td>\n",
       "      <td>0</td>\n",
       "    </tr>\n",
       "    <tr>\n",
       "      <th>Archivists</th>\n",
       "      <td>1</td>\n",
       "      <td>1</td>\n",
       "      <td>0</td>\n",
       "    </tr>\n",
       "  </tbody>\n",
       "</table>\n",
       "</div>"
      ],
      "text/plain": [
       "                                                                          CleanJobTitle  \\\n",
       "CanonEmployer                  occu_text                                                  \n",
       "Anheuser-Busch Companies, Inc. Accountants and Auditors                              69   \n",
       "                               Agricultural and Food Science Technicians              2   \n",
       "                               Amusement and Recreation Attendants                    2   \n",
       "                               Architects, Except Landscape and Naval                 3   \n",
       "                               Archivists                                             1   \n",
       "\n",
       "                                                                          ConsolidatedTitle  \\\n",
       "CanonEmployer                  occu_text                                                      \n",
       "Anheuser-Busch Companies, Inc. Accountants and Auditors                                  69   \n",
       "                               Agricultural and Food Science Technicians                  2   \n",
       "                               Amusement and Recreation Attendants                        2   \n",
       "                               Architects, Except Landscape and Naval                     3   \n",
       "                               Archivists                                                 1   \n",
       "\n",
       "                                                                          CanonJobTitle  \n",
       "CanonEmployer                  occu_text                                                 \n",
       "Anheuser-Busch Companies, Inc. Accountants and Auditors                              60  \n",
       "                               Agricultural and Food Science Technicians              0  \n",
       "                               Amusement and Recreation Attendants                    0  \n",
       "                               Architects, Except Landscape and Naval                 0  \n",
       "                               Archivists                                             0  "
      ]
     },
     "execution_count": 211,
     "metadata": {},
     "output_type": "execute_result"
    }
   ],
   "source": [
    "comps_occus_nums = comps_occus.groupby(['CanonEmployer', 'occu_text'])[job_cols].count()\n",
    "comps_occus_nums.head()"
   ]
  },
  {
   "cell_type": "markdown",
   "metadata": {},
   "source": [
    "Let's save both files to our shared [Dropbox folder > Burning Glass > Analysis > approach_2 > part_b](https://www.dropbox.com/sh/faunias0nig1mya/AACc4bmAKqQHRWbvnawseCjea?dl=0)."
   ]
  },
  {
   "cell_type": "code",
   "execution_count": 212,
   "metadata": {},
   "outputs": [
    {
     "name": "stdout",
     "output_type": "stream",
     "text": [
      "CPU times: user 828 ms, sys: 130 ms, total: 959 ms\n",
      "Wall time: 1.06 s\n"
     ]
    }
   ],
   "source": [
    "%%time\n",
    "\n",
    "comps_occus.to_csv(path_assumptions + 'comps_occus_jobs_names.csv', index=False)\n",
    "comps_occus_nums.to_csv(path_assumptions + 'comps_occus_jobs_nums.csv')"
   ]
  },
  {
   "cell_type": "markdown",
   "metadata": {},
   "source": [
    "# c. For every job title, number of occupations it appears under"
   ]
  },
  {
   "cell_type": "markdown",
   "metadata": {},
   "source": [
    "Here is the column var we created a bit ago. We will use it again to get the data we need."
   ]
  },
  {
   "cell_type": "code",
   "execution_count": 39,
   "metadata": {},
   "outputs": [
    {
     "data": {
      "text/plain": [
       "['CleanJobTitle', 'ConsolidatedTitle', 'CanonJobTitle']"
      ]
     },
     "execution_count": 39,
     "metadata": {},
     "output_type": "execute_result"
    }
   ],
   "source": [
    "job_cols"
   ]
  },
  {
   "cell_type": "code",
   "execution_count": 40,
   "metadata": {},
   "outputs": [
    {
     "data": {
      "text/plain": [
       "(['Sales Associate', 'Automotive Sales Associate'],\n",
       " ['Sales Associate', 'Automobile Sales'],\n",
       " ['Sales Associate', 'Sales Representative'])"
      ]
     },
     "execution_count": 40,
     "metadata": {},
     "output_type": "execute_result"
    }
   ],
   "source": [
    "CleanJobTitle = [x for x in list(df['CleanJobTitle'].unique()) if str(x) != 'nan']\n",
    "ConsolidatedTitle = [x for x in list(df['ConsolidatedTitle'].unique()) if str(x) != 'nan']\n",
    "CanonJobTitle = [x for x in list(df['CanonJobTitle'].unique()) if str(x) != 'nan']\n",
    "CleanJobTitle[:2], ConsolidatedTitle[:2], CanonJobTitle[:2]"
   ]
  },
  {
   "cell_type": "code",
   "execution_count": 41,
   "metadata": {},
   "outputs": [
    {
     "data": {
      "text/plain": [
       "(207310, 54487, 2278)"
      ]
     },
     "execution_count": 41,
     "metadata": {},
     "output_type": "execute_result"
    }
   ],
   "source": [
    "len(CleanJobTitle), len(ConsolidatedTitle), len(CanonJobTitle)"
   ]
  },
  {
   "cell_type": "markdown",
   "metadata": {},
   "source": [
    "The numbers above are the amount of unique jobs per job title variable (without any missing values).\n",
    "\n",
    "We will now create groups of all variables of interest and add the count of the amount of occupations in which a job title appears in."
   ]
  },
  {
   "cell_type": "markdown",
   "metadata": {},
   "source": [
    "### Number of Occupations in Which at Job in CanonJobTitle Appears"
   ]
  },
  {
   "cell_type": "code",
   "execution_count": 91,
   "metadata": {},
   "outputs": [
    {
     "data": {
      "text/html": [
       "<div>\n",
       "<style scoped>\n",
       "    .dataframe tbody tr th:only-of-type {\n",
       "        vertical-align: middle;\n",
       "    }\n",
       "\n",
       "    .dataframe tbody tr th {\n",
       "        vertical-align: top;\n",
       "    }\n",
       "\n",
       "    .dataframe thead th {\n",
       "        text-align: right;\n",
       "    }\n",
       "</style>\n",
       "<table border=\"1\" class=\"dataframe\">\n",
       "  <thead>\n",
       "    <tr style=\"text-align: right;\">\n",
       "      <th></th>\n",
       "      <th>CanonEmployer</th>\n",
       "      <th>CanonJobTitle</th>\n",
       "      <th>occu_text</th>\n",
       "    </tr>\n",
       "  </thead>\n",
       "  <tbody>\n",
       "    <tr>\n",
       "      <th>0</th>\n",
       "      <td>Anheuser-Busch Companies, Inc.</td>\n",
       "      <td>Account Manager</td>\n",
       "      <td>141</td>\n",
       "    </tr>\n",
       "    <tr>\n",
       "      <th>1</th>\n",
       "      <td>Anheuser-Busch Companies, Inc.</td>\n",
       "      <td>Accountant</td>\n",
       "      <td>8</td>\n",
       "    </tr>\n",
       "    <tr>\n",
       "      <th>2</th>\n",
       "      <td>Anheuser-Busch Companies, Inc.</td>\n",
       "      <td>Accounting Analyst</td>\n",
       "      <td>1</td>\n",
       "    </tr>\n",
       "    <tr>\n",
       "      <th>3</th>\n",
       "      <td>Anheuser-Busch Companies, Inc.</td>\n",
       "      <td>Accounting Assistant</td>\n",
       "      <td>14</td>\n",
       "    </tr>\n",
       "    <tr>\n",
       "      <th>4</th>\n",
       "      <td>Anheuser-Busch Companies, Inc.</td>\n",
       "      <td>Accounting Clerk</td>\n",
       "      <td>31</td>\n",
       "    </tr>\n",
       "  </tbody>\n",
       "</table>\n",
       "</div>"
      ],
      "text/plain": [
       "                    CanonEmployer         CanonJobTitle  occu_text\n",
       "0  Anheuser-Busch Companies, Inc.       Account Manager        141\n",
       "1  Anheuser-Busch Companies, Inc.            Accountant          8\n",
       "2  Anheuser-Busch Companies, Inc.    Accounting Analyst          1\n",
       "3  Anheuser-Busch Companies, Inc.  Accounting Assistant         14\n",
       "4  Anheuser-Busch Companies, Inc.      Accounting Clerk         31"
      ]
     },
     "execution_count": 91,
     "metadata": {},
     "output_type": "execute_result"
    }
   ],
   "source": [
    "occu_per_title_CanonJobTitle = df.groupby(['CanonEmployer', 'CanonJobTitle'])\n",
    "occu_per_title_CanonJobTitle = occu_per_title_CanonJobTitle['occu_text'].count().reset_index()\n",
    "occu_per_title_CanonJobTitle.head()"
   ]
  },
  {
   "cell_type": "markdown",
   "metadata": {},
   "source": [
    "### Number of Occupations in Which at Job in ConsolidatedTitle Appears"
   ]
  },
  {
   "cell_type": "code",
   "execution_count": 92,
   "metadata": {},
   "outputs": [
    {
     "data": {
      "text/html": [
       "<div>\n",
       "<style scoped>\n",
       "    .dataframe tbody tr th:only-of-type {\n",
       "        vertical-align: middle;\n",
       "    }\n",
       "\n",
       "    .dataframe tbody tr th {\n",
       "        vertical-align: top;\n",
       "    }\n",
       "\n",
       "    .dataframe thead th {\n",
       "        text-align: right;\n",
       "    }\n",
       "</style>\n",
       "<table border=\"1\" class=\"dataframe\">\n",
       "  <thead>\n",
       "    <tr style=\"text-align: right;\">\n",
       "      <th></th>\n",
       "      <th>CanonEmployer</th>\n",
       "      <th>ConsolidatedTitle</th>\n",
       "      <th>occu_text</th>\n",
       "    </tr>\n",
       "  </thead>\n",
       "  <tbody>\n",
       "    <tr>\n",
       "      <th>0</th>\n",
       "      <td>Anheuser-Busch Companies, Inc.</td>\n",
       "      <td>2018 Ab Inbev Gmt Scholarship</td>\n",
       "      <td>1</td>\n",
       "    </tr>\n",
       "    <tr>\n",
       "      <th>1</th>\n",
       "      <td>Anheuser-Busch Companies, Inc.</td>\n",
       "      <td>Ab Inbev Gmt Scholarship</td>\n",
       "      <td>1</td>\n",
       "    </tr>\n",
       "    <tr>\n",
       "      <th>2</th>\n",
       "      <td>Anheuser-Busch Companies, Inc.</td>\n",
       "      <td>Ab, Event Services</td>\n",
       "      <td>1</td>\n",
       "    </tr>\n",
       "    <tr>\n",
       "      <th>3</th>\n",
       "      <td>Anheuser-Busch Companies, Inc.</td>\n",
       "      <td>Account Manager</td>\n",
       "      <td>141</td>\n",
       "    </tr>\n",
       "    <tr>\n",
       "      <th>4</th>\n",
       "      <td>Anheuser-Busch Companies, Inc.</td>\n",
       "      <td>Accountant</td>\n",
       "      <td>8</td>\n",
       "    </tr>\n",
       "  </tbody>\n",
       "</table>\n",
       "</div>"
      ],
      "text/plain": [
       "                    CanonEmployer              ConsolidatedTitle  occu_text\n",
       "0  Anheuser-Busch Companies, Inc.  2018 Ab Inbev Gmt Scholarship          1\n",
       "1  Anheuser-Busch Companies, Inc.       Ab Inbev Gmt Scholarship          1\n",
       "2  Anheuser-Busch Companies, Inc.             Ab, Event Services          1\n",
       "3  Anheuser-Busch Companies, Inc.                Account Manager        141\n",
       "4  Anheuser-Busch Companies, Inc.                     Accountant          8"
      ]
     },
     "execution_count": 92,
     "metadata": {},
     "output_type": "execute_result"
    }
   ],
   "source": [
    "occu_per_title_ConsolidatedTitle = df.groupby(['CanonEmployer', 'ConsolidatedTitle'])\n",
    "occu_per_title_ConsolidatedTitle = occu_per_title_ConsolidatedTitle['occu_text'].count().reset_index()\n",
    "occu_per_title_ConsolidatedTitle.head()"
   ]
  },
  {
   "cell_type": "markdown",
   "metadata": {},
   "source": [
    "### Number of Occupations in Which at Job in CleanJobTitle Appears"
   ]
  },
  {
   "cell_type": "code",
   "execution_count": 93,
   "metadata": {},
   "outputs": [
    {
     "data": {
      "text/html": [
       "<div>\n",
       "<style scoped>\n",
       "    .dataframe tbody tr th:only-of-type {\n",
       "        vertical-align: middle;\n",
       "    }\n",
       "\n",
       "    .dataframe tbody tr th {\n",
       "        vertical-align: top;\n",
       "    }\n",
       "\n",
       "    .dataframe thead th {\n",
       "        text-align: right;\n",
       "    }\n",
       "</style>\n",
       "<table border=\"1\" class=\"dataframe\">\n",
       "  <thead>\n",
       "    <tr style=\"text-align: right;\">\n",
       "      <th></th>\n",
       "      <th>CanonEmployer</th>\n",
       "      <th>CleanJobTitle</th>\n",
       "      <th>occu_text</th>\n",
       "    </tr>\n",
       "  </thead>\n",
       "  <tbody>\n",
       "    <tr>\n",
       "      <th>0</th>\n",
       "      <td>Anheuser-Busch Companies, Inc.</td>\n",
       "      <td>2016 Brewery Experiences Team Member</td>\n",
       "      <td>2</td>\n",
       "    </tr>\n",
       "    <tr>\n",
       "      <th>1</th>\n",
       "      <td>Anheuser-Busch Companies, Inc.</td>\n",
       "      <td>2017 Summer Brewery Experiences Team Member</td>\n",
       "      <td>1</td>\n",
       "    </tr>\n",
       "    <tr>\n",
       "      <th>2</th>\n",
       "      <td>Anheuser-Busch Companies, Inc.</td>\n",
       "      <td>2017 Summer Gift Shop Team Member</td>\n",
       "      <td>1</td>\n",
       "    </tr>\n",
       "    <tr>\n",
       "      <th>3</th>\n",
       "      <td>Anheuser-Busch Companies, Inc.</td>\n",
       "      <td>2017 Summer Tour Team Member</td>\n",
       "      <td>1</td>\n",
       "    </tr>\n",
       "    <tr>\n",
       "      <th>4</th>\n",
       "      <td>Anheuser-Busch Companies, Inc.</td>\n",
       "      <td>2018 Ab Inbev Gmt Scholarship</td>\n",
       "      <td>1</td>\n",
       "    </tr>\n",
       "  </tbody>\n",
       "</table>\n",
       "</div>"
      ],
      "text/plain": [
       "                    CanonEmployer  \\\n",
       "0  Anheuser-Busch Companies, Inc.   \n",
       "1  Anheuser-Busch Companies, Inc.   \n",
       "2  Anheuser-Busch Companies, Inc.   \n",
       "3  Anheuser-Busch Companies, Inc.   \n",
       "4  Anheuser-Busch Companies, Inc.   \n",
       "\n",
       "                                 CleanJobTitle  occu_text  \n",
       "0         2016 Brewery Experiences Team Member          2  \n",
       "1  2017 Summer Brewery Experiences Team Member          1  \n",
       "2            2017 Summer Gift Shop Team Member          1  \n",
       "3                 2017 Summer Tour Team Member          1  \n",
       "4                2018 Ab Inbev Gmt Scholarship          1  "
      ]
     },
     "execution_count": 93,
     "metadata": {},
     "output_type": "execute_result"
    }
   ],
   "source": [
    "occu_per_title_CleanJobTitle = df.groupby(['CanonEmployer', 'CleanJobTitle'])\n",
    "occu_per_title_CleanJobTitle = occu_per_title_CleanJobTitle['occu_text'].count().reset_index()\n",
    "occu_per_title_CleanJobTitle.head()"
   ]
  },
  {
   "cell_type": "markdown",
   "metadata": {},
   "source": [
    "Let's save all files as an Excel file with different sheets into our shared [Dropbox folder > Burning Glass > Analysis > approach_2 > part_c](https://www.dropbox.com/sh/gygve96olza6d31/AACoqU-5uwe56BSrQvw7h8tza?dl=0)."
   ]
  },
  {
   "cell_type": "code",
   "execution_count": 95,
   "metadata": {},
   "outputs": [
    {
     "name": "stdout",
     "output_type": "stream",
     "text": [
      "CPU times: user 14.2 s, sys: 332 ms, total: 14.5 s\n",
      "Wall time: 14.7 s\n"
     ]
    }
   ],
   "source": [
    "%%time\n",
    "\n",
    "writer = pd.ExcelWriter(path_assumptions + 'allcompanies_job_occu_nums.xlsx', engine='xlsxwriter')\n",
    "\n",
    "# Write each dataframe to a different worksheet.\n",
    "jobs_per_occu.to_excel(writer, sheet_name='jobs_per_occu', index=False)\n",
    "occu_per_title_CleanJobTitle.to_excel(writer, sheet_name='CleanJobTitle', index=False)\n",
    "occu_per_title_ConsolidatedTitle.to_excel(writer, sheet_name='ConsolidatedTitle', index=False)\n",
    "occu_per_title_CanonJobTitle.to_excel(writer, sheet_name='CanonJobTitle', index=False)\n",
    "\n",
    "# Close the Pandas Excel writer and output the Excel file.\n",
    "writer.save()"
   ]
  },
  {
   "cell_type": "code",
   "execution_count": 96,
   "metadata": {},
   "outputs": [
    {
     "data": {
      "text/html": [
       "<div>\n",
       "<style scoped>\n",
       "    .dataframe tbody tr th:only-of-type {\n",
       "        vertical-align: middle;\n",
       "    }\n",
       "\n",
       "    .dataframe tbody tr th {\n",
       "        vertical-align: top;\n",
       "    }\n",
       "\n",
       "    .dataframe thead th {\n",
       "        text-align: right;\n",
       "    }\n",
       "</style>\n",
       "<table border=\"1\" class=\"dataframe\">\n",
       "  <thead>\n",
       "    <tr style=\"text-align: right;\">\n",
       "      <th></th>\n",
       "      <th>CanonEmployer</th>\n",
       "      <th>CleanJobTitle</th>\n",
       "      <th>occu_text</th>\n",
       "    </tr>\n",
       "  </thead>\n",
       "  <tbody>\n",
       "    <tr>\n",
       "      <th>66610</th>\n",
       "      <td>Facebook</td>\n",
       "      <td>.Net Consultant</td>\n",
       "      <td>1</td>\n",
       "    </tr>\n",
       "    <tr>\n",
       "      <th>66611</th>\n",
       "      <td>Facebook</td>\n",
       "      <td>.Net Developer</td>\n",
       "      <td>4</td>\n",
       "    </tr>\n",
       "    <tr>\n",
       "      <th>66612</th>\n",
       "      <td>Facebook</td>\n",
       "      <td>.Net Web Developer</td>\n",
       "      <td>1</td>\n",
       "    </tr>\n",
       "    <tr>\n",
       "      <th>66613</th>\n",
       "      <td>Facebook</td>\n",
       "      <td>0005 Behavioral Health Registered Nurse</td>\n",
       "      <td>1</td>\n",
       "    </tr>\n",
       "    <tr>\n",
       "      <th>66614</th>\n",
       "      <td>Facebook</td>\n",
       "      <td>10-$15/Hour Summer Job 40 Hr/Week House Painti...</td>\n",
       "      <td>1</td>\n",
       "    </tr>\n",
       "  </tbody>\n",
       "</table>\n",
       "</div>"
      ],
      "text/plain": [
       "      CanonEmployer                                      CleanJobTitle  \\\n",
       "66610      Facebook                                    .Net Consultant   \n",
       "66611      Facebook                                     .Net Developer   \n",
       "66612      Facebook                                 .Net Web Developer   \n",
       "66613      Facebook            0005 Behavioral Health Registered Nurse   \n",
       "66614      Facebook  10-$15/Hour Summer Job 40 Hr/Week House Painti...   \n",
       "\n",
       "       occu_text  \n",
       "66610          1  \n",
       "66611          4  \n",
       "66612          1  \n",
       "66613          1  \n",
       "66614          1  "
      ]
     },
     "execution_count": 96,
     "metadata": {},
     "output_type": "execute_result"
    }
   ],
   "source": [
    "occu_per_title_CleanJobTitle[occu_per_title_CleanJobTitle['CanonEmployer'] == 'Facebook'].head()"
   ]
  },
  {
   "cell_type": "markdown",
   "metadata": {},
   "source": [
    "# d. Avg number of occupations a job title is assigned to"
   ]
  },
  {
   "cell_type": "markdown",
   "metadata": {},
   "source": [
    "What we will do in this section to get the average number of occupations a job title is assigned to is to, create groups of titles and occupations, assign the n count of an occupation back into the groupped dataframe, reset the index of the groupped dataframe, and then re-group the dataset to take the mean of the n count of the different instances of occupations. A mouthfull, I know 😅, so let's look at the code instead."
   ]
  },
  {
   "cell_type": "markdown",
   "metadata": {},
   "source": [
    "## CanonJobTitle"
   ]
  },
  {
   "cell_type": "code",
   "execution_count": 117,
   "metadata": {},
   "outputs": [
    {
     "data": {
      "text/html": [
       "<div>\n",
       "<style scoped>\n",
       "    .dataframe tbody tr th:only-of-type {\n",
       "        vertical-align: middle;\n",
       "    }\n",
       "\n",
       "    .dataframe tbody tr th {\n",
       "        vertical-align: top;\n",
       "    }\n",
       "\n",
       "    .dataframe thead th {\n",
       "        text-align: right;\n",
       "    }\n",
       "</style>\n",
       "<table border=\"1\" class=\"dataframe\">\n",
       "  <thead>\n",
       "    <tr style=\"text-align: right;\">\n",
       "      <th></th>\n",
       "      <th>CanonJobTitle</th>\n",
       "      <th>occu_text</th>\n",
       "      <th>occu_count</th>\n",
       "    </tr>\n",
       "  </thead>\n",
       "  <tbody>\n",
       "    <tr>\n",
       "      <th>0</th>\n",
       "      <td>.Net Application Developer</td>\n",
       "      <td>Computer Programmers</td>\n",
       "      <td>53</td>\n",
       "    </tr>\n",
       "    <tr>\n",
       "      <th>1</th>\n",
       "      <td>.Net Application Developer</td>\n",
       "      <td>Computer User Support Specialists</td>\n",
       "      <td>1</td>\n",
       "    </tr>\n",
       "    <tr>\n",
       "      <th>2</th>\n",
       "      <td>.Net Application Developer</td>\n",
       "      <td>Web Developers</td>\n",
       "      <td>2</td>\n",
       "    </tr>\n",
       "    <tr>\n",
       "      <th>3</th>\n",
       "      <td>.Net Architect</td>\n",
       "      <td>Computer Occupations, All Other</td>\n",
       "      <td>1</td>\n",
       "    </tr>\n",
       "    <tr>\n",
       "      <th>4</th>\n",
       "      <td>.Net Architect</td>\n",
       "      <td>Computer Programmers</td>\n",
       "      <td>4</td>\n",
       "    </tr>\n",
       "  </tbody>\n",
       "</table>\n",
       "</div>"
      ],
      "text/plain": [
       "                CanonJobTitle                          occu_text  occu_count\n",
       "0  .Net Application Developer               Computer Programmers          53\n",
       "1  .Net Application Developer  Computer User Support Specialists           1\n",
       "2  .Net Application Developer                     Web Developers           2\n",
       "3              .Net Architect    Computer Occupations, All Other           1\n",
       "4              .Net Architect               Computer Programmers           4"
      ]
     },
     "execution_count": 117,
     "metadata": {},
     "output_type": "execute_result"
    }
   ],
   "source": [
    "# first group the dataset by job title var and occupation\n",
    "group_CanonJobTitle = df.groupby(['CanonJobTitle', 'occu_text'])\n",
    "\n",
    "# get the ammount of occupations within that job title var using the aggregation function count\n",
    "testing = group_CanonJobTitle['occu_text'].agg('count')\n",
    "\n",
    "# reset the index twice, first to rename our column of interest and then to fully reset the df\n",
    "df_CanonJobTitle = testing.reset_index(level=1, name='occu_count').reset_index()\n",
    "\n",
    "# examine the dataset\n",
    "df_CanonJobTitle.head()"
   ]
  },
  {
   "cell_type": "code",
   "execution_count": 118,
   "metadata": {},
   "outputs": [
    {
     "data": {
      "text/plain": [
       "CanonJobTitle\n",
       ".Net Application Developer    18.666667\n",
       ".Net Architect                 5.000000\n",
       ".Net Developer                57.875000\n",
       ".Net Programmer                9.250000\n",
       ".Net Team Lead                 4.000000\n",
       "Name: occu_count, dtype: float64"
      ]
     },
     "execution_count": 118,
     "metadata": {},
     "output_type": "execute_result"
    }
   ],
   "source": [
    "# group the dataset again by our job title variable of interest\n",
    "first_gb = df_CanonJobTitle.groupby('CanonJobTitle')\n",
    "\n",
    "# using the occumation count variable, get the mean per job title\n",
    "first_gb = first_gb['occu_count'].agg('mean')#.rename('occu_mean')\n",
    "\n",
    "# examine the result\n",
    "first_gb.head()"
   ]
  },
  {
   "cell_type": "markdown",
   "metadata": {},
   "source": [
    "## CleanJobTitle"
   ]
  },
  {
   "cell_type": "code",
   "execution_count": 119,
   "metadata": {},
   "outputs": [
    {
     "data": {
      "text/html": [
       "<div>\n",
       "<style scoped>\n",
       "    .dataframe tbody tr th:only-of-type {\n",
       "        vertical-align: middle;\n",
       "    }\n",
       "\n",
       "    .dataframe tbody tr th {\n",
       "        vertical-align: top;\n",
       "    }\n",
       "\n",
       "    .dataframe thead th {\n",
       "        text-align: right;\n",
       "    }\n",
       "</style>\n",
       "<table border=\"1\" class=\"dataframe\">\n",
       "  <thead>\n",
       "    <tr style=\"text-align: right;\">\n",
       "      <th></th>\n",
       "      <th>CleanJobTitle</th>\n",
       "      <th>occu_text</th>\n",
       "      <th>occu_count</th>\n",
       "    </tr>\n",
       "  </thead>\n",
       "  <tbody>\n",
       "    <tr>\n",
       "      <th>0</th>\n",
       "      <td>$22.77 Per Hour Job</td>\n",
       "      <td>Cost Estimators</td>\n",
       "      <td>1</td>\n",
       "    </tr>\n",
       "    <tr>\n",
       "      <th>1</th>\n",
       "      <td>&amp; - Fc Client Service Representative I</td>\n",
       "      <td>Customer Service Representatives</td>\n",
       "      <td>1</td>\n",
       "    </tr>\n",
       "    <tr>\n",
       "      <th>2</th>\n",
       "      <td>&amp; - Fc Client Service Representative I Teller</td>\n",
       "      <td>Customer Service Representatives</td>\n",
       "      <td>1</td>\n",
       "    </tr>\n",
       "    <tr>\n",
       "      <th>3</th>\n",
       "      <td>&amp; - Relationship Banker- Financial Cen</td>\n",
       "      <td>New Accounts Clerks</td>\n",
       "      <td>1</td>\n",
       "    </tr>\n",
       "    <tr>\n",
       "      <th>4</th>\n",
       "      <td>&amp; - Relationship Banker- Financial Center</td>\n",
       "      <td>New Accounts Clerks</td>\n",
       "      <td>1</td>\n",
       "    </tr>\n",
       "  </tbody>\n",
       "</table>\n",
       "</div>"
      ],
      "text/plain": [
       "                                   CleanJobTitle  \\\n",
       "0                            $22.77 Per Hour Job   \n",
       "1         & - Fc Client Service Representative I   \n",
       "2  & - Fc Client Service Representative I Teller   \n",
       "3         & - Relationship Banker- Financial Cen   \n",
       "4      & - Relationship Banker- Financial Center   \n",
       "\n",
       "                          occu_text  occu_count  \n",
       "0                   Cost Estimators           1  \n",
       "1  Customer Service Representatives           1  \n",
       "2  Customer Service Representatives           1  \n",
       "3               New Accounts Clerks           1  \n",
       "4               New Accounts Clerks           1  "
      ]
     },
     "execution_count": 119,
     "metadata": {},
     "output_type": "execute_result"
    }
   ],
   "source": [
    "# first group the dataset by job title var and occupation\n",
    "group_CleanJobTitle = df.groupby(['CleanJobTitle', 'occu_text'])\n",
    "\n",
    "# get the ammount of occupations within that job title var using the aggregation function count\n",
    "testing = group_CleanJobTitle['occu_text'].agg('count')\n",
    "\n",
    "# reset the index twice, first to rename our column of interest and then to fully reset the df\n",
    "df_CleanJobTitle = testing.reset_index(level=1, name='occu_count').reset_index()\n",
    "\n",
    "# examine the dataset\n",
    "df_CleanJobTitle.head()"
   ]
  },
  {
   "cell_type": "code",
   "execution_count": 120,
   "metadata": {
    "scrolled": true
   },
   "outputs": [
    {
     "data": {
      "text/plain": [
       "CleanJobTitle\n",
       "$22.77 Per Hour Job                                                         1.0\n",
       "& - Fc Client Service Representative I                                      1.0\n",
       "& - Fc Client Service Representative I Teller                               1.0\n",
       "& - Relationship Banker- Financial Cen                                      1.0\n",
       "& - Relationship Banker- Financial Center                                   1.0\n",
       "& Bch-Relationship Banker- , Flarea - Spanish                               1.0\n",
       "& Bch-Relationship Banker- Center                                           1.0\n",
       "& Bch-Relationship Banker- Center, -Spanish                                 1.0\n",
       "& Bch-Relationship Banker-Devonaire Center                                  1.0\n",
       "& Bch-Relationship Banker-Devonaire Center, , -Spanish                      1.0\n",
       "& Brand Advertising Specialist                                              1.0\n",
       "& Kettner - Fc Client Service Representative I                              1.0\n",
       "& Kettner - Fc Client Service Representative I - Bi                         1.0\n",
       "& Kettner - Fc Client Service Representative I Teller                       1.0\n",
       "& S Fc Client Service Representative I - - , Las                            1.0\n",
       "& S Fc Client Service Representative I - Human Resources                    1.0\n",
       "& S Relationship Banker                                                     1.0\n",
       "& S Relationship Banker - - ,                                               1.0\n",
       "&L General Stores Supervisor Proc Coach                                     1.0\n",
       "&L Supervisor                                                               5.0\n",
       "&L-Production Control Coordinator                                           1.0\n",
       "&S Service Zone Manager                                                     1.0\n",
       "&S Zone Manager                                                             4.0\n",
       "'s                                                                          1.0\n",
       "'s Assistant Store Manager/Leader                                           1.0\n",
       "'s Cashier-Host/Ess                                                         3.0\n",
       "'s Center For Family Wealth Dynamics And Governance                         1.0\n",
       "'s Center For Family Wealth Dynamics And Governancer Coordinator Role       1.0\n",
       "'s Maintenance Technician                                                   3.0\n",
       "'s Shift Leader                                                             1.0\n",
       "'s Street Team                                                              1.0\n",
       ", Merchandiser ///Sign On                                                   2.0\n",
       ", Merchandiser Pt///Sign On                                                 2.0\n",
       "- Client Service Representative                                             2.0\n",
       ".Net - Back End Developer                                                   1.0\n",
       ".Net And Pega Robotics Developer                                            1.0\n",
       ".Net Application Developer                                                 15.0\n",
       ".Net Application Developer - Associate                                      3.0\n",
       ".Net Application Developer - Full Stack Developer                           1.5\n",
       ".Net Application Developer -Associate                                       1.0\n",
       ".Net Application Developer Lead                                             1.0\n",
       ".Net Application Developer, Treasury Monitoring                             2.0\n",
       ".Net Application Development Lead                                           3.0\n",
       ".Net Application Development Lead - Vice President                          1.0\n",
       ".Net Application Developmentlead                                            2.0\n",
       ".Net Application Programmer                                                 4.0\n",
       ".Net Application Programmer/Developer                                       3.0\n",
       ".Net Application Security Source Code Engineer/Developer                    5.0\n",
       ".Net Application Security Source Code Engineer/Developer - Web & Mobil      7.0\n",
       ".Net Application Security Source Code Engineer/Developer - Web & Mobile     2.0\n",
       "Name: occu_mean, dtype: float64"
      ]
     },
     "execution_count": 120,
     "metadata": {},
     "output_type": "execute_result"
    }
   ],
   "source": [
    "# group the dataset again by our job title variable of interest\n",
    "second_gb = df_CleanJobTitle.groupby('CleanJobTitle')\n",
    "\n",
    "# using the occumation count variable, get the mean per job title\n",
    "second_gb = second_gb['occu_count'].agg('mean').rename('occu_mean')\n",
    "\n",
    "# examine the result\n",
    "second_gb.head(50)"
   ]
  },
  {
   "cell_type": "markdown",
   "metadata": {},
   "source": [
    "## ConsolidatedTitle"
   ]
  },
  {
   "cell_type": "code",
   "execution_count": 121,
   "metadata": {},
   "outputs": [
    {
     "data": {
      "text/html": [
       "<div>\n",
       "<style scoped>\n",
       "    .dataframe tbody tr th:only-of-type {\n",
       "        vertical-align: middle;\n",
       "    }\n",
       "\n",
       "    .dataframe tbody tr th {\n",
       "        vertical-align: top;\n",
       "    }\n",
       "\n",
       "    .dataframe thead th {\n",
       "        text-align: right;\n",
       "    }\n",
       "</style>\n",
       "<table border=\"1\" class=\"dataframe\">\n",
       "  <thead>\n",
       "    <tr style=\"text-align: right;\">\n",
       "      <th></th>\n",
       "      <th>ConsolidatedTitle</th>\n",
       "      <th>occu_text</th>\n",
       "      <th>occu_count</th>\n",
       "    </tr>\n",
       "  </thead>\n",
       "  <tbody>\n",
       "    <tr>\n",
       "      <th>0</th>\n",
       "      <td>$22.77 Per Hour Job</td>\n",
       "      <td>Cost Estimators</td>\n",
       "      <td>1</td>\n",
       "    </tr>\n",
       "    <tr>\n",
       "      <th>1</th>\n",
       "      <td>'s</td>\n",
       "      <td>Combined Food Preparation and Serving Workers,...</td>\n",
       "      <td>1</td>\n",
       "    </tr>\n",
       "    <tr>\n",
       "      <th>2</th>\n",
       "      <td>'s Center For Family Wealth Dynamics And Gover...</td>\n",
       "      <td>First-Line Supervisors of Retail Sales Workers</td>\n",
       "      <td>1</td>\n",
       "    </tr>\n",
       "    <tr>\n",
       "      <th>3</th>\n",
       "      <td>'s Seasonal Retail Receiving, Garden State Plaza</td>\n",
       "      <td>Sales Managers</td>\n",
       "      <td>1</td>\n",
       "    </tr>\n",
       "    <tr>\n",
       "      <th>4</th>\n",
       "      <td>'s Street Team</td>\n",
       "      <td>Demonstrators and Product Promoters</td>\n",
       "      <td>1</td>\n",
       "    </tr>\n",
       "  </tbody>\n",
       "</table>\n",
       "</div>"
      ],
      "text/plain": [
       "                                   ConsolidatedTitle  \\\n",
       "0                                $22.77 Per Hour Job   \n",
       "1                                                 's   \n",
       "2  's Center For Family Wealth Dynamics And Gover...   \n",
       "3   's Seasonal Retail Receiving, Garden State Plaza   \n",
       "4                                     's Street Team   \n",
       "\n",
       "                                           occu_text  occu_count  \n",
       "0                                    Cost Estimators           1  \n",
       "1  Combined Food Preparation and Serving Workers,...           1  \n",
       "2     First-Line Supervisors of Retail Sales Workers           1  \n",
       "3                                     Sales Managers           1  \n",
       "4                Demonstrators and Product Promoters           1  "
      ]
     },
     "execution_count": 121,
     "metadata": {},
     "output_type": "execute_result"
    }
   ],
   "source": [
    "# first group the dataset by job title var and occupation\n",
    "group_ConsolidatedTitle = df.groupby(['ConsolidatedTitle', 'occu_text'])\n",
    "\n",
    "# get the ammount of occupations within that job title var using the aggregation function count\n",
    "testing = group_ConsolidatedTitle['occu_text'].agg('count')\n",
    "\n",
    "# reset the index twice, first to rename our column of interest and then to fully reset the df\n",
    "df_ConsolidatedTitle = testing.reset_index(level=1, name='occu_count').reset_index()\n",
    "\n",
    "# examine the dataset\n",
    "df_ConsolidatedTitle.head()"
   ]
  },
  {
   "cell_type": "code",
   "execution_count": 122,
   "metadata": {
    "scrolled": true
   },
   "outputs": [
    {
     "data": {
      "text/plain": [
       "ConsolidatedTitle\n",
       "$22.77 Per Hour Job                                           1.000000\n",
       "'s                                                            1.000000\n",
       "'s Center For Family Wealth Dynamics And Governance           1.000000\n",
       "'s Seasonal Retail Receiving, Garden State Plaza              1.000000\n",
       "'s Street Team                                                1.000000\n",
       ".Net Application Developer                                   18.666667\n",
       ".Net Applicationdeveloper                                     1.000000\n",
       ".Net Applicationsdeveloper                                    2.000000\n",
       ".Net Architect                                                5.000000\n",
       ".Net C# Software Engineering Lead                             3.000000\n",
       ".Net Developer                                               57.750000\n",
       ".Net Development Lead                                         1.000000\n",
       ".Net Production Services Lead                                 1.000000\n",
       ".Net Production Support Lead                                  1.000000\n",
       ".Net Programmer                                               9.250000\n",
       ".Net Software Engineering                                     2.000000\n",
       ".Net Software Engineering Lead                                8.000000\n",
       ".Net Software Engineering Lead In | By Gigajob                1.000000\n",
       ".Net Software Engineering, Automation Testing                 1.000000\n",
       ".Net Team Lead                                                4.000000\n",
       ".Net Technical Lead                                           1.000000\n",
       ".Net Warranty Reduction - Cost Recovery Lead                  4.000000\n",
       ".Net Warranty Reduction - Cost Recovery Lead - Eng0038447     1.000000\n",
       ".Net Warranty Reduction - Cost Recovery Lead - Eng0039480     1.000000\n",
       ".Net Web Developer                                           17.000000\n",
       ".Net Wpfdeveloper                                             1.000000\n",
       ".Net/C# - Applicationsdeveloper                               1.000000\n",
       ".Net/C# -Software Engineering                                 5.000000\n",
       ".Net/C# Applicationsdeveloper                                 1.000000\n",
       ".Net/C# Software Engineering                                  2.000000\n",
       ".Net/C# Software Engineering Lead                             2.000000\n",
       ".Net/C#- Software Engineering                                 1.000000\n",
       ".Net/Netoxygendeveloper                                       1.000000\n",
       ".Net/Sharepointdeveloper                                      1.000000\n",
       ".Net/Sql Applicationsdeveloper                                1.000000\n",
       ".Net/Work Event                                               1.000000\n",
       "009100 Direct Support Professional - Prn                      1.000000\n",
       "10-$15/Hour Summer Job 40 Hr/Week House Painting Co           1.000000\n",
       "110536555                                                     1.000000\n",
       "1469770459                                                    1.000000\n",
       "15008230                                                      1.000000\n",
       "15008239                                                      1.000000\n",
       "15008325                                                      1.000000\n",
       "15008747                                                      1.000000\n",
       "15008760                                                      1.000000\n",
       "15008906                                                      1.000000\n",
       "15008959                                                      1.000000\n",
       "150118745                                                     1.000000\n",
       "150124347                                                     1.000000\n",
       "16000286                                                      1.000000\n",
       "Name: occu_mean, dtype: float64"
      ]
     },
     "execution_count": 122,
     "metadata": {},
     "output_type": "execute_result"
    }
   ],
   "source": [
    "# group the dataset again by our job title variable of interest\n",
    "third_gb = df_ConsolidatedTitle.groupby('ConsolidatedTitle')\n",
    "\n",
    "# using the occumation count variable, get the mean per job title\n",
    "third_gb = third_gb['occu_count'].agg('mean').rename('occu_mean')\n",
    "\n",
    "# examine the result\n",
    "third_gb.head(50)"
   ]
  },
  {
   "cell_type": "markdown",
   "metadata": {},
   "source": [
    "Now that we have the data we needed, let's proceed to save it to our collaborative [Dropbox folder > Burning Glass > Analysis > approach_2 > part_d](https://www.dropbox.com/sh/iy1of1f2vukwjgu/AABBaCZSugocVGhjol5Lzl85a?dl=0)."
   ]
  },
  {
   "cell_type": "code",
   "execution_count": 123,
   "metadata": {},
   "outputs": [
    {
     "name": "stdout",
     "output_type": "stream",
     "text": [
      "CPU times: user 23.7 s, sys: 1.33 s, total: 25.1 s\n",
      "Wall time: 26.5 s\n"
     ]
    }
   ],
   "source": [
    "%%time\n",
    "\n",
    "writer = pd.ExcelWriter(path_assumptions + 'average_occu_jobs.xlsx', engine='xlsxwriter')\n",
    "\n",
    "# Write each dataframe to a different worksheet.\n",
    "df_CanonJobTitle.to_excel(writer, sheet_name='CanonJobTitle', index=False)\n",
    "first_gb.to_excel(writer, sheet_name='Avg_CanonJobTitle')\n",
    "\n",
    "df_CleanJobTitle.to_excel(writer, sheet_name='CleanJobTitle', index=False)\n",
    "second_gb.to_excel(writer, sheet_name='Avg_CleanJobTitle')\n",
    "\n",
    "df_ConsolidatedTitle.to_excel(writer, sheet_name='ConsolidatedTitle', index=False)\n",
    "third_gb.to_excel(writer, sheet_name='Avg_ConsolidatedTitle')\n",
    "\n",
    "\n",
    "# Close the Pandas Excel writer and output the Excel file.\n",
    "writer.save()"
   ]
  },
  {
   "cell_type": "markdown",
   "metadata": {},
   "source": [
    "## **Additions from meeting on Friday, June 19**\n",
    "1. List of job titles (consolidated & clean) e.g., for Facebook, which appear less than median (I think it was 2) times. [Link to answer](https://www.dropbox.com/s/ekqjjb4t00l8b74/fb_job_var_nums.xlsx?dl=0)\n",
    "2. For a sample firm, xls with list of unique occupations (we need to read those and see whether they  make sense in terms of functions / divisions)\n",
    "[Link to answer](https://www.dropbox.com/s/ccll89c1vhqf6av/sample_firm_unique_occu.csv?dl=0)\n",
    "3. Avg number of occupations a job title (both consolidated & clean) is assigned to (for a sample firm and across firms in the sample) [Link to answer](https://www.dropbox.com/sh/w2j41ka4hsgx0gf/AAAdEGOsjI9_gK8__ZeVHE5Ta?dl=0)\n",
    "    - For each job title in a company, how many different occupations this job map into? **This can be found by sorting the file with the data**\n",
    "    - For each of the 20 most common canon job titles, extract all unique clean job titles that correspond to them **This can be found by sorting the file with the data**\n",
    "4. Xls with examples of those job titles assigned to multiple occupations: is there an occupation they are primarily associated to, and the others are just some noise. **The answer to this question can be found in the same file as that of point 3 of this section.**"
   ]
  },
  {
   "cell_type": "markdown",
   "metadata": {},
   "source": [
    "## Facebook CanonJobTitle"
   ]
  },
  {
   "cell_type": "code",
   "execution_count": 120,
   "metadata": {},
   "outputs": [
    {
     "data": {
      "text/plain": [
       "CanonJobTitle\n",
       ".Net Developer        4.0\n",
       ".Net Web Developer    1.0\n",
       "3D Generalist         4.0\n",
       "ASP .Net Developer    1.0\n",
       "Account Director      4.0\n",
       "Name: occu_mean, dtype: float64"
      ]
     },
     "execution_count": 120,
     "metadata": {},
     "output_type": "execute_result"
    }
   ],
   "source": [
    "group_CanonJobTitle = df[df['CanonEmployer'] == 'Facebook'].groupby(['CanonJobTitle', 'occu_text'])\n",
    "testing = group_CanonJobTitle['occu_text'].agg('count')\n",
    "df_CanonJobTitle = testing.reset_index(level=1, name='occu_count').reset_index()\n",
    "first_gb = df_CanonJobTitle.groupby('CanonJobTitle')\n",
    "first_gb = first_gb['occu_count'].agg('mean').rename('occu_mean')\n",
    "first_gb.head()"
   ]
  },
  {
   "cell_type": "markdown",
   "metadata": {},
   "source": [
    "## CleanJobTitle"
   ]
  },
  {
   "cell_type": "code",
   "execution_count": 115,
   "metadata": {},
   "outputs": [
    {
     "data": {
      "text/html": [
       "<div>\n",
       "<style scoped>\n",
       "    .dataframe tbody tr th:only-of-type {\n",
       "        vertical-align: middle;\n",
       "    }\n",
       "\n",
       "    .dataframe tbody tr th {\n",
       "        vertical-align: top;\n",
       "    }\n",
       "\n",
       "    .dataframe thead th {\n",
       "        text-align: right;\n",
       "    }\n",
       "</style>\n",
       "<table border=\"1\" class=\"dataframe\">\n",
       "  <thead>\n",
       "    <tr style=\"text-align: right;\">\n",
       "      <th></th>\n",
       "      <th>CleanJobTitle</th>\n",
       "      <th>occu_text</th>\n",
       "      <th>occu_count</th>\n",
       "    </tr>\n",
       "  </thead>\n",
       "  <tbody>\n",
       "    <tr>\n",
       "      <th>0</th>\n",
       "      <td>.Net Consultant</td>\n",
       "      <td>Computer Systems Analysts</td>\n",
       "      <td>1</td>\n",
       "    </tr>\n",
       "    <tr>\n",
       "      <th>1</th>\n",
       "      <td>.Net Developer</td>\n",
       "      <td>Computer Programmers</td>\n",
       "      <td>4</td>\n",
       "    </tr>\n",
       "    <tr>\n",
       "      <th>2</th>\n",
       "      <td>.Net Web Developer</td>\n",
       "      <td>Web Developers</td>\n",
       "      <td>1</td>\n",
       "    </tr>\n",
       "    <tr>\n",
       "      <th>3</th>\n",
       "      <td>0005 Behavioral Health Registered Nurse</td>\n",
       "      <td>Registered Nurses</td>\n",
       "      <td>1</td>\n",
       "    </tr>\n",
       "    <tr>\n",
       "      <th>4</th>\n",
       "      <td>10-$15/Hour Summer Job 40 Hr/Week House Painti...</td>\n",
       "      <td>Vocational Education Teachers, Postsecondary</td>\n",
       "      <td>1</td>\n",
       "    </tr>\n",
       "  </tbody>\n",
       "</table>\n",
       "</div>"
      ],
      "text/plain": [
       "                                       CleanJobTitle  \\\n",
       "0                                    .Net Consultant   \n",
       "1                                     .Net Developer   \n",
       "2                                 .Net Web Developer   \n",
       "3            0005 Behavioral Health Registered Nurse   \n",
       "4  10-$15/Hour Summer Job 40 Hr/Week House Painti...   \n",
       "\n",
       "                                      occu_text  occu_count  \n",
       "0                     Computer Systems Analysts           1  \n",
       "1                          Computer Programmers           4  \n",
       "2                                Web Developers           1  \n",
       "3                             Registered Nurses           1  \n",
       "4  Vocational Education Teachers, Postsecondary           1  "
      ]
     },
     "execution_count": 115,
     "metadata": {},
     "output_type": "execute_result"
    }
   ],
   "source": [
    "group_CleanJobTitle = df[df['CanonEmployer'] == 'Facebook'].groupby(['CleanJobTitle', 'occu_text'])\n",
    "testing = group_CleanJobTitle['occu_text'].agg('count')\n",
    "df_CleanJobTitle = testing.reset_index(level=1, name='occu_count').reset_index()\n",
    "second_gb = df_CleanJobTitle.groupby('CleanJobTitle')\n",
    "second_gb = second_gb['occu_count'].agg('mean').rename('occu_mean')\n",
    "second_gb.head()"
   ]
  },
  {
   "cell_type": "markdown",
   "metadata": {},
   "source": [
    "## ConsolidatedTitle"
   ]
  },
  {
   "cell_type": "code",
   "execution_count": 121,
   "metadata": {},
   "outputs": [
    {
     "data": {
      "text/plain": [
       "ConsolidatedTitle\n",
       ".Net Developer                                         4.0\n",
       ".Net Web Developer                                     1.0\n",
       "10-$15/Hour Summer Job 40 Hr/Week House Painting Co    1.0\n",
       "1469770459                                             1.0\n",
       "1776076392                                             1.0\n",
       "Name: occu_mean, dtype: float64"
      ]
     },
     "execution_count": 121,
     "metadata": {},
     "output_type": "execute_result"
    }
   ],
   "source": [
    "group_ConsolidatedTitle = df[df['CanonEmployer'] == 'Facebook'].groupby(['ConsolidatedTitle', 'occu_text'])\n",
    "testing = group_ConsolidatedTitle['occu_text'].agg('count')\n",
    "df_ConsolidatedTitle = testing.reset_index(level=1, name='occu_count').reset_index()\n",
    "third_gb = df_ConsolidatedTitle.groupby('ConsolidatedTitle')\n",
    "third_gb = third_gb['occu_count'].agg('mean').rename('occu_mean')\n",
    "third_gb.head()"
   ]
  },
  {
   "cell_type": "code",
   "execution_count": 119,
   "metadata": {},
   "outputs": [
    {
     "name": "stdout",
     "output_type": "stream",
     "text": [
      "CPU times: user 1.25 s, sys: 317 ms, total: 1.57 s\n",
      "Wall time: 1.59 s\n"
     ]
    }
   ],
   "source": [
    "%%time\n",
    "\n",
    "writer = pd.ExcelWriter(path_assumptions + 'fb_average_occu_jobs.xlsx', engine='xlsxwriter')\n",
    "\n",
    "# Write each dataframe to a different worksheet.\n",
    "df_CanonJobTitle.to_excel(writer, sheet_name='FB_CanonJobTitle', index=False)\n",
    "first_gb.to_excel(writer, sheet_name='FB_Avg_CanonJobTitle')\n",
    "\n",
    "df_CleanJobTitle.to_excel(writer, sheet_name='FB_CleanJobTitle', index=False)\n",
    "second_gb.to_excel(writer, sheet_name='FB_Avg_CleanJobTitle')\n",
    "\n",
    "df_ConsolidatedTitle.to_excel(writer, sheet_name='FB_ConsolidatedTitle', index=False)\n",
    "third_gb.to_excel(writer, sheet_name='FB_Avg_ConsolidatedTitle')\n",
    "\n",
    "\n",
    "# Close the Pandas Excel writer and output the Excel file.\n",
    "writer.save()"
   ]
  },
  {
   "cell_type": "code",
   "execution_count": null,
   "metadata": {},
   "outputs": [],
   "source": []
  },
  {
   "cell_type": "markdown",
   "metadata": {},
   "source": [
    "## McKinsey CanonJobTitle"
   ]
  },
  {
   "cell_type": "code",
   "execution_count": 122,
   "metadata": {},
   "outputs": [
    {
     "data": {
      "text/plain": [
       "array(['Chrysler', 'Ford Motor Company', 'JP Morgan Chase Company',\n",
       "       'McKinsey & Company', 'Boston Consulting Group', 'Bain Company',\n",
       "       'General Motors', 'Microsoft Corporation', 'Citi', 'PepsiCo Inc.',\n",
       "       'Tyson Foods Incorporated', 'Nestle USA Incorporated',\n",
       "       'Bank of America', 'The Goldman Sachs Group, Inc.',\n",
       "       'Morgan Stanley', 'Kraft Foods', 'Anheuser-Busch Companies, Inc.',\n",
       "       'Google Inc.', 'Facebook', 'Twitter', 'Yahoo', 'Oliver Wyman',\n",
       "       'Roland Berger'], dtype=object)"
      ]
     },
     "execution_count": 122,
     "metadata": {},
     "output_type": "execute_result"
    }
   ],
   "source": [
    "df['CanonEmployer'].unique()"
   ]
  },
  {
   "cell_type": "code",
   "execution_count": 134,
   "metadata": {},
   "outputs": [
    {
     "data": {
      "text/plain": [
       "CanonJobTitle\n",
       "Account Director              4.0\n",
       "Account Manager              18.0\n",
       "Accountant                    8.5\n",
       "Accounts Receivable Clerk     1.0\n",
       "Actuarial Consultant         25.0\n",
       "Name: occu_mean, dtype: float64"
      ]
     },
     "execution_count": 134,
     "metadata": {},
     "output_type": "execute_result"
    }
   ],
   "source": [
    "group_CanonJobTitle = df[df['CanonEmployer'] == 'McKinsey & Company'].groupby(['CanonJobTitle', 'occu_text'])\n",
    "testing = group_CanonJobTitle['occu_text'].agg('count')\n",
    "df_CanonJobTitle = testing.reset_index(level=1, name='occu_count').reset_index()\n",
    "first_gb = df_CanonJobTitle.groupby('CanonJobTitle')\n",
    "first_gb = first_gb['occu_count'].agg('mean').rename('occu_mean')\n",
    "first_gb.head()"
   ]
  },
  {
   "cell_type": "markdown",
   "metadata": {},
   "source": [
    "## CleanJobTitle"
   ]
  },
  {
   "cell_type": "code",
   "execution_count": 135,
   "metadata": {},
   "outputs": [
    {
     "data": {
      "text/plain": [
       "CleanJobTitle\n",
       "Account Manager                              2.0\n",
       "Account Manager, Cpg                         1.0\n",
       "Account Satisfaction Director                4.0\n",
       "Account Strategist                           2.0\n",
       "Account Strategist Leading Digital Agency    1.0\n",
       "Name: occu_mean, dtype: float64"
      ]
     },
     "execution_count": 135,
     "metadata": {},
     "output_type": "execute_result"
    }
   ],
   "source": [
    "group_CleanJobTitle = df[df['CanonEmployer'] == 'McKinsey & Company'].groupby(['CleanJobTitle', 'occu_text'])\n",
    "testing = group_CleanJobTitle['occu_text'].agg('count')\n",
    "df_CleanJobTitle = testing.reset_index(level=1, name='occu_count').reset_index()\n",
    "second_gb = df_CleanJobTitle.groupby('CleanJobTitle')\n",
    "second_gb = second_gb['occu_count'].agg('mean').rename('occu_mean')\n",
    "second_gb.head()"
   ]
  },
  {
   "cell_type": "markdown",
   "metadata": {},
   "source": [
    "## ConsolidatedTitle"
   ]
  },
  {
   "cell_type": "code",
   "execution_count": 136,
   "metadata": {},
   "outputs": [
    {
     "data": {
      "text/plain": [
       "ConsolidatedTitle\n",
       "Account Director                4.0\n",
       "Account Manager                18.0\n",
       "Account Strategist              2.0\n",
       "Account Strategist, Digital     1.0\n",
       "Accountant                      8.5\n",
       "Name: occu_mean, dtype: float64"
      ]
     },
     "execution_count": 136,
     "metadata": {},
     "output_type": "execute_result"
    }
   ],
   "source": [
    "group_ConsolidatedTitle = df[df['CanonEmployer'] == 'McKinsey & Company'].groupby(['ConsolidatedTitle', 'occu_text'])\n",
    "testing = group_ConsolidatedTitle['occu_text'].agg('count')\n",
    "df_ConsolidatedTitle = testing.reset_index(level=1, name='occu_count').reset_index()\n",
    "third_gb = df_ConsolidatedTitle.groupby('ConsolidatedTitle')\n",
    "third_gb = third_gb['occu_count'].agg('mean').rename('occu_mean')\n",
    "third_gb.head()"
   ]
  },
  {
   "cell_type": "code",
   "execution_count": 137,
   "metadata": {},
   "outputs": [
    {
     "name": "stdout",
     "output_type": "stream",
     "text": [
      "CPU times: user 247 ms, sys: 13.7 ms, total: 260 ms\n",
      "Wall time: 261 ms\n"
     ]
    }
   ],
   "source": [
    "%%time\n",
    "\n",
    "writer = pd.ExcelWriter(path_assumptions + 'mckinsey_average_occu_jobs.xlsx', engine='xlsxwriter')\n",
    "\n",
    "# Write each dataframe to a different worksheet.\n",
    "df_CanonJobTitle.to_excel(writer, sheet_name='MK_CanonJob', index=False)\n",
    "first_gb.to_excel(writer, sheet_name='MK_Avg_CanonJob')\n",
    "\n",
    "df_CleanJobTitle.to_excel(writer, sheet_name='MK_CleanJob', index=False)\n",
    "second_gb.to_excel(writer, sheet_name='MK_Avg_CleanJob')\n",
    "\n",
    "df_ConsolidatedTitle.to_excel(writer, sheet_name='MK_Consolid', index=False)\n",
    "third_gb.to_excel(writer, sheet_name='MK_Avg_Consolid')\n",
    "\n",
    "\n",
    "# Close the Pandas Excel writer and output the Excel file.\n",
    "writer.save()"
   ]
  },
  {
   "cell_type": "code",
   "execution_count": null,
   "metadata": {},
   "outputs": [],
   "source": []
  },
  {
   "cell_type": "markdown",
   "metadata": {},
   "source": [
    "## Microsoft CanonJobTitle"
   ]
  },
  {
   "cell_type": "code",
   "execution_count": 139,
   "metadata": {},
   "outputs": [
    {
     "data": {
      "text/plain": [
       "CanonJobTitle\n",
       ".Net Developer         7.666667\n",
       "3D Generalist          3.000000\n",
       "Account Director       3.333333\n",
       "Account Executive    330.000000\n",
       "Account Manager      140.750000\n",
       "Name: occu_mean, dtype: float64"
      ]
     },
     "execution_count": 139,
     "metadata": {},
     "output_type": "execute_result"
    }
   ],
   "source": [
    "group_CanonJobTitle = df[df['CanonEmployer'] == 'Microsoft Corporation'].groupby(['CanonJobTitle', 'occu_text'])\n",
    "testing = group_CanonJobTitle['occu_text'].agg('count')\n",
    "df_CanonJobTitle = testing.reset_index(level=1, name='occu_count').reset_index()\n",
    "first_gb = df_CanonJobTitle.groupby('CanonJobTitle')\n",
    "first_gb = first_gb['occu_count'].agg('mean').rename('occu_mean')\n",
    "first_gb.head()"
   ]
  },
  {
   "cell_type": "markdown",
   "metadata": {},
   "source": [
    "## CleanJobTitle"
   ]
  },
  {
   "cell_type": "code",
   "execution_count": 140,
   "metadata": {},
   "outputs": [
    {
     "data": {
      "text/plain": [
       "CleanJobTitle\n",
       ".Net Associate Consultant -Federal Space    1.0\n",
       ".Net Consultant                             1.0\n",
       ".Net Consultant - Federal Space             1.0\n",
       ".Net Developer                              8.0\n",
       ".Net Developer - Azure                      1.0\n",
       "Name: occu_mean, dtype: float64"
      ]
     },
     "execution_count": 140,
     "metadata": {},
     "output_type": "execute_result"
    }
   ],
   "source": [
    "group_CleanJobTitle = df[df['CanonEmployer'] == 'Microsoft Corporation'].groupby(['CleanJobTitle', 'occu_text'])\n",
    "testing = group_CleanJobTitle['occu_text'].agg('count')\n",
    "df_CleanJobTitle = testing.reset_index(level=1, name='occu_count').reset_index()\n",
    "second_gb = df_CleanJobTitle.groupby('CleanJobTitle')\n",
    "second_gb = second_gb['occu_count'].agg('mean').rename('occu_mean')\n",
    "second_gb.head()"
   ]
  },
  {
   "cell_type": "markdown",
   "metadata": {},
   "source": [
    "## ConsolidatedTitle"
   ]
  },
  {
   "cell_type": "code",
   "execution_count": 141,
   "metadata": {},
   "outputs": [
    {
     "data": {
      "text/plain": [
       "ConsolidatedTitle\n",
       ".Net Developer                                     7.666667\n",
       "1St Party Manger, World-Wide Enterprise Devices    4.000000\n",
       "2019 Microsoft Ai Residency Program                3.000000\n",
       "365Dynamics Crm Business Analysis                  1.000000\n",
       "3D Generalist                                      3.000000\n",
       "Name: occu_mean, dtype: float64"
      ]
     },
     "execution_count": 141,
     "metadata": {},
     "output_type": "execute_result"
    }
   ],
   "source": [
    "group_ConsolidatedTitle = df[df['CanonEmployer'] == 'Microsoft Corporation'].groupby(['ConsolidatedTitle', 'occu_text'])\n",
    "testing = group_ConsolidatedTitle['occu_text'].agg('count')\n",
    "df_ConsolidatedTitle = testing.reset_index(level=1, name='occu_count').reset_index()\n",
    "third_gb = df_ConsolidatedTitle.groupby('ConsolidatedTitle')\n",
    "third_gb = third_gb['occu_count'].agg('mean').rename('occu_mean')\n",
    "third_gb.head()"
   ]
  },
  {
   "cell_type": "code",
   "execution_count": 142,
   "metadata": {},
   "outputs": [
    {
     "name": "stdout",
     "output_type": "stream",
     "text": [
      "CPU times: user 1.58 s, sys: 238 ms, total: 1.82 s\n",
      "Wall time: 1.83 s\n"
     ]
    }
   ],
   "source": [
    "%%time\n",
    "\n",
    "writer = pd.ExcelWriter(path_assumptions + 'msft_average_occu_jobs.xlsx', engine='xlsxwriter')\n",
    "\n",
    "# Write each dataframe to a different worksheet.\n",
    "df_CanonJobTitle.to_excel(writer, sheet_name='MSFT_CanonJob', index=False)\n",
    "first_gb.to_excel(writer, sheet_name='MSFT_Avg_CanonJob')\n",
    "\n",
    "df_CleanJobTitle.to_excel(writer, sheet_name='MSFT_CleanJob', index=False)\n",
    "second_gb.to_excel(writer, sheet_name='MSFT_Avg_CleanJob')\n",
    "\n",
    "df_ConsolidatedTitle.to_excel(writer, sheet_name='MSFT_Consolid', index=False)\n",
    "third_gb.to_excel(writer, sheet_name='MSFT_Avg_Consolid')\n",
    "\n",
    "\n",
    "# Close the Pandas Excel writer and output the Excel file.\n",
    "writer.save()"
   ]
  },
  {
   "cell_type": "code",
   "execution_count": null,
   "metadata": {},
   "outputs": [],
   "source": []
  }
 ],
 "metadata": {
  "kernelspec": {
   "display_name": "Python 3",
   "language": "python",
   "name": "python3"
  },
  "language_info": {
   "codemirror_mode": {
    "name": "ipython",
    "version": 3
   },
   "file_extension": ".py",
   "mimetype": "text/x-python",
   "name": "python",
   "nbconvert_exporter": "python",
   "pygments_lexer": "ipython3",
   "version": "3.7.7"
  }
 },
 "nbformat": 4,
 "nbformat_minor": 4
}