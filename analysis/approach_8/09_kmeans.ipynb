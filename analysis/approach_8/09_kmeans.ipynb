{
 "cells": [
  {
   "cell_type": "markdown",
   "metadata": {},
   "source": [
    "# 09 Clustering Specific Companies"
   ]
  },
  {
   "cell_type": "code",
   "execution_count": 1,
   "metadata": {},
   "outputs": [],
   "source": [
    "import dask, dask.dataframe as dd\n",
    "import matplotlib.pyplot as plt\n",
    "import pandas as pd\n",
    "import re, csv, os\n",
    "import numpy as np\n",
    "from typing import List, Union\n",
    "from sklearn.cluster import KMeans\n",
    "from sklearn.feature_extraction.text import CountVectorizer, TfidfVectorizer\n",
    "from sklearn.pipeline import Pipeline\n",
    "from sklearn.model_selection import train_test_split\n",
    "from joblib import parallel_backend\n",
    "# import dask_ml.joblib\n",
    "from dask.distributed import Client\n",
    "import joblib\n",
    "import nltk\n",
    "import concurrent.futures as cf\n",
    "from glob import glob\n",
    "from sklearn.preprocessing import FunctionTransformer\n",
    "\n",
    "\n",
    "pd.set_option('display.max_columns', None)\n",
    "csv.field_size_limit(10000000)\n",
    "\n",
    "%matplotlib inline"
   ]
  },
  {
   "cell_type": "code",
   "execution_count": null,
   "metadata": {},
   "outputs": [],
   "source": [
    "client = Client(processes=False)"
   ]
  },
  {
   "cell_type": "code",
   "execution_count": null,
   "metadata": {},
   "outputs": [],
   "source": [
    "path = '~/Dropbox/Burning Glass/Data/companies_76k/filtered_data_14/'\n",
    "path_out = '~/Dropbox/Burning Glass/Analysis/approach_8'\n",
    "num = 14\n",
    "fil_num = '04'"
   ]
  },
  {
   "cell_type": "code",
   "execution_count": null,
   "metadata": {},
   "outputs": [],
   "source": [
    "col_names = ['JobID', 'CleanJobTitle', 'CanonCity', 'CanonState', 'CanonPostalCode',\n",
    "             'BGTOcc', 'clean_text', 'EmployerClean', 'JobDate']\n",
    "\n",
    "dtypes={'JobID': np.str, 'CanonJobTitle': np.str, 'EmployerClean': np.str,\n",
    "        'CleanJobTitle': np.str, 'CanonCity': np.str, 'CanonCounty': np.str,\n",
    "        'CanonState': np.str, 'ConsolidatedTitle': np.str, 'BGTOcc': np.str,\n",
    "        'JobDate': np.str, 'CanonPostalCode': np.str}"
   ]
  },
  {
   "cell_type": "code",
   "execution_count": null,
   "metadata": {},
   "outputs": [],
   "source": [
    "to_remove = ['Assistant Manager', 'Deputy Manager', 'Manager', 'Senior Manager', 'General Manager', 'Assistant Director',\n",
    "             'Deputy Director', 'Director', 'Senior Director', 'Deputy Vice President', 'Vice President', 'Senior Vice President',\n",
    "             'President', 'Chief']\n",
    "to_remove_low = [word.lower() for word in to_remove]"
   ]
  },
  {
   "cell_type": "code",
   "execution_count": null,
   "metadata": {},
   "outputs": [],
   "source": [
    "def remove_titles(doc):\n",
    "    tokens = nltk.word_tokenize(doc)\n",
    "    filtered_tokens = [token for token in tokens if token not in to_remove_low]\n",
    "    clean = ' '.join(filtered_tokens)\n",
    "    return clean\n",
    "\n",
    "def normalize_doc(doc):\n",
    "    \"\"\"\n",
    "    This function normalizes your list of documents by taking only\n",
    "    words, numbers, and spaces in between them. It then filters out\n",
    "    stop words if you want to.\n",
    "    \"\"\"\n",
    "    doc = re.sub(r'[^a-zA-Z0-9\\s]', '', doc, re.I|re.A)\n",
    "    doc = doc.lower()\n",
    "    doc = doc.strip()\n",
    "    tokens = nltk.word_tokenize(doc)\n",
    "    filtered_tokens = [token for token in tokens]\n",
    "    # filtered_tokens = [token for token in tokens if token not in stop_words]\n",
    "    doc = ' '.join(filtered_tokens)\n",
    "    return doc\n",
    "\n",
    "corp_normalizer = np.vectorize(normalize_doc)"
   ]
  },
  {
   "cell_type": "code",
   "execution_count": null,
   "metadata": {},
   "outputs": [],
   "source": [
    "# files = glob('random_data/rand*.csv')\n",
    "# files[:4]"
   ]
  },
  {
   "cell_type": "code",
   "execution_count": null,
   "metadata": {},
   "outputs": [],
   "source": [
    "# %%time\n",
    "\n",
    "\n",
    "# def get_files(file):\n",
    "#     return pd.read_csv(file, dtype=dtypes, \n",
    "#                      usecols=best_list, parse_dates=['JobDate'], low_memory=False)\n",
    "\n",
    "\n",
    "# with cf.ThreadPoolExecutor() as executor:\n",
    "#     results = executor.map(get_files, files)\n",
    "    \n",
    "# df = pd.concat(results)\n",
    "# df.reset_index(drop=True, inplace=True)\n",
    "# df.head()"
   ]
  },
  {
   "cell_type": "code",
   "execution_count": null,
   "metadata": {},
   "outputs": [],
   "source": [
    "# ddf = dd.read_csv(os.path.join(path, 'da*.csv'), \n",
    "#                  engine='python',\n",
    "#                  dtype=dtypes,\n",
    "#                  assume_missing=True,\n",
    "#                  error_bad_lines=False,\n",
    "#                  blocksize=None,\n",
    "#                  usecols=col_names,\n",
    "#                 )\n",
    "# ddf"
   ]
  },
  {
   "cell_type": "code",
   "execution_count": 6,
   "metadata": {},
   "outputs": [],
   "source": [
    "# ddf1 = ddf.map_partitions(lambda data: data.drop_duplicates(subset='CleanJobTitle'))"
   ]
  },
  {
   "cell_type": "code",
   "execution_count": null,
   "metadata": {},
   "outputs": [],
   "source": [
    "df = pd.read_csv(path + f'data_filtered_{fil_num}.csv', low_memory=False, usecols=col_names, dtype=dtypes).drop_duplicates(subset='CleanJobTitle')\n",
    "df.head()"
   ]
  },
  {
   "cell_type": "code",
   "execution_count": null,
   "metadata": {},
   "outputs": [],
   "source": [
    "%%time\n",
    "\n",
    "X_train, y_test = train_test_split(df, test_size=.2, random_state=42, shuffle=True)\n",
    "\n",
    "X_train_2, y_test_2 = X_train.copy(), y_test.copy()\n",
    "\n",
    "# %%time\n",
    "\n",
    "# X_train_2['CleanJobTitle'] = X_train_2['CleanJobTitle'].str.lower().apply(lambda x: remove_titles(x, to_remove_low))\n",
    "# y_test_2['CleanJobTitle'] = y_test_2['CleanJobTitle'].str.lower().apply(lambda x: remove_titles(x, to_remove_low))\n",
    "# X_train_2.head(10)\n",
    "\n",
    "rm_titles = np.vectorize(remove_titles)\n",
    "X_train_2['CleanJobTitle'] = rm_titles(X_train_2['CleanJobTitle'].str.lower().values)\n",
    "y_test_2['CleanJobTitle'] = rm_titles(y_test_2['CleanJobTitle'].str.lower().values)\n",
    "y_test_2.head()"
   ]
  },
  {
   "cell_type": "code",
   "execution_count": null,
   "metadata": {},
   "outputs": [],
   "source": [
    "preprocessing = Pipeline([\n",
    "    ('normalizer', FunctionTransformer(corp_normalizer)),\n",
    "    ('vect', TfidfVectorizer(ngram_range=(1, 1), min_df=10, max_df=.85))\n",
    "])\n",
    "\n",
    "km_pipe = Pipeline([\n",
    "    ('km', KMeans(n_clusters=500, # how many clusters do we want\n",
    "            max_iter=1000, # reshuffle each centroid x number of times\n",
    "            n_init=15, # that x num of times can be set here\n",
    "            random_state=42,\n",
    "            n_jobs=-1))\n",
    "])\n",
    "\n",
    "pipe = Pipeline([\n",
    "    ('preprocessor', preprocessing),\n",
    "    ('km_model', km_pipe)\n",
    "])\n",
    "\n",
    "##################################################\n",
    "\n",
    "preprocessing2 = Pipeline([\n",
    "    ('normalizer2', FunctionTransformer(corp_normalizer)),\n",
    "    ('vect2', TfidfVectorizer(ngram_range=(1, 1), min_df=10, max_df=.85))\n",
    "])\n",
    "\n",
    "km_pipe2 = Pipeline([\n",
    "    ('km2', KMeans(n_clusters=500, # how many clusters do we want\n",
    "            max_iter=1000, # reshuffle each centroid x number of times\n",
    "            n_init=15, # that x num of times can be set here\n",
    "            random_state=42,\n",
    "            n_jobs=-1))\n",
    "])\n",
    "\n",
    "pipe2 = Pipeline([\n",
    "    ('preprocessor2', preprocessing2),\n",
    "    ('km_model2', km_pipe2)\n",
    "])"
   ]
  },
  {
   "cell_type": "code",
   "execution_count": 10,
   "metadata": {},
   "outputs": [
    {
     "name": "stderr",
     "output_type": "stream",
     "text": [
      "/opt/anaconda3/lib/python3.7/site-packages/sklearn/cluster/_kmeans.py:939: FutureWarning: 'n_jobs' was deprecated in version 0.23 and will be removed in 0.25.\n",
      "  \" removed in 0.25.\", FutureWarning)\n",
      "/opt/anaconda3/lib/python3.7/site-packages/sklearn/cluster/_kmeans.py:939: FutureWarning: 'n_jobs' was deprecated in version 0.23 and will be removed in 0.25.\n",
      "  \" removed in 0.25.\", FutureWarning)\n"
     ]
    },
    {
     "name": "stdout",
     "output_type": "stream",
     "text": [
      "CPU times: user 4min 38s, sys: 14.2 s, total: 4min 52s\n",
      "Wall time: 2min 20s\n"
     ]
    }
   ],
   "source": [
    "%%time\n",
    "\n",
    "with joblib.parallel_backend('dask'):\n",
    "    pipe.fit(X_train['CleanJobTitle'].values)\n",
    "    preprocessed_data = pipe.transform(X_train['CleanJobTitle'].values)\n",
    "    pipe2.fit(X_train_2['CleanJobTitle'].values)\n",
    "    preprocessed_data2 = pipe2.transform(X_train_2['CleanJobTitle'].values)"
   ]
  },
  {
   "cell_type": "markdown",
   "metadata": {},
   "source": [
    "## With Titles"
   ]
  },
  {
   "cell_type": "code",
   "execution_count": 11,
   "metadata": {},
   "outputs": [
    {
     "data": {
      "text/plain": [
       "array([ 91, 484, 346, 248,   5,  79, 345, 419, 426, 203], dtype=int32)"
      ]
     },
     "execution_count": 11,
     "metadata": {},
     "output_type": "execute_result"
    }
   ],
   "source": [
    "pipe['km_model']['km'].labels_[:10]"
   ]
  },
  {
   "cell_type": "code",
   "execution_count": 12,
   "metadata": {},
   "outputs": [
    {
     "name": "stderr",
     "output_type": "stream",
     "text": [
      "/opt/anaconda3/lib/python3.7/site-packages/ipykernel_launcher.py:2: SettingWithCopyWarning: \n",
      "A value is trying to be set on a copy of a slice from a DataFrame.\n",
      "Try using .loc[row_indexer,col_indexer] = value instead\n",
      "\n",
      "See the caveats in the documentation: https://pandas.pydata.org/pandas-docs/stable/user_guide/indexing.html#returning-a-view-versus-a-copy\n",
      "  \n",
      "/opt/anaconda3/lib/python3.7/site-packages/ipykernel_launcher.py:3: SettingWithCopyWarning: \n",
      "A value is trying to be set on a copy of a slice from a DataFrame.\n",
      "Try using .loc[row_indexer,col_indexer] = value instead\n",
      "\n",
      "See the caveats in the documentation: https://pandas.pydata.org/pandas-docs/stable/user_guide/indexing.html#returning-a-view-versus-a-copy\n",
      "  This is separate from the ipykernel package so we can avoid doing imports until\n",
      "/opt/anaconda3/lib/python3.7/site-packages/ipykernel_launcher.py:4: SettingWithCopyWarning: \n",
      "A value is trying to be set on a copy of a slice from a DataFrame.\n",
      "Try using .loc[row_indexer,col_indexer] = value instead\n",
      "\n",
      "See the caveats in the documentation: https://pandas.pydata.org/pandas-docs/stable/user_guide/indexing.html#returning-a-view-versus-a-copy\n",
      "  after removing the cwd from sys.path.\n",
      "/opt/anaconda3/lib/python3.7/site-packages/ipykernel_launcher.py:8: SettingWithCopyWarning: \n",
      "A value is trying to be set on a copy of a slice from a DataFrame.\n",
      "Try using .loc[row_indexer,col_indexer] = value instead\n",
      "\n",
      "See the caveats in the documentation: https://pandas.pydata.org/pandas-docs/stable/user_guide/indexing.html#returning-a-view-versus-a-copy\n",
      "  \n",
      "/opt/anaconda3/lib/python3.7/site-packages/ipykernel_launcher.py:9: SettingWithCopyWarning: \n",
      "A value is trying to be set on a copy of a slice from a DataFrame.\n",
      "Try using .loc[row_indexer,col_indexer] = value instead\n",
      "\n",
      "See the caveats in the documentation: https://pandas.pydata.org/pandas-docs/stable/user_guide/indexing.html#returning-a-view-versus-a-copy\n",
      "  if __name__ == '__main__':\n",
      "/opt/anaconda3/lib/python3.7/site-packages/ipykernel_launcher.py:10: SettingWithCopyWarning: \n",
      "A value is trying to be set on a copy of a slice from a DataFrame.\n",
      "Try using .loc[row_indexer,col_indexer] = value instead\n",
      "\n",
      "See the caveats in the documentation: https://pandas.pydata.org/pandas-docs/stable/user_guide/indexing.html#returning-a-view-versus-a-copy\n",
      "  # Remove the CWD from sys.path while we load stuff.\n"
     ]
    }
   ],
   "source": [
    "clusters = pipe['km_model']['km'].labels_\n",
    "X_train['clusters'] = clusters\n",
    "X_train['distance'] = preprocessed_data.sum(axis=1).round(2)\n",
    "X_train['dist_dummy'] = np.where(X_train['distance'] < np.percentile(X_train['distance'], 5), 1, 0)\n",
    "\n",
    "test_transformed = pipe['preprocessor'].transform(y_test['CleanJobTitle'].values)\n",
    "test_predict = pipe['km_model'].predict(test_transformed)\n",
    "y_test['predictions'] = test_predict\n",
    "y_test['distance'] = test_transformed.sum(axis=1).round(2)\n",
    "y_test['dist_dummy'] = np.where(y_test['distance'] < np.percentile(y_test['distance'], 5), 1, 0)"
   ]
  },
  {
   "cell_type": "markdown",
   "metadata": {},
   "source": [
    "## Without Titles"
   ]
  },
  {
   "cell_type": "code",
   "execution_count": 13,
   "metadata": {},
   "outputs": [
    {
     "data": {
      "text/plain": [
       "array([ 97,  37,  98,  56,  87, 428, 105, 178, 453, 353], dtype=int32)"
      ]
     },
     "execution_count": 13,
     "metadata": {},
     "output_type": "execute_result"
    }
   ],
   "source": [
    "pipe2['km_model2']['km2'].labels_[:10]"
   ]
  },
  {
   "cell_type": "code",
   "execution_count": 14,
   "metadata": {},
   "outputs": [],
   "source": [
    "clusters2 = pipe2['km_model2']['km2'].labels_\n",
    "X_train_2['clusters2'] = clusters2\n",
    "X_train_2['distance2'] = preprocessed_data2.sum(axis=1).round(2)\n",
    "X_train_2['dist_dummy2'] = np.where(X_train_2['distance2'] < np.percentile(X_train_2['distance2'], 5), 1, 0)\n",
    "\n",
    "test_transformed2 = pipe2['preprocessor2'].transform(y_test_2['CleanJobTitle'].values)\n",
    "test_predict2 = pipe2['km_model2'].predict(test_transformed2)\n",
    "y_test_2['predictions2'] = test_predict2\n",
    "y_test_2['distance2'] = test_transformed2.sum(axis=1).round(2)\n",
    "y_test_2['dist_dummy2'] = np.where(y_test_2['distance2'] < np.percentile(y_test_2['distance2'], 5), 1, 0)"
   ]
  },
  {
   "cell_type": "markdown",
   "metadata": {},
   "source": [
    "Back into the main Dataset"
   ]
  },
  {
   "cell_type": "code",
   "execution_count": 15,
   "metadata": {},
   "outputs": [
    {
     "name": "stderr",
     "output_type": "stream",
     "text": [
      "/opt/anaconda3/lib/python3.7/site-packages/ipykernel_launcher.py:1: SettingWithCopyWarning: \n",
      "A value is trying to be set on a copy of a slice from a DataFrame.\n",
      "Try using .loc[row_indexer,col_indexer] = value instead\n",
      "\n",
      "See the caveats in the documentation: https://pandas.pydata.org/pandas-docs/stable/user_guide/indexing.html#returning-a-view-versus-a-copy\n",
      "  \"\"\"Entry point for launching an IPython kernel.\n",
      "/opt/anaconda3/lib/python3.7/site-packages/ipykernel_launcher.py:2: SettingWithCopyWarning: \n",
      "A value is trying to be set on a copy of a slice from a DataFrame.\n",
      "Try using .loc[row_indexer,col_indexer] = value instead\n",
      "\n",
      "See the caveats in the documentation: https://pandas.pydata.org/pandas-docs/stable/user_guide/indexing.html#returning-a-view-versus-a-copy\n",
      "  \n",
      "/opt/anaconda3/lib/python3.7/site-packages/ipykernel_launcher.py:3: SettingWithCopyWarning: \n",
      "A value is trying to be set on a copy of a slice from a DataFrame.\n",
      "Try using .loc[row_indexer,col_indexer] = value instead\n",
      "\n",
      "See the caveats in the documentation: https://pandas.pydata.org/pandas-docs/stable/user_guide/indexing.html#returning-a-view-versus-a-copy\n",
      "  This is separate from the ipykernel package so we can avoid doing imports until\n",
      "/opt/anaconda3/lib/python3.7/site-packages/ipykernel_launcher.py:5: SettingWithCopyWarning: \n",
      "A value is trying to be set on a copy of a slice from a DataFrame.\n",
      "Try using .loc[row_indexer,col_indexer] = value instead\n",
      "\n",
      "See the caveats in the documentation: https://pandas.pydata.org/pandas-docs/stable/user_guide/indexing.html#returning-a-view-versus-a-copy\n",
      "  \"\"\"\n",
      "/opt/anaconda3/lib/python3.7/site-packages/ipykernel_launcher.py:6: SettingWithCopyWarning: \n",
      "A value is trying to be set on a copy of a slice from a DataFrame.\n",
      "Try using .loc[row_indexer,col_indexer] = value instead\n",
      "\n",
      "See the caveats in the documentation: https://pandas.pydata.org/pandas-docs/stable/user_guide/indexing.html#returning-a-view-versus-a-copy\n",
      "  \n",
      "/opt/anaconda3/lib/python3.7/site-packages/ipykernel_launcher.py:7: SettingWithCopyWarning: \n",
      "A value is trying to be set on a copy of a slice from a DataFrame.\n",
      "Try using .loc[row_indexer,col_indexer] = value instead\n",
      "\n",
      "See the caveats in the documentation: https://pandas.pydata.org/pandas-docs/stable/user_guide/indexing.html#returning-a-view-versus-a-copy\n",
      "  import sys\n"
     ]
    }
   ],
   "source": [
    "X_train['clusters2'] = clusters2\n",
    "X_train['distance2'] = preprocessed_data2.sum(axis=1).round(2)\n",
    "X_train['dist_dummy2'] = np.where(X_train_2['distance2'] < np.percentile(X_train_2['distance2'], 5), 1, 0)\n",
    "\n",
    "y_test['predictions2'] = test_predict2\n",
    "y_test['distance2'] = test_transformed2.sum(axis=1).round(2)\n",
    "y_test['dist_dummy2'] = np.where(y_test_2['distance2'] < np.percentile(y_test_2['distance2'], 5), 1, 0)"
   ]
  },
  {
   "cell_type": "code",
   "execution_count": 16,
   "metadata": {},
   "outputs": [
    {
     "data": {
      "text/html": [
       "<div>\n",
       "<style scoped>\n",
       "    .dataframe tbody tr th:only-of-type {\n",
       "        vertical-align: middle;\n",
       "    }\n",
       "\n",
       "    .dataframe tbody tr th {\n",
       "        vertical-align: top;\n",
       "    }\n",
       "\n",
       "    .dataframe thead th {\n",
       "        text-align: right;\n",
       "    }\n",
       "</style>\n",
       "<table border=\"1\" class=\"dataframe\">\n",
       "  <thead>\n",
       "    <tr style=\"text-align: right;\">\n",
       "      <th></th>\n",
       "      <th>CanonCity</th>\n",
       "      <th>CanonState</th>\n",
       "      <th>CleanJobTitle</th>\n",
       "      <th>JobDate</th>\n",
       "      <th>JobID</th>\n",
       "      <th>CanonPostalCode</th>\n",
       "      <th>BGTOcc</th>\n",
       "      <th>EmployerClean</th>\n",
       "      <th>clean_text</th>\n",
       "      <th>clusters</th>\n",
       "      <th>distance</th>\n",
       "      <th>dist_dummy</th>\n",
       "      <th>clusters2</th>\n",
       "      <th>distance2</th>\n",
       "      <th>dist_dummy2</th>\n",
       "    </tr>\n",
       "  </thead>\n",
       "  <tbody>\n",
       "    <tr>\n",
       "      <th>825</th>\n",
       "      <td>La Crosse</td>\n",
       "      <td>WI</td>\n",
       "      <td>Garden Shop/Seasonal Lead</td>\n",
       "      <td>2014-01-30</td>\n",
       "      <td>425388452</td>\n",
       "      <td>54601</td>\n",
       "      <td>41-2031.00</td>\n",
       "      <td>Sears</td>\n",
       "      <td>Garden Shop/Seasonal Lead job in LA CROSSE\\n\\n...</td>\n",
       "      <td>91</td>\n",
       "      <td>629.13</td>\n",
       "      <td>0</td>\n",
       "      <td>97</td>\n",
       "      <td>629.59</td>\n",
       "      <td>0</td>\n",
       "    </tr>\n",
       "    <tr>\n",
       "      <th>345</th>\n",
       "      <td>Atlanta</td>\n",
       "      <td>GA</td>\n",
       "      <td>Drupal Developer</td>\n",
       "      <td>2014-02-03</td>\n",
       "      <td>425346420</td>\n",
       "      <td>30301</td>\n",
       "      <td>15-1134.92</td>\n",
       "      <td>Saviance Technologies</td>\n",
       "      <td>Company: saviance Technologies\\nJob Title: Dru...</td>\n",
       "      <td>484</td>\n",
       "      <td>626.85</td>\n",
       "      <td>0</td>\n",
       "      <td>37</td>\n",
       "      <td>627.37</td>\n",
       "      <td>0</td>\n",
       "    </tr>\n",
       "    <tr>\n",
       "      <th>10783</th>\n",
       "      <td>Arlington</td>\n",
       "      <td>TX</td>\n",
       "      <td>Surgical Services Technician Prn, Park Surgery...</td>\n",
       "      <td>2014-02-01</td>\n",
       "      <td>425784967</td>\n",
       "      <td>76001</td>\n",
       "      <td>29-2055.00</td>\n",
       "      <td>Hospital Corporation of America</td>\n",
       "      <td>Surgical Services Tech PRN, Trinity Park Surge...</td>\n",
       "      <td>346</td>\n",
       "      <td>622.27</td>\n",
       "      <td>0</td>\n",
       "      <td>98</td>\n",
       "      <td>622.29</td>\n",
       "      <td>0</td>\n",
       "    </tr>\n",
       "    <tr>\n",
       "      <th>29333</th>\n",
       "      <td>Everett</td>\n",
       "      <td>WA</td>\n",
       "      <td>Regional Director, Accountable Care &amp; Transformat</td>\n",
       "      <td>2014-02-05</td>\n",
       "      <td>425924784</td>\n",
       "      <td>98201</td>\n",
       "      <td>11-2022.00</td>\n",
       "      <td>Providence Health &amp; Services</td>\n",
       "      <td>* Medical/Healthcare\\n* Providence Health &amp; Se...</td>\n",
       "      <td>248</td>\n",
       "      <td>623.40</td>\n",
       "      <td>0</td>\n",
       "      <td>56</td>\n",
       "      <td>626.04</td>\n",
       "      <td>0</td>\n",
       "    </tr>\n",
       "    <tr>\n",
       "      <th>3523</th>\n",
       "      <td>Maywood</td>\n",
       "      <td>IL</td>\n",
       "      <td>10028 Registered Nurse</td>\n",
       "      <td>2014-01-31</td>\n",
       "      <td>425480440</td>\n",
       "      <td>60153</td>\n",
       "      <td>29-1141.00</td>\n",
       "      <td>Loyola Medicine</td>\n",
       "      <td>10028 REGISTERED NURSE 0803\\n\\nCompany: Loyola...</td>\n",
       "      <td>5</td>\n",
       "      <td>614.33</td>\n",
       "      <td>1</td>\n",
       "      <td>87</td>\n",
       "      <td>611.51</td>\n",
       "      <td>1</td>\n",
       "    </tr>\n",
       "  </tbody>\n",
       "</table>\n",
       "</div>"
      ],
      "text/plain": [
       "       CanonCity CanonState  \\\n",
       "825    La Crosse         WI   \n",
       "345      Atlanta         GA   \n",
       "10783  Arlington         TX   \n",
       "29333    Everett         WA   \n",
       "3523     Maywood         IL   \n",
       "\n",
       "                                           CleanJobTitle     JobDate  \\\n",
       "825                            Garden Shop/Seasonal Lead  2014-01-30   \n",
       "345                                     Drupal Developer  2014-02-03   \n",
       "10783  Surgical Services Technician Prn, Park Surgery...  2014-02-01   \n",
       "29333  Regional Director, Accountable Care & Transformat  2014-02-05   \n",
       "3523                              10028 Registered Nurse  2014-01-31   \n",
       "\n",
       "           JobID CanonPostalCode      BGTOcc                    EmployerClean  \\\n",
       "825    425388452           54601  41-2031.00                            Sears   \n",
       "345    425346420           30301  15-1134.92            Saviance Technologies   \n",
       "10783  425784967           76001  29-2055.00  Hospital Corporation of America   \n",
       "29333  425924784           98201  11-2022.00     Providence Health & Services   \n",
       "3523   425480440           60153  29-1141.00                  Loyola Medicine   \n",
       "\n",
       "                                              clean_text  clusters  distance  \\\n",
       "825    Garden Shop/Seasonal Lead job in LA CROSSE\\n\\n...        91    629.13   \n",
       "345    Company: saviance Technologies\\nJob Title: Dru...       484    626.85   \n",
       "10783  Surgical Services Tech PRN, Trinity Park Surge...       346    622.27   \n",
       "29333  * Medical/Healthcare\\n* Providence Health & Se...       248    623.40   \n",
       "3523   10028 REGISTERED NURSE 0803\\n\\nCompany: Loyola...         5    614.33   \n",
       "\n",
       "       dist_dummy  clusters2  distance2  dist_dummy2  \n",
       "825             0         97     629.59            0  \n",
       "345             0         37     627.37            0  \n",
       "10783           0         98     622.29            0  \n",
       "29333           0         56     626.04            0  \n",
       "3523            1         87     611.51            1  "
      ]
     },
     "execution_count": 16,
     "metadata": {},
     "output_type": "execute_result"
    }
   ],
   "source": [
    "X_train.head()"
   ]
  },
  {
   "cell_type": "code",
   "execution_count": 17,
   "metadata": {},
   "outputs": [
    {
     "data": {
      "text/html": [
       "<div>\n",
       "<style scoped>\n",
       "    .dataframe tbody tr th:only-of-type {\n",
       "        vertical-align: middle;\n",
       "    }\n",
       "\n",
       "    .dataframe tbody tr th {\n",
       "        vertical-align: top;\n",
       "    }\n",
       "\n",
       "    .dataframe thead th {\n",
       "        text-align: right;\n",
       "    }\n",
       "</style>\n",
       "<table border=\"1\" class=\"dataframe\">\n",
       "  <thead>\n",
       "    <tr style=\"text-align: right;\">\n",
       "      <th></th>\n",
       "      <th>CanonCity</th>\n",
       "      <th>CanonState</th>\n",
       "      <th>CleanJobTitle</th>\n",
       "      <th>JobDate</th>\n",
       "      <th>JobID</th>\n",
       "      <th>CanonPostalCode</th>\n",
       "      <th>BGTOcc</th>\n",
       "      <th>EmployerClean</th>\n",
       "      <th>clean_text</th>\n",
       "      <th>predictions</th>\n",
       "      <th>distance</th>\n",
       "      <th>dist_dummy</th>\n",
       "      <th>predictions2</th>\n",
       "      <th>distance2</th>\n",
       "      <th>dist_dummy2</th>\n",
       "    </tr>\n",
       "  </thead>\n",
       "  <tbody>\n",
       "    <tr>\n",
       "      <th>19978</th>\n",
       "      <td>Orlando</td>\n",
       "      <td>FL</td>\n",
       "      <td>Fuel Island Attendant Wtih Cdl Licensed, Pm</td>\n",
       "      <td>2014-02-04</td>\n",
       "      <td>426380066</td>\n",
       "      <td>32801</td>\n",
       "      <td>53-6031.00</td>\n",
       "      <td>Publix</td>\n",
       "      <td>Position Description\\n\\n performing a number o...</td>\n",
       "      <td>402</td>\n",
       "      <td>1.99</td>\n",
       "      <td>0</td>\n",
       "      <td>102</td>\n",
       "      <td>1.99</td>\n",
       "      <td>0</td>\n",
       "    </tr>\n",
       "    <tr>\n",
       "      <th>27491</th>\n",
       "      <td>Naperville</td>\n",
       "      <td>IL</td>\n",
       "      <td>Sales Manager - , Ilin</td>\n",
       "      <td>2014-02-06</td>\n",
       "      <td>425767881</td>\n",
       "      <td>60540</td>\n",
       "      <td>11-2022.00</td>\n",
       "      <td>Rent-A-Center</td>\n",
       "      <td>Sales Manager - #9448 - Naperville, IL\\nin NAP...</td>\n",
       "      <td>179</td>\n",
       "      <td>1.41</td>\n",
       "      <td>0</td>\n",
       "      <td>84</td>\n",
       "      <td>1.00</td>\n",
       "      <td>0</td>\n",
       "    </tr>\n",
       "    <tr>\n",
       "      <th>2774</th>\n",
       "      <td>Medford</td>\n",
       "      <td>OR</td>\n",
       "      <td>Polysomnographic Technologist</td>\n",
       "      <td>2014-02-01</td>\n",
       "      <td>425451603</td>\n",
       "      <td>97501</td>\n",
       "      <td>29-2032.00</td>\n",
       "      <td>Providence Health &amp; Services</td>\n",
       "      <td>Posted: 2014-01-28 8:52am\\n\\nPolysomnographic ...</td>\n",
       "      <td>118</td>\n",
       "      <td>1.00</td>\n",
       "      <td>0</td>\n",
       "      <td>332</td>\n",
       "      <td>1.00</td>\n",
       "      <td>0</td>\n",
       "    </tr>\n",
       "    <tr>\n",
       "      <th>4270</th>\n",
       "      <td>Provo</td>\n",
       "      <td>UT</td>\n",
       "      <td>Patient Service Representative - Prov</td>\n",
       "      <td>2014-02-02</td>\n",
       "      <td>425504775</td>\n",
       "      <td>84601</td>\n",
       "      <td>43-4051.03</td>\n",
       "      <td>Intermountain Healthcare</td>\n",
       "      <td>Patient Service Representative - (part-time) P...</td>\n",
       "      <td>25</td>\n",
       "      <td>1.73</td>\n",
       "      <td>0</td>\n",
       "      <td>209</td>\n",
       "      <td>1.73</td>\n",
       "      <td>0</td>\n",
       "    </tr>\n",
       "    <tr>\n",
       "      <th>15787</th>\n",
       "      <td>Grand Forks</td>\n",
       "      <td>ND</td>\n",
       "      <td>Senior Leasing Consultant</td>\n",
       "      <td>2014-02-03</td>\n",
       "      <td>426103684</td>\n",
       "      <td>58201</td>\n",
       "      <td>41-9021.00</td>\n",
       "      <td>Campus Crest</td>\n",
       "      <td>Campus Crest Senior Leasing Consultant in Gran...</td>\n",
       "      <td>82</td>\n",
       "      <td>1.66</td>\n",
       "      <td>0</td>\n",
       "      <td>168</td>\n",
       "      <td>1.66</td>\n",
       "      <td>0</td>\n",
       "    </tr>\n",
       "  </tbody>\n",
       "</table>\n",
       "</div>"
      ],
      "text/plain": [
       "         CanonCity CanonState                                CleanJobTitle  \\\n",
       "19978      Orlando         FL  Fuel Island Attendant Wtih Cdl Licensed, Pm   \n",
       "27491   Naperville         IL                       Sales Manager - , Ilin   \n",
       "2774       Medford         OR                Polysomnographic Technologist   \n",
       "4270         Provo         UT        Patient Service Representative - Prov   \n",
       "15787  Grand Forks         ND                    Senior Leasing Consultant   \n",
       "\n",
       "          JobDate      JobID CanonPostalCode      BGTOcc  \\\n",
       "19978  2014-02-04  426380066           32801  53-6031.00   \n",
       "27491  2014-02-06  425767881           60540  11-2022.00   \n",
       "2774   2014-02-01  425451603           97501  29-2032.00   \n",
       "4270   2014-02-02  425504775           84601  43-4051.03   \n",
       "15787  2014-02-03  426103684           58201  41-9021.00   \n",
       "\n",
       "                      EmployerClean  \\\n",
       "19978                        Publix   \n",
       "27491                 Rent-A-Center   \n",
       "2774   Providence Health & Services   \n",
       "4270       Intermountain Healthcare   \n",
       "15787                  Campus Crest   \n",
       "\n",
       "                                              clean_text  predictions  \\\n",
       "19978  Position Description\\n\\n performing a number o...          402   \n",
       "27491  Sales Manager - #9448 - Naperville, IL\\nin NAP...          179   \n",
       "2774   Posted: 2014-01-28 8:52am\\n\\nPolysomnographic ...          118   \n",
       "4270   Patient Service Representative - (part-time) P...           25   \n",
       "15787  Campus Crest Senior Leasing Consultant in Gran...           82   \n",
       "\n",
       "       distance  dist_dummy  predictions2  distance2  dist_dummy2  \n",
       "19978      1.99           0           102       1.99            0  \n",
       "27491      1.41           0            84       1.00            0  \n",
       "2774       1.00           0           332       1.00            0  \n",
       "4270       1.73           0           209       1.73            0  \n",
       "15787      1.66           0           168       1.66            0  "
      ]
     },
     "execution_count": 17,
     "metadata": {},
     "output_type": "execute_result"
    }
   ],
   "source": [
    "y_test.head()"
   ]
  },
  {
   "cell_type": "markdown",
   "metadata": {},
   "source": [
    "Save Trained Pipelines"
   ]
  },
  {
   "cell_type": "code",
   "execution_count": 18,
   "metadata": {},
   "outputs": [],
   "source": [
    "joblib.dump(pipe, f'models/titles_500c_pipe_{num}.pkl');\n",
    "joblib.dump(pipe2, f'models/no_titles_500c_pipe_{num}.pkl');"
   ]
  },
  {
   "cell_type": "code",
   "execution_count": 19,
   "metadata": {},
   "outputs": [
    {
     "name": "stdout",
     "output_type": "stream",
     "text": [
      "CPU times: user 4.82 s, sys: 555 ms, total: 5.38 s\n",
      "Wall time: 5.72 s\n"
     ]
    }
   ],
   "source": [
    "%%time\n",
    "\n",
    "X_train.to_csv(path_out + '/clustering' + f'/train_titles_in_500c_{num}.csv', index=False)\n",
    "y_test.to_csv(path_out + '/clustering' + f'/test_titles_in_500c_{num}.csv', index=False)\n",
    "X_train_2.to_csv(path_out + '/clustering' + f'/train_titles_out_500c_{num}.csv', index=False)\n",
    "y_test_2.to_csv(path_out + '/clustering' + f'/test_titles_out_500c_{num}.csv', index=False)"
   ]
  },
  {
   "cell_type": "code",
   "execution_count": null,
   "metadata": {},
   "outputs": [],
   "source": []
  },
  {
   "cell_type": "code",
   "execution_count": null,
   "metadata": {},
   "outputs": [],
   "source": []
  },
  {
   "cell_type": "code",
   "execution_count": null,
   "metadata": {},
   "outputs": [],
   "source": [
    "pcadf = pd.DataFrame(\n",
    "    pipe[\"preprocessor\"].transform(data),\n",
    "    columns=[\"component_1\", \"component_2\"],\n",
    ")\n",
    "\n",
    "pcadf[\"predicted_cluster\"] = pipe[\"clusterer\"][\"kmeans\"].labels_\n",
    "pcadf[\"true_label\"] = label_encoder.inverse_transform(true_labels)\n",
    "\n",
    "\n",
    "\n",
    "plt.style.use(\"fivethirtyeight\")\n",
    "plt.figure(figsize=(8, 8))\n",
    "\n",
    "scat = sns.scatterplot(\n",
    "    \"component_1\",\n",
    "    \"component_2\",\n",
    "    s=50,\n",
    "    data=pcadf,\n",
    "    hue=\"predicted_cluster\",\n",
    "    style=\"true_label\",\n",
    "    palette=\"Set2\",\n",
    ")\n",
    "\n",
    "scat.set_title(\n",
    "    \"Clustering results from TCGA Pan-Cancer\\nGene Expression Data\"\n",
    ")\n",
    "plt.legend(bbox_to_anchor=(1.05, 1), loc=2, borderaxespad=0.0)\n",
    "\n",
    "plt.show()"
   ]
  }
 ],
 "metadata": {
  "kernelspec": {
   "display_name": "Python 3",
   "language": "python",
   "name": "python3"
  },
  "language_info": {
   "codemirror_mode": {
    "name": "ipython",
    "version": 3
   },
   "file_extension": ".py",
   "mimetype": "text/x-python",
   "name": "python",
   "nbconvert_exporter": "python",
   "pygments_lexer": "ipython3",
   "version": "3.7.7"
  }
 },
 "nbformat": 4,
 "nbformat_minor": 4
}
