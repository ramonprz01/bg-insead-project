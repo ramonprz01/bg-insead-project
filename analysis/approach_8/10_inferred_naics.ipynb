{
 "cells": [
  {
   "cell_type": "markdown",
   "metadata": {},
   "source": [
    "# Small Dataset based on 76K Companies and their Inferred NAICS Code"
   ]
  },
  {
   "cell_type": "code",
   "execution_count": null,
   "metadata": {},
   "outputs": [],
   "source": [
    "import pandas as pd\n",
    "import os\n",
    "import numpy as np\n",
    "import concurrent.futures as cf\n",
    "from glob import glob\n",
    "\n",
    "\n",
    "pd.set_option('display.max_columns', None)"
   ]
  },
  {
   "cell_type": "code",
   "execution_count": null,
   "metadata": {},
   "outputs": [],
   "source": [
    "path = '~/Dropbox/Burning Glass/Data/companies_76k/filtered_data_07/'\n",
    "path_out = '~/Dropbox/Burning Glass/Analysis/approach_8'"
   ]
  },
  {
   "cell_type": "code",
   "execution_count": null,
   "metadata": {},
   "outputs": [],
   "source": [
    "col_names = ['EmployerClean', 'JobDate', 'ConsolidatedInferredNAICS']\n",
    "\n",
    "dtypes={'ConsolidatedInferredNAICS': np.str, 'EmployerClean': np.str, 'JobDate': np.str}"
   ]
  },
  {
   "cell_type": "code",
   "execution_count": null,
   "metadata": {},
   "outputs": [],
   "source": [
    "files = glob(os.path.join(path, 'fil*', '*.csv'))\n",
    "len(files), files[:5]"
   ]
  },
  {
   "cell_type": "code",
   "execution_count": null,
   "metadata": {},
   "outputs": [],
   "source": [
    "%%time\n",
    "\n",
    "\n",
    "def get_files(file):\n",
    "    return pd.read_csv(file, usecols=col_names, dtype=dtypes, low_memory=False)\n",
    "\n",
    "\n",
    "with cf.ProcessPoolExecutor() as executor:\n",
    "    results = executor.map(get_files, files)\n",
    "    \n",
    "df = pd.concat(results)\n",
    "df.reset_index(drop=True, inplace=True)\n",
    "df.head()"
   ]
  },
  {
   "cell_type": "code",
   "execution_count": null,
   "metadata": {},
   "outputs": [],
   "source": [
    "ddf['EmployerClean'].nunique()"
   ]
  },
  {
   "cell_type": "code",
   "execution_count": null,
   "metadata": {},
   "outputs": [],
   "source": [
    "grouped_df = ddf.groupby(['EmployerClean', 'ConsolidatedInferredNAICS'])['JobDate'].count()\n",
    "grouped_df.head()"
   ]
  },
  {
   "cell_type": "code",
   "execution_count": null,
   "metadata": {},
   "outputs": [],
   "source": [
    "grouped_df.shape"
   ]
  },
  {
   "cell_type": "code",
   "execution_count": null,
   "metadata": {},
   "outputs": [],
   "source": [
    "df = grouped_df.reset_index().drop('JobDate', axis=1)\n",
    "\n",
    "df['langth_of_words'] = df['ConsolidatedInferredNAICS'].apply(lambda x: len(x))\n",
    "df = df.sort_values(by=['EmployerClean', 'langth_of_words'], ascending=False)\n",
    "\n",
    "unk_mask = (df['ConsolidatedInferredNAICS'] == 'Unknown')\n",
    "series_unknown = df[unk_mask].copy()\n",
    "df_no_unk = df[~unk_mask].copy()\n",
    "\n",
    "series_unknown = series_unknown.drop_duplicates('EmployerClean')\n",
    "df_no_unk = df_no_unk.drop_duplicates('EmployerClean')\n",
    "\n",
    "\n",
    "df_w_unk = pd.concat([df_no_unk, series_unknown], ignore_index=True)\n",
    "\n",
    "df_w_unk = df_w_unk.drop_duplicates('EmployerClean')\n",
    "\n",
    "\n",
    "df_w_unk.shape"
   ]
  },
  {
   "cell_type": "code",
   "execution_count": null,
   "metadata": {},
   "outputs": [],
   "source": [
    "df_w_unk.head(20)"
   ]
  },
  {
   "cell_type": "code",
   "execution_count": null,
   "metadata": {},
   "outputs": [],
   "source": [
    "df_w_unk.to_csv()"
   ]
  }
 ],
 "metadata": {
  "kernelspec": {
   "display_name": "Python 3",
   "language": "python",
   "name": "python3"
  },
  "language_info": {
   "codemirror_mode": {
    "name": "ipython",
    "version": 3
   },
   "file_extension": ".py",
   "mimetype": "text/x-python",
   "name": "python",
   "nbconvert_exporter": "python",
   "pygments_lexer": "ipython3",
   "version": "3.7.7"
  }
 },
 "nbformat": 4,
 "nbformat_minor": 4
}
