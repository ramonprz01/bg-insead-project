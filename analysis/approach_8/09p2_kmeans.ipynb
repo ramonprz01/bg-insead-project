{
 "cells": [
  {
   "cell_type": "markdown",
   "metadata": {},
   "source": [
    "# 09 Clustering Specific Companies"
   ]
  },
  {
   "cell_type": "code",
   "execution_count": 8,
   "metadata": {},
   "outputs": [],
   "source": [
    "import matplotlib.pyplot as plt\n",
    "import pandas as pd\n",
    "import re, csv, os\n",
    "import numpy as np\n",
    "from sklearn.cluster import KMeans\n",
    "from sklearn.feature_extraction.text import CountVectorizer, TfidfVectorizer\n",
    "from sklearn.pipeline import Pipeline\n",
    "from sklearn.model_selection import train_test_split\n",
    "from joblib import parallel_backend\n",
    "from dask.distributed import Client\n",
    "import joblib\n",
    "import nltk\n",
    "import concurrent.futures as cf\n",
    "from glob import glob\n",
    "from sklearn.preprocessing import FunctionTransformer\n",
    "\n",
    "\n",
    "pd.set_option('display.max_columns', None)\n",
    "csv.field_size_limit(10000000)\n",
    "\n",
    "%matplotlib inline"
   ]
  },
  {
   "cell_type": "code",
   "execution_count": 27,
   "metadata": {},
   "outputs": [],
   "source": [
    "client = Client(processes=False)"
   ]
  },
  {
   "cell_type": "code",
   "execution_count": 10,
   "metadata": {},
   "outputs": [],
   "source": [
    "path = 'filtered_data'\n",
    "path_out = 'results'"
   ]
  },
  {
   "cell_type": "code",
   "execution_count": 11,
   "metadata": {},
   "outputs": [],
   "source": [
    "col_names = ['JobID', 'CleanJobTitle', 'CanonCity', 'CanonState', 'CanonPostalCode',\n",
    "             'BGTOcc', 'clean_text', 'EmployerClean', 'JobDate']\n",
    "\n",
    "dtypes={'JobID': np.str, 'CanonJobTitle': np.str, 'EmployerClean': np.str,\n",
    "        'CleanJobTitle': np.str, 'CanonCity': np.str, 'CanonCounty': np.str,\n",
    "        'CanonState': np.str, 'ConsolidatedTitle': np.str, 'BGTOcc': np.str,\n",
    "        'JobDate': np.str, 'CanonPostalCode': np.str}"
   ]
  },
  {
   "cell_type": "code",
   "execution_count": 12,
   "metadata": {},
   "outputs": [],
   "source": [
    "to_remove = ['Assistant Manager', 'Deputy Manager', 'Manager', 'Senior Manager', 'General Manager', 'Assistant Director',\n",
    "             'Deputy Director', 'Director', 'Senior Director', 'Deputy Vice President', 'Vice President', 'Senior Vice President',\n",
    "             'President', 'Chief']\n",
    "to_remove_low = [word.lower() for word in to_remove]"
   ]
  },
  {
   "cell_type": "code",
   "execution_count": 13,
   "metadata": {},
   "outputs": [],
   "source": [
    "def remove_titles(doc):\n",
    "    tokens = nltk.word_tokenize(doc)\n",
    "    filtered_tokens = [token for token in tokens if token not in to_remove_low]\n",
    "    clean = ' '.join(filtered_tokens)\n",
    "    return clean\n",
    "\n",
    "def normalize_doc(doc):\n",
    "    \"\"\"\n",
    "    This function normalizes your list of documents by taking only\n",
    "    words, numbers, and spaces in between them. It then filters out\n",
    "    stop words if you want to.\n",
    "    \"\"\"\n",
    "    doc = re.sub(r'[^a-zA-Z0-9\\s]', '', doc, re.I|re.A)\n",
    "    doc = doc.lower()\n",
    "    doc = doc.strip()\n",
    "    tokens = nltk.word_tokenize(doc)\n",
    "    filtered_tokens = [token for token in tokens]\n",
    "    # filtered_tokens = [token for token in tokens if token not in stop_words]\n",
    "    doc = ' '.join(filtered_tokens)\n",
    "    return doc\n",
    "\n",
    "corp_normalizer = np.vectorize(normalize_doc)"
   ]
  },
  {
   "cell_type": "code",
   "execution_count": 15,
   "metadata": {},
   "outputs": [
    {
     "data": {
      "text/plain": [
       "['filtered_data/filtered_data_11/data_filtered_32.csv',\n",
       " 'filtered_data/filtered_data_11/data_filtered_25.csv',\n",
       " 'filtered_data/filtered_data_11/data_filtered_02.csv',\n",
       " 'filtered_data/filtered_data_11/data_filtered_41.csv',\n",
       " 'filtered_data/filtered_data_11/data_filtered_42.csv',\n",
       " 'filtered_data/filtered_data_11/data_filtered_44.csv',\n",
       " 'filtered_data/filtered_data_11/data_filtered_47.csv',\n",
       " 'filtered_data/filtered_data_11/data_filtered_19.csv',\n",
       " 'filtered_data/filtered_data_11/data_filtered_15.csv',\n",
       " 'filtered_data/filtered_data_11/data_filtered_46.csv']"
      ]
     },
     "execution_count": 15,
     "metadata": {},
     "output_type": "execute_result"
    }
   ],
   "source": [
    "files = glob(os.path.join(path, 'fil*', '*.csv'))\n",
    "files[:10]"
   ]
  },
  {
   "cell_type": "code",
   "execution_count": 17,
   "metadata": {},
   "outputs": [
    {
     "name": "stdout",
     "output_type": "stream",
     "text": [
      "CPU times: user 1min 15s, sys: 4min 28s, total: 5min 44s\n",
      "Wall time: 10min 28s\n"
     ]
    },
    {
     "data": {
      "text/html": [
       "<div>\n",
       "<style scoped>\n",
       "    .dataframe tbody tr th:only-of-type {\n",
       "        vertical-align: middle;\n",
       "    }\n",
       "\n",
       "    .dataframe tbody tr th {\n",
       "        vertical-align: top;\n",
       "    }\n",
       "\n",
       "    .dataframe thead th {\n",
       "        text-align: right;\n",
       "    }\n",
       "</style>\n",
       "<table border=\"1\" class=\"dataframe\">\n",
       "  <thead>\n",
       "    <tr style=\"text-align: right;\">\n",
       "      <th></th>\n",
       "      <th>CanonCity</th>\n",
       "      <th>CanonState</th>\n",
       "      <th>CleanJobTitle</th>\n",
       "      <th>JobDate</th>\n",
       "      <th>JobID</th>\n",
       "      <th>CanonPostalCode</th>\n",
       "      <th>BGTOcc</th>\n",
       "      <th>EmployerClean</th>\n",
       "      <th>clean_text</th>\n",
       "    </tr>\n",
       "  </thead>\n",
       "  <tbody>\n",
       "    <tr>\n",
       "      <th>0</th>\n",
       "      <td>Arlington</td>\n",
       "      <td>TX</td>\n",
       "      <td>Nurse Extern - Subacute Intensive Care Unit - Pt</td>\n",
       "      <td>2011-08-23</td>\n",
       "      <td>280985108</td>\n",
       "      <td>10483</td>\n",
       "      <td>29-1141.03</td>\n",
       "      <td>Texas Health Resources</td>\n",
       "      <td>to access account status,  saved documents and...</td>\n",
       "    </tr>\n",
       "    <tr>\n",
       "      <th>1</th>\n",
       "      <td>Boca Raton</td>\n",
       "      <td>FL</td>\n",
       "      <td>Shift Leader 10 Park Road</td>\n",
       "      <td>2011-08-26</td>\n",
       "      <td>282733305</td>\n",
       "      <td>-32105</td>\n",
       "      <td>41-1011.00</td>\n",
       "      <td>Blockbuster Inc.</td>\n",
       "      <td>Job: IRC34902 Attention: This site does not su...</td>\n",
       "    </tr>\n",
       "    <tr>\n",
       "      <th>2</th>\n",
       "      <td>Clearwater</td>\n",
       "      <td>FL</td>\n",
       "      <td>Home Health Aide/Contract</td>\n",
       "      <td>2011-08-26</td>\n",
       "      <td>277546261</td>\n",
       "      <td>-31780</td>\n",
       "      <td>31-1011.00</td>\n",
       "      <td>Baycare Health System</td>\n",
       "      <td>Go to the main content section. Welcome. You a...</td>\n",
       "    </tr>\n",
       "    <tr>\n",
       "      <th>3</th>\n",
       "      <td>Eugene</td>\n",
       "      <td>OR</td>\n",
       "      <td>Pulp &amp; Paper Engineer</td>\n",
       "      <td>2011-08-26</td>\n",
       "      <td>283794957</td>\n",
       "      <td>31872</td>\n",
       "      <td>17-2141.00</td>\n",
       "      <td>Evergreen Engineering</td>\n",
       "      <td>Ads by Google Pulp &amp; Paper Engineer Apply Now ...</td>\n",
       "    </tr>\n",
       "    <tr>\n",
       "      <th>4</th>\n",
       "      <td>Richardson</td>\n",
       "      <td>TX</td>\n",
       "      <td>Pharmacy Service Associate Psa</td>\n",
       "      <td>2011-08-20</td>\n",
       "      <td>288751877</td>\n",
       "      <td>9544</td>\n",
       "      <td>41-2031.00</td>\n",
       "      <td>CVS Health</td>\n",
       "      <td>Pharmacy Service Associate (PSA) - As the firs...</td>\n",
       "    </tr>\n",
       "  </tbody>\n",
       "</table>\n",
       "</div>"
      ],
      "text/plain": [
       "    CanonCity CanonState                                     CleanJobTitle  \\\n",
       "0   Arlington         TX  Nurse Extern - Subacute Intensive Care Unit - Pt   \n",
       "1  Boca Raton         FL                         Shift Leader 10 Park Road   \n",
       "2  Clearwater         FL                         Home Health Aide/Contract   \n",
       "3      Eugene         OR                             Pulp & Paper Engineer   \n",
       "4  Richardson         TX                    Pharmacy Service Associate Psa   \n",
       "\n",
       "     JobDate      JobID CanonPostalCode      BGTOcc           EmployerClean  \\\n",
       "0 2011-08-23  280985108           10483  29-1141.03  Texas Health Resources   \n",
       "1 2011-08-26  282733305          -32105  41-1011.00        Blockbuster Inc.   \n",
       "2 2011-08-26  277546261          -31780  31-1011.00   Baycare Health System   \n",
       "3 2011-08-26  283794957           31872  17-2141.00   Evergreen Engineering   \n",
       "4 2011-08-20  288751877            9544  41-2031.00              CVS Health   \n",
       "\n",
       "                                          clean_text  \n",
       "0  to access account status,  saved documents and...  \n",
       "1  Job: IRC34902 Attention: This site does not su...  \n",
       "2  Go to the main content section. Welcome. You a...  \n",
       "3  Ads by Google Pulp & Paper Engineer Apply Now ...  \n",
       "4  Pharmacy Service Associate (PSA) - As the firs...  "
      ]
     },
     "execution_count": 17,
     "metadata": {},
     "output_type": "execute_result"
    }
   ],
   "source": [
    "%%time\n",
    "\n",
    "\n",
    "def get_files(file):\n",
    "    return pd.read_csv(file, usecols=col_names, low_memory=False)\n",
    "\n",
    "\n",
    "with cf.ProcessPoolExecutor() as executor:\n",
    "    results = executor.map(get_files, files)\n",
    "    \n",
    "df = pd.concat(results)\n",
    "df.reset_index(drop=True, inplace=True)\n",
    "df.head()"
   ]
  },
  {
   "cell_type": "code",
   "execution_count": 60,
   "metadata": {},
   "outputs": [],
   "source": [
    "# ddf = dd.read_csv(os.path.join(path, 'da*.csv'), \n",
    "#                  engine='python',\n",
    "#                  dtype=dtypes,\n",
    "#                  assume_missing=True,\n",
    "#                  error_bad_lines=False,\n",
    "#                  blocksize=None,\n",
    "#                  usecols=col_names,\n",
    "#                 )\n",
    "# ddf"
   ]
  },
  {
   "cell_type": "code",
   "execution_count": 61,
   "metadata": {},
   "outputs": [],
   "source": [
    "# ddf1 = ddf.map_partitions(lambda data: data.drop_duplicates(subset='CleanJobTitle'))"
   ]
  },
  {
   "cell_type": "code",
   "execution_count": 62,
   "metadata": {},
   "outputs": [
    {
     "data": {
      "text/html": [
       "<div>\n",
       "<style scoped>\n",
       "    .dataframe tbody tr th:only-of-type {\n",
       "        vertical-align: middle;\n",
       "    }\n",
       "\n",
       "    .dataframe tbody tr th {\n",
       "        vertical-align: top;\n",
       "    }\n",
       "\n",
       "    .dataframe thead th {\n",
       "        text-align: right;\n",
       "    }\n",
       "</style>\n",
       "<table border=\"1\" class=\"dataframe\">\n",
       "  <thead>\n",
       "    <tr style=\"text-align: right;\">\n",
       "      <th></th>\n",
       "      <th>CanonCity</th>\n",
       "      <th>CanonState</th>\n",
       "      <th>CleanJobTitle</th>\n",
       "      <th>JobDate</th>\n",
       "      <th>JobID</th>\n",
       "      <th>CanonPostalCode</th>\n",
       "      <th>BGTOcc</th>\n",
       "      <th>EmployerClean</th>\n",
       "      <th>clean_text</th>\n",
       "    </tr>\n",
       "  </thead>\n",
       "  <tbody>\n",
       "    <tr>\n",
       "      <th>0</th>\n",
       "      <td>Providence</td>\n",
       "      <td>RI</td>\n",
       "      <td>Ae - Sales Leader - Us</td>\n",
       "      <td>2020-03-26</td>\n",
       "      <td>38736286783</td>\n",
       "      <td>02901</td>\n",
       "      <td>41-2031.00</td>\n",
       "      <td>American Eagle Outfitters</td>\n",
       "      <td>AE - Sales Leader - US at American Eagle Outfi...</td>\n",
       "    </tr>\n",
       "    <tr>\n",
       "      <th>1</th>\n",
       "      <td>Wilmington</td>\n",
       "      <td>DE</td>\n",
       "      <td>Respiratory Therapist Rt - Sign</td>\n",
       "      <td>2020-03-26</td>\n",
       "      <td>38736274856</td>\n",
       "      <td>19801</td>\n",
       "      <td>29-1126.00</td>\n",
       "      <td>Select Medical</td>\n",
       "      <td>Respiratory Therapist (RT)- $7,500 Sign-On Bon...</td>\n",
       "    </tr>\n",
       "    <tr>\n",
       "      <th>2</th>\n",
       "      <td>Atlanta</td>\n",
       "      <td>GA</td>\n",
       "      <td>Food Service Worker- Institute Of Technology- ...</td>\n",
       "      <td>2020-03-26</td>\n",
       "      <td>38736626685</td>\n",
       "      <td>30301</td>\n",
       "      <td>35-3021.00</td>\n",
       "      <td>Aramark</td>\n",
       "      <td>Job Information\\n\\nARAMARK Food Service Worker...</td>\n",
       "    </tr>\n",
       "    <tr>\n",
       "      <th>3</th>\n",
       "      <td>Memphis</td>\n",
       "      <td>TN</td>\n",
       "      <td>Research Echo Sonographer</td>\n",
       "      <td>2020-03-26</td>\n",
       "      <td>38736626694</td>\n",
       "      <td>37501</td>\n",
       "      <td>29-2032.00</td>\n",
       "      <td>St. Jude Children's Research Hospital</td>\n",
       "      <td>Job Information\\n\\nSt. Jude Children's Researc...</td>\n",
       "    </tr>\n",
       "    <tr>\n",
       "      <th>4</th>\n",
       "      <td>Fort Worth</td>\n",
       "      <td>TX</td>\n",
       "      <td>Pbx Operator</td>\n",
       "      <td>2020-03-26</td>\n",
       "      <td>38736627489</td>\n",
       "      <td>76101</td>\n",
       "      <td>43-2011.00</td>\n",
       "      <td>Jps Health Network</td>\n",
       "      <td>PBX Operator\\n\\nJPS Health Network\\n\\nFort Wor...</td>\n",
       "    </tr>\n",
       "  </tbody>\n",
       "</table>\n",
       "</div>"
      ],
      "text/plain": [
       "    CanonCity CanonState                                      CleanJobTitle  \\\n",
       "0  Providence         RI                             Ae - Sales Leader - Us   \n",
       "1  Wilmington         DE                    Respiratory Therapist Rt - Sign   \n",
       "2     Atlanta         GA  Food Service Worker- Institute Of Technology- ...   \n",
       "3     Memphis         TN                          Research Echo Sonographer   \n",
       "4  Fort Worth         TX                                       Pbx Operator   \n",
       "\n",
       "      JobDate        JobID CanonPostalCode      BGTOcc  \\\n",
       "0  2020-03-26  38736286783           02901  41-2031.00   \n",
       "1  2020-03-26  38736274856           19801  29-1126.00   \n",
       "2  2020-03-26  38736626685           30301  35-3021.00   \n",
       "3  2020-03-26  38736626694           37501  29-2032.00   \n",
       "4  2020-03-26  38736627489           76101  43-2011.00   \n",
       "\n",
       "                           EmployerClean  \\\n",
       "0              American Eagle Outfitters   \n",
       "1                         Select Medical   \n",
       "2                                Aramark   \n",
       "3  St. Jude Children's Research Hospital   \n",
       "4                     Jps Health Network   \n",
       "\n",
       "                                          clean_text  \n",
       "0  AE - Sales Leader - US at American Eagle Outfi...  \n",
       "1  Respiratory Therapist (RT)- $7,500 Sign-On Bon...  \n",
       "2  Job Information\\n\\nARAMARK Food Service Worker...  \n",
       "3  Job Information\\n\\nSt. Jude Children's Researc...  \n",
       "4  PBX Operator\\n\\nJPS Health Network\\n\\nFort Wor...  "
      ]
     },
     "execution_count": 62,
     "metadata": {},
     "output_type": "execute_result"
    }
   ],
   "source": [
    "# df = pd.read_csv(path + f'data_filtered_{fil_num}.csv', low_memory=False, usecols=col_names, dtype=dtypes).drop_duplicates(subset='CleanJobTitle')\n",
    "# df.head()"
   ]
  },
  {
   "cell_type": "markdown",
   "metadata": {},
   "source": [
    "Before Removing Duplicates"
   ]
  },
  {
   "cell_type": "code",
   "execution_count": 9,
   "metadata": {},
   "outputs": [
    {
     "data": {
      "text/plain": [
       "(29646362, 9)"
      ]
     },
     "execution_count": 9,
     "metadata": {},
     "output_type": "execute_result"
    }
   ],
   "source": [
    "df.shape"
   ]
  },
  {
   "cell_type": "code",
   "execution_count": 19,
   "metadata": {},
   "outputs": [
    {
     "name": "stdout",
     "output_type": "stream",
     "text": [
      "CPU times: user 24.7 s, sys: 16.9 s, total: 41.6 s\n",
      "Wall time: 41.6 s\n"
     ]
    }
   ],
   "source": [
    "%%time\n",
    "\n",
    "df = df.drop_duplicates(subset='CleanJobTitle')"
   ]
  },
  {
   "cell_type": "markdown",
   "metadata": {},
   "source": [
    "After Removing Duplicates"
   ]
  },
  {
   "cell_type": "code",
   "execution_count": 20,
   "metadata": {},
   "outputs": [
    {
     "data": {
      "text/plain": [
       "(6706926, 9)"
      ]
     },
     "execution_count": 20,
     "metadata": {},
     "output_type": "execute_result"
    }
   ],
   "source": [
    "df.shape"
   ]
  },
  {
   "cell_type": "code",
   "execution_count": 21,
   "metadata": {},
   "outputs": [
    {
     "name": "stdout",
     "output_type": "stream",
     "text": [
      "CPU times: user 2.36 s, sys: 259 ms, total: 2.62 s\n",
      "Wall time: 2.62 s\n"
     ]
    },
    {
     "data": {
      "text/plain": [
       "(1000000, 9)"
      ]
     },
     "execution_count": 21,
     "metadata": {},
     "output_type": "execute_result"
    }
   ],
   "source": [
    "%%time\n",
    "\n",
    "df = df.sample(1_000_000).copy()\n",
    "df.shape"
   ]
  },
  {
   "cell_type": "code",
   "execution_count": 22,
   "metadata": {},
   "outputs": [
    {
     "name": "stdout",
     "output_type": "stream",
     "text": [
      "CPU times: user 1.01 s, sys: 27.4 ms, total: 1.03 s\n",
      "Wall time: 1.03 s\n"
     ]
    }
   ],
   "source": [
    "%%time\n",
    "\n",
    "X_train, y_test = train_test_split(df, test_size=.2, random_state=42, shuffle=True)\n",
    "\n",
    "X_train_2, y_test_2 = X_train.copy(), y_test.copy()"
   ]
  },
  {
   "cell_type": "code",
   "execution_count": 23,
   "metadata": {},
   "outputs": [
    {
     "data": {
      "text/html": [
       "<div>\n",
       "<style scoped>\n",
       "    .dataframe tbody tr th:only-of-type {\n",
       "        vertical-align: middle;\n",
       "    }\n",
       "\n",
       "    .dataframe tbody tr th {\n",
       "        vertical-align: top;\n",
       "    }\n",
       "\n",
       "    .dataframe thead th {\n",
       "        text-align: right;\n",
       "    }\n",
       "</style>\n",
       "<table border=\"1\" class=\"dataframe\">\n",
       "  <thead>\n",
       "    <tr style=\"text-align: right;\">\n",
       "      <th></th>\n",
       "      <th>CanonCity</th>\n",
       "      <th>CanonState</th>\n",
       "      <th>CleanJobTitle</th>\n",
       "      <th>JobDate</th>\n",
       "      <th>JobID</th>\n",
       "      <th>CanonPostalCode</th>\n",
       "      <th>BGTOcc</th>\n",
       "      <th>EmployerClean</th>\n",
       "      <th>clean_text</th>\n",
       "    </tr>\n",
       "  </thead>\n",
       "  <tbody>\n",
       "    <tr>\n",
       "      <th>24851687</th>\n",
       "      <td>Phoenix</td>\n",
       "      <td>AZ</td>\n",
       "      <td>Program Project Specialist II</td>\n",
       "      <td>2012-07-18</td>\n",
       "      <td>145066593</td>\n",
       "      <td>85087</td>\n",
       "      <td>15-1199.09</td>\n",
       "      <td>Des</td>\n",
       "      <td>Job ID 1000069233 Req Name ADCSL1000068058A Lo...</td>\n",
       "    </tr>\n",
       "    <tr>\n",
       "      <th>11171478</th>\n",
       "      <td>Middleton</td>\n",
       "      <td>WI</td>\n",
       "      <td>Registered Nurse Union Corners Pediatrics - C4</td>\n",
       "      <td>2016-12-02</td>\n",
       "      <td>38151984245</td>\n",
       "      <td>53562</td>\n",
       "      <td>29-1141.00</td>\n",
       "      <td>Uw Medical Foundation</td>\n",
       "      <td>Registered Nurse Union Corners Pediatrics - 16...</td>\n",
       "    </tr>\n",
       "    <tr>\n",
       "      <th>6161334</th>\n",
       "      <td>New York</td>\n",
       "      <td>NY</td>\n",
       "      <td>Park Animal Hospital</td>\n",
       "      <td>2019-07-05</td>\n",
       "      <td>38554296335</td>\n",
       "      <td>10001</td>\n",
       "      <td>43-1011.95</td>\n",
       "      <td>Pet Partners</td>\n",
       "      <td>Park East Animal Hospital\\n\\nPet Partners - Ne...</td>\n",
       "    </tr>\n",
       "    <tr>\n",
       "      <th>15658362</th>\n",
       "      <td>Bremerton</td>\n",
       "      <td>WA</td>\n",
       "      <td>Monitor Technician - Pcu - Medical Center</td>\n",
       "      <td>2015-12-18</td>\n",
       "      <td>37989590552</td>\n",
       "      <td>98310</td>\n",
       "      <td>29-2031.00</td>\n",
       "      <td>Catholic Health Initiatives</td>\n",
       "      <td>Monitor Tech - PCU - 24 hours per week (.6 FTE...</td>\n",
       "    </tr>\n",
       "    <tr>\n",
       "      <th>24196160</th>\n",
       "      <td>Columbus</td>\n",
       "      <td>OH</td>\n",
       "      <td>Systems Administrative Local To In-Person Inte...</td>\n",
       "      <td>2017-10-11</td>\n",
       "      <td>38286939560</td>\n",
       "      <td>43085</td>\n",
       "      <td>15-1142.00</td>\n",
       "      <td>Devcare Solutions</td>\n",
       "      <td>system Admin (Local to OH) (in-Person Intervie...</td>\n",
       "    </tr>\n",
       "  </tbody>\n",
       "</table>\n",
       "</div>"
      ],
      "text/plain": [
       "          CanonCity CanonState  \\\n",
       "24851687    Phoenix         AZ   \n",
       "11171478  Middleton         WI   \n",
       "6161334    New York         NY   \n",
       "15658362  Bremerton         WA   \n",
       "24196160   Columbus         OH   \n",
       "\n",
       "                                              CleanJobTitle    JobDate  \\\n",
       "24851687                      Program Project Specialist II 2012-07-18   \n",
       "11171478     Registered Nurse Union Corners Pediatrics - C4 2016-12-02   \n",
       "6161334                                Park Animal Hospital 2019-07-05   \n",
       "15658362          Monitor Technician - Pcu - Medical Center 2015-12-18   \n",
       "24196160  Systems Administrative Local To In-Person Inte... 2017-10-11   \n",
       "\n",
       "                JobID CanonPostalCode      BGTOcc  \\\n",
       "24851687    145066593           85087  15-1199.09   \n",
       "11171478  38151984245           53562  29-1141.00   \n",
       "6161334   38554296335           10001  43-1011.95   \n",
       "15658362  37989590552           98310  29-2031.00   \n",
       "24196160  38286939560           43085  15-1142.00   \n",
       "\n",
       "                        EmployerClean  \\\n",
       "24851687                          Des   \n",
       "11171478        Uw Medical Foundation   \n",
       "6161334                  Pet Partners   \n",
       "15658362  Catholic Health Initiatives   \n",
       "24196160            Devcare Solutions   \n",
       "\n",
       "                                                 clean_text  \n",
       "24851687  Job ID 1000069233 Req Name ADCSL1000068058A Lo...  \n",
       "11171478  Registered Nurse Union Corners Pediatrics - 16...  \n",
       "6161334   Park East Animal Hospital\\n\\nPet Partners - Ne...  \n",
       "15658362  Monitor Tech - PCU - 24 hours per week (.6 FTE...  \n",
       "24196160  system Admin (Local to OH) (in-Person Intervie...  "
      ]
     },
     "execution_count": 23,
     "metadata": {},
     "output_type": "execute_result"
    }
   ],
   "source": [
    "X_train_2.head()"
   ]
  },
  {
   "cell_type": "code",
   "execution_count": 24,
   "metadata": {},
   "outputs": [
    {
     "name": "stdout",
     "output_type": "stream",
     "text": [
      "CPU times: user 2min 28s, sys: 343 ms, total: 2min 28s\n",
      "Wall time: 2min 28s\n"
     ]
    },
    {
     "data": {
      "text/html": [
       "<div>\n",
       "<style scoped>\n",
       "    .dataframe tbody tr th:only-of-type {\n",
       "        vertical-align: middle;\n",
       "    }\n",
       "\n",
       "    .dataframe tbody tr th {\n",
       "        vertical-align: top;\n",
       "    }\n",
       "\n",
       "    .dataframe thead th {\n",
       "        text-align: right;\n",
       "    }\n",
       "</style>\n",
       "<table border=\"1\" class=\"dataframe\">\n",
       "  <thead>\n",
       "    <tr style=\"text-align: right;\">\n",
       "      <th></th>\n",
       "      <th>CanonCity</th>\n",
       "      <th>CanonState</th>\n",
       "      <th>CleanJobTitle</th>\n",
       "      <th>JobDate</th>\n",
       "      <th>JobID</th>\n",
       "      <th>CanonPostalCode</th>\n",
       "      <th>BGTOcc</th>\n",
       "      <th>EmployerClean</th>\n",
       "      <th>clean_text</th>\n",
       "    </tr>\n",
       "  </thead>\n",
       "  <tbody>\n",
       "    <tr>\n",
       "      <th>171905</th>\n",
       "      <td>Sunnyside</td>\n",
       "      <td>FL</td>\n",
       "      <td>fuels systems facilities project support analyst</td>\n",
       "      <td>2011-11-01</td>\n",
       "      <td>9363043</td>\n",
       "      <td>32461</td>\n",
       "      <td>15-1121.00</td>\n",
       "      <td>Booz Allen Hamilton Inc.</td>\n",
       "      <td>Go to the main content section.     Job Opport...</td>\n",
       "    </tr>\n",
       "    <tr>\n",
       "      <th>16513775</th>\n",
       "      <td>Tucson</td>\n",
       "      <td>AZ</td>\n",
       "      <td>now plant operator hot plant oiler</td>\n",
       "      <td>2015-07-26</td>\n",
       "      <td>37928933435</td>\n",
       "      <td>85701</td>\n",
       "      <td>51-8099.00</td>\n",
       "      <td>Axxis Advertising</td>\n",
       "      <td>Ashton Is Now Hiring: Hot Plant Operator Hot P...</td>\n",
       "    </tr>\n",
       "    <tr>\n",
       "      <th>25172306</th>\n",
       "      <td>Hartford</td>\n",
       "      <td>CT</td>\n",
       "      <td>advanced practice registered nurse , or</td>\n",
       "      <td>2012-03-14</td>\n",
       "      <td>103796161</td>\n",
       "      <td>6102</td>\n",
       "      <td>29-1171.00</td>\n",
       "      <td>Connecticut Multispecialty Group</td>\n",
       "      <td>Hartford City Guide /  / Advanced Practice Reg...</td>\n",
       "    </tr>\n",
       "    <tr>\n",
       "      <th>2053555</th>\n",
       "      <td>White Marsh</td>\n",
       "      <td>MD</td>\n",
       "      <td>operational services specialist</td>\n",
       "      <td>2018-03-31</td>\n",
       "      <td>38344952208</td>\n",
       "      <td>21162</td>\n",
       "      <td>15-2031.00</td>\n",
       "      <td>Prometric</td>\n",
       "      <td>We are now hiring\\nReq #1307\\nOperational Serv...</td>\n",
       "    </tr>\n",
       "    <tr>\n",
       "      <th>22682094</th>\n",
       "      <td>Mountain View</td>\n",
       "      <td>CA</td>\n",
       "      <td>senior product - payroll</td>\n",
       "      <td>2017-09-26</td>\n",
       "      <td>38280750346</td>\n",
       "      <td>94035</td>\n",
       "      <td>11-2021.92</td>\n",
       "      <td>Intuit</td>\n",
       "      <td># Senior Product Manager - Payroll\\n\\nQuickBoo...</td>\n",
       "    </tr>\n",
       "  </tbody>\n",
       "</table>\n",
       "</div>"
      ],
      "text/plain": [
       "              CanonCity CanonState  \\\n",
       "171905        Sunnyside         FL   \n",
       "16513775         Tucson         AZ   \n",
       "25172306       Hartford         CT   \n",
       "2053555     White Marsh         MD   \n",
       "22682094  Mountain View         CA   \n",
       "\n",
       "                                             CleanJobTitle    JobDate  \\\n",
       "171905    fuels systems facilities project support analyst 2011-11-01   \n",
       "16513775                now plant operator hot plant oiler 2015-07-26   \n",
       "25172306           advanced practice registered nurse , or 2012-03-14   \n",
       "2053555                    operational services specialist 2018-03-31   \n",
       "22682094                          senior product - payroll 2017-09-26   \n",
       "\n",
       "                JobID CanonPostalCode      BGTOcc  \\\n",
       "171905        9363043           32461  15-1121.00   \n",
       "16513775  37928933435           85701  51-8099.00   \n",
       "25172306    103796161            6102  29-1171.00   \n",
       "2053555   38344952208           21162  15-2031.00   \n",
       "22682094  38280750346           94035  11-2021.92   \n",
       "\n",
       "                             EmployerClean  \\\n",
       "171905            Booz Allen Hamilton Inc.   \n",
       "16513775                 Axxis Advertising   \n",
       "25172306  Connecticut Multispecialty Group   \n",
       "2053555                          Prometric   \n",
       "22682094                            Intuit   \n",
       "\n",
       "                                                 clean_text  \n",
       "171905    Go to the main content section.     Job Opport...  \n",
       "16513775  Ashton Is Now Hiring: Hot Plant Operator Hot P...  \n",
       "25172306  Hartford City Guide /  / Advanced Practice Reg...  \n",
       "2053555   We are now hiring\\nReq #1307\\nOperational Serv...  \n",
       "22682094  # Senior Product Manager - Payroll\\n\\nQuickBoo...  "
      ]
     },
     "execution_count": 24,
     "metadata": {},
     "output_type": "execute_result"
    }
   ],
   "source": [
    "%%time\n",
    "\n",
    "rm_titles = np.vectorize(remove_titles)\n",
    "X_train_2['CleanJobTitle'] = rm_titles(X_train_2['CleanJobTitle'].str.lower().values)\n",
    "y_test_2['CleanJobTitle'] = rm_titles(y_test_2['CleanJobTitle'].str.lower().values)\n",
    "y_test_2.head()"
   ]
  },
  {
   "cell_type": "code",
   "execution_count": 25,
   "metadata": {},
   "outputs": [],
   "source": [
    "preprocessing = Pipeline([\n",
    "    ('normalizer', FunctionTransformer(corp_normalizer)),\n",
    "    ('vect', TfidfVectorizer(ngram_range=(1, 1), min_df=10, max_df=.85))\n",
    "])\n",
    "\n",
    "km_pipe = Pipeline([\n",
    "    ('km', KMeans(n_clusters=100, # how many clusters do we want\n",
    "            max_iter=1000, # reshuffle each centroid x number of times\n",
    "            n_init=15, # that x num of times can be set here\n",
    "            random_state=42,\n",
    "            n_jobs=-1))\n",
    "])\n",
    "\n",
    "pipe = Pipeline([\n",
    "    ('preprocessor', preprocessing),\n",
    "    ('km_model', km_pipe)\n",
    "])\n",
    "\n",
    "##############################################################################\n",
    "\n",
    "preprocessing2 = Pipeline([\n",
    "    ('normalizer2', FunctionTransformer(corp_normalizer)),\n",
    "    ('vect2', TfidfVectorizer(ngram_range=(1, 1), min_df=10, max_df=.85))\n",
    "])\n",
    "\n",
    "km_pipe2 = Pipeline([\n",
    "    ('km2', KMeans(n_clusters=100, # how many clusters do we want\n",
    "            max_iter=1000, # reshuffle each centroid x number of times\n",
    "            n_init=15, # that x num of times can be set here\n",
    "            random_state=42,\n",
    "            n_jobs=-1))\n",
    "])\n",
    "\n",
    "pipe2 = Pipeline([\n",
    "    ('preprocessor2', preprocessing2),\n",
    "    ('km_model2', km_pipe2)\n",
    "])\n",
    "\n",
    "##############################################################################\n",
    "\n",
    "preprocessing3 = Pipeline([\n",
    "    ('normalizer3', FunctionTransformer(corp_normalizer)),\n",
    "    ('vect3', TfidfVectorizer(ngram_range=(1, 2), min_df=10, max_df=.85))\n",
    "])\n",
    "\n",
    "km_pipe3 = Pipeline([\n",
    "    ('km3', KMeans(n_clusters=100, # how many clusters do we want\n",
    "            max_iter=1000, # reshuffle each centroid x number of times\n",
    "            n_init=15, # that x num of times can be set here\n",
    "            random_state=42,\n",
    "            n_jobs=-1))\n",
    "])\n",
    "\n",
    "pipe3 = Pipeline([\n",
    "    ('preprocessor3', preprocessing3),\n",
    "    ('km_model3', km_pipe3)\n",
    "])\n",
    "\n",
    "##############################################################################\n",
    "\n",
    "preprocessing4 = Pipeline([\n",
    "    ('normalizer4', FunctionTransformer(corp_normalizer)),\n",
    "    ('vect4', TfidfVectorizer(ngram_range=(1, 2), min_df=10, max_df=.85))\n",
    "])\n",
    "\n",
    "km_pipe4 = Pipeline([\n",
    "    ('km4', KMeans(n_clusters=100, # how many clusters do we want\n",
    "            max_iter=1000, # reshuffle each centroid x number of times\n",
    "            n_init=15, # that x num of times can be set here\n",
    "            random_state=42,\n",
    "            n_jobs=-1))\n",
    "])\n",
    "\n",
    "pipe4 = Pipeline([\n",
    "    ('preprocessor4', preprocessing4),\n",
    "    ('km_model4', km_pipe4)\n",
    "])"
   ]
  },
  {
   "cell_type": "code",
   "execution_count": 32,
   "metadata": {},
   "outputs": [
    {
     "name": "stderr",
     "output_type": "stream",
     "text": [
      "/home/ubuntu/anaconda3/lib/python3.7/site-packages/sklearn/cluster/_kmeans.py:939: FutureWarning: 'n_jobs' was deprecated in version 0.23 and will be removed in 0.25.\n",
      "  \" removed in 0.25.\", FutureWarning)\n"
     ]
    },
    {
     "name": "stdout",
     "output_type": "stream",
     "text": [
      "Done with Pipe 3\n"
     ]
    },
    {
     "name": "stderr",
     "output_type": "stream",
     "text": [
      "/home/ubuntu/anaconda3/lib/python3.7/site-packages/sklearn/cluster/_kmeans.py:939: FutureWarning: 'n_jobs' was deprecated in version 0.23 and will be removed in 0.25.\n",
      "  \" removed in 0.25.\", FutureWarning)\n"
     ]
    },
    {
     "name": "stdout",
     "output_type": "stream",
     "text": [
      "Done with Pipe 4\n",
      "CPU times: user 15h 2min 39s, sys: 22h 5s, total: 1d 13h 2min 45s\n",
      "Wall time: 1h 50min 37s\n"
     ]
    }
   ],
   "source": [
    "%%time\n",
    "\n",
    "with joblib.parallel_backend('dask'):\n",
    "#     pipe.fit(X_train['CleanJobTitle'].values);\n",
    "#     preprocessed_data = pipe.transform(X_train['CleanJobTitle'].values);\n",
    "#     joblib.dump(pipe, f'models/uni_titles_500c_pipe.pkl');\n",
    "#     print(\"Done with Pipe 1\")\n",
    "    \n",
    "#     pipe2.fit(X_train_2['CleanJobTitle'].values);\n",
    "#     preprocessed_data2 = pipe2.transform(X_train_2['CleanJobTitle'].values);\n",
    "#     joblib.dump(pipe2, f'models/uni_no_titles_500c_pipe.pkl');\n",
    "#     print(\"Done with Pipe 2\")\n",
    "    \n",
    "    pipe3.fit(X_train['CleanJobTitle'].values);\n",
    "    preprocessed_dat3 = pipe3.transform(X_train['CleanJobTitle'].values);\n",
    "    joblib.dump(pipe3, f'models/bi_titles_500c_pipe.pkl');\n",
    "    print(\"Done with Pipe 3\")\n",
    "    \n",
    "    pipe4.fit(X_train_2['CleanJobTitle'].values);\n",
    "    preprocessed_data4 = pipe4.transform(X_train_2['CleanJobTitle'].values);\n",
    "    joblib.dump(pipe4, f'models/bi_no_titles_500c_pipe.pkl');\n",
    "    print(\"Done with Pipe 4\")"
   ]
  },
  {
   "cell_type": "markdown",
   "metadata": {},
   "source": [
    "## With Titles"
   ]
  },
  {
   "cell_type": "code",
   "execution_count": 33,
   "metadata": {},
   "outputs": [
    {
     "data": {
      "text/plain": [
       "array([92, 94,  0,  1, 53, 94, 18,  0, 47, 60], dtype=int32)"
      ]
     },
     "execution_count": 33,
     "metadata": {},
     "output_type": "execute_result"
    }
   ],
   "source": [
    "pipe['km_model']['km'].labels_[:10]"
   ]
  },
  {
   "cell_type": "code",
   "execution_count": 34,
   "metadata": {},
   "outputs": [
    {
     "name": "stderr",
     "output_type": "stream",
     "text": [
      "/home/ubuntu/anaconda3/lib/python3.7/site-packages/ipykernel_launcher.py:2: SettingWithCopyWarning: \n",
      "A value is trying to be set on a copy of a slice from a DataFrame.\n",
      "Try using .loc[row_indexer,col_indexer] = value instead\n",
      "\n",
      "See the caveats in the documentation: https://pandas.pydata.org/pandas-docs/stable/user_guide/indexing.html#returning-a-view-versus-a-copy\n",
      "  \n",
      "/home/ubuntu/anaconda3/lib/python3.7/site-packages/ipykernel_launcher.py:3: SettingWithCopyWarning: \n",
      "A value is trying to be set on a copy of a slice from a DataFrame.\n",
      "Try using .loc[row_indexer,col_indexer] = value instead\n",
      "\n",
      "See the caveats in the documentation: https://pandas.pydata.org/pandas-docs/stable/user_guide/indexing.html#returning-a-view-versus-a-copy\n",
      "  This is separate from the ipykernel package so we can avoid doing imports until\n",
      "/home/ubuntu/anaconda3/lib/python3.7/site-packages/ipykernel_launcher.py:4: SettingWithCopyWarning: \n",
      "A value is trying to be set on a copy of a slice from a DataFrame.\n",
      "Try using .loc[row_indexer,col_indexer] = value instead\n",
      "\n",
      "See the caveats in the documentation: https://pandas.pydata.org/pandas-docs/stable/user_guide/indexing.html#returning-a-view-versus-a-copy\n",
      "  after removing the cwd from sys.path.\n",
      "/home/ubuntu/anaconda3/lib/python3.7/site-packages/ipykernel_launcher.py:8: SettingWithCopyWarning: \n",
      "A value is trying to be set on a copy of a slice from a DataFrame.\n",
      "Try using .loc[row_indexer,col_indexer] = value instead\n",
      "\n",
      "See the caveats in the documentation: https://pandas.pydata.org/pandas-docs/stable/user_guide/indexing.html#returning-a-view-versus-a-copy\n",
      "  \n",
      "/home/ubuntu/anaconda3/lib/python3.7/site-packages/ipykernel_launcher.py:9: SettingWithCopyWarning: \n",
      "A value is trying to be set on a copy of a slice from a DataFrame.\n",
      "Try using .loc[row_indexer,col_indexer] = value instead\n",
      "\n",
      "See the caveats in the documentation: https://pandas.pydata.org/pandas-docs/stable/user_guide/indexing.html#returning-a-view-versus-a-copy\n",
      "  if __name__ == '__main__':\n",
      "/home/ubuntu/anaconda3/lib/python3.7/site-packages/ipykernel_launcher.py:10: SettingWithCopyWarning: \n",
      "A value is trying to be set on a copy of a slice from a DataFrame.\n",
      "Try using .loc[row_indexer,col_indexer] = value instead\n",
      "\n",
      "See the caveats in the documentation: https://pandas.pydata.org/pandas-docs/stable/user_guide/indexing.html#returning-a-view-versus-a-copy\n",
      "  # Remove the CWD from sys.path while we load stuff.\n"
     ]
    }
   ],
   "source": [
    "clusters = pipe['km_model']['km'].labels_\n",
    "X_train['clusters'] = clusters\n",
    "X_train['distance'] = preprocessed_data.sum(axis=1).round(2)\n",
    "X_train['dist_dummy'] = np.where(X_train['distance'] < np.percentile(X_train['distance'], 5), 1, 0)\n",
    "\n",
    "test_transformed = pipe['preprocessor'].transform(y_test['CleanJobTitle'].values)\n",
    "test_predict = pipe['km_model'].predict(test_transformed)\n",
    "y_test['predictions'] = test_predict\n",
    "y_test['distance'] = test_transformed.sum(axis=1).round(2)\n",
    "y_test['dist_dummy'] = np.where(y_test['distance'] < np.percentile(y_test['distance'], 5), 1, 0)"
   ]
  },
  {
   "cell_type": "code",
   "execution_count": 36,
   "metadata": {},
   "outputs": [
    {
     "name": "stderr",
     "output_type": "stream",
     "text": [
      "/home/ubuntu/anaconda3/lib/python3.7/site-packages/ipykernel_launcher.py:2: SettingWithCopyWarning: \n",
      "A value is trying to be set on a copy of a slice from a DataFrame.\n",
      "Try using .loc[row_indexer,col_indexer] = value instead\n",
      "\n",
      "See the caveats in the documentation: https://pandas.pydata.org/pandas-docs/stable/user_guide/indexing.html#returning-a-view-versus-a-copy\n",
      "  \n",
      "/home/ubuntu/anaconda3/lib/python3.7/site-packages/ipykernel_launcher.py:3: SettingWithCopyWarning: \n",
      "A value is trying to be set on a copy of a slice from a DataFrame.\n",
      "Try using .loc[row_indexer,col_indexer] = value instead\n",
      "\n",
      "See the caveats in the documentation: https://pandas.pydata.org/pandas-docs/stable/user_guide/indexing.html#returning-a-view-versus-a-copy\n",
      "  This is separate from the ipykernel package so we can avoid doing imports until\n",
      "/home/ubuntu/anaconda3/lib/python3.7/site-packages/ipykernel_launcher.py:4: SettingWithCopyWarning: \n",
      "A value is trying to be set on a copy of a slice from a DataFrame.\n",
      "Try using .loc[row_indexer,col_indexer] = value instead\n",
      "\n",
      "See the caveats in the documentation: https://pandas.pydata.org/pandas-docs/stable/user_guide/indexing.html#returning-a-view-versus-a-copy\n",
      "  after removing the cwd from sys.path.\n",
      "/home/ubuntu/anaconda3/lib/python3.7/site-packages/ipykernel_launcher.py:8: SettingWithCopyWarning: \n",
      "A value is trying to be set on a copy of a slice from a DataFrame.\n",
      "Try using .loc[row_indexer,col_indexer] = value instead\n",
      "\n",
      "See the caveats in the documentation: https://pandas.pydata.org/pandas-docs/stable/user_guide/indexing.html#returning-a-view-versus-a-copy\n",
      "  \n",
      "/home/ubuntu/anaconda3/lib/python3.7/site-packages/ipykernel_launcher.py:9: SettingWithCopyWarning: \n",
      "A value is trying to be set on a copy of a slice from a DataFrame.\n",
      "Try using .loc[row_indexer,col_indexer] = value instead\n",
      "\n",
      "See the caveats in the documentation: https://pandas.pydata.org/pandas-docs/stable/user_guide/indexing.html#returning-a-view-versus-a-copy\n",
      "  if __name__ == '__main__':\n",
      "/home/ubuntu/anaconda3/lib/python3.7/site-packages/ipykernel_launcher.py:10: SettingWithCopyWarning: \n",
      "A value is trying to be set on a copy of a slice from a DataFrame.\n",
      "Try using .loc[row_indexer,col_indexer] = value instead\n",
      "\n",
      "See the caveats in the documentation: https://pandas.pydata.org/pandas-docs/stable/user_guide/indexing.html#returning-a-view-versus-a-copy\n",
      "  # Remove the CWD from sys.path while we load stuff.\n"
     ]
    }
   ],
   "source": [
    "clusters3 = pipe3['km_model3']['km3'].labels_\n",
    "X_train['clusters_bi'] = clusters3\n",
    "X_train['distance_bi'] = preprocessed_dat3.sum(axis=1).round(2)\n",
    "X_train['dist_dummy_bi'] = np.where(X_train['distance_bi'] < np.percentile(X_train['distance_bi'], 5), 1, 0)\n",
    "\n",
    "test_transformed3 = pipe3['preprocessor3'].transform(y_test['CleanJobTitle'].values)\n",
    "test_predict3 = pipe3['km_model3'].predict(test_transformed3)\n",
    "y_test['predictions_bi'] = test_predict3\n",
    "y_test['distance_bi'] = test_transformed3.sum(axis=1).round(2)\n",
    "y_test['dist_dummy_bi'] = np.where(y_test['distance_bi'] < np.percentile(y_test['distance_bi'], 5), 1, 0)"
   ]
  },
  {
   "cell_type": "markdown",
   "metadata": {},
   "source": [
    "## Without Titles"
   ]
  },
  {
   "cell_type": "code",
   "execution_count": 37,
   "metadata": {},
   "outputs": [
    {
     "data": {
      "text/plain": [
       "array([74, 28,  0, 94, 72, 62, 77,  0,  9, 94], dtype=int32)"
      ]
     },
     "execution_count": 37,
     "metadata": {},
     "output_type": "execute_result"
    }
   ],
   "source": [
    "pipe2['km_model2']['km2'].labels_[:10]"
   ]
  },
  {
   "cell_type": "code",
   "execution_count": 38,
   "metadata": {},
   "outputs": [],
   "source": [
    "clusters2 = pipe2['km_model2']['km2'].labels_\n",
    "X_train_2['clusters2'] = clusters2\n",
    "X_train_2['distance2'] = preprocessed_data2.sum(axis=1).round(2)\n",
    "X_train_2['dist_dummy2'] = np.where(X_train_2['distance2'] < np.percentile(X_train_2['distance2'], 5), 1, 0)\n",
    "\n",
    "test_transformed2 = pipe2['preprocessor2'].transform(y_test_2['CleanJobTitle'].values)\n",
    "test_predict2 = pipe2['km_model2'].predict(test_transformed2)\n",
    "y_test_2['predictions2'] = test_predict2\n",
    "y_test_2['distance2'] = test_transformed2.sum(axis=1).round(2)\n",
    "y_test_2['dist_dummy2'] = np.where(y_test_2['distance2'] < np.percentile(y_test_2['distance2'], 5), 1, 0)"
   ]
  },
  {
   "cell_type": "code",
   "execution_count": 39,
   "metadata": {},
   "outputs": [],
   "source": [
    "clusters4 = pipe4['km_model4']['km4'].labels_\n",
    "X_train_2['clusters2_bi'] = clusters4\n",
    "X_train_2['distance2_bi'] = preprocessed_data4.sum(axis=1).round(2)\n",
    "X_train_2['dist_dummy2_bi'] = np.where(X_train_2['distance2_bi'] < np.percentile(X_train_2['distance2_bi'], 5), 1, 0)\n",
    "\n",
    "test_transformed4 = pipe4['preprocessor4'].transform(y_test_2['CleanJobTitle'].values)\n",
    "test_predict4 = pipe4['km_model4'].predict(test_transformed4)\n",
    "y_test_2['predictions2_bi'] = test_predict4\n",
    "y_test_2['distance2_bi'] = test_transformed4.sum(axis=1).round(2)\n",
    "y_test_2['dist_dummy2_bi'] = np.where(y_test_2['distance2_bi'] < np.percentile(y_test_2['distance2_bi'], 5), 1, 0)"
   ]
  },
  {
   "cell_type": "markdown",
   "metadata": {},
   "source": [
    "Back into the main Dataset"
   ]
  },
  {
   "cell_type": "code",
   "execution_count": 40,
   "metadata": {},
   "outputs": [
    {
     "name": "stderr",
     "output_type": "stream",
     "text": [
      "/home/ubuntu/anaconda3/lib/python3.7/site-packages/ipykernel_launcher.py:1: SettingWithCopyWarning: \n",
      "A value is trying to be set on a copy of a slice from a DataFrame.\n",
      "Try using .loc[row_indexer,col_indexer] = value instead\n",
      "\n",
      "See the caveats in the documentation: https://pandas.pydata.org/pandas-docs/stable/user_guide/indexing.html#returning-a-view-versus-a-copy\n",
      "  \"\"\"Entry point for launching an IPython kernel.\n",
      "/home/ubuntu/anaconda3/lib/python3.7/site-packages/ipykernel_launcher.py:2: SettingWithCopyWarning: \n",
      "A value is trying to be set on a copy of a slice from a DataFrame.\n",
      "Try using .loc[row_indexer,col_indexer] = value instead\n",
      "\n",
      "See the caveats in the documentation: https://pandas.pydata.org/pandas-docs/stable/user_guide/indexing.html#returning-a-view-versus-a-copy\n",
      "  \n",
      "/home/ubuntu/anaconda3/lib/python3.7/site-packages/ipykernel_launcher.py:3: SettingWithCopyWarning: \n",
      "A value is trying to be set on a copy of a slice from a DataFrame.\n",
      "Try using .loc[row_indexer,col_indexer] = value instead\n",
      "\n",
      "See the caveats in the documentation: https://pandas.pydata.org/pandas-docs/stable/user_guide/indexing.html#returning-a-view-versus-a-copy\n",
      "  This is separate from the ipykernel package so we can avoid doing imports until\n",
      "/home/ubuntu/anaconda3/lib/python3.7/site-packages/ipykernel_launcher.py:5: SettingWithCopyWarning: \n",
      "A value is trying to be set on a copy of a slice from a DataFrame.\n",
      "Try using .loc[row_indexer,col_indexer] = value instead\n",
      "\n",
      "See the caveats in the documentation: https://pandas.pydata.org/pandas-docs/stable/user_guide/indexing.html#returning-a-view-versus-a-copy\n",
      "  \"\"\"\n",
      "/home/ubuntu/anaconda3/lib/python3.7/site-packages/ipykernel_launcher.py:6: SettingWithCopyWarning: \n",
      "A value is trying to be set on a copy of a slice from a DataFrame.\n",
      "Try using .loc[row_indexer,col_indexer] = value instead\n",
      "\n",
      "See the caveats in the documentation: https://pandas.pydata.org/pandas-docs/stable/user_guide/indexing.html#returning-a-view-versus-a-copy\n",
      "  \n",
      "/home/ubuntu/anaconda3/lib/python3.7/site-packages/ipykernel_launcher.py:7: SettingWithCopyWarning: \n",
      "A value is trying to be set on a copy of a slice from a DataFrame.\n",
      "Try using .loc[row_indexer,col_indexer] = value instead\n",
      "\n",
      "See the caveats in the documentation: https://pandas.pydata.org/pandas-docs/stable/user_guide/indexing.html#returning-a-view-versus-a-copy\n",
      "  import sys\n"
     ]
    }
   ],
   "source": [
    "X_train['clusters2'] = clusters2\n",
    "X_train['distance2'] = preprocessed_data2.sum(axis=1).round(2)\n",
    "X_train['dist_dummy2'] = np.where(X_train_2['distance2'] < np.percentile(X_train_2['distance2'], 5), 1, 0)\n",
    "\n",
    "y_test['predictions2'] = test_predict2\n",
    "y_test['distance2'] = test_transformed2.sum(axis=1).round(2)\n",
    "y_test['dist_dummy2'] = np.where(y_test_2['distance2'] < np.percentile(y_test_2['distance2'], 5), 1, 0)"
   ]
  },
  {
   "cell_type": "code",
   "execution_count": 41,
   "metadata": {},
   "outputs": [
    {
     "name": "stderr",
     "output_type": "stream",
     "text": [
      "/home/ubuntu/anaconda3/lib/python3.7/site-packages/ipykernel_launcher.py:1: SettingWithCopyWarning: \n",
      "A value is trying to be set on a copy of a slice from a DataFrame.\n",
      "Try using .loc[row_indexer,col_indexer] = value instead\n",
      "\n",
      "See the caveats in the documentation: https://pandas.pydata.org/pandas-docs/stable/user_guide/indexing.html#returning-a-view-versus-a-copy\n",
      "  \"\"\"Entry point for launching an IPython kernel.\n",
      "/home/ubuntu/anaconda3/lib/python3.7/site-packages/ipykernel_launcher.py:2: SettingWithCopyWarning: \n",
      "A value is trying to be set on a copy of a slice from a DataFrame.\n",
      "Try using .loc[row_indexer,col_indexer] = value instead\n",
      "\n",
      "See the caveats in the documentation: https://pandas.pydata.org/pandas-docs/stable/user_guide/indexing.html#returning-a-view-versus-a-copy\n",
      "  \n",
      "/home/ubuntu/anaconda3/lib/python3.7/site-packages/ipykernel_launcher.py:3: SettingWithCopyWarning: \n",
      "A value is trying to be set on a copy of a slice from a DataFrame.\n",
      "Try using .loc[row_indexer,col_indexer] = value instead\n",
      "\n",
      "See the caveats in the documentation: https://pandas.pydata.org/pandas-docs/stable/user_guide/indexing.html#returning-a-view-versus-a-copy\n",
      "  This is separate from the ipykernel package so we can avoid doing imports until\n",
      "/home/ubuntu/anaconda3/lib/python3.7/site-packages/ipykernel_launcher.py:5: SettingWithCopyWarning: \n",
      "A value is trying to be set on a copy of a slice from a DataFrame.\n",
      "Try using .loc[row_indexer,col_indexer] = value instead\n",
      "\n",
      "See the caveats in the documentation: https://pandas.pydata.org/pandas-docs/stable/user_guide/indexing.html#returning-a-view-versus-a-copy\n",
      "  \"\"\"\n",
      "/home/ubuntu/anaconda3/lib/python3.7/site-packages/ipykernel_launcher.py:6: SettingWithCopyWarning: \n",
      "A value is trying to be set on a copy of a slice from a DataFrame.\n",
      "Try using .loc[row_indexer,col_indexer] = value instead\n",
      "\n",
      "See the caveats in the documentation: https://pandas.pydata.org/pandas-docs/stable/user_guide/indexing.html#returning-a-view-versus-a-copy\n",
      "  \n",
      "/home/ubuntu/anaconda3/lib/python3.7/site-packages/ipykernel_launcher.py:7: SettingWithCopyWarning: \n",
      "A value is trying to be set on a copy of a slice from a DataFrame.\n",
      "Try using .loc[row_indexer,col_indexer] = value instead\n",
      "\n",
      "See the caveats in the documentation: https://pandas.pydata.org/pandas-docs/stable/user_guide/indexing.html#returning-a-view-versus-a-copy\n",
      "  import sys\n"
     ]
    }
   ],
   "source": [
    "X_train['clusters2_bi'] = clusters4\n",
    "X_train['distance2_bi'] = preprocessed_data4.sum(axis=1).round(2)\n",
    "X_train['dist_dummy2_bi'] = np.where(X_train_2['distance2_bi'] < np.percentile(X_train_2['distance2_bi'], 5), 1, 0)\n",
    "\n",
    "y_test['predictions2_bi'] = test_predict4\n",
    "y_test['distance2_bi'] = test_transformed4.sum(axis=1).round(2)\n",
    "y_test['dist_dummy2_bi'] = np.where(y_test_2['distance2_bi'] < np.percentile(y_test_2['distance2_bi'], 5), 1, 0)"
   ]
  },
  {
   "cell_type": "code",
   "execution_count": 42,
   "metadata": {},
   "outputs": [
    {
     "data": {
      "text/html": [
       "<div>\n",
       "<style scoped>\n",
       "    .dataframe tbody tr th:only-of-type {\n",
       "        vertical-align: middle;\n",
       "    }\n",
       "\n",
       "    .dataframe tbody tr th {\n",
       "        vertical-align: top;\n",
       "    }\n",
       "\n",
       "    .dataframe thead th {\n",
       "        text-align: right;\n",
       "    }\n",
       "</style>\n",
       "<table border=\"1\" class=\"dataframe\">\n",
       "  <thead>\n",
       "    <tr style=\"text-align: right;\">\n",
       "      <th></th>\n",
       "      <th>CanonCity</th>\n",
       "      <th>CanonState</th>\n",
       "      <th>CleanJobTitle</th>\n",
       "      <th>JobDate</th>\n",
       "      <th>JobID</th>\n",
       "      <th>CanonPostalCode</th>\n",
       "      <th>BGTOcc</th>\n",
       "      <th>EmployerClean</th>\n",
       "      <th>clean_text</th>\n",
       "      <th>clusters</th>\n",
       "      <th>distance</th>\n",
       "      <th>dist_dummy</th>\n",
       "      <th>clusters_bi</th>\n",
       "      <th>distance_bi</th>\n",
       "      <th>dist_dummy_bi</th>\n",
       "      <th>clusters2</th>\n",
       "      <th>distance2</th>\n",
       "      <th>dist_dummy2</th>\n",
       "      <th>clusters2_bi</th>\n",
       "      <th>distance2_bi</th>\n",
       "      <th>dist_dummy2_bi</th>\n",
       "    </tr>\n",
       "  </thead>\n",
       "  <tbody>\n",
       "    <tr>\n",
       "      <th>24851687</th>\n",
       "      <td>Phoenix</td>\n",
       "      <td>AZ</td>\n",
       "      <td>Program Project Specialist II</td>\n",
       "      <td>2012-07-18</td>\n",
       "      <td>145066593</td>\n",
       "      <td>85087</td>\n",
       "      <td>15-1199.09</td>\n",
       "      <td>Des</td>\n",
       "      <td>Job ID 1000069233 Req Name ADCSL1000068058A Lo...</td>\n",
       "      <td>92</td>\n",
       "      <td>110.19</td>\n",
       "      <td>0</td>\n",
       "      <td>94</td>\n",
       "      <td>109.70</td>\n",
       "      <td>0</td>\n",
       "      <td>74</td>\n",
       "      <td>110.51</td>\n",
       "      <td>0</td>\n",
       "      <td>89</td>\n",
       "      <td>108.98</td>\n",
       "      <td>0</td>\n",
       "    </tr>\n",
       "    <tr>\n",
       "      <th>11171478</th>\n",
       "      <td>Middleton</td>\n",
       "      <td>WI</td>\n",
       "      <td>Registered Nurse Union Corners Pediatrics - C4</td>\n",
       "      <td>2016-12-02</td>\n",
       "      <td>38151984245</td>\n",
       "      <td>53562</td>\n",
       "      <td>29-1141.00</td>\n",
       "      <td>Uw Medical Foundation</td>\n",
       "      <td>Registered Nurse Union Corners Pediatrics - 16...</td>\n",
       "      <td>94</td>\n",
       "      <td>110.95</td>\n",
       "      <td>0</td>\n",
       "      <td>6</td>\n",
       "      <td>109.51</td>\n",
       "      <td>0</td>\n",
       "      <td>28</td>\n",
       "      <td>111.31</td>\n",
       "      <td>0</td>\n",
       "      <td>49</td>\n",
       "      <td>109.05</td>\n",
       "      <td>0</td>\n",
       "    </tr>\n",
       "    <tr>\n",
       "      <th>6161334</th>\n",
       "      <td>New York</td>\n",
       "      <td>NY</td>\n",
       "      <td>Park Animal Hospital</td>\n",
       "      <td>2019-07-05</td>\n",
       "      <td>38554296335</td>\n",
       "      <td>10001</td>\n",
       "      <td>43-1011.95</td>\n",
       "      <td>Pet Partners</td>\n",
       "      <td>Park East Animal Hospital\\n\\nPet Partners - Ne...</td>\n",
       "      <td>0</td>\n",
       "      <td>111.63</td>\n",
       "      <td>0</td>\n",
       "      <td>5</td>\n",
       "      <td>110.09</td>\n",
       "      <td>0</td>\n",
       "      <td>0</td>\n",
       "      <td>111.91</td>\n",
       "      <td>0</td>\n",
       "      <td>3</td>\n",
       "      <td>109.52</td>\n",
       "      <td>0</td>\n",
       "    </tr>\n",
       "    <tr>\n",
       "      <th>15658362</th>\n",
       "      <td>Bremerton</td>\n",
       "      <td>WA</td>\n",
       "      <td>Monitor Technician - Pcu - Medical Center</td>\n",
       "      <td>2015-12-18</td>\n",
       "      <td>37989590552</td>\n",
       "      <td>98310</td>\n",
       "      <td>29-2031.00</td>\n",
       "      <td>Catholic Health Initiatives</td>\n",
       "      <td>Monitor Tech - PCU - 24 hours per week (.6 FTE...</td>\n",
       "      <td>1</td>\n",
       "      <td>110.70</td>\n",
       "      <td>0</td>\n",
       "      <td>15</td>\n",
       "      <td>109.54</td>\n",
       "      <td>0</td>\n",
       "      <td>94</td>\n",
       "      <td>111.09</td>\n",
       "      <td>0</td>\n",
       "      <td>28</td>\n",
       "      <td>109.05</td>\n",
       "      <td>0</td>\n",
       "    </tr>\n",
       "    <tr>\n",
       "      <th>24196160</th>\n",
       "      <td>Columbus</td>\n",
       "      <td>OH</td>\n",
       "      <td>Systems Administrative Local To In-Person Inte...</td>\n",
       "      <td>2017-10-11</td>\n",
       "      <td>38286939560</td>\n",
       "      <td>43085</td>\n",
       "      <td>15-1142.00</td>\n",
       "      <td>Devcare Solutions</td>\n",
       "      <td>system Admin (Local to OH) (in-Person Intervie...</td>\n",
       "      <td>53</td>\n",
       "      <td>111.42</td>\n",
       "      <td>0</td>\n",
       "      <td>5</td>\n",
       "      <td>109.90</td>\n",
       "      <td>0</td>\n",
       "      <td>72</td>\n",
       "      <td>111.66</td>\n",
       "      <td>0</td>\n",
       "      <td>3</td>\n",
       "      <td>109.33</td>\n",
       "      <td>0</td>\n",
       "    </tr>\n",
       "  </tbody>\n",
       "</table>\n",
       "</div>"
      ],
      "text/plain": [
       "          CanonCity CanonState  \\\n",
       "24851687    Phoenix         AZ   \n",
       "11171478  Middleton         WI   \n",
       "6161334    New York         NY   \n",
       "15658362  Bremerton         WA   \n",
       "24196160   Columbus         OH   \n",
       "\n",
       "                                              CleanJobTitle    JobDate  \\\n",
       "24851687                      Program Project Specialist II 2012-07-18   \n",
       "11171478     Registered Nurse Union Corners Pediatrics - C4 2016-12-02   \n",
       "6161334                                Park Animal Hospital 2019-07-05   \n",
       "15658362          Monitor Technician - Pcu - Medical Center 2015-12-18   \n",
       "24196160  Systems Administrative Local To In-Person Inte... 2017-10-11   \n",
       "\n",
       "                JobID CanonPostalCode      BGTOcc  \\\n",
       "24851687    145066593           85087  15-1199.09   \n",
       "11171478  38151984245           53562  29-1141.00   \n",
       "6161334   38554296335           10001  43-1011.95   \n",
       "15658362  37989590552           98310  29-2031.00   \n",
       "24196160  38286939560           43085  15-1142.00   \n",
       "\n",
       "                        EmployerClean  \\\n",
       "24851687                          Des   \n",
       "11171478        Uw Medical Foundation   \n",
       "6161334                  Pet Partners   \n",
       "15658362  Catholic Health Initiatives   \n",
       "24196160            Devcare Solutions   \n",
       "\n",
       "                                                 clean_text  clusters  \\\n",
       "24851687  Job ID 1000069233 Req Name ADCSL1000068058A Lo...        92   \n",
       "11171478  Registered Nurse Union Corners Pediatrics - 16...        94   \n",
       "6161334   Park East Animal Hospital\\n\\nPet Partners - Ne...         0   \n",
       "15658362  Monitor Tech - PCU - 24 hours per week (.6 FTE...         1   \n",
       "24196160  system Admin (Local to OH) (in-Person Intervie...        53   \n",
       "\n",
       "          distance  dist_dummy  clusters_bi  distance_bi  dist_dummy_bi  \\\n",
       "24851687    110.19           0           94       109.70              0   \n",
       "11171478    110.95           0            6       109.51              0   \n",
       "6161334     111.63           0            5       110.09              0   \n",
       "15658362    110.70           0           15       109.54              0   \n",
       "24196160    111.42           0            5       109.90              0   \n",
       "\n",
       "          clusters2  distance2  dist_dummy2  clusters2_bi  distance2_bi  \\\n",
       "24851687         74     110.51            0            89        108.98   \n",
       "11171478         28     111.31            0            49        109.05   \n",
       "6161334           0     111.91            0             3        109.52   \n",
       "15658362         94     111.09            0            28        109.05   \n",
       "24196160         72     111.66            0             3        109.33   \n",
       "\n",
       "          dist_dummy2_bi  \n",
       "24851687               0  \n",
       "11171478               0  \n",
       "6161334                0  \n",
       "15658362               0  \n",
       "24196160               0  "
      ]
     },
     "execution_count": 42,
     "metadata": {},
     "output_type": "execute_result"
    }
   ],
   "source": [
    "X_train.head()"
   ]
  },
  {
   "cell_type": "code",
   "execution_count": 43,
   "metadata": {},
   "outputs": [
    {
     "data": {
      "text/html": [
       "<div>\n",
       "<style scoped>\n",
       "    .dataframe tbody tr th:only-of-type {\n",
       "        vertical-align: middle;\n",
       "    }\n",
       "\n",
       "    .dataframe tbody tr th {\n",
       "        vertical-align: top;\n",
       "    }\n",
       "\n",
       "    .dataframe thead th {\n",
       "        text-align: right;\n",
       "    }\n",
       "</style>\n",
       "<table border=\"1\" class=\"dataframe\">\n",
       "  <thead>\n",
       "    <tr style=\"text-align: right;\">\n",
       "      <th></th>\n",
       "      <th>CanonCity</th>\n",
       "      <th>CanonState</th>\n",
       "      <th>CleanJobTitle</th>\n",
       "      <th>JobDate</th>\n",
       "      <th>JobID</th>\n",
       "      <th>CanonPostalCode</th>\n",
       "      <th>BGTOcc</th>\n",
       "      <th>EmployerClean</th>\n",
       "      <th>clean_text</th>\n",
       "      <th>predictions</th>\n",
       "      <th>distance</th>\n",
       "      <th>dist_dummy</th>\n",
       "      <th>predictions_bi</th>\n",
       "      <th>distance_bi</th>\n",
       "      <th>dist_dummy_bi</th>\n",
       "      <th>predictions2</th>\n",
       "      <th>distance2</th>\n",
       "      <th>dist_dummy2</th>\n",
       "      <th>predictions2_bi</th>\n",
       "      <th>distance2_bi</th>\n",
       "      <th>dist_dummy2_bi</th>\n",
       "    </tr>\n",
       "  </thead>\n",
       "  <tbody>\n",
       "    <tr>\n",
       "      <th>171905</th>\n",
       "      <td>Sunnyside</td>\n",
       "      <td>FL</td>\n",
       "      <td>Fuels Systems Facilities Project Support Analyst</td>\n",
       "      <td>2011-11-01</td>\n",
       "      <td>9363043</td>\n",
       "      <td>32461</td>\n",
       "      <td>15-1121.00</td>\n",
       "      <td>Booz Allen Hamilton Inc.</td>\n",
       "      <td>Go to the main content section.     Job Opport...</td>\n",
       "      <td>53</td>\n",
       "      <td>2.29</td>\n",
       "      <td>0</td>\n",
       "      <td>83</td>\n",
       "      <td>2.82</td>\n",
       "      <td>0</td>\n",
       "      <td>99</td>\n",
       "      <td>2.29</td>\n",
       "      <td>0</td>\n",
       "      <td>84</td>\n",
       "      <td>2.82</td>\n",
       "      <td>0</td>\n",
       "    </tr>\n",
       "    <tr>\n",
       "      <th>16513775</th>\n",
       "      <td>Tucson</td>\n",
       "      <td>AZ</td>\n",
       "      <td>Now Plant Operator Hot Plant Oiler</td>\n",
       "      <td>2015-07-26</td>\n",
       "      <td>37928933435</td>\n",
       "      <td>85701</td>\n",
       "      <td>51-8099.00</td>\n",
       "      <td>Axxis Advertising</td>\n",
       "      <td>Ashton Is Now Hiring: Hot Plant Operator Hot P...</td>\n",
       "      <td>87</td>\n",
       "      <td>1.60</td>\n",
       "      <td>0</td>\n",
       "      <td>33</td>\n",
       "      <td>1.88</td>\n",
       "      <td>0</td>\n",
       "      <td>91</td>\n",
       "      <td>1.60</td>\n",
       "      <td>0</td>\n",
       "      <td>73</td>\n",
       "      <td>1.88</td>\n",
       "      <td>0</td>\n",
       "    </tr>\n",
       "    <tr>\n",
       "      <th>25172306</th>\n",
       "      <td>Hartford</td>\n",
       "      <td>CT</td>\n",
       "      <td>Advanced Practice Registered Nurse, Or</td>\n",
       "      <td>2012-03-14</td>\n",
       "      <td>103796161</td>\n",
       "      <td>6102</td>\n",
       "      <td>29-1171.00</td>\n",
       "      <td>Connecticut Multispecialty Group</td>\n",
       "      <td>Hartford City Guide /  / Advanced Practice Reg...</td>\n",
       "      <td>86</td>\n",
       "      <td>2.13</td>\n",
       "      <td>0</td>\n",
       "      <td>6</td>\n",
       "      <td>2.80</td>\n",
       "      <td>0</td>\n",
       "      <td>28</td>\n",
       "      <td>2.13</td>\n",
       "      <td>0</td>\n",
       "      <td>70</td>\n",
       "      <td>2.81</td>\n",
       "      <td>0</td>\n",
       "    </tr>\n",
       "    <tr>\n",
       "      <th>2053555</th>\n",
       "      <td>White Marsh</td>\n",
       "      <td>MD</td>\n",
       "      <td>Operational Services Specialist</td>\n",
       "      <td>2018-03-31</td>\n",
       "      <td>38344952208</td>\n",
       "      <td>21162</td>\n",
       "      <td>15-2031.00</td>\n",
       "      <td>Prometric</td>\n",
       "      <td>We are now hiring\\nReq #1307\\nOperational Serv...</td>\n",
       "      <td>82</td>\n",
       "      <td>1.64</td>\n",
       "      <td>0</td>\n",
       "      <td>16</td>\n",
       "      <td>1.90</td>\n",
       "      <td>0</td>\n",
       "      <td>31</td>\n",
       "      <td>1.64</td>\n",
       "      <td>0</td>\n",
       "      <td>33</td>\n",
       "      <td>1.90</td>\n",
       "      <td>0</td>\n",
       "    </tr>\n",
       "    <tr>\n",
       "      <th>22682094</th>\n",
       "      <td>Mountain View</td>\n",
       "      <td>CA</td>\n",
       "      <td>Senior Product Manager - Payroll</td>\n",
       "      <td>2017-09-26</td>\n",
       "      <td>38280750346</td>\n",
       "      <td>94035</td>\n",
       "      <td>11-2021.92</td>\n",
       "      <td>Intuit</td>\n",
       "      <td># Senior Product Manager - Payroll\\n\\nQuickBoo...</td>\n",
       "      <td>61</td>\n",
       "      <td>1.89</td>\n",
       "      <td>0</td>\n",
       "      <td>97</td>\n",
       "      <td>2.46</td>\n",
       "      <td>0</td>\n",
       "      <td>23</td>\n",
       "      <td>1.67</td>\n",
       "      <td>0</td>\n",
       "      <td>0</td>\n",
       "      <td>1.94</td>\n",
       "      <td>0</td>\n",
       "    </tr>\n",
       "  </tbody>\n",
       "</table>\n",
       "</div>"
      ],
      "text/plain": [
       "              CanonCity CanonState  \\\n",
       "171905        Sunnyside         FL   \n",
       "16513775         Tucson         AZ   \n",
       "25172306       Hartford         CT   \n",
       "2053555     White Marsh         MD   \n",
       "22682094  Mountain View         CA   \n",
       "\n",
       "                                             CleanJobTitle    JobDate  \\\n",
       "171905    Fuels Systems Facilities Project Support Analyst 2011-11-01   \n",
       "16513775                Now Plant Operator Hot Plant Oiler 2015-07-26   \n",
       "25172306            Advanced Practice Registered Nurse, Or 2012-03-14   \n",
       "2053555                    Operational Services Specialist 2018-03-31   \n",
       "22682094                  Senior Product Manager - Payroll 2017-09-26   \n",
       "\n",
       "                JobID CanonPostalCode      BGTOcc  \\\n",
       "171905        9363043           32461  15-1121.00   \n",
       "16513775  37928933435           85701  51-8099.00   \n",
       "25172306    103796161            6102  29-1171.00   \n",
       "2053555   38344952208           21162  15-2031.00   \n",
       "22682094  38280750346           94035  11-2021.92   \n",
       "\n",
       "                             EmployerClean  \\\n",
       "171905            Booz Allen Hamilton Inc.   \n",
       "16513775                 Axxis Advertising   \n",
       "25172306  Connecticut Multispecialty Group   \n",
       "2053555                          Prometric   \n",
       "22682094                            Intuit   \n",
       "\n",
       "                                                 clean_text  predictions  \\\n",
       "171905    Go to the main content section.     Job Opport...           53   \n",
       "16513775  Ashton Is Now Hiring: Hot Plant Operator Hot P...           87   \n",
       "25172306  Hartford City Guide /  / Advanced Practice Reg...           86   \n",
       "2053555   We are now hiring\\nReq #1307\\nOperational Serv...           82   \n",
       "22682094  # Senior Product Manager - Payroll\\n\\nQuickBoo...           61   \n",
       "\n",
       "          distance  dist_dummy  predictions_bi  distance_bi  dist_dummy_bi  \\\n",
       "171905        2.29           0              83         2.82              0   \n",
       "16513775      1.60           0              33         1.88              0   \n",
       "25172306      2.13           0               6         2.80              0   \n",
       "2053555       1.64           0              16         1.90              0   \n",
       "22682094      1.89           0              97         2.46              0   \n",
       "\n",
       "          predictions2  distance2  dist_dummy2  predictions2_bi  distance2_bi  \\\n",
       "171905              99       2.29            0               84          2.82   \n",
       "16513775            91       1.60            0               73          1.88   \n",
       "25172306            28       2.13            0               70          2.81   \n",
       "2053555             31       1.64            0               33          1.90   \n",
       "22682094            23       1.67            0                0          1.94   \n",
       "\n",
       "          dist_dummy2_bi  \n",
       "171905                 0  \n",
       "16513775               0  \n",
       "25172306               0  \n",
       "2053555                0  \n",
       "22682094               0  "
      ]
     },
     "execution_count": 43,
     "metadata": {},
     "output_type": "execute_result"
    }
   ],
   "source": [
    "y_test.head()"
   ]
  },
  {
   "cell_type": "markdown",
   "metadata": {},
   "source": [
    "Save Trained Pipelines"
   ]
  },
  {
   "cell_type": "code",
   "execution_count": null,
   "metadata": {},
   "outputs": [],
   "source": []
  },
  {
   "cell_type": "markdown",
   "metadata": {},
   "source": [
    "# Switch to Dask before saving and save multiple files"
   ]
  },
  {
   "cell_type": "code",
   "execution_count": 44,
   "metadata": {},
   "outputs": [],
   "source": [
    "import dask.dataframe as dd"
   ]
  },
  {
   "cell_type": "code",
   "execution_count": 45,
   "metadata": {},
   "outputs": [
    {
     "data": {
      "text/plain": [
       "((800000, 21), (200000, 21), (800000, 15), (200000, 15))"
      ]
     },
     "execution_count": 45,
     "metadata": {},
     "output_type": "execute_result"
    }
   ],
   "source": [
    "X_train.shape, y_test.shape, X_train_2.shape, y_test_2.shape"
   ]
  },
  {
   "cell_type": "code",
   "execution_count": 53,
   "metadata": {
    "scrolled": true
   },
   "outputs": [
    {
     "name": "stdout",
     "output_type": "stream",
     "text": [
      "CPU times: user 14 s, sys: 2.55 s, total: 16.5 s\n",
      "Wall time: 16.1 s\n"
     ]
    }
   ],
   "source": [
    "%%time\n",
    "\n",
    "ddf_train = dd.from_pandas(X_train, npartitions=5)\n",
    "ddf_test = dd.from_pandas(y_test, npartitions=5)\n",
    "ddf_train_2 = dd.from_pandas(X_train_2, npartitions=5)\n",
    "ddf_test_2 = dd.from_pandas(y_test_2, npartitions=5)"
   ]
  },
  {
   "cell_type": "code",
   "execution_count": 54,
   "metadata": {},
   "outputs": [
    {
     "name": "stdout",
     "output_type": "stream",
     "text": [
      "CPU times: user 1min 30s, sys: 13.8 s, total: 1min 44s\n",
      "Wall time: 1min 36s\n"
     ]
    },
    {
     "data": {
      "text/plain": [
       "['/home/ubuntu/results/with_all_titles/test_titles_500c_0.csv',\n",
       " '/home/ubuntu/results/with_all_titles/test_titles_500c_1.csv',\n",
       " '/home/ubuntu/results/with_all_titles/test_titles_500c_2.csv']"
      ]
     },
     "execution_count": 54,
     "metadata": {},
     "output_type": "execute_result"
    }
   ],
   "source": [
    "%%time\n",
    "\n",
    "if not os.path.exists(os.path.join(path_out, 'with_all_titles')):\n",
    "    os.makedirs(os.path.join(path_out, 'with_all_titles'))\n",
    "\n",
    "(ddf_train\n",
    " .repartition(npartitions=3)\n",
    " .to_csv(os.path.join(path_out, 'with_all_titles/', 'train_titles_500c_*.csv'), index=False)\n",
    " )\n",
    "\n",
    "(ddf_test\n",
    " .repartition(npartitions=3)\n",
    " .to_csv(os.path.join(path_out, 'with_all_titles/', 'test_titles_500c_*.csv'), index=False)\n",
    " )"
   ]
  },
  {
   "cell_type": "code",
   "execution_count": 55,
   "metadata": {},
   "outputs": [
    {
     "name": "stdout",
     "output_type": "stream",
     "text": [
      "<class 'pandas.core.frame.DataFrame'>\n",
      "Int64Index: 200000 entries, 171905 to 8335645\n",
      "Data columns (total 15 columns):\n",
      " #   Column           Non-Null Count   Dtype         \n",
      "---  ------           --------------   -----         \n",
      " 0   CanonCity        200000 non-null  object        \n",
      " 1   CanonState       200000 non-null  object        \n",
      " 2   CleanJobTitle    200000 non-null  object        \n",
      " 3   JobDate          200000 non-null  datetime64[ns]\n",
      " 4   JobID            200000 non-null  int64         \n",
      " 5   CanonPostalCode  200000 non-null  object        \n",
      " 6   BGTOcc           200000 non-null  object        \n",
      " 7   EmployerClean    200000 non-null  object        \n",
      " 8   clean_text       200000 non-null  object        \n",
      " 9   predictions2     200000 non-null  int32         \n",
      " 10  distance2        200000 non-null  float64       \n",
      " 11  dist_dummy2      200000 non-null  int64         \n",
      " 12  predictions2_bi  200000 non-null  int32         \n",
      " 13  distance2_bi     200000 non-null  float64       \n",
      " 14  dist_dummy2_bi   200000 non-null  int64         \n",
      "dtypes: datetime64[ns](1), float64(2), int32(2), int64(3), object(7)\n",
      "memory usage: 857.7 MB\n"
     ]
    }
   ],
   "source": [
    "y_test_2.info(memory_usage='deep')"
   ]
  },
  {
   "cell_type": "code",
   "execution_count": 56,
   "metadata": {},
   "outputs": [
    {
     "name": "stdout",
     "output_type": "stream",
     "text": [
      "CPU times: user 1min 24s, sys: 6.81 s, total: 1min 31s\n",
      "Wall time: 1min 29s\n"
     ]
    },
    {
     "data": {
      "text/plain": [
       "['/home/ubuntu/results/without_titles/test_no_titles_500c_0.csv']"
      ]
     },
     "execution_count": 56,
     "metadata": {},
     "output_type": "execute_result"
    }
   ],
   "source": [
    "%%time\n",
    "\n",
    "if not os.path.exists(os.path.join(path_out, 'without_titles')):\n",
    "    os.makedirs(os.path.join(path_out, 'without_titles'))\n",
    "\n",
    "(ddf_train_2\n",
    " .repartition(npartitions=1)\n",
    " .to_csv(os.path.join(path_out, 'without_titles/', 'train_no_titles_500c_*.csv'), index=False)\n",
    " )\n",
    "\n",
    "(ddf_test_2\n",
    " .repartition(npartitions=1)\n",
    " .to_csv(os.path.join(path_out, 'without_titles/', 'test_no_titles_500c_*.csv'), index=False)\n",
    " )"
   ]
  },
  {
   "cell_type": "code",
   "execution_count": null,
   "metadata": {},
   "outputs": [],
   "source": [
    "%%time\n",
    "\n",
    "X_train.to_csv(path_out + '/clustering' + f'/train_titles_in_500c_{num}.csv', index=False)\n",
    "y_test.to_csv(path_out + '/clustering' + f'/test_titles_in_500c_{num}.csv', index=False)\n",
    "X_train_2.to_csv(path_out + '/clustering' + f'/train_titles_out_500c_{num}.csv', index=False)\n",
    "y_test_2.to_csv(path_out + '/clustering' + f'/test_titles_out_500c_{num}.csv', index=False)"
   ]
  },
  {
   "cell_type": "markdown",
   "metadata": {},
   "source": [
    "### Entropy Calculations"
   ]
  },
  {
   "cell_type": "code",
   "execution_count": 58,
   "metadata": {},
   "outputs": [],
   "source": [
    "import numpy as np\n",
    "from scipy.stats import entropy\n",
    "from math import log, e\n",
    "import pandas as pd\n",
    "\n",
    "import timeit\n",
    "\n",
    "def entropy1(labels, base=None):\n",
    "    value,counts = np.unique(labels, return_counts=True)\n",
    "    return entropy(counts, base=base)\n",
    "\n",
    "def entropy2(labels, base=None):\n",
    "    \"\"\" Computes entropy of label distribution. \"\"\"\n",
    "\n",
    "    n_labels = len(labels)\n",
    "\n",
    "    if n_labels <= 1:\n",
    "        return 0\n",
    "\n",
    "    value,counts = np.unique(labels, return_counts=True)\n",
    "    probs = counts / n_labels\n",
    "    n_classes = np.count_nonzero(probs)\n",
    "\n",
    "    if n_classes <= 1:\n",
    "        return 0\n",
    "\n",
    "    ent = 0.\n",
    "\n",
    "    # Compute entropy\n",
    "    base = e if base is None else base\n",
    "    \n",
    "    for i in probs:\n",
    "        ent -= i * log(i, base)\n",
    "\n",
    "    return ent\n",
    "\n",
    "def entropy3(labels, base=None):\n",
    "    vc = pd.Series(labels).value_counts(normalize=True, sort=False)\n",
    "    base = e if base is None else base\n",
    "    return -(vc * np.log(vc)/np.log(base)).sum()\n",
    "\n",
    "def entropy4(labels, base=None):\n",
    "    value,counts = np.unique(labels, return_counts=True)\n",
    "    norm_counts = counts / counts.sum()\n",
    "    base = e if base is None else base\n",
    "    return -(norm_counts * np.log(norm_counts)/np.log(base)).sum()\n"
   ]
  },
  {
   "cell_type": "code",
   "execution_count": 60,
   "metadata": {},
   "outputs": [
    {
     "name": "stdout",
     "output_type": "stream",
     "text": [
      "4.147756763504582\n",
      "3.8797826353969835\n",
      "4.045807618053301\n",
      "3.8592578936772526\n"
     ]
    }
   ],
   "source": [
    "print(entropy2(X_train.clusters))\n",
    "print(entropy2(X_train.clusters_bi))\n",
    "print(entropy2(X_train.clusters2))\n",
    "print(entropy2(X_train.clusters2_bi))"
   ]
  },
  {
   "cell_type": "code",
   "execution_count": 63,
   "metadata": {},
   "outputs": [
    {
     "name": "stdout",
     "output_type": "stream",
     "text": [
      "4.146796256683654\n",
      "3.8860690669658844\n",
      "4.0479650659415\n",
      "3.86130124163429\n"
     ]
    }
   ],
   "source": [
    "print(entropy2(y_test.predictions))\n",
    "print(entropy2(y_test.predictions_bi))\n",
    "print(entropy2(y_test.predictions2))\n",
    "print(entropy2(y_test.predictions2_bi))"
   ]
  },
  {
   "cell_type": "code",
   "execution_count": 66,
   "metadata": {},
   "outputs": [
    {
     "data": {
      "text/html": [
       "<div>\n",
       "<style scoped>\n",
       "    .dataframe tbody tr th:only-of-type {\n",
       "        vertical-align: middle;\n",
       "    }\n",
       "\n",
       "    .dataframe tbody tr th {\n",
       "        vertical-align: top;\n",
       "    }\n",
       "\n",
       "    .dataframe thead th {\n",
       "        text-align: right;\n",
       "    }\n",
       "</style>\n",
       "<table border=\"1\" class=\"dataframe\">\n",
       "  <thead>\n",
       "    <tr style=\"text-align: right;\">\n",
       "      <th></th>\n",
       "      <th>entropy</th>\n",
       "      <th>clusters</th>\n",
       "      <th>datasets</th>\n",
       "    </tr>\n",
       "  </thead>\n",
       "  <tbody>\n",
       "    <tr>\n",
       "      <th>0</th>\n",
       "      <td>4.147757</td>\n",
       "      <td>clusters</td>\n",
       "      <td>X_train</td>\n",
       "    </tr>\n",
       "    <tr>\n",
       "      <th>1</th>\n",
       "      <td>3.879783</td>\n",
       "      <td>clusters_bi</td>\n",
       "      <td>X_train</td>\n",
       "    </tr>\n",
       "    <tr>\n",
       "      <th>2</th>\n",
       "      <td>4.045808</td>\n",
       "      <td>clusters2</td>\n",
       "      <td>X_train</td>\n",
       "    </tr>\n",
       "    <tr>\n",
       "      <th>3</th>\n",
       "      <td>3.859258</td>\n",
       "      <td>clusters2_bi</td>\n",
       "      <td>X_train</td>\n",
       "    </tr>\n",
       "    <tr>\n",
       "      <th>4</th>\n",
       "      <td>4.146796</td>\n",
       "      <td>predictions</td>\n",
       "      <td>y_test</td>\n",
       "    </tr>\n",
       "    <tr>\n",
       "      <th>5</th>\n",
       "      <td>3.886069</td>\n",
       "      <td>predictions_bi</td>\n",
       "      <td>y_test</td>\n",
       "    </tr>\n",
       "    <tr>\n",
       "      <th>6</th>\n",
       "      <td>4.047965</td>\n",
       "      <td>predictions2</td>\n",
       "      <td>y_test</td>\n",
       "    </tr>\n",
       "    <tr>\n",
       "      <th>7</th>\n",
       "      <td>3.861301</td>\n",
       "      <td>predictions2_bi</td>\n",
       "      <td>y_test</td>\n",
       "    </tr>\n",
       "  </tbody>\n",
       "</table>\n",
       "</div>"
      ],
      "text/plain": [
       "    entropy         clusters datasets\n",
       "0  4.147757         clusters  X_train\n",
       "1  3.879783      clusters_bi  X_train\n",
       "2  4.045808        clusters2  X_train\n",
       "3  3.859258     clusters2_bi  X_train\n",
       "4  4.146796      predictions   y_test\n",
       "5  3.886069   predictions_bi   y_test\n",
       "6  4.047965     predictions2   y_test\n",
       "7  3.861301  predictions2_bi   y_test"
      ]
     },
     "execution_count": 66,
     "metadata": {},
     "output_type": "execute_result"
    }
   ],
   "source": [
    "ent_mss = [entropy2(X_train.clusters), entropy2(X_train.clusters_bi), entropy2(X_train.clusters2), entropy2(X_train.clusters2_bi), \n",
    "           entropy2(y_test.predictions), entropy2(y_test.predictions_bi), entropy2(y_test.predictions2), entropy2(y_test.predictions2_bi)]\n",
    "\n",
    "ent_names = ['clusters', 'clusters_bi', 'clusters2', 'clusters2_bi', 'predictions', 'predictions_bi', 'predictions2', 'predictions2_bi']\n",
    "\n",
    "data_sets = ['X_train', 'X_train', 'X_train', 'X_train', 'y_test', 'y_test', 'y_test', 'y_test']\n",
    "\n",
    "entr = pd.DataFrame(zip(*[ent_mss, ent_names, data_sets]), columns=['entropy', 'clusters', 'datasets'])\n",
    "entr"
   ]
  },
  {
   "cell_type": "code",
   "execution_count": 70,
   "metadata": {},
   "outputs": [
    {
     "data": {
      "text/plain": [
       "array([<AxesSubplot:title={'center':'entropy'}, xlabel='clusters'>],\n",
       "      dtype=object)"
      ]
     },
     "execution_count": 70,
     "metadata": {},
     "output_type": "execute_result"
    },
    {
     "data": {
      "image/png": "[encoded data removed]",
      "text/plain": [
       "<Figure size 432x288 with 1 Axes>"
      ]
     },
     "metadata": {
      "needs_background": "light"
     },
     "output_type": "display_data"
    }
   ],
   "source": [
    "entr.plot(kind='bar', x='clusters', y='entropy')"
   ]
  },
  {
   "cell_type": "code",
   "execution_count": 74,
   "metadata": {},
   "outputs": [],
   "source": [
    "import seaborn as sns"
   ]
  },
  {
   "cell_type": "code",
   "execution_count": 84,
   "metadata": {},
   "outputs": [
    {
     "data": {
      "text/plain": [
       "<seaborn.axisgrid.FacetGrid at 0x7f479330c590>"
      ]
     },
     "execution_count": 84,
     "metadata": {},
     "output_type": "execute_result"
    },
    {
     "data": {
      "image/png": "[encoded data removed]",
      "text/plain": [
       "<Figure size 431.25x360 with 1 Axes>"
      ]
     },
     "metadata": {
      "needs_background": "light"
     },
     "output_type": "display_data"
    }
   ],
   "source": [
    "sns.catplot(y=\"entropy\", x='clusters', hue=\"datasets\", kind='bar',\n",
    "            palette=\"pastel\", edgecolor=\".6\",\n",
    "            data=entr)"
   ]
  },
  {
   "cell_type": "code",
   "execution_count": 86,
   "metadata": {},
   "outputs": [
    {
     "data": {
      "image/png": "[encoded data removed]",
      "text/plain": [
       "<Figure size 431.25x360 with 1 Axes>"
      ]
     },
     "metadata": {},
     "output_type": "display_data"
    }
   ],
   "source": [
    "with sns.axes_style('white'):\n",
    "    g = sns.catplot(y=\"entropy\", x='clusters', data=entr, kind='bar',  hue='datasets')\n",
    "    g.set_ylabels('Number of Planets Discovered')"
   ]
  },
  {
   "cell_type": "code",
   "execution_count": 93,
   "metadata": {
    "scrolled": true
   },
   "outputs": [
    {
     "name": "stdout",
     "output_type": "stream",
     "text": [
      "Collecting package metadata (current_repodata.json): done\n",
      "Solving environment: done\n",
      "\n",
      "## Package Plan ##\n",
      "\n",
      "  environment location: /home/ubuntu/anaconda3\n",
      "\n",
      "  added / updated specs:\n",
      "    - altair\n",
      "    - vega_datasets\n",
      "\n",
      "\n",
      "The following packages will be downloaded:\n",
      "\n",
      "    package                    |            build\n",
      "    ---------------------------|-----------------\n",
      "    altair-4.1.0               |             py_1         614 KB  conda-forge\n",
      "    ca-certificates-2020.6.20  |       hecda079_0         145 KB  conda-forge\n",
      "    certifi-2020.6.20          |   py37he5f6b98_2         151 KB  conda-forge\n",
      "    conda-4.8.5                |   py37he5f6b98_3         3.0 MB  conda-forge\n",
      "    openssl-1.1.1h             |       h516909a_0         2.1 MB  conda-forge\n",
      "    vega_datasets-0.8.0        |             py_0         178 KB  conda-forge\n",
      "    ------------------------------------------------------------\n",
      "                                           Total:         6.2 MB\n",
      "\n",
      "The following NEW packages will be INSTALLED:\n",
      "\n",
      "  altair             conda-forge/noarch::altair-4.1.0-py_1\n",
      "  python_abi         conda-forge/linux-64::python_abi-3.7-1_cp37m\n",
      "  vega_datasets      conda-forge/noarch::vega_datasets-0.8.0-py_0\n",
      "\n",
      "The following packages will be UPDATED:\n",
      "\n",
      "  certifi               pkgs/main::certifi-2020.6.20-py37_0 --> conda-forge::certifi-2020.6.20-py37he5f6b98_2\n",
      "  conda                       pkgs/main::conda-4.8.5-py37_0 --> conda-forge::conda-4.8.5-py37he5f6b98_3\n",
      "\n",
      "The following packages will be SUPERSEDED by a higher-priority channel:\n",
      "\n",
      "  ca-certificates    pkgs/main::ca-certificates-2020.10.14~ --> conda-forge::ca-certificates-2020.6.20-hecda079_0\n",
      "  openssl              pkgs/main::openssl-1.1.1h-h7b6447c_0 --> conda-forge::openssl-1.1.1h-h516909a_0\n",
      "\n",
      "\n",
      "\n",
      "Downloading and Extracting Packages\n",
      "vega_datasets-0.8.0  | 178 KB    | ##################################### | 100% \n",
      "altair-4.1.0         | 614 KB    | ##################################### | 100% \n",
      "conda-4.8.5          | 3.0 MB    | ##################################### | 100% \n",
      "certifi-2020.6.20    | 151 KB    | ##################################### | 100% \n",
      "openssl-1.1.1h       | 2.1 MB    | ##################################### | 100% \n",
      "ca-certificates-2020 | 145 KB    | ##################################### | 100% \n",
      "Preparing transaction: done\n",
      "Verifying transaction: done\n",
      "Executing transaction: done\n"
     ]
    }
   ],
   "source": [
    "!conda install -c conda-forge altair vega_datasets -y"
   ]
  },
  {
   "cell_type": "code",
   "execution_count": 94,
   "metadata": {},
   "outputs": [],
   "source": [
    "import altair as alt"
   ]
  },
  {
   "cell_type": "code",
   "execution_count": 96,
   "metadata": {},
   "outputs": [
    {
     "data": {
      "text/html": [
       "\n",
       "<div id=\"altair-viz-45599fdee3dd491db38639119e45f099\"></div>\n",
       "<script type=\"text/javascript\">\n",
       "  (function(spec, embedOpt){\n",
       "    let outputDiv = document.currentScript.previousElementSibling;\n",
       "    if (outputDiv.id !== \"altair-viz-45599fdee3dd491db38639119e45f099\") {\n",
       "      outputDiv = document.getElementById(\"altair-viz-45599fdee3dd491db38639119e45f099\");\n",
       "    }\n",
       "    const paths = {\n",
       "      \"vega\": \"https://cdn.jsdelivr.net/npm//vega@5?noext\",\n",
       "      \"vega-lib\": \"https://cdn.jsdelivr.net/npm//vega-lib?noext\",\n",
       "      \"vega-lite\": \"https://cdn.jsdelivr.net/npm//vega-lite@4.8.1?noext\",\n",
       "      \"vega-embed\": \"https://cdn.jsdelivr.net/npm//vega-embed@6?noext\",\n",
       "    };\n",
       "\n",
       "    function loadScript(lib) {\n",
       "      return new Promise(function(resolve, reject) {\n",
       "        var s = document.createElement('script');\n",
       "        s.src = paths[lib];\n",
       "        s.async = true;\n",
       "        s.onload = () => resolve(paths[lib]);\n",
       "        s.onerror = () => reject(`Error loading script: ${paths[lib]}`);\n",
       "        document.getElementsByTagName(\"head\")[0].appendChild(s);\n",
       "      });\n",
       "    }\n",
       "\n",
       "    function showError(err) {\n",
       "      outputDiv.innerHTML = `<div class=\"error\" style=\"color:red;\">${err}</div>`;\n",
       "      throw err;\n",
       "    }\n",
       "\n",
       "    function displayChart(vegaEmbed) {\n",
       "      vegaEmbed(outputDiv, spec, embedOpt)\n",
       "        .catch(err => showError(`Javascript Error: ${err.message}<br>This usually means there's a typo in your chart specification. See the javascript console for the full traceback.`));\n",
       "    }\n",
       "\n",
       "    if(typeof define === \"function\" && define.amd) {\n",
       "      requirejs.config({paths});\n",
       "      require([\"vega-embed\"], displayChart, err => showError(`Error loading script: ${err.message}`));\n",
       "    } else if (typeof vegaEmbed === \"function\") {\n",
       "      displayChart(vegaEmbed);\n",
       "    } else {\n",
       "      loadScript(\"vega\")\n",
       "        .then(() => loadScript(\"vega-lite\"))\n",
       "        .then(() => loadScript(\"vega-embed\"))\n",
       "        .catch(showError)\n",
       "        .then(() => displayChart(vegaEmbed));\n",
       "    }\n",
       "  })({\"config\": {\"view\": {\"continuousWidth\": 400, \"continuousHeight\": 300}}, \"data\": {\"name\": \"data-3a55ec98fbdcc8fd64c60cb3a2712769\"}, \"mark\": \"bar\", \"encoding\": {\"color\": {\"type\": \"nominal\", \"field\": \"datasets\"}, \"x\": {\"type\": \"ordinal\", \"field\": \"clusters\"}, \"y\": {\"type\": \"quantitative\", \"field\": \"entropy\"}}, \"$schema\": \"https://vega.github.io/schema/vega-lite/v4.8.1.json\", \"datasets\": {\"data-3a55ec98fbdcc8fd64c60cb3a2712769\": [{\"entropy\": 4.147756763504582, \"clusters\": \"clusters\", \"datasets\": \"X_train\"}, {\"entropy\": 3.8797826353969835, \"clusters\": \"clusters_bi\", \"datasets\": \"X_train\"}, {\"entropy\": 4.045807618053301, \"clusters\": \"clusters2\", \"datasets\": \"X_train\"}, {\"entropy\": 3.8592578936772526, \"clusters\": \"clusters2_bi\", \"datasets\": \"X_train\"}, {\"entropy\": 4.146796256683654, \"clusters\": \"predictions\", \"datasets\": \"y_test\"}, {\"entropy\": 3.8860690669658844, \"clusters\": \"predictions_bi\", \"datasets\": \"y_test\"}, {\"entropy\": 4.0479650659415, \"clusters\": \"predictions2\", \"datasets\": \"y_test\"}, {\"entropy\": 3.86130124163429, \"clusters\": \"predictions2_bi\", \"datasets\": \"y_test\"}]}}, {\"mode\": \"vega-lite\"});\n",
       "</script>"
      ],
      "text/plain": [
       "alt.Chart(...)"
      ]
     },
     "execution_count": 96,
     "metadata": {},
     "output_type": "execute_result"
    }
   ],
   "source": [
    "alt.Chart(entr).mark_bar().encode(\n",
    "    x='clusters:O',\n",
    "    y='entropy:Q',\n",
    "    color='datasets:N',\n",
    "#     column='clusters:N'\n",
    ")"
   ]
  },
  {
   "cell_type": "code",
   "execution_count": null,
   "metadata": {},
   "outputs": [],
   "source": []
  }
 ],
 "metadata": {
  "kernelspec": {
   "display_name": "Python 3",
   "language": "python",
   "name": "python3"
  },
  "language_info": {
   "codemirror_mode": {
    "name": "ipython",
    "version": 3
   },
   "file_extension": ".py",
   "mimetype": "text/x-python",
   "name": "python",
   "nbconvert_exporter": "python",
   "pygments_lexer": "ipython3",
   "version": "3.7.6"
  }
 },
 "nbformat": 4,
 "nbformat_minor": 4
}
